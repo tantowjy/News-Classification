{
 "cells": [
  {
   "cell_type": "markdown",
   "metadata": {
    "id": "fxV5_Hf5YPME"
   },
   "source": [
    "# Setup"
   ]
  },
  {
   "cell_type": "markdown",
   "metadata": {
    "id": "Nr-Wh3nncsWl"
   },
   "source": [
    "## Install library"
   ]
  },
  {
   "cell_type": "code",
   "execution_count": null,
   "metadata": {
    "colab": {
     "base_uri": "https://localhost:8080/"
    },
    "id": "rGtt5fojb7Ia",
    "outputId": "2f1abd6d-341f-45d2-b0bc-fb96b3b496d2"
   },
   "outputs": [
    {
     "name": "stdout",
     "output_type": "stream",
     "text": [
      "Collecting sastrawi\n",
      "  Downloading Sastrawi-1.0.1-py2.py3-none-any.whl.metadata (909 bytes)\n",
      "Downloading Sastrawi-1.0.1-py2.py3-none-any.whl (209 kB)\n",
      "\u001b[2K   \u001b[90m━━━━━━━━━━━━━━━━━━━━━━━━━━━━━━━━━━━━━━━━\u001b[0m \u001b[32m209.7/209.7 kB\u001b[0m \u001b[31m2.7 MB/s\u001b[0m eta \u001b[36m0:00:00\u001b[0m\n",
      "\u001b[?25hInstalling collected packages: sastrawi\n",
      "Successfully installed sastrawi-1.0.1\n",
      "Collecting swifter\n",
      "  Downloading swifter-1.4.0.tar.gz (1.2 MB)\n",
      "\u001b[2K     \u001b[90m━━━━━━━━━━━━━━━━━━━━━━━━━━━━━━━━━━━━━━━━\u001b[0m \u001b[32m1.2/1.2 MB\u001b[0m \u001b[31m12.0 MB/s\u001b[0m eta \u001b[36m0:00:00\u001b[0m\n",
      "\u001b[?25h  Preparing metadata (setup.py) ... \u001b[?25l\u001b[?25hdone\n",
      "Requirement already satisfied: pandas>=1.0.0 in /usr/local/lib/python3.10/dist-packages (from swifter) (2.1.4)\n",
      "Requirement already satisfied: psutil>=5.6.6 in /usr/local/lib/python3.10/dist-packages (from swifter) (5.9.5)\n",
      "Requirement already satisfied: dask>=2.10.0 in /usr/local/lib/python3.10/dist-packages (from dask[dataframe]>=2.10.0->swifter) (2024.7.1)\n",
      "Requirement already satisfied: tqdm>=4.33.0 in /usr/local/lib/python3.10/dist-packages (from swifter) (4.66.4)\n",
      "Requirement already satisfied: click>=8.1 in /usr/local/lib/python3.10/dist-packages (from dask>=2.10.0->dask[dataframe]>=2.10.0->swifter) (8.1.7)\n",
      "Requirement already satisfied: cloudpickle>=1.5.0 in /usr/local/lib/python3.10/dist-packages (from dask>=2.10.0->dask[dataframe]>=2.10.0->swifter) (2.2.1)\n",
      "Requirement already satisfied: fsspec>=2021.09.0 in /usr/local/lib/python3.10/dist-packages (from dask>=2.10.0->dask[dataframe]>=2.10.0->swifter) (2024.6.1)\n",
      "Requirement already satisfied: packaging>=20.0 in /usr/local/lib/python3.10/dist-packages (from dask>=2.10.0->dask[dataframe]>=2.10.0->swifter) (24.1)\n",
      "Requirement already satisfied: partd>=1.4.0 in /usr/local/lib/python3.10/dist-packages (from dask>=2.10.0->dask[dataframe]>=2.10.0->swifter) (1.4.2)\n",
      "Requirement already satisfied: pyyaml>=5.3.1 in /usr/local/lib/python3.10/dist-packages (from dask>=2.10.0->dask[dataframe]>=2.10.0->swifter) (6.0.1)\n",
      "Requirement already satisfied: toolz>=0.10.0 in /usr/local/lib/python3.10/dist-packages (from dask>=2.10.0->dask[dataframe]>=2.10.0->swifter) (0.12.1)\n",
      "Requirement already satisfied: importlib-metadata>=4.13.0 in /usr/local/lib/python3.10/dist-packages (from dask>=2.10.0->dask[dataframe]>=2.10.0->swifter) (8.2.0)\n",
      "Collecting dask-expr<1.2,>=1.1 (from dask[dataframe]>=2.10.0->swifter)\n",
      "  Downloading dask_expr-1.1.9-py3-none-any.whl.metadata (2.5 kB)\n",
      "Requirement already satisfied: numpy<2,>=1.22.4 in /usr/local/lib/python3.10/dist-packages (from pandas>=1.0.0->swifter) (1.26.4)\n",
      "Requirement already satisfied: python-dateutil>=2.8.2 in /usr/local/lib/python3.10/dist-packages (from pandas>=1.0.0->swifter) (2.8.2)\n",
      "Requirement already satisfied: pytz>=2020.1 in /usr/local/lib/python3.10/dist-packages (from pandas>=1.0.0->swifter) (2024.1)\n",
      "Requirement already satisfied: tzdata>=2022.1 in /usr/local/lib/python3.10/dist-packages (from pandas>=1.0.0->swifter) (2024.1)\n",
      "Requirement already satisfied: pyarrow>=7.0.0 in /usr/local/lib/python3.10/dist-packages (from dask-expr<1.2,>=1.1->dask[dataframe]>=2.10.0->swifter) (14.0.2)\n",
      "Requirement already satisfied: zipp>=0.5 in /usr/local/lib/python3.10/dist-packages (from importlib-metadata>=4.13.0->dask>=2.10.0->dask[dataframe]>=2.10.0->swifter) (3.19.2)\n",
      "Requirement already satisfied: locket in /usr/local/lib/python3.10/dist-packages (from partd>=1.4.0->dask>=2.10.0->dask[dataframe]>=2.10.0->swifter) (1.0.0)\n",
      "Requirement already satisfied: six>=1.5 in /usr/local/lib/python3.10/dist-packages (from python-dateutil>=2.8.2->pandas>=1.0.0->swifter) (1.16.0)\n",
      "Downloading dask_expr-1.1.9-py3-none-any.whl (241 kB)\n",
      "\u001b[2K   \u001b[90m━━━━━━━━━━━━━━━━━━━━━━━━━━━━━━━━━━━━━━━━\u001b[0m \u001b[32m241.9/241.9 kB\u001b[0m \u001b[31m5.1 MB/s\u001b[0m eta \u001b[36m0:00:00\u001b[0m\n",
      "\u001b[?25hBuilding wheels for collected packages: swifter\n",
      "  Building wheel for swifter (setup.py) ... \u001b[?25l\u001b[?25hdone\n",
      "  Created wheel for swifter: filename=swifter-1.4.0-py3-none-any.whl size=16505 sha256=4ce17e72acf00bcb799dba69934ebbcf63f8876fbf8ad6ea3a22cf1f7d4187eb\n",
      "  Stored in directory: /root/.cache/pip/wheels/e4/cf/51/0904952972ee2c7aa3709437065278dc534ec1b8d2ad41b443\n",
      "Successfully built swifter\n",
      "Installing collected packages: dask-expr, swifter\n",
      "Successfully installed dask-expr-1.1.9 swifter-1.4.0\n"
     ]
    }
   ],
   "source": [
    "!pip -q install sastrawi\n",
    "!pip -q install swifter"
   ]
  },
  {
   "cell_type": "markdown",
   "metadata": {
    "id": "4GuWddVgcvB3"
   },
   "source": [
    "## Import library"
   ]
  },
  {
   "cell_type": "code",
   "execution_count": 2,
   "metadata": {
    "id": "7pN2F1jAYKAz"
   },
   "outputs": [],
   "source": [
    "import matplotlib.pyplot as plt\n",
    "import numpy as np\n",
    "import pandas as pd\n",
    "import re\n",
    "import seaborn as sns\n",
    "import swifter\n",
    "import tensorflow as tf\n",
    "from sklearn.model_selection import train_test_split\n",
    "from sklearn.datasets import load_breast_cancer\n",
    "from sklearn.linear_model import LogisticRegression\n",
    "from sklearn.svm import SVC\n",
    "from sklearn.neighbors import KNeighborsClassifier\n",
    "from sklearn.tree import DecisionTreeClassifier\n",
    "from sklearn.ensemble import RandomForestClassifier, GradientBoostingClassifier\n",
    "from sklearn.naive_bayes import GaussianNB\n",
    "from sklearn.neural_network import MLPClassifier\n",
    "from sklearn.metrics import accuracy_score, confusion_matrix, classification_report\n",
    "\n",
    "from Sastrawi.Stemmer.StemmerFactory import StemmerFactory\n",
    "from Sastrawi.StopWordRemover.StopWordRemoverFactory import StopWordRemoverFactory, StopWordRemover, ArrayDictionary\n",
    "from sklearn.model_selection import train_test_split\n",
    "from tensorflow.keras.preprocessing.text import Tokenizer\n",
    "from tensorflow.keras.preprocessing.sequence import pad_sequences\n",
    "\n",
    "import shutil\n",
    "from google.colab import drive, files"
   ]
  },
  {
   "cell_type": "markdown",
   "metadata": {
    "id": "BPLwSQvkYW3F"
   },
   "source": [
    "# Load Dataset & Exploratory Data Analysis"
   ]
  },
  {
   "cell_type": "markdown",
   "metadata": {
    "id": "sMWmEeVhc2Z0"
   },
   "source": [
    "## Import dataset from GitHub"
   ]
  },
  {
   "cell_type": "code",
   "execution_count": 3,
   "metadata": {
    "colab": {
     "base_uri": "https://localhost:8080/",
     "height": 823
    },
    "id": "wl1P9rtrc-Al",
    "outputId": "203655b5-e5fa-4cdc-9cef-b888e0fdcffa"
   },
   "outputs": [
    {
     "name": "stdout",
     "output_type": "stream",
     "text": [
      "<class 'pandas.core.frame.DataFrame'>\n",
      "RangeIndex: 833 entries, 0 to 832\n",
      "Data columns (total 6 columns):\n",
      " #   Column                   Non-Null Count  Dtype  \n",
      "---  ------                   --------------  -----  \n",
      " 0   title                    833 non-null    object \n",
      " 1   link                     833 non-null    object \n",
      " 2   date                     492 non-null    object \n",
      " 3   content                  833 non-null    object \n",
      " 4   liberalism_conservative  833 non-null    int64  \n",
      " 5   coalition_opposition     492 non-null    float64\n",
      "dtypes: float64(1), int64(1), object(4)\n",
      "memory usage: 39.2+ KB\n"
     ]
    },
    {
     "data": {
      "application/vnd.google.colaboratory.intrinsic+json": {
       "summary": "{\n  \"name\": \"df\",\n  \"rows\": 833,\n  \"fields\": [\n    {\n      \"column\": \"title\",\n      \"properties\": {\n        \"dtype\": \"string\",\n        \"num_unique_values\": 833,\n        \"samples\": [\n          \"- Buku \\\"KontraNarasi Khilafers\\\" jadi kado Hari Santri 2020\",\n          \"PM Badawi: Umat Islam Harus Berkarya Nyata\",\n          \"Kunker ke Sulawesi Selatan, Jokowi Akan Tinjau Program Pompanisasi\"\n        ],\n        \"semantic_type\": \"\",\n        \"description\": \"\"\n      }\n    },\n    {\n      \"column\": \"link\",\n      \"properties\": {\n        \"dtype\": \"string\",\n        \"num_unique_values\": 833,\n        \"samples\": [\n          \"https://www.antaranews.com/berita/1796821/resensi-buku-kontranarasi-khilafers-jadi-kado-hari-santri-2020\",\n          \"https://www.antaranews.com/berita/212931/mantan-pm-badawi-umat-islam-harus-berkarya-nyata\",\n          \"https://nasional.kompas.com/read/2024/07/04/09483691/kunker-ke-sulawesi-selatan-jokowi-akan-tinjau-program-pompanisasi\"\n        ],\n        \"semantic_type\": \"\",\n        \"description\": \"\"\n      }\n    },\n    {\n      \"column\": \"date\",\n      \"properties\": {\n        \"dtype\": \"category\",\n        \"num_unique_values\": 120,\n        \"samples\": [\n          \"Senin, 1 Juli 2024 12:59 WIB\",\n          \"Senin, 1 Juli 2024 11:18 WIB\",\n          \"2024-07-05 00:00:00\"\n        ],\n        \"semantic_type\": \"\",\n        \"description\": \"\"\n      }\n    },\n    {\n      \"column\": \"content\",\n      \"properties\": {\n        \"dtype\": \"string\",\n        \"num_unique_values\": 833,\n        \"samples\": [\n          \"jangan apriori dulu, buku berjudul \\\"kontranarasi melawan kaum khilafers\\\" bukan disusun dengan sengaja untuk melancarkan kebencian kepada hti sebagai wadah para khilafers, karena penulisnya m ainur rofiq al amin, memang mantan hizbiyyin (saat mahasiswa unair surabaya), yang tahu betul \\\"luar-dalam\\\" tentang siapa mereka sebenarnya dan apa yang mereka rencanakan ke depan, dengan bersumber data-data hti sendiri.\\nartiarti\\nnamun, buku setebal 267 halaman yang diluncurkan pada 5 oktober 2020 dengan penerbit cv bildung nusantara, bantul, yogyakarta itu diberi kata pengantar yang bertanggal 22 oktober 2020, sehingga penulis tampaknya justru sengaja ingin mempersembahkan buku itu sebagai kado istimewa pada hari santri 2020 yang jatuh pada setiap tanggal 22 oktober, yang juga dekat dengan hari sumpah pemuda pada setiap tanggal 28 oktober. ya, santri atau pemuda adalah milenial.\\n\\ndibilang istimewa, karena buku itu memang \\\"mempertemukan\\\" organisasi kaum santri atau nahdlatul ulama (nu) itu dengan narasi-narasi khilafers (hizbut tahrir indonesia/hti) seperti negara islam, radikal potensial, islam moderat, nkri bersyariah, islam nusantara, khilafers timses, pancasila dan khilafah, jihad palsu, bendera tauhid, dan sebagainya.\\n\\ntujuannya pun bukan menyudutkan hti yang secara kelembagaan memang sudah dilarang beraktivitas di indonesia sejak tahun 2015, karena para khilafers masih saja \\\"beredar\\\" di media sosial dengan propaganda yang sama yakni tegakkan khilafah! khilafah itu solutif! namun, buku ini lebih ditujukan kepada generasi y dan generasi z atau santri milenial, agar tidak mudah masuk dalam jebakan/kubangan logika hizbiyyin yang seolah-olah logis, padahal salah fatal.\\n\\npada halaman 1 menyebutkan kemampuan khilafers dalam membuat cuitan menjadi trending, karena militansi para khilafers, meski jumlah mereka cukup sedikit. contoh trending pada muharram 2019 dari khilafers adalah merundung (bully) banser untuk mengatasi kerusuhan/separatisme di papua, tapi sekaligus membuat hoaks tentang warga papua yang minta banser dibubarkan.\\n\\natau, trending tentang film \\\"jejak khilafah di nusantara\\\" (jkdn) itu disebut founder drone emprit, ismail fahmi, ternyata menggunakan bot untuk mendorong popularitas jkdn. bahkan, film itu sudah tiga kali dicoba untuk diblokir, namun para khilafers itu mampu berkelit, sehingga mereka pun menganggap \\\"khilafah\\\" mengalami kemenangan dan kemenangan di dunia maya itu disebut akan menjadi kemenangan pula di dunia nyata.\\n\\nnamun, penulis buku yang juga dosen dari kalangan keluarga besar pesantren bahrul ulum, tambakberas, jombang, jatim, itu menilai film jkdn itu tidak menarik secara keilmuan sejarah, karena hanya merupakan promosi khilafah yang tidak jelas. \\\"argumentasinya, khilafah mana yang dipromosikan, apakah khilafah isis, khilafatul muslimin, atau hti?,\\\" katanya.\\n\\nsoal \\\"jejak\\\" juga tidak serta merta bisa menjadi dalil, karena banyak kalangan yang meninggalkan jejaknya di bumi indonesia, baik barat maupun timur, tapi semuanya bukan data yang dapat dijadikan dalil tentang kebenaran mereka dan karenanya nkri wajib diubah menjadi khilafah (halaman 3), maka andai ada jejak khilafah bukan dalil kebenaran khilafah.\\n\\nbahkan, data sejarah dalam berbagai kitab tarikh islam (dalam buku \\\"islam yes, khilafah no?\\\" karya prof nadirsyah hosen) justru menjelaskan khilafah umayyah, abbassiyah, dan dinasti lain menunjukkan jejak berbagai perilaku pemimpin yang baik, adil, terdidik, urakan peminum, sadis, raja tega, nepotisme, dan pergantian kepemimpinannya berujung pada pertumpahan darah. itulah jejak khilafah dalam sejarah (halaman 4).\\n\\n\\\"dalam kitab karya hti sendiri yakni kitab nizam al-islam karya taqiyuddin an-nabhani disebutkan bahwa dalam fiqih, tarikh atau sejarah itu tidak boleh dijadikan sumber hukum,\\\" katanya, mengutip kitab otoritatif hti (halaman 8).\\n\\n\\u00a0 \\u00a0 \\u00a0 \\u00a0 \\u00a0 \\u00a0 \\u00a0 \\u00a0demokrasi dan khilafah\\n\\nterkait kritik hti terhadap demokrasi yang juga dianut indonesia, penulis menilai hal itu terkait dengan logika hti tentang demokrasi liberal a la barat, padahal demokrasi di indonesia tidak bisa dipahami se-formal itu, karena demokrasi di indonesia terpengaruh dengan agama dan budaya adiluhung yang dimiliki bangsa ini, bahkan agama dan budaya adiluhung itulah yang melahirkan kesepakatan bernegara yang disebut nkri.\\n\\nsebaliknya, hti menawarkan khilafah sebagai solusi yang lebih baik daripada demokrasi, bahkan hti menyebut turki usmani sebagai rujukan dari khalifah dalam islam. sementara indonesia disebut sebagai negara vasal, atau negara yang berada dalam kekuasaan negara lain secara internasional. jika ada bahaya datang, maka \\\"negara pelindung\\\" akan membantu negara vasal itu.\\n\\ndalam kitab tarikh al-umam wa al mulk karya abi ja'far muhammad bin jarir tabari, atau kitab tarikh al-umam wa al siyasah karya al-imam abi muhammad abdullah bin muslim ibn qutaybah al dainuri, aatau kitab tarikh al khulafa' karya al hafidz jalaluddin al suyuthi, menyebutkan bahwa syarat menjadi imam a'dzam atau khalifah adalah harus berasal dari suku quraisy.\\n\\nbahkan, kitab al ahkam al sultaniyyah karya al mawardi menegaskan bahwa syarat seorang imam yang ketujuh adalah bernasab quraisy, sesuai dengan nash dan ijmak. bukti yang diajukan al mawardi adalah abu bakar saat di saqifah menolak klaim khilafah atas sa'ad bin ubadah dengan memakai argumen hadits \\\"al-imamah min quraisy\\\" (khalifah itu berasal dari quraisy), bahkan al mawardi juga mengabaikan pendapat yang membolehkan posisi imamah kepada seluruh manusia (halaman 10).\\n\\ntidak hanya itu, imam ghazali dalam kitabnya \\\"al-iqitshad fil i'tiqad\\\" juga menegaskan hal yang sama dengan menggunakan dalil hadits dari imam nasai di atas bahwa khalifah di luar pendapat itu adalah menyimpang (halaman 11).\\n\\nartinya, pandangan hti bahwa khilafah sebagai solusi dengan menyebut turki usmani sebagai rujukan dari khalifah dalam islam itu tidak memenuhi kualifikasi sebagai khilafah, karena turki usmani itu bukan dari klan quraisy. buku \\\"the islamic dynasties\\\" karya clifford edmund bosworth dan buku \\\"ensiklopedi tematis dunia islam\\\" menjelaskan bahwa turki usmani berasal dari qayigh clan (suku kayi) atau salah satu suku di turki barat.\\n\\ndengan penelusuran historis itu, klaim khilafers atas turki usmani dan menyebut nusantara sebagai negara vasal pun gugur dengan sendirinya. apalagi, peta kekuasaan turki usmani dalam karya albert hourani berjudul \\\"a history of the arab peoples\\\" dan juga buku \\\"the cambridge history of islam\\\" menyebutkan jejak kekuasaannya tidak sampai ke turki usmani, namun justru sampai ke eropa (\\\"kontranarasi khilafers\\\" halaman 12).\\n\\nbahkan, sejarahwan yang manuskrip turki usmani prof oman fathurrahman dalam republika.co.id menjelaskan aceh memang pernah mengajukan diri sebagai negara vasal kepada turki usmani pada abad ke-16, namun ditolak. pada abad ke-19, aceh pun mengajukan kembali sebagai negara vasal dan turki tetap menolak. bagi turki tidak ada keuntungan menjadikan aceh sebagai negara vasal, apalagi aceh dalam beberapa kali dipimpin sultanah (pemimpin perempuan), seperti empat sultanah pada abad ke-14.\\n\\nsultanah itu bertentangan dengan prinsip kekhalifahan, bahkan hti sendiri dalam kitab otoritatif berjudul \\\"al nizam al-ijtima'i fil islam\\\" pada halaman 53, atau kitab yang berjudul \\\"nizam al islam\\\" pada halaman 104, atau kitab \\\"ajhizat daulah al khilafah\\\" pada halaman 23, yang menjelaskan bahwa perempuan tidak boleh menjadi pemimpin, hakim mazalim, maupun gubernur.\\n\\nterkait kemunduran turki usmani, sejarahwan prof ali mufrodi dalam \\\"ensiklopedi tematis dunia islam\\\" menyebut kemunduran turki usmani terjadi karena problem kekuasaan internal, seperti sultan muhammad iii yang membunuhi semua saudara laki-laki serta bekas para janda dari ayahnya, apalagi tukri usmani juga sempat dikalahkan pasukan sekutu kristen dan juga rusia, meski sempat direbut kembali, sehingga akhirnya mengalami kemunduran.\\n\\n\\u00a0 \\u00a0 \\u00a0 \\u00a0 \\u00a0 \\u00a0 \\u00a0 \\u00a0jebakan logika\\n\\nyang menarik dalam buku \\\"kontranarasi khilafers\\\" itu, penulis yang juga mantan khilafers itu juga menceritakan pengakuan dirinya dan para khilafers lain dalam memainkan logika otak-atik untuk mendaku/klaim kebenaran khilafah yang dipaksakan seperti halnya ketika para pendukung khilafers menghalalkan segala cara untuk menjadikan film \\\"jejak khilafah di nusantara\\\" sebagai trending ala hoaks, meski \\\"suku quraisy\\\" sebenarnya sudah menjadi syarat yang selesai.\\n\\n\\\"sewaktu saya menjadi maniak khilafah, apapun yang bisa saya otak-atik matuk dari kejadian di dunia untuk meyakinkan para calon korban agar ikut gagasan khilafah. contohnya saat ramainya negara eropa membentuk uni eropa pada tahun 1993 (awal saya kuliah di unair), maka realitas itu saya suarakan bahwa negara barat yang kafir saja sadar untuk bergabung, masak kita yang muslim justru terpecah dalam sekat negara nasionalisme dan negara-bangsa,\\\" kata penulis, saat itu, meski uni eropa itu bukan berarti menjadi satu negara seperti khilafah, apalagi inggris justru keluar (brexit 2020).\\n\\ntidak hanya penulis, jubir eks-hti ismail yusanto juga menggunakan buku \\\"mapping the global future\\\" yang dikeluarkan oleh nic yang sebagian isinya adalah skenario berdirinya khilafah 2020 oleh cucu bin laden. \\\"yusanto menuduh saya sebagai telmi (telat mikir), karena saya menolak gagasan hti dan keluar dari hti, padahal nic yang kafir saja berpikir rasional dan antisipatif,\\\" kata penulis (halaman 17-18).\\n\\nya, semua kejadian bisa \\\"di-rames-i\\\" dengan logika hti, karena itu kalau hizbiyyin felix siau menyebut penolakan terhadap hti itu karena \\\"framing\\\" (pembingkaian) yang buruk atas khilafah, sehingga khilafah terkesan sebagai momok, maka fakta dan data dalam buku \\\"kontranarasi khilafers\\\" bisa menjadi bukti siapa sebenarnya yang bermain \\\"framing\\\" dengan menghalalkan segala cara.\\n\\ntermasuk menampilkan fenomena hijrah superfisial, ustadz dadakan, dan artis pendakwah yang sedikit-sedikit lari ke alquran dan hadits, padahal profesi mereka adalah artis. sebaliknya, beberapa tokoh agama seperti prof ahmad zahro pun \\\"di-framing\\\" sebagai pendukung khilafah, untuk sekadar menguatkan logika mereka, bahkan pendiri nu kh hasyim asy'ari pun dimanipulasi sebagai pendukung khilafah. begitulah kalau berani \\\"hijrah\\\" tapi miskin ilmu.\\n\\nsebagai dosen fakultas ushuluddin uinsa surabaya, penulis dalam bukunya itu juga membandingkan kitab hti dan \\\"kitab kuning\\\" nu tentang khilafah/kepemimpinan. kitab otoritatif hti berjudul \\\"ajhizat daulah al khilafah\\\" karya atha abu rashtah yang menyebut \\\"daulah khilafah\\\" (negara khilafah), namun kitab kuning seperti al ahkam al sulthaniyyah (karya abu hasan al mawardi), tarikh tabari, dan kitab-kitab kuning lainnya hanya menyebut satu kata yakni khilafah, bukan daulah khilafah.\\n\\njadi, para santri sebenarnya tidak mengingkari khilafah/kepemimpinan, tapi maksudnya bukan negara atau pemerintahan. abu hasan al-mawardi dalam kitabnya itu menyebut kata \\\"khilafah\\\" sebanyak 35 kali, kata \\\"khalifah\\\" sebanyak 25 kali, kata \\\"imamah\\\" sebanyak 94 kali, dan kata \\\"imam\\\" sebanyak 13 kali. kata-kata yang sama juga ada dalam kitab \\\"fathul wahab\\\", \\\"asnal mathalib\\\", dan \\\"minhajut thullab\\\" karya syaikh zakariyah al-anshari, atau kitab \\\"rawdhatut thalibin wa 'umdatul muttaqin\\\" dan \\\"minhajut thalibin\\\" karya al-nawawi, dan sebagainya (halaman 23).\\n\\npara santri memahami teks-teks tentang imamah/khilafah dalam kitab-kitab itu melalui konstruksi pemahaman salah satu pendiri nu kh wahab chasbullah yang disampaikan dalam pidato di depan parlemen pada 29 maret 1954 yang dimuat dalam majalah \\\"gema muslimin\\\" berjudul \\\"walijjul amri bissjaukah\\\", yang intinya bahwa imam a'dhom dalam islam itu hanya satu yang memiliki pengetahuan semartabat mujtahid mutlak, namun orang yang demikian sudah tidak ada sejak 700 tahun dari sekarang (1954-700=1254).\\n\\nbila umat islam di dunia tidak mampu membentuk imam a'dhom, maka wajib atas umat islam masing-masing negara mengangkat imam yang darurat, seperti bung karno misalnya, bisa dianggap sah sebagai pemegang kekuasaan negara adalah walijjul amri (halaman 24).\\n\\npandangan kh wahab chasbullah itu juga menjadi keputusan muktamar nu di banjarmasin bahwa soekarno sah menjadi pemimpin ri sebagai \\\"waliyyul amri ad-dharuri bisysyaukah\\\". artinya, syarat pemimpin yang ideal itu diturunkan menjadi syarat minimal realistis.\\n\\npenulis menilai syarat demikian juga dapat ditarik kesimpulan bahwa gus dur yang mempunyai kekurangan fisik pun sah menjadi presiden, karena syarat ideal seperti dalam pandangan imam mawardi tidak memungkinkan (halaman 26). dalam perkembangan yang tidak kaku seperti hti, para ulama dalam bahtsul masail nu juga sudah menetapkan bahwa khilafah\\u00a0adalah ijtihadiyah dan nkri adalah hasil kesepakatan yang final (halaman 30).\\n\\ntidak hanya logika otak-atik, jebakan logika juga banyak dilakukan para khilafers. misalnya, khilafers yang berteriak lewat poster saat diingatkan petugas terkait pemberlakukan psbb (pembatasan sosial berskala besar) saat corona pada mei 2020, \\\"hukum allah lebih tinggi... saya menghormati aturan, tapi saya lebih menghormati aturan allah\\\".\\n\\nungkapan ini tidak jauh berbeda dengan ungkapan ismail yusanto hti yang menyatakan tidak akan diam melawan rezim \\\"firaunik\\\". \\\"sekalipun tidak disebut secara jelas dalam buku-buku hti kalau akan mengganti pancasila, uud 1945, dan nkri, tapi saya bisa pastikan bahwa cita-cita hti adalah mengganti sistem non-khilafah,\\\" kata penulis (halaman 89).\\n\\nada lima penyebab radikalisme yakni kaget tampilan (ustadz \\\"berlidah\\\" api), kaget istilah (dari abangan mengenal istilah khilafah, kaffah, jihad, halal, surga), dari urakan mengenal agama dari ustadz \\\"kaget tampilan\\\", dari pendosa (lingkungan maksiat/koruptif) bertemu ustadz \\\"kaget tampilan\\\" di medsos, dan memusuhi liberalisme (anti-islam liberal).\\n\\njebakan logika seperti itu sebenarnya sudah terlalu sering dilakukan para khilafers yakni jebakan logika melalui perbandingan yang tidak seimbang, seperti halnya ketika mereka menyatakan islam itu lebih baik daripada pancasila. itu jebakan logika yang tidak imbang, karena islam itu agama, sedangkan pancasila adalah ideologi. kalau membandingkan agama secara imbang, maka islam bisa dibandingkan dengan agama kristen dan sebagainya, sedangkan ideologi dengan ideologi.\\n\\n\\\"manusia sekarang mirip dengan umat nabi ibrahim, logika lebih dipercaya daripada dalil,\\\" kata ulama nu yang ahli al-qur'an, kh. ahmad bahauddin nursalim.\\n\\nsebagai mantan khilafers, penulis buku bisa melakukan kontranarasi yang lebih menukik: lebih tinggi mana konstitusi ht dengan ayat suci? kenapa konstitusi ht dibuat? lebih tinggi mana untuk ditaati antara tuhan dengan dedengkot ht? kenapa tokoh ht lebih ditaati daripada pemilik ayat suci? ayat suci tidak menyebut ht atau perintah mendirikan ht atau khilafah, kenapa ngotot seakan ht atau khilafah kayak rukun iman saja? \\\"itulah contoh-contoh jebakan logika yang membuat sesat logika, seperti lebih takut mana antara tuhan dengan corona?,\\\" kata penulis pada halaman 69.\\n\\nlogika sesat ala hti itulah yang kini banyak menyeruak di dunia maya (medsos), padahal logika hti itu khas yakni rigid (kaku) dalam melihat perkembangan, namun hal itu justru disebarluaskan ke dunia maya, seperti hti melihat kelompok moderat sebagai kelompok yang dirangkul barat untuk melawan hti, padahal kitab hti sendiri sudah menjelaskan bahwa barat adalah pembawa kelompok kapitalis yang bisa memanfaatkan siapapun yang menguntungkan, termasuk memanfaatkan kelompok radikal itu sendiri. cara pandang yang mirip juga dilakukan hti dalam melihat demokrasi, komunis, dan perkembangan lainnya. sangat rigid tapi manipulatif.\\n\\npada halaman-halaman berikutnya, penulis banyak mengulas liku-liku pengalaman teman, keluarga, santri, emak/istri, anak, dan sebagainya yang terjebak \\\"logika\\\" hti (menjadi hti) hingga ada masalah dengan keluarga. tapi, ada juga kritik penulis terhadap sikap pemerintah yang hanya tegas terhadap teroris, tapi kurang tegas terhadap \\\"radikal ideologis\\\" (hti), padahal kelompok radikal dalam bentuk apapun itu memiliki target sama yakni mengganti nkri/pancasila.\\n\\nhti yang terlarang kini tetap bergerilya di \\\"bawah tanah\\\" (tanah era orde baru) dan \\\"tanah tambahan\\\" (dunia maya atau medsos) untuk merayu asn, pelajar/mahasiswa, pekerja/swasta/bumn, dan kelompok masyarakat hingga tercapai cita-cita \\\"khilafah\\\".editor: m arief iskandar\\t\\t\\t\\t\\t\\t\\t\\tcopyright \\u00a9 antara 2020\",\n          \"mantan perdana menteri malaysia abdullah badawi menyatakan umat islam harus mampu menunjukkan karya nyata jika tidak ingin tertinggal dari umat lain.\\n  \\\"menjadi islam berarti harus mampu membuktikan dengan karya nyata, kualitas ilmu, dan persatuan di antara umat islam sendiri. tanpa itu, umat islam akan terus tertinggal,\\\" kata badawi saat menjadi pembicara kunci dalam acara halaqah perdamaian memperingati hari lahir ke-6 international conference of islamic scholar (icis) di jakarta, kamis.\\n  hadir dalam acara itu sejumlah tokoh dan anggota icis, antara lain sekretaris jenderal icis kh hasyim muzadi dan presiden global university lebanon dr syeikh hussam qaraqira. \\n  diakui badawi, kondisi umat islam saat ini masih tertinggal dari umat lain, baik dari segi teknologi maupun ekonomi.\\n  \\\"selama ini umat islam baru bisa menggunakan hasil teknologi pihak lain,\\\" katanya.\\n  oleh karena itu, lanjutnya, perlu ada upaya bersama untuk meningkatkan sumber daya umat islam.\\n  selain itu, persatuan di antara umat islam juga harus diperkuat karena salah satu penyebab kemunduran umat islam adalah perpecahan di antara mereka.\\n  \\\"islam sebenarnya kuat, tapi berpecah-belah,\\\" kata mantan presiden organisasi konferensi islam (oki) tersebut.\\n  terkait keberadaan icis, badawi berharap organisasi itu akan semakin berkembang dan menjadi salah satu kekuatan yang berperan penting di dalam mewujudkan perdamaian dunia.\\n  sementara itu hasyim muzadi dalam sambutannya menyatakan, icis menawarkan ide moderasi untuk mewujudkan perdamaian dunia, baik moderasi dalam segi agama maupun berbangsa dan bernegara.\\n  dalam segi agama, moderasi merupakan posisi yang berada di tengah antara radikalisme dan liberalisme, dua kutub yang sama-sama merugikan agama itu sendiri.\\n  sementara di dalam kehidupan bernegara, ide moderasi yang ditawarkan icis adalah negara yang melindungi keberadaan agama tanpa harus menjadi negara agama. \\n  \\\"jadi negara bangsa yang melindungi keberadaan agama,\\\" katanya.(*)(s024/r009)editor: ruslan burhani\\t\\t\\t\\t\\t\\t\\t\\tcopyright \\u00a9 antara 2010\",\n          \"Presiden Joko Widodo didampingi Ibu Iriana Joko Widodo melakukan kunjungan kerja (kunker) ke Provinsi Sulawesi Selatan, pada Kamis (4/7/2024). Kepala Negara dan Ibu Negara berangkat dari Pangkalan TNI AU Halim Perdanakusuma Jakarta menggunakan pesawat Kepresidenan Indonesia-1. Deputi Bidang Protokol, Pers, dan Media Sekretariat Presiden M. Yusuf Permana mengatakan,\\u00a0 setibanya di Pangkalan TNI AU Sultan Hasanuddin, Kabupaten Maros, Provinsi Sulawesi Selatan, Presiden dan Ibu Iriana akan melanjutkan perjalanan menuju Kabupaten Bone dengan menggunakan helikopter Super Puma TNI AU. Di Kabupaten Bone, Presiden diagendakan untuk meninjau pemberian bantuan pompa air. Dari Kabupaten Bone, Presiden, Ibu Iriana, dan rombongan akan melanjutkan perjalanan menuju Kabupaten Sinjai. Baca juga: Jokowi Blak-blakan Bantah Tudingan Sekjen PKS soal Titip Kaesang Di Kabupaten Sinjai, Presiden Jokowi akan meninjau Rumah Sakit Umum Daerah (RSUD) setempat. \\\"Rencananya di RSUD nanti Presiden akan melakukan peninjauan fasilitas rumah sakit, sekaligus juga beliau akan meninjau pelayanan BPJS Kesehatan yang telah berjalan di sana,\\\" ujar Yusuf dilansir siaran pers Sekretariat Presiden. Turut mendampingi Presiden dan Ibu Iriana dalam penerbangan menuju Provinsi Sulawesi Selatan yaitu Menteri Pekerjaan Umum dan Perumahan Rakyat Basuki Hadimuljono, Menteri Kesehatan Budi Gunadi Sadikin, Sekretaris Militer Presiden Mayjen TNI Rudy Saladin, serta Komandan Paspampres Mayjen TNI Achiruddin. Sementara itu, tampak melepas keberangkatan Presiden Jokowi di Pangkalan TNI AU Halim Perdanakusuma Jakarta yaitu Pangdam Jaya Mayjen TNI Mohamad Hasan, Kapolda Metro Jaya Irjen Pol. Karyoto, Pangkoopsud I Marsda TNI Mohammad Nurdin, serta Danlanud Halim Perdanakusuma Marsma TNI Destianto Nugroho Utomo.\"\n        ],\n        \"semantic_type\": \"\",\n        \"description\": \"\"\n      }\n    },\n    {\n      \"column\": \"liberalism_conservative\",\n      \"properties\": {\n        \"dtype\": \"number\",\n        \"std\": 0,\n        \"min\": 0,\n        \"max\": 1,\n        \"num_unique_values\": 2,\n        \"samples\": [\n          1,\n          0\n        ],\n        \"semantic_type\": \"\",\n        \"description\": \"\"\n      }\n    },\n    {\n      \"column\": \"coalition_opposition\",\n      \"properties\": {\n        \"dtype\": \"number\",\n        \"std\": 0.4891991565270142,\n        \"min\": 0.0,\n        \"max\": 1.0,\n        \"num_unique_values\": 2,\n        \"samples\": [\n          0.0,\n          1.0\n        ],\n        \"semantic_type\": \"\",\n        \"description\": \"\"\n      }\n    }\n  ]\n}",
       "type": "dataframe",
       "variable_name": "df"
      },
      "text/html": [
       "\n",
       "  <div id=\"df-ee34df7e-5597-4789-8d06-3b2c574a0153\" class=\"colab-df-container\">\n",
       "    <div>\n",
       "<style scoped>\n",
       "    .dataframe tbody tr th:only-of-type {\n",
       "        vertical-align: middle;\n",
       "    }\n",
       "\n",
       "    .dataframe tbody tr th {\n",
       "        vertical-align: top;\n",
       "    }\n",
       "\n",
       "    .dataframe thead th {\n",
       "        text-align: right;\n",
       "    }\n",
       "</style>\n",
       "<table border=\"1\" class=\"dataframe\">\n",
       "  <thead>\n",
       "    <tr style=\"text-align: right;\">\n",
       "      <th></th>\n",
       "      <th>title</th>\n",
       "      <th>link</th>\n",
       "      <th>date</th>\n",
       "      <th>content</th>\n",
       "      <th>liberalism_conservative</th>\n",
       "      <th>coalition_opposition</th>\n",
       "    </tr>\n",
       "  </thead>\n",
       "  <tbody>\n",
       "    <tr>\n",
       "      <th>0</th>\n",
       "      <td>Wapres Harap Bendungan Cipanas Berkembang Jadi...</td>\n",
       "      <td>https://nasional.kompas.com/read/2024/07/09/20...</td>\n",
       "      <td>2024-07-09 00:00:00</td>\n",
       "      <td>Wakil Presiden (Wapres) RI Ma'ruf Amin berhara...</td>\n",
       "      <td>0</td>\n",
       "      <td>1.0</td>\n",
       "    </tr>\n",
       "    <tr>\n",
       "      <th>1</th>\n",
       "      <td>Mahasiswa Dikhawatirkan Terlilit Utang Jika Ba...</td>\n",
       "      <td>https://nasional.kompas.com/read/2024/07/09/20...</td>\n",
       "      <td>2024-07-09 00:00:00</td>\n",
       "      <td>Gagasan Menteri Koordinator Pembangunan Manusi...</td>\n",
       "      <td>1</td>\n",
       "      <td>0.0</td>\n",
       "    </tr>\n",
       "    <tr>\n",
       "      <th>2</th>\n",
       "      <td>Airlangga Nilai KPU Masih Layak Selenggarakan ...</td>\n",
       "      <td>https://nasional.kompas.com/read/2024/07/09/20...</td>\n",
       "      <td>2024-07-09 00:00:00</td>\n",
       "      <td>Ketua Umum Partai Golkar Airlangga Hartarto me...</td>\n",
       "      <td>0</td>\n",
       "      <td>1.0</td>\n",
       "    </tr>\n",
       "    <tr>\n",
       "      <th>3</th>\n",
       "      <td>Pakar Ragu Rencana Datangkan Dokter Asing Bisa...</td>\n",
       "      <td>https://nasional.kompas.com/read/2024/07/09/19...</td>\n",
       "      <td>2024-07-09 00:00:00</td>\n",
       "      <td>Rencana pemerintah mendatangkan dokter asing u...</td>\n",
       "      <td>1</td>\n",
       "      <td>0.0</td>\n",
       "    </tr>\n",
       "    <tr>\n",
       "      <th>4</th>\n",
       "      <td>Usul Muhadjir Pakai Pinjol Buat Bayar Uang Kul...</td>\n",
       "      <td>https://nasional.kompas.com/read/2024/07/09/19...</td>\n",
       "      <td>2024-07-09 00:00:00</td>\n",
       "      <td>Usul Menteri Koordinator Pembangunan Manusia d...</td>\n",
       "      <td>1</td>\n",
       "      <td>0.0</td>\n",
       "    </tr>\n",
       "    <tr>\n",
       "      <th>...</th>\n",
       "      <td>...</td>\n",
       "      <td>...</td>\n",
       "      <td>...</td>\n",
       "      <td>...</td>\n",
       "      <td>...</td>\n",
       "      <td>...</td>\n",
       "    </tr>\n",
       "    <tr>\n",
       "      <th>828</th>\n",
       "      <td>Maraknya Video Mesum Akibat Ketidaktegasan Pem...</td>\n",
       "      <td>https://www.antaranews.com/berita/208502/hti-m...</td>\n",
       "      <td>NaN</td>\n",
       "      <td>hizbut tahrir indonesia (hti) menilai, marakny...</td>\n",
       "      <td>1</td>\n",
       "      <td>NaN</td>\n",
       "    </tr>\n",
       "    <tr>\n",
       "      <th>829</th>\n",
       "      <td>Harus Jadi Basis Penyelenggaraan Pemerintahan</td>\n",
       "      <td>https://www.antaranews.com/berita/206065/panca...</td>\n",
       "      <td>NaN</td>\n",
       "      <td>sehubungan peringatan hari lahir pancasila 1 j...</td>\n",
       "      <td>1</td>\n",
       "      <td>NaN</td>\n",
       "    </tr>\n",
       "    <tr>\n",
       "      <th>830</th>\n",
       "      <td>: Indonesia Harus Perkuat Ideologi Kebangsaan</td>\n",
       "      <td>https://www.antaranews.com/berita/181310/fpn-i...</td>\n",
       "      <td>NaN</td>\n",
       "      <td>bangsa indonesia harus mampu memperkuat ideolo...</td>\n",
       "      <td>1</td>\n",
       "      <td>NaN</td>\n",
       "    </tr>\n",
       "    <tr>\n",
       "      <th>831</th>\n",
       "      <td>Kiemas Ingin Parpol Nasionalis Bergabung</td>\n",
       "      <td>https://www.antaranews.com/berita/178711/taufi...</td>\n",
       "      <td>NaN</td>\n",
       "      <td>ketua presidium pusat persatuan alumni (ppa) g...</td>\n",
       "      <td>1</td>\n",
       "      <td>NaN</td>\n",
       "    </tr>\n",
       "    <tr>\n",
       "      <th>832</th>\n",
       "      <td>Ulama Jabar Tolak Kedatangan Obama</td>\n",
       "      <td>https://www.antaranews.com/berita/177646/ratus...</td>\n",
       "      <td>NaN</td>\n",
       "      <td>sekitar 500 ulama se-jawa barat bertemu di mas...</td>\n",
       "      <td>1</td>\n",
       "      <td>NaN</td>\n",
       "    </tr>\n",
       "  </tbody>\n",
       "</table>\n",
       "<p>833 rows × 6 columns</p>\n",
       "</div>\n",
       "    <div class=\"colab-df-buttons\">\n",
       "\n",
       "  <div class=\"colab-df-container\">\n",
       "    <button class=\"colab-df-convert\" onclick=\"convertToInteractive('df-ee34df7e-5597-4789-8d06-3b2c574a0153')\"\n",
       "            title=\"Convert this dataframe to an interactive table.\"\n",
       "            style=\"display:none;\">\n",
       "\n",
       "  <svg xmlns=\"http://www.w3.org/2000/svg\" height=\"24px\" viewBox=\"0 -960 960 960\">\n",
       "    <path d=\"M120-120v-720h720v720H120Zm60-500h600v-160H180v160Zm220 220h160v-160H400v160Zm0 220h160v-160H400v160ZM180-400h160v-160H180v160Zm440 0h160v-160H620v160ZM180-180h160v-160H180v160Zm440 0h160v-160H620v160Z\"/>\n",
       "  </svg>\n",
       "    </button>\n",
       "\n",
       "  <style>\n",
       "    .colab-df-container {\n",
       "      display:flex;\n",
       "      gap: 12px;\n",
       "    }\n",
       "\n",
       "    .colab-df-convert {\n",
       "      background-color: #E8F0FE;\n",
       "      border: none;\n",
       "      border-radius: 50%;\n",
       "      cursor: pointer;\n",
       "      display: none;\n",
       "      fill: #1967D2;\n",
       "      height: 32px;\n",
       "      padding: 0 0 0 0;\n",
       "      width: 32px;\n",
       "    }\n",
       "\n",
       "    .colab-df-convert:hover {\n",
       "      background-color: #E2EBFA;\n",
       "      box-shadow: 0px 1px 2px rgba(60, 64, 67, 0.3), 0px 1px 3px 1px rgba(60, 64, 67, 0.15);\n",
       "      fill: #174EA6;\n",
       "    }\n",
       "\n",
       "    .colab-df-buttons div {\n",
       "      margin-bottom: 4px;\n",
       "    }\n",
       "\n",
       "    [theme=dark] .colab-df-convert {\n",
       "      background-color: #3B4455;\n",
       "      fill: #D2E3FC;\n",
       "    }\n",
       "\n",
       "    [theme=dark] .colab-df-convert:hover {\n",
       "      background-color: #434B5C;\n",
       "      box-shadow: 0px 1px 3px 1px rgba(0, 0, 0, 0.15);\n",
       "      filter: drop-shadow(0px 1px 2px rgba(0, 0, 0, 0.3));\n",
       "      fill: #FFFFFF;\n",
       "    }\n",
       "  </style>\n",
       "\n",
       "    <script>\n",
       "      const buttonEl =\n",
       "        document.querySelector('#df-ee34df7e-5597-4789-8d06-3b2c574a0153 button.colab-df-convert');\n",
       "      buttonEl.style.display =\n",
       "        google.colab.kernel.accessAllowed ? 'block' : 'none';\n",
       "\n",
       "      async function convertToInteractive(key) {\n",
       "        const element = document.querySelector('#df-ee34df7e-5597-4789-8d06-3b2c574a0153');\n",
       "        const dataTable =\n",
       "          await google.colab.kernel.invokeFunction('convertToInteractive',\n",
       "                                                    [key], {});\n",
       "        if (!dataTable) return;\n",
       "\n",
       "        const docLinkHtml = 'Like what you see? Visit the ' +\n",
       "          '<a target=\"_blank\" href=https://colab.research.google.com/notebooks/data_table.ipynb>data table notebook</a>'\n",
       "          + ' to learn more about interactive tables.';\n",
       "        element.innerHTML = '';\n",
       "        dataTable['output_type'] = 'display_data';\n",
       "        await google.colab.output.renderOutput(dataTable, element);\n",
       "        const docLink = document.createElement('div');\n",
       "        docLink.innerHTML = docLinkHtml;\n",
       "        element.appendChild(docLink);\n",
       "      }\n",
       "    </script>\n",
       "  </div>\n",
       "\n",
       "\n",
       "<div id=\"df-50240425-c583-400c-81f3-54f1d268c3a5\">\n",
       "  <button class=\"colab-df-quickchart\" onclick=\"quickchart('df-50240425-c583-400c-81f3-54f1d268c3a5')\"\n",
       "            title=\"Suggest charts\"\n",
       "            style=\"display:none;\">\n",
       "\n",
       "<svg xmlns=\"http://www.w3.org/2000/svg\" height=\"24px\"viewBox=\"0 0 24 24\"\n",
       "     width=\"24px\">\n",
       "    <g>\n",
       "        <path d=\"M19 3H5c-1.1 0-2 .9-2 2v14c0 1.1.9 2 2 2h14c1.1 0 2-.9 2-2V5c0-1.1-.9-2-2-2zM9 17H7v-7h2v7zm4 0h-2V7h2v10zm4 0h-2v-4h2v4z\"/>\n",
       "    </g>\n",
       "</svg>\n",
       "  </button>\n",
       "\n",
       "<style>\n",
       "  .colab-df-quickchart {\n",
       "      --bg-color: #E8F0FE;\n",
       "      --fill-color: #1967D2;\n",
       "      --hover-bg-color: #E2EBFA;\n",
       "      --hover-fill-color: #174EA6;\n",
       "      --disabled-fill-color: #AAA;\n",
       "      --disabled-bg-color: #DDD;\n",
       "  }\n",
       "\n",
       "  [theme=dark] .colab-df-quickchart {\n",
       "      --bg-color: #3B4455;\n",
       "      --fill-color: #D2E3FC;\n",
       "      --hover-bg-color: #434B5C;\n",
       "      --hover-fill-color: #FFFFFF;\n",
       "      --disabled-bg-color: #3B4455;\n",
       "      --disabled-fill-color: #666;\n",
       "  }\n",
       "\n",
       "  .colab-df-quickchart {\n",
       "    background-color: var(--bg-color);\n",
       "    border: none;\n",
       "    border-radius: 50%;\n",
       "    cursor: pointer;\n",
       "    display: none;\n",
       "    fill: var(--fill-color);\n",
       "    height: 32px;\n",
       "    padding: 0;\n",
       "    width: 32px;\n",
       "  }\n",
       "\n",
       "  .colab-df-quickchart:hover {\n",
       "    background-color: var(--hover-bg-color);\n",
       "    box-shadow: 0 1px 2px rgba(60, 64, 67, 0.3), 0 1px 3px 1px rgba(60, 64, 67, 0.15);\n",
       "    fill: var(--button-hover-fill-color);\n",
       "  }\n",
       "\n",
       "  .colab-df-quickchart-complete:disabled,\n",
       "  .colab-df-quickchart-complete:disabled:hover {\n",
       "    background-color: var(--disabled-bg-color);\n",
       "    fill: var(--disabled-fill-color);\n",
       "    box-shadow: none;\n",
       "  }\n",
       "\n",
       "  .colab-df-spinner {\n",
       "    border: 2px solid var(--fill-color);\n",
       "    border-color: transparent;\n",
       "    border-bottom-color: var(--fill-color);\n",
       "    animation:\n",
       "      spin 1s steps(1) infinite;\n",
       "  }\n",
       "\n",
       "  @keyframes spin {\n",
       "    0% {\n",
       "      border-color: transparent;\n",
       "      border-bottom-color: var(--fill-color);\n",
       "      border-left-color: var(--fill-color);\n",
       "    }\n",
       "    20% {\n",
       "      border-color: transparent;\n",
       "      border-left-color: var(--fill-color);\n",
       "      border-top-color: var(--fill-color);\n",
       "    }\n",
       "    30% {\n",
       "      border-color: transparent;\n",
       "      border-left-color: var(--fill-color);\n",
       "      border-top-color: var(--fill-color);\n",
       "      border-right-color: var(--fill-color);\n",
       "    }\n",
       "    40% {\n",
       "      border-color: transparent;\n",
       "      border-right-color: var(--fill-color);\n",
       "      border-top-color: var(--fill-color);\n",
       "    }\n",
       "    60% {\n",
       "      border-color: transparent;\n",
       "      border-right-color: var(--fill-color);\n",
       "    }\n",
       "    80% {\n",
       "      border-color: transparent;\n",
       "      border-right-color: var(--fill-color);\n",
       "      border-bottom-color: var(--fill-color);\n",
       "    }\n",
       "    90% {\n",
       "      border-color: transparent;\n",
       "      border-bottom-color: var(--fill-color);\n",
       "    }\n",
       "  }\n",
       "</style>\n",
       "\n",
       "  <script>\n",
       "    async function quickchart(key) {\n",
       "      const quickchartButtonEl =\n",
       "        document.querySelector('#' + key + ' button');\n",
       "      quickchartButtonEl.disabled = true;  // To prevent multiple clicks.\n",
       "      quickchartButtonEl.classList.add('colab-df-spinner');\n",
       "      try {\n",
       "        const charts = await google.colab.kernel.invokeFunction(\n",
       "            'suggestCharts', [key], {});\n",
       "      } catch (error) {\n",
       "        console.error('Error during call to suggestCharts:', error);\n",
       "      }\n",
       "      quickchartButtonEl.classList.remove('colab-df-spinner');\n",
       "      quickchartButtonEl.classList.add('colab-df-quickchart-complete');\n",
       "    }\n",
       "    (() => {\n",
       "      let quickchartButtonEl =\n",
       "        document.querySelector('#df-50240425-c583-400c-81f3-54f1d268c3a5 button');\n",
       "      quickchartButtonEl.style.display =\n",
       "        google.colab.kernel.accessAllowed ? 'block' : 'none';\n",
       "    })();\n",
       "  </script>\n",
       "</div>\n",
       "\n",
       "  <div id=\"id_121f36b5-4c22-44fc-8605-0e57c2083eff\">\n",
       "    <style>\n",
       "      .colab-df-generate {\n",
       "        background-color: #E8F0FE;\n",
       "        border: none;\n",
       "        border-radius: 50%;\n",
       "        cursor: pointer;\n",
       "        display: none;\n",
       "        fill: #1967D2;\n",
       "        height: 32px;\n",
       "        padding: 0 0 0 0;\n",
       "        width: 32px;\n",
       "      }\n",
       "\n",
       "      .colab-df-generate:hover {\n",
       "        background-color: #E2EBFA;\n",
       "        box-shadow: 0px 1px 2px rgba(60, 64, 67, 0.3), 0px 1px 3px 1px rgba(60, 64, 67, 0.15);\n",
       "        fill: #174EA6;\n",
       "      }\n",
       "\n",
       "      [theme=dark] .colab-df-generate {\n",
       "        background-color: #3B4455;\n",
       "        fill: #D2E3FC;\n",
       "      }\n",
       "\n",
       "      [theme=dark] .colab-df-generate:hover {\n",
       "        background-color: #434B5C;\n",
       "        box-shadow: 0px 1px 3px 1px rgba(0, 0, 0, 0.15);\n",
       "        filter: drop-shadow(0px 1px 2px rgba(0, 0, 0, 0.3));\n",
       "        fill: #FFFFFF;\n",
       "      }\n",
       "    </style>\n",
       "    <button class=\"colab-df-generate\" onclick=\"generateWithVariable('df')\"\n",
       "            title=\"Generate code using this dataframe.\"\n",
       "            style=\"display:none;\">\n",
       "\n",
       "  <svg xmlns=\"http://www.w3.org/2000/svg\" height=\"24px\"viewBox=\"0 0 24 24\"\n",
       "       width=\"24px\">\n",
       "    <path d=\"M7,19H8.4L18.45,9,17,7.55,7,17.6ZM5,21V16.75L18.45,3.32a2,2,0,0,1,2.83,0l1.4,1.43a1.91,1.91,0,0,1,.58,1.4,1.91,1.91,0,0,1-.58,1.4L9.25,21ZM18.45,9,17,7.55Zm-12,3A5.31,5.31,0,0,0,4.9,8.1,5.31,5.31,0,0,0,1,6.5,5.31,5.31,0,0,0,4.9,4.9,5.31,5.31,0,0,0,6.5,1,5.31,5.31,0,0,0,8.1,4.9,5.31,5.31,0,0,0,12,6.5,5.46,5.46,0,0,0,6.5,12Z\"/>\n",
       "  </svg>\n",
       "    </button>\n",
       "    <script>\n",
       "      (() => {\n",
       "      const buttonEl =\n",
       "        document.querySelector('#id_121f36b5-4c22-44fc-8605-0e57c2083eff button.colab-df-generate');\n",
       "      buttonEl.style.display =\n",
       "        google.colab.kernel.accessAllowed ? 'block' : 'none';\n",
       "\n",
       "      buttonEl.onclick = () => {\n",
       "        google.colab.notebook.generateWithVariable('df');\n",
       "      }\n",
       "      })();\n",
       "    </script>\n",
       "  </div>\n",
       "\n",
       "    </div>\n",
       "  </div>\n"
      ],
      "text/plain": [
       "                                                 title  \\\n",
       "0    Wapres Harap Bendungan Cipanas Berkembang Jadi...   \n",
       "1    Mahasiswa Dikhawatirkan Terlilit Utang Jika Ba...   \n",
       "2    Airlangga Nilai KPU Masih Layak Selenggarakan ...   \n",
       "3    Pakar Ragu Rencana Datangkan Dokter Asing Bisa...   \n",
       "4    Usul Muhadjir Pakai Pinjol Buat Bayar Uang Kul...   \n",
       "..                                                 ...   \n",
       "828  Maraknya Video Mesum Akibat Ketidaktegasan Pem...   \n",
       "829      Harus Jadi Basis Penyelenggaraan Pemerintahan   \n",
       "830      : Indonesia Harus Perkuat Ideologi Kebangsaan   \n",
       "831           Kiemas Ingin Parpol Nasionalis Bergabung   \n",
       "832                 Ulama Jabar Tolak Kedatangan Obama   \n",
       "\n",
       "                                                  link                 date  \\\n",
       "0    https://nasional.kompas.com/read/2024/07/09/20...  2024-07-09 00:00:00   \n",
       "1    https://nasional.kompas.com/read/2024/07/09/20...  2024-07-09 00:00:00   \n",
       "2    https://nasional.kompas.com/read/2024/07/09/20...  2024-07-09 00:00:00   \n",
       "3    https://nasional.kompas.com/read/2024/07/09/19...  2024-07-09 00:00:00   \n",
       "4    https://nasional.kompas.com/read/2024/07/09/19...  2024-07-09 00:00:00   \n",
       "..                                                 ...                  ...   \n",
       "828  https://www.antaranews.com/berita/208502/hti-m...                  NaN   \n",
       "829  https://www.antaranews.com/berita/206065/panca...                  NaN   \n",
       "830  https://www.antaranews.com/berita/181310/fpn-i...                  NaN   \n",
       "831  https://www.antaranews.com/berita/178711/taufi...                  NaN   \n",
       "832  https://www.antaranews.com/berita/177646/ratus...                  NaN   \n",
       "\n",
       "                                               content  \\\n",
       "0    Wakil Presiden (Wapres) RI Ma'ruf Amin berhara...   \n",
       "1    Gagasan Menteri Koordinator Pembangunan Manusi...   \n",
       "2    Ketua Umum Partai Golkar Airlangga Hartarto me...   \n",
       "3    Rencana pemerintah mendatangkan dokter asing u...   \n",
       "4    Usul Menteri Koordinator Pembangunan Manusia d...   \n",
       "..                                                 ...   \n",
       "828  hizbut tahrir indonesia (hti) menilai, marakny...   \n",
       "829  sehubungan peringatan hari lahir pancasila 1 j...   \n",
       "830  bangsa indonesia harus mampu memperkuat ideolo...   \n",
       "831  ketua presidium pusat persatuan alumni (ppa) g...   \n",
       "832  sekitar 500 ulama se-jawa barat bertemu di mas...   \n",
       "\n",
       "     liberalism_conservative  coalition_opposition  \n",
       "0                          0                   1.0  \n",
       "1                          1                   0.0  \n",
       "2                          0                   1.0  \n",
       "3                          1                   0.0  \n",
       "4                          1                   0.0  \n",
       "..                       ...                   ...  \n",
       "828                        1                   NaN  \n",
       "829                        1                   NaN  \n",
       "830                        1                   NaN  \n",
       "831                        1                   NaN  \n",
       "832                        1                   NaN  \n",
       "\n",
       "[833 rows x 6 columns]"
      ]
     },
     "execution_count": 3,
     "metadata": {},
     "output_type": "execute_result"
    }
   ],
   "source": [
    "df = pd.read_csv(\"https://raw.githubusercontent.com/tantowjy/news-classification/main/dataset/talas/dataset-training-talas-830.csv\")\n",
    "df.info()\n",
    "df"
   ]
  },
  {
   "cell_type": "code",
   "execution_count": 5,
   "metadata": {
    "colab": {
     "base_uri": "https://localhost:8080/"
    },
    "id": "YYDZMvRIBwRu",
    "outputId": "1d6cf932-3dc0-47a1-ad0d-82a2a56ee7b7"
   },
   "outputs": [
    {
     "name": "stdout",
     "output_type": "stream",
     "text": [
      "<class 'pandas.core.frame.DataFrame'>\n",
      "RangeIndex: 833 entries, 0 to 832\n",
      "Data columns (total 6 columns):\n",
      " #   Column                   Non-Null Count  Dtype  \n",
      "---  ------                   --------------  -----  \n",
      " 0   title                    833 non-null    object \n",
      " 1   link                     833 non-null    object \n",
      " 2   date                     492 non-null    object \n",
      " 3   content                  833 non-null    object \n",
      " 4   liberalism_conservative  833 non-null    int64  \n",
      " 5   coalition_opposition     492 non-null    float64\n",
      "dtypes: float64(1), int64(1), object(4)\n",
      "memory usage: 39.2+ KB\n"
     ]
    }
   ],
   "source": [
    "# change label number to int\n",
    "df['liberalism_conservative'] = df['liberalism_conservative'].astype('int64')\n",
    "df.info()"
   ]
  },
  {
   "cell_type": "markdown",
   "metadata": {
    "id": "Iw9Db-22lqTF"
   },
   "source": [
    "## Exploratory Data Analysis"
   ]
  },
  {
   "cell_type": "markdown",
   "metadata": {
    "id": "nQ0XqbvymxuH"
   },
   "source": [
    "### Missing values"
   ]
  },
  {
   "cell_type": "code",
   "execution_count": 6,
   "metadata": {
    "colab": {
     "base_uri": "https://localhost:8080/"
    },
    "id": "hDYtjPham6mj",
    "outputId": "846320bc-48b9-4f23-e286-04342bea6219"
   },
   "outputs": [
    {
     "data": {
      "text/plain": [
       "title                        0\n",
       "link                         0\n",
       "date                       341\n",
       "content                      0\n",
       "liberalism_conservative      0\n",
       "coalition_opposition       341\n",
       "dtype: int64"
      ]
     },
     "execution_count": 6,
     "metadata": {},
     "output_type": "execute_result"
    }
   ],
   "source": [
    "df.isna().sum()"
   ]
  },
  {
   "cell_type": "code",
   "execution_count": 7,
   "metadata": {
    "id": "mQOCN2Y1h9pP"
   },
   "outputs": [],
   "source": [
    "df = df.dropna(subset=['liberalism_conservative'])"
   ]
  },
  {
   "cell_type": "markdown",
   "metadata": {
    "id": "Or1o33Bhmcdi"
   },
   "source": [
    "### Class distribution"
   ]
  },
  {
   "cell_type": "code",
   "execution_count": 8,
   "metadata": {
    "colab": {
     "base_uri": "https://localhost:8080/"
    },
    "id": "scGbX099iIZA",
    "outputId": "afaa31d4-cc0c-4034-88a0-84f17970d515"
   },
   "outputs": [
    {
     "name": "stdout",
     "output_type": "stream",
     "text": [
      "450\n",
      "383\n"
     ]
    }
   ],
   "source": [
    "liberalism = (df['liberalism_conservative'] == 1).sum()\n",
    "conservative = (df['liberalism_conservative'] == 0).sum()\n",
    "\n",
    "print(liberalism)\n",
    "print(conservative)"
   ]
  },
  {
   "cell_type": "code",
   "execution_count": 9,
   "metadata": {
    "colab": {
     "base_uri": "https://localhost:8080/",
     "height": 666
    },
    "id": "I3NL-AYll6p1",
    "outputId": "0282542b-5428-494d-dc8b-0af25126f8e7"
   },
   "outputs": [
    {
     "data": {
      "image/png": "[encoded data removed]",
      "text/plain": [
       "<Figure size 800x600 with 1 Axes>"
      ]
     },
     "metadata": {},
     "output_type": "display_data"
    }
   ],
   "source": [
    "# count the occurrences of each class in 'is_fake'\n",
    "count_classes = df['liberalism_conservative'].value_counts()\n",
    "\n",
    "# plot the distribution as a bar chart\n",
    "plt.figure(figsize=(8, 6))\n",
    "count_classes.plot(kind='bar', color=['skyblue', 'salmon'])\n",
    "plt.title('Distribution of Liberalism vs Conservative News')\n",
    "plt.xlabel('liberalism_conservative')\n",
    "plt.ylabel('count')\n",
    "plt.xticks(ticks=[0, 1], labels=['Conservative (0)', 'Liberalism (1)'])\n",
    "plt.show()"
   ]
  },
  {
   "cell_type": "markdown",
   "metadata": {
    "id": "rnHK1XSonkr7"
   },
   "source": [
    "### Median and mean word count\n"
   ]
  },
  {
   "cell_type": "code",
   "execution_count": 10,
   "metadata": {
    "colab": {
     "base_uri": "https://localhost:8080/"
    },
    "id": "y6jUw7bTnpdt",
    "outputId": "c0ea7670-55ab-40ec-f98d-23fbb390f57d"
   },
   "outputs": [
    {
     "data": {
      "text/plain": [
       "(332.0, 369.5)"
      ]
     },
     "execution_count": 10,
     "metadata": {},
     "output_type": "execute_result"
    }
   ],
   "source": [
    "# add a column for the word count\n",
    "df['text'] = df['title'] + ' ' + df['content']\n",
    "df['word_count'] = df['text'].apply(lambda x: len(str(x).split()))\n",
    "\n",
    "# calculate the median word count for each label\n",
    "median_word_count_label_0 = df[df['liberalism_conservative'] == 0]['word_count'].median()\n",
    "median_word_count_label_1 = df[df['liberalism_conservative'] == 1]['word_count'].median()\n",
    "\n",
    "median_word_count_label_0, median_word_count_label_1"
   ]
  },
  {
   "cell_type": "code",
   "execution_count": 11,
   "metadata": {
    "colab": {
     "base_uri": "https://localhost:8080/"
    },
    "id": "dzVNmixioEz-",
    "outputId": "47010b6e-26b0-45e6-c3c4-25e71d6c4570"
   },
   "outputs": [
    {
     "data": {
      "text/plain": [
       "(344.08616187989554, 422.8022222222222)"
      ]
     },
     "execution_count": 11,
     "metadata": {},
     "output_type": "execute_result"
    }
   ],
   "source": [
    "# calculate the median word count for each label\n",
    "mean_word_count_label_0 = df[df['liberalism_conservative'] == 0]['word_count'].mean()\n",
    "mean_word_count_label_1 = df[df['liberalism_conservative'] == 1]['word_count'].mean()\n",
    "\n",
    "mean_word_count_label_0, mean_word_count_label_1"
   ]
  },
  {
   "cell_type": "code",
   "execution_count": 13,
   "metadata": {
    "colab": {
     "base_uri": "https://localhost:8080/",
     "height": 408
    },
    "id": "HlfOz8pbN28z",
    "outputId": "5995e59b-6b76-4d57-92ad-fd96043c11bc"
   },
   "outputs": [
    {
     "data": {
      "image/png": "[encoded data removed]",
      "text/plain": [
       "<Figure size 1000x400 with 2 Axes>"
      ]
     },
     "metadata": {},
     "output_type": "display_data"
    }
   ],
   "source": [
    "# plot word count\n",
    "fig, (libr, cons) = plt.subplots(1, 2, figsize=(10, 4))\n",
    "\n",
    "libr_words = df[df['liberalism_conservative'] == 1]['word_count']\n",
    "cons_words = df[df['liberalism_conservative'] == 0]['word_count']\n",
    "\n",
    "libr.hist(libr_words, color='skyblue')\n",
    "cons.hist(cons_words, color='salmon')\n",
    "\n",
    "libr.set_title('Liberalism')\n",
    "cons.set_title('Conservative')\n",
    "\n",
    "fig.suptitle('Words per news articles')\n",
    "plt.show()"
   ]
  },
  {
   "cell_type": "markdown",
   "metadata": {
    "id": "bd7Aoxt9YfNf"
   },
   "source": [
    "# Data Preprocessing"
   ]
  },
  {
   "cell_type": "markdown",
   "metadata": {
    "id": "CgicrdTPvAOM"
   },
   "source": [
    "## Stopword removal and lemmatization"
   ]
  },
  {
   "cell_type": "code",
   "execution_count": 14,
   "metadata": {
    "id": "PAxihefovENa"
   },
   "outputs": [],
   "source": [
    "# create sastrawi stopword\n",
    "stopword_factory = StopWordRemoverFactory()\n",
    "stopword = stopword_factory.create_stop_word_remover()\n",
    "\n",
    "# create sastrawi stemmer\n",
    "stemmer_factory = StemmerFactory()\n",
    "stemmer = stemmer_factory.create_stemmer()"
   ]
  },
  {
   "cell_type": "code",
   "execution_count": 16,
   "metadata": {
    "id": "GbeK0O8RvT3K"
   },
   "outputs": [],
   "source": [
    "# functions for cleaning, removing stopwords\n",
    "def preprocess_text(text):\n",
    "    text = str(text)\n",
    "\n",
    "    # change text to lowercase\n",
    "    text = text.lower()\n",
    "\n",
    "    # change link with http/https patterns\n",
    "    text = re.sub(r'http\\S+', '', text)\n",
    "\n",
    "    # remove hashtag and username\n",
    "    text = re.sub(r'(@\\w+|#\\w+)', '', text)\n",
    "\n",
    "    # remove character other than a-z and A-Z\n",
    "    text = re.sub(r'[^a-zA-Z\\s]', ' ', text)\n",
    "\n",
    "    # replace new line '\\n' with space\n",
    "    text = re.sub(r'\\n', ' ', text)\n",
    "    text = re.sub(r'\\t', ' ', text)\n",
    "\n",
    "    # remove stopword with sastrawi library\n",
    "    text = stopword.remove(text)\n",
    "\n",
    "    # do stemming with sastrawi library\n",
    "    text = stemmer.stem(text)\n",
    "\n",
    "    # removing more than one space\n",
    "    text = re.sub(r'\\s{2,}', ' ', text)\n",
    "\n",
    "    return text"
   ]
  },
  {
   "cell_type": "code",
   "execution_count": 17,
   "metadata": {
    "colab": {
     "base_uri": "https://localhost:8080/",
     "height": 49,
     "referenced_widgets": [
      "a37e96279593497b8c72abe6d2d97da2",
      "5d706f33a2f34718a13f6d59a603ef91",
      "dc35a65e233144b88d9b8e07b08fade4",
      "bb3c65296c6948abac55189d5fc871ca",
      "5fb3001377f846c59bbab9a5d1991a7b",
      "85ee7263b76740c28a2f87ea46b19c51",
      "16e69d6994c94bb3b84a8874efbacbdc",
      "0cdd2e616ce040eca2247810c0f69fb7",
      "58e302499d504d328fa6452800604255",
      "467a86232eb346688d4ee81eedf74f74",
      "f1e047b5922748bf8395e13617077cd5"
     ]
    },
    "id": "TQAIjkWNvihw",
    "outputId": "1f6799de-6fe5-443e-d6b8-bbd0cddd6997"
   },
   "outputs": [
    {
     "data": {
      "application/vnd.jupyter.widget-view+json": {
       "model_id": "a37e96279593497b8c72abe6d2d97da2",
       "version_major": 2,
       "version_minor": 0
      },
      "text/plain": [
       "Pandas Apply:   0%|          | 0/833 [00:00<?, ?it/s]"
      ]
     },
     "metadata": {},
     "output_type": "display_data"
    }
   ],
   "source": [
    "# text preprocessing\n",
    "df['text'] = df['text'].swifter.apply(preprocess_text)"
   ]
  },
  {
   "cell_type": "markdown",
   "metadata": {
    "id": "Ruxm5fW_vsRH"
   },
   "source": [
    "## Save text preprocessing result"
   ]
  },
  {
   "cell_type": "code",
   "execution_count": 18,
   "metadata": {
    "id": "ZsKt94rbvtHA"
   },
   "outputs": [],
   "source": [
    "# save data preprocessing result\n",
    "df.to_csv(\"dataset-talas-preprocess-830.csv\", index=False)\n",
    "df.to_json(\"dataset-talas-preprocess-830.json\")"
   ]
  },
  {
   "cell_type": "code",
   "execution_count": 19,
   "metadata": {
    "colab": {
     "base_uri": "https://localhost:8080/",
     "height": 17
    },
    "id": "NRbmmzzUL_Tf",
    "outputId": "8ccd4fef-6c55-4ebb-d518-7313f2f3464f"
   },
   "outputs": [
    {
     "data": {
      "application/javascript": "\n    async function download(id, filename, size) {\n      if (!google.colab.kernel.accessAllowed) {\n        return;\n      }\n      const div = document.createElement('div');\n      const label = document.createElement('label');\n      label.textContent = `Downloading \"${filename}\": `;\n      div.appendChild(label);\n      const progress = document.createElement('progress');\n      progress.max = size;\n      div.appendChild(progress);\n      document.body.appendChild(div);\n\n      const buffers = [];\n      let downloaded = 0;\n\n      const channel = await google.colab.kernel.comms.open(id);\n      // Send a message to notify the kernel that we're ready.\n      channel.send({})\n\n      for await (const message of channel.messages) {\n        // Send a message to notify the kernel that we're ready.\n        channel.send({})\n        if (message.buffers) {\n          for (const buffer of message.buffers) {\n            buffers.push(buffer);\n            downloaded += buffer.byteLength;\n            progress.value = downloaded;\n          }\n        }\n      }\n      const blob = new Blob(buffers, {type: 'application/binary'});\n      const a = document.createElement('a');\n      a.href = window.URL.createObjectURL(blob);\n      a.download = filename;\n      div.appendChild(a);\n      a.click();\n      div.remove();\n    }\n  ",
      "text/plain": [
       "<IPython.core.display.Javascript object>"
      ]
     },
     "metadata": {},
     "output_type": "display_data"
    },
    {
     "data": {
      "application/javascript": "download(\"download_7402413b-819f-4e70-81b2-066292d6bac8\", \"dataset-talas-preprocess-830.csv\", 4208796)",
      "text/plain": [
       "<IPython.core.display.Javascript object>"
      ]
     },
     "metadata": {},
     "output_type": "display_data"
    },
    {
     "data": {
      "application/javascript": "\n    async function download(id, filename, size) {\n      if (!google.colab.kernel.accessAllowed) {\n        return;\n      }\n      const div = document.createElement('div');\n      const label = document.createElement('label');\n      label.textContent = `Downloading \"${filename}\": `;\n      div.appendChild(label);\n      const progress = document.createElement('progress');\n      progress.max = size;\n      div.appendChild(progress);\n      document.body.appendChild(div);\n\n      const buffers = [];\n      let downloaded = 0;\n\n      const channel = await google.colab.kernel.comms.open(id);\n      // Send a message to notify the kernel that we're ready.\n      channel.send({})\n\n      for await (const message of channel.messages) {\n        // Send a message to notify the kernel that we're ready.\n        channel.send({})\n        if (message.buffers) {\n          for (const buffer of message.buffers) {\n            buffers.push(buffer);\n            downloaded += buffer.byteLength;\n            progress.value = downloaded;\n          }\n        }\n      }\n      const blob = new Blob(buffers, {type: 'application/binary'});\n      const a = document.createElement('a');\n      a.href = window.URL.createObjectURL(blob);\n      a.download = filename;\n      div.appendChild(a);\n      a.click();\n      div.remove();\n    }\n  ",
      "text/plain": [
       "<IPython.core.display.Javascript object>"
      ]
     },
     "metadata": {},
     "output_type": "display_data"
    },
    {
     "data": {
      "application/javascript": "download(\"download_c2f891e3-c700-4100-8454-92b81349e5eb\", \"dataset-talas-preprocess-830.json\", 4288923)",
      "text/plain": [
       "<IPython.core.display.Javascript object>"
      ]
     },
     "metadata": {},
     "output_type": "display_data"
    }
   ],
   "source": [
    "files.download(\"dataset-talas-preprocess-830.csv\")\n",
    "files.download(\"dataset-talas-preprocess-830.json\")"
   ]
  },
  {
   "cell_type": "code",
   "execution_count": null,
   "metadata": {
    "id": "-VAxa_V9RfhT"
   },
   "outputs": [],
   "source": [
    "df = pd.read_json(\"https://raw.githubusercontent.com/tantowjy/news-classification/main/dataset/talas-preprocessing/dataset-talas-preprocess-830.json\")"
   ]
  },
  {
   "cell_type": "markdown",
   "metadata": {
    "id": "WEnIoLzkNNp-"
   },
   "source": [
    "## Check median and mean word count after preprocessing"
   ]
  },
  {
   "cell_type": "code",
   "execution_count": 20,
   "metadata": {
    "colab": {
     "base_uri": "https://localhost:8080/"
    },
    "id": "W236k3J3NkQm",
    "outputId": "1e4ab159-b558-438d-a746-52f8128a4440"
   },
   "outputs": [
    {
     "data": {
      "text/plain": [
       "(269.0, 287.0)"
      ]
     },
     "execution_count": 20,
     "metadata": {},
     "output_type": "execute_result"
    }
   ],
   "source": [
    "# add a column for the word count\n",
    "df['word_count'] = df['text'].apply(lambda x: len(str(x).split()))\n",
    "\n",
    "# calculate the median word count for each label\n",
    "median_word_count_label_0 = df[df['liberalism_conservative'] == 0]['word_count'].median()\n",
    "median_word_count_label_1 = df[df['liberalism_conservative'] == 1]['word_count'].median()\n",
    "\n",
    "median_word_count_label_0, median_word_count_label_1"
   ]
  },
  {
   "cell_type": "code",
   "execution_count": 21,
   "metadata": {
    "colab": {
     "base_uri": "https://localhost:8080/"
    },
    "id": "9aLXjn3oiD7d",
    "outputId": "b579f6b7-261a-476d-b98a-cb2ac07a8def"
   },
   "outputs": [
    {
     "data": {
      "text/plain": [
       "(277.23498694516974, 329.5711111111111)"
      ]
     },
     "execution_count": 21,
     "metadata": {},
     "output_type": "execute_result"
    }
   ],
   "source": [
    "# calculate the median word count for each label\n",
    "mean_word_count_label_0 = df[df['liberalism_conservative'] == 0]['word_count'].mean()\n",
    "mean_word_count_label_1 = df[df['liberalism_conservative'] == 1]['word_count'].mean()\n",
    "\n",
    "mean_word_count_label_0, mean_word_count_label_1"
   ]
  },
  {
   "cell_type": "markdown",
   "metadata": {
    "id": "jhRoThcNigoy"
   },
   "source": [
    "# Create Model Liberalism vs Conservative"
   ]
  },
  {
   "cell_type": "markdown",
   "metadata": {
    "id": "52UgY6arg2ua"
   },
   "source": [
    "## Split the datasets"
   ]
  },
  {
   "cell_type": "code",
   "execution_count": 22,
   "metadata": {
    "id": "iphuPD93PEPb"
   },
   "outputs": [],
   "source": [
    "# separating features and labels\n",
    "X = df['text'].values\n",
    "y = df['liberalism_conservative'].values"
   ]
  },
  {
   "cell_type": "code",
   "execution_count": 23,
   "metadata": {
    "id": "KpbX_0P8g1ef"
   },
   "outputs": [],
   "source": [
    "# Split the dataset into training and testing data\n",
    "X_train, X_test, y_train, y_test = train_test_split(X, y, test_size=0.2, random_state=42)"
   ]
  },
  {
   "cell_type": "markdown",
   "metadata": {
    "id": "4G-DUjm5Mmkx"
   },
   "source": [
    "## Baseline model with Scikit-Learn"
   ]
  },
  {
   "cell_type": "code",
   "execution_count": 24,
   "metadata": {
    "colab": {
     "base_uri": "https://localhost:8080/",
     "height": 1000
    },
    "id": "_SyP9VfqMmEm",
    "outputId": "f5957087-b2ea-40ed-eef7-2a546144b81e"
   },
   "outputs": [
    {
     "name": "stdout",
     "output_type": "stream",
     "text": [
      "Logistic Regression: 0.85\n",
      "Support Vector Machine: 0.88\n",
      "K-Nearest Neighbors: 0.80\n",
      "Decision Tree: 0.82\n",
      "Random Forest: 0.89\n",
      "Gradient Boosting: 0.89\n"
     ]
    },
    {
     "data": {
      "image/png": "[encoded data removed]",
      "text/plain": [
       "<Figure size 1200x1800 with 12 Axes>"
      ]
     },
     "metadata": {},
     "output_type": "display_data"
    }
   ],
   "source": [
    "from sklearn.feature_extraction.text import TfidfVectorizer\n",
    "from sklearn.pipeline import Pipeline\n",
    "\n",
    "# initialize classifiers\n",
    "classifiers = {\n",
    "    \"Logistic Regression\": LogisticRegression(max_iter=10000),\n",
    "    \"Support Vector Machine\": SVC(),\n",
    "    \"K-Nearest Neighbors\": KNeighborsClassifier(),\n",
    "    \"Decision Tree\": DecisionTreeClassifier(),\n",
    "    \"Random Forest\": RandomForestClassifier(),\n",
    "    \"Gradient Boosting\": GradientBoostingClassifier(),\n",
    "}\n",
    "\n",
    "# create a pipeline for each classifier\n",
    "pipelines = {name: Pipeline([('tfidf', TfidfVectorizer()), ('clf', clf)]) for name, clf in classifiers.items()}\n",
    "\n",
    "# train and evaluate classifiers\n",
    "n_classifiers = len(pipelines)\n",
    "n_cols = 2\n",
    "n_rows = (n_classifiers + n_cols - 1) // n_cols\n",
    "\n",
    "fig, axes = plt.subplots(n_rows, n_cols, figsize=(12, 6*n_rows))\n",
    "axes = axes.flatten()\n",
    "\n",
    "for idx, (name, pipeline) in enumerate(pipelines.items()):\n",
    "    pipeline.fit(X_train, y_train)\n",
    "    y_pred = pipeline.predict(X_test)\n",
    "\n",
    "    # calculate accuracy\n",
    "    accuracy = accuracy_score(y_test, y_pred)\n",
    "    print(f\"{name}: {accuracy:.2f}\")\n",
    "\n",
    "    # compute confusion matrix\n",
    "    cm = confusion_matrix(y_test, y_pred)\n",
    "\n",
    "    # plot confusion matrix\n",
    "    sns.heatmap(cm, annot=True, fmt='d', cmap='Blues', xticklabels=['conservative', 'liberalism'], yticklabels=['conservative', 'liberalism'], ax=axes[idx])\n",
    "    axes[idx].set_title(f\"Confusion Matrix: {name}\")\n",
    "    axes[idx].set_xlabel('Predicted')\n",
    "    axes[idx].set_ylabel('Actual')\n",
    "\n",
    "# hide any remaining empty subplots\n",
    "for j in range(idx + 1, n_rows * n_cols):\n",
    "    fig.delaxes(axes[j])\n",
    "\n",
    "plt.tight_layout()\n",
    "plt.show()"
   ]
  },
  {
   "cell_type": "markdown",
   "metadata": {
    "id": "ZUUkANcBPB-d"
   },
   "source": [
    "## Create Tokenizer"
   ]
  },
  {
   "cell_type": "code",
   "execution_count": 25,
   "metadata": {
    "id": "aVqMreI3gaq5"
   },
   "outputs": [],
   "source": [
    "vocab_size = 10000\n",
    "char_vocab_size = 50\n",
    "embedding_dim = 128\n",
    "char_embedding_dim = 50\n",
    "max_length = 100\n",
    "max_char_length = 200\n",
    "trunc_type = 'post'\n",
    "padding_type = 'post'\n",
    "oov_tok = \"<OOV>\""
   ]
  },
  {
   "cell_type": "code",
   "execution_count": 26,
   "metadata": {
    "id": "JZVab1sugfJy"
   },
   "outputs": [],
   "source": [
    "# Create tokenizer\n",
    "tokenizer = Tokenizer(num_words=vocab_size, oov_token=oov_tok)\n",
    "tokenizer.fit_on_texts(X_train)\n",
    "\n",
    "# Converting text to numeric squences\n",
    "train_sequences = tokenizer.texts_to_sequences(X_train)\n",
    "test_sequences = tokenizer.texts_to_sequences(X_test)\n",
    "\n",
    "# Padding the squences\n",
    "padded_train_sequences = pad_sequences(train_sequences, maxlen=max_length, padding=padding_type, truncating=trunc_type)\n",
    "padded_test_sequences = pad_sequences(test_sequences, maxlen=max_length, padding=padding_type, truncating=trunc_type)\n",
    "\n",
    "# Create tokenizer for characters\n",
    "char_tokenizer = Tokenizer(char_level=True)\n",
    "char_tokenizer.fit_on_texts(X_train)\n",
    "\n",
    "# Converting text to numeric sequences of characters\n",
    "train_char_sequences = char_tokenizer.texts_to_sequences(X_train)\n",
    "test_char_sequences = char_tokenizer.texts_to_sequences(X_test)\n",
    "\n",
    "# Padding the sequences\n",
    "padded_train_char_sequences = pad_sequences(train_char_sequences, maxlen=max_char_length, padding=padding_type, truncating=trunc_type)\n",
    "padded_test_char_sequences = pad_sequences(test_char_sequences, maxlen=max_char_length, padding=padding_type, truncating=trunc_type)\n",
    "\n",
    "# Ensure input shapes are tensors\n",
    "padded_train_sequences = tf.constant(padded_train_sequences)\n",
    "padded_test_sequences = tf.constant(padded_test_sequences)\n",
    "padded_train_char_sequences = tf.constant(padded_train_char_sequences)\n",
    "padded_test_char_sequences = tf.constant(padded_test_char_sequences)"
   ]
  },
  {
   "cell_type": "markdown",
   "metadata": {
    "id": "DF9cosaMknif"
   },
   "source": [
    "## Import library"
   ]
  },
  {
   "cell_type": "code",
   "execution_count": 27,
   "metadata": {
    "id": "ObvAIUY4kq5U"
   },
   "outputs": [],
   "source": [
    "from tensorflow.keras.models import Sequential, Model\n",
    "from tensorflow.keras.layers import Embedding, LSTM, Dense, Dropout, Bidirectional\n",
    "from tensorflow.keras.layers import GlobalAveragePooling1D, BatchNormalization, MaxPooling1D\n",
    "from tensorflow.keras.layers import Flatten, GlobalMaxPool1D, SpatialDropout1D, Conv1D\n",
    "from tensorflow.keras.layers import Input, Concatenate, Attention, Reshape, Layer\n",
    "from tensorflow.keras.callbacks import EarlyStopping, ModelCheckpoint, ReduceLROnPlateau\n",
    "from keras.optimizers import Adam, RMSprop\n",
    "from tensorflow.keras.regularizers import l2, l1_l2"
   ]
  },
  {
   "cell_type": "markdown",
   "metadata": {
    "id": "Vih9xxXcoq9h"
   },
   "source": [
    "## Model A"
   ]
  },
  {
   "cell_type": "code",
   "execution_count": 28,
   "metadata": {
    "id": "qmV2WChsoq9h"
   },
   "outputs": [],
   "source": [
    "# create model A\n",
    "model_A = Sequential()\n",
    "model_A.add(Embedding(input_dim=vocab_size, output_dim=embedding_dim))\n",
    "model_A.add(GlobalAveragePooling1D())\n",
    "# model_A.add(Dense(16, activation='relu', kernel_regularizer=l1_l2(l1=0.0001, l2=0.0001)))\n",
    "# model_A.add(BatchNormalization())\n",
    "model_A.add(Dropout(0.35))\n",
    "model_A.add(Dense(8, activation='relu'))\n",
    "# model_A.add(Dense(6, activation='relu'))\n",
    "# model_A.add(BatchNormalization())\n",
    "model_A.add(Dropout(0.35))\n",
    "model_A.add(Dense(1, activation='sigmoid'))"
   ]
  },
  {
   "cell_type": "code",
   "execution_count": 29,
   "metadata": {
    "colab": {
     "base_uri": "https://localhost:8080/"
    },
    "id": "ZiW8fFMsoq9i",
    "outputId": "9125339e-766a-4d38-8ffc-844c1888c1ce"
   },
   "outputs": [
    {
     "name": "stdout",
     "output_type": "stream",
     "text": [
      "Epoch 1/300\n",
      "\u001b[1m11/11\u001b[0m \u001b[32m━━━━━━━━━━━━━━━━━━━━\u001b[0m\u001b[37m\u001b[0m \u001b[1m3s\u001b[0m 59ms/step - accuracy: 0.4721 - loss: 0.6934 - val_accuracy: 0.5509 - val_loss: 0.6924\n",
      "Epoch 2/300\n",
      "\u001b[1m11/11\u001b[0m \u001b[32m━━━━━━━━━━━━━━━━━━━━\u001b[0m\u001b[37m\u001b[0m \u001b[1m1s\u001b[0m 19ms/step - accuracy: 0.5612 - loss: 0.6925 - val_accuracy: 0.7485 - val_loss: 0.6912\n",
      "Epoch 3/300\n",
      "\u001b[1m11/11\u001b[0m \u001b[32m━━━━━━━━━━━━━━━━━━━━\u001b[0m\u001b[37m\u001b[0m \u001b[1m0s\u001b[0m 22ms/step - accuracy: 0.6618 - loss: 0.6907 - val_accuracy: 0.7904 - val_loss: 0.6897\n",
      "Epoch 4/300\n",
      "\u001b[1m11/11\u001b[0m \u001b[32m━━━━━━━━━━━━━━━━━━━━\u001b[0m\u001b[37m\u001b[0m \u001b[1m0s\u001b[0m 21ms/step - accuracy: 0.7395 - loss: 0.6887 - val_accuracy: 0.8024 - val_loss: 0.6879\n",
      "Epoch 5/300\n",
      "\u001b[1m11/11\u001b[0m \u001b[32m━━━━━━━━━━━━━━━━━━━━\u001b[0m\u001b[37m\u001b[0m \u001b[1m0s\u001b[0m 21ms/step - accuracy: 0.7415 - loss: 0.6866 - val_accuracy: 0.8383 - val_loss: 0.6858\n",
      "Epoch 6/300\n",
      "\u001b[1m11/11\u001b[0m \u001b[32m━━━━━━━━━━━━━━━━━━━━\u001b[0m\u001b[37m\u001b[0m \u001b[1m0s\u001b[0m 20ms/step - accuracy: 0.7408 - loss: 0.6842 - val_accuracy: 0.8323 - val_loss: 0.6838\n",
      "Epoch 7/300\n",
      "\u001b[1m11/11\u001b[0m \u001b[32m━━━━━━━━━━━━━━━━━━━━\u001b[0m\u001b[37m\u001b[0m \u001b[1m0s\u001b[0m 18ms/step - accuracy: 0.7552 - loss: 0.6813 - val_accuracy: 0.8323 - val_loss: 0.6818\n",
      "Epoch 8/300\n",
      "\u001b[1m11/11\u001b[0m \u001b[32m━━━━━━━━━━━━━━━━━━━━\u001b[0m\u001b[37m\u001b[0m \u001b[1m0s\u001b[0m 19ms/step - accuracy: 0.7917 - loss: 0.6778 - val_accuracy: 0.8263 - val_loss: 0.6797\n",
      "Epoch 9/300\n",
      "\u001b[1m11/11\u001b[0m \u001b[32m━━━━━━━━━━━━━━━━━━━━\u001b[0m\u001b[37m\u001b[0m \u001b[1m0s\u001b[0m 20ms/step - accuracy: 0.7886 - loss: 0.6775 - val_accuracy: 0.8263 - val_loss: 0.6777\n",
      "Epoch 10/300\n",
      "\u001b[1m11/11\u001b[0m \u001b[32m━━━━━━━━━━━━━━━━━━━━\u001b[0m\u001b[37m\u001b[0m \u001b[1m0s\u001b[0m 21ms/step - accuracy: 0.8081 - loss: 0.6727 - val_accuracy: 0.8263 - val_loss: 0.6754\n",
      "Epoch 11/300\n",
      "\u001b[1m11/11\u001b[0m \u001b[32m━━━━━━━━━━━━━━━━━━━━\u001b[0m\u001b[37m\u001b[0m \u001b[1m0s\u001b[0m 20ms/step - accuracy: 0.7902 - loss: 0.6698 - val_accuracy: 0.8263 - val_loss: 0.6732\n",
      "Epoch 12/300\n",
      "\u001b[1m11/11\u001b[0m \u001b[32m━━━━━━━━━━━━━━━━━━━━\u001b[0m\u001b[37m\u001b[0m \u001b[1m0s\u001b[0m 20ms/step - accuracy: 0.8170 - loss: 0.6665 - val_accuracy: 0.8204 - val_loss: 0.6708\n",
      "Epoch 13/300\n",
      "\u001b[1m11/11\u001b[0m \u001b[32m━━━━━━━━━━━━━━━━━━━━\u001b[0m\u001b[37m\u001b[0m \u001b[1m0s\u001b[0m 21ms/step - accuracy: 0.8059 - loss: 0.6613 - val_accuracy: 0.8144 - val_loss: 0.6683\n",
      "Epoch 14/300\n",
      "\u001b[1m11/11\u001b[0m \u001b[32m━━━━━━━━━━━━━━━━━━━━\u001b[0m\u001b[37m\u001b[0m \u001b[1m0s\u001b[0m 19ms/step - accuracy: 0.8167 - loss: 0.6578 - val_accuracy: 0.8144 - val_loss: 0.6657\n",
      "Epoch 15/300\n",
      "\u001b[1m11/11\u001b[0m \u001b[32m━━━━━━━━━━━━━━━━━━━━\u001b[0m\u001b[37m\u001b[0m \u001b[1m0s\u001b[0m 22ms/step - accuracy: 0.8239 - loss: 0.6579 - val_accuracy: 0.8144 - val_loss: 0.6631\n",
      "Epoch 16/300\n",
      "\u001b[1m11/11\u001b[0m \u001b[32m━━━━━━━━━━━━━━━━━━━━\u001b[0m\u001b[37m\u001b[0m \u001b[1m0s\u001b[0m 20ms/step - accuracy: 0.7993 - loss: 0.6486 - val_accuracy: 0.8144 - val_loss: 0.6603\n",
      "Epoch 17/300\n",
      "\u001b[1m11/11\u001b[0m \u001b[32m━━━━━━━━━━━━━━━━━━━━\u001b[0m\u001b[37m\u001b[0m \u001b[1m0s\u001b[0m 22ms/step - accuracy: 0.8434 - loss: 0.6501 - val_accuracy: 0.8144 - val_loss: 0.6576\n",
      "Epoch 18/300\n",
      "\u001b[1m11/11\u001b[0m \u001b[32m━━━━━━━━━━━━━━━━━━━━\u001b[0m\u001b[37m\u001b[0m \u001b[1m0s\u001b[0m 20ms/step - accuracy: 0.8286 - loss: 0.6436 - val_accuracy: 0.8084 - val_loss: 0.6548\n",
      "Epoch 19/300\n",
      "\u001b[1m11/11\u001b[0m \u001b[32m━━━━━━━━━━━━━━━━━━━━\u001b[0m\u001b[37m\u001b[0m \u001b[1m0s\u001b[0m 20ms/step - accuracy: 0.8558 - loss: 0.6400 - val_accuracy: 0.8084 - val_loss: 0.6520\n",
      "Epoch 20/300\n",
      "\u001b[1m11/11\u001b[0m \u001b[32m━━━━━━━━━━━━━━━━━━━━\u001b[0m\u001b[37m\u001b[0m \u001b[1m0s\u001b[0m 19ms/step - accuracy: 0.8343 - loss: 0.6340 - val_accuracy: 0.8144 - val_loss: 0.6490\n",
      "Epoch 21/300\n",
      "\u001b[1m11/11\u001b[0m \u001b[32m━━━━━━━━━━━━━━━━━━━━\u001b[0m\u001b[37m\u001b[0m \u001b[1m0s\u001b[0m 20ms/step - accuracy: 0.8502 - loss: 0.6293 - val_accuracy: 0.8144 - val_loss: 0.6461\n",
      "Epoch 22/300\n",
      "\u001b[1m11/11\u001b[0m \u001b[32m━━━━━━━━━━━━━━━━━━━━\u001b[0m\u001b[37m\u001b[0m \u001b[1m0s\u001b[0m 21ms/step - accuracy: 0.8566 - loss: 0.6301 - val_accuracy: 0.8084 - val_loss: 0.6432\n",
      "Epoch 23/300\n",
      "\u001b[1m11/11\u001b[0m \u001b[32m━━━━━━━━━━━━━━━━━━━━\u001b[0m\u001b[37m\u001b[0m \u001b[1m0s\u001b[0m 22ms/step - accuracy: 0.8251 - loss: 0.6251 - val_accuracy: 0.8084 - val_loss: 0.6401\n",
      "Epoch 24/300\n",
      "\u001b[1m11/11\u001b[0m \u001b[32m━━━━━━━━━━━━━━━━━━━━\u001b[0m\u001b[37m\u001b[0m \u001b[1m0s\u001b[0m 23ms/step - accuracy: 0.8457 - loss: 0.6241 - val_accuracy: 0.8144 - val_loss: 0.6369\n",
      "Epoch 25/300\n",
      "\u001b[1m11/11\u001b[0m \u001b[32m━━━━━━━━━━━━━━━━━━━━\u001b[0m\u001b[37m\u001b[0m \u001b[1m0s\u001b[0m 19ms/step - accuracy: 0.8431 - loss: 0.6206 - val_accuracy: 0.8144 - val_loss: 0.6339\n",
      "Epoch 26/300\n",
      "\u001b[1m11/11\u001b[0m \u001b[32m━━━━━━━━━━━━━━━━━━━━\u001b[0m\u001b[37m\u001b[0m \u001b[1m0s\u001b[0m 18ms/step - accuracy: 0.8768 - loss: 0.6064 - val_accuracy: 0.8144 - val_loss: 0.6307\n",
      "Epoch 27/300\n",
      "\u001b[1m11/11\u001b[0m \u001b[32m━━━━━━━━━━━━━━━━━━━━\u001b[0m\u001b[37m\u001b[0m \u001b[1m0s\u001b[0m 20ms/step - accuracy: 0.8501 - loss: 0.6087 - val_accuracy: 0.8144 - val_loss: 0.6276\n",
      "Epoch 28/300\n",
      "\u001b[1m11/11\u001b[0m \u001b[32m━━━━━━━━━━━━━━━━━━━━\u001b[0m\u001b[37m\u001b[0m \u001b[1m0s\u001b[0m 18ms/step - accuracy: 0.8595 - loss: 0.6037 - val_accuracy: 0.8144 - val_loss: 0.6243\n",
      "Epoch 29/300\n",
      "\u001b[1m11/11\u001b[0m \u001b[32m━━━━━━━━━━━━━━━━━━━━\u001b[0m\u001b[37m\u001b[0m \u001b[1m0s\u001b[0m 21ms/step - accuracy: 0.8816 - loss: 0.5968 - val_accuracy: 0.8144 - val_loss: 0.6209\n",
      "Epoch 30/300\n",
      "\u001b[1m11/11\u001b[0m \u001b[32m━━━━━━━━━━━━━━━━━━━━\u001b[0m\u001b[37m\u001b[0m \u001b[1m0s\u001b[0m 21ms/step - accuracy: 0.8303 - loss: 0.5979 - val_accuracy: 0.8144 - val_loss: 0.6177\n",
      "Epoch 31/300\n",
      "\u001b[1m11/11\u001b[0m \u001b[32m━━━━━━━━━━━━━━━━━━━━\u001b[0m\u001b[37m\u001b[0m \u001b[1m0s\u001b[0m 23ms/step - accuracy: 0.8600 - loss: 0.5936 - val_accuracy: 0.8144 - val_loss: 0.6144\n",
      "Epoch 32/300\n",
      "\u001b[1m11/11\u001b[0m \u001b[32m━━━━━━━━━━━━━━━━━━━━\u001b[0m\u001b[37m\u001b[0m \u001b[1m0s\u001b[0m 21ms/step - accuracy: 0.8489 - loss: 0.5862 - val_accuracy: 0.8144 - val_loss: 0.6112\n",
      "Epoch 33/300\n",
      "\u001b[1m11/11\u001b[0m \u001b[32m━━━━━━━━━━━━━━━━━━━━\u001b[0m\u001b[37m\u001b[0m \u001b[1m0s\u001b[0m 20ms/step - accuracy: 0.9009 - loss: 0.5685 - val_accuracy: 0.8144 - val_loss: 0.6078\n",
      "Epoch 34/300\n",
      "\u001b[1m11/11\u001b[0m \u001b[32m━━━━━━━━━━━━━━━━━━━━\u001b[0m\u001b[37m\u001b[0m \u001b[1m0s\u001b[0m 18ms/step - accuracy: 0.8662 - loss: 0.5827 - val_accuracy: 0.8204 - val_loss: 0.6046\n",
      "Epoch 35/300\n",
      "\u001b[1m11/11\u001b[0m \u001b[32m━━━━━━━━━━━━━━━━━━━━\u001b[0m\u001b[37m\u001b[0m \u001b[1m0s\u001b[0m 32ms/step - accuracy: 0.8692 - loss: 0.5712 - val_accuracy: 0.8204 - val_loss: 0.6013\n",
      "Epoch 36/300\n",
      "\u001b[1m11/11\u001b[0m \u001b[32m━━━━━━━━━━━━━━━━━━━━\u001b[0m\u001b[37m\u001b[0m \u001b[1m1s\u001b[0m 26ms/step - accuracy: 0.8716 - loss: 0.5588 - val_accuracy: 0.8204 - val_loss: 0.5980\n",
      "Epoch 37/300\n",
      "\u001b[1m11/11\u001b[0m \u001b[32m━━━━━━━━━━━━━━━━━━━━\u001b[0m\u001b[37m\u001b[0m \u001b[1m1s\u001b[0m 31ms/step - accuracy: 0.8889 - loss: 0.5652 - val_accuracy: 0.8204 - val_loss: 0.5948\n",
      "Epoch 38/300\n",
      "\u001b[1m11/11\u001b[0m \u001b[32m━━━━━━━━━━━━━━━━━━━━\u001b[0m\u001b[37m\u001b[0m \u001b[1m0s\u001b[0m 27ms/step - accuracy: 0.8670 - loss: 0.5645 - val_accuracy: 0.8204 - val_loss: 0.5917\n",
      "Epoch 39/300\n",
      "\u001b[1m11/11\u001b[0m \u001b[32m━━━━━━━━━━━━━━━━━━━━\u001b[0m\u001b[37m\u001b[0m \u001b[1m0s\u001b[0m 35ms/step - accuracy: 0.8662 - loss: 0.5509 - val_accuracy: 0.8204 - val_loss: 0.5886\n",
      "Epoch 40/300\n",
      "\u001b[1m11/11\u001b[0m \u001b[32m━━━━━━━━━━━━━━━━━━━━\u001b[0m\u001b[37m\u001b[0m \u001b[1m0s\u001b[0m 26ms/step - accuracy: 0.9241 - loss: 0.5364 - val_accuracy: 0.8204 - val_loss: 0.5851\n",
      "Epoch 41/300\n",
      "\u001b[1m11/11\u001b[0m \u001b[32m━━━━━━━━━━━━━━━━━━━━\u001b[0m\u001b[37m\u001b[0m \u001b[1m0s\u001b[0m 31ms/step - accuracy: 0.8967 - loss: 0.5404 - val_accuracy: 0.8204 - val_loss: 0.5818\n",
      "Epoch 42/300\n",
      "\u001b[1m11/11\u001b[0m \u001b[32m━━━━━━━━━━━━━━━━━━━━\u001b[0m\u001b[37m\u001b[0m \u001b[1m1s\u001b[0m 33ms/step - accuracy: 0.8790 - loss: 0.5459 - val_accuracy: 0.8204 - val_loss: 0.5784\n",
      "Epoch 43/300\n",
      "\u001b[1m11/11\u001b[0m \u001b[32m━━━━━━━━━━━━━━━━━━━━\u001b[0m\u001b[37m\u001b[0m \u001b[1m0s\u001b[0m 22ms/step - accuracy: 0.8802 - loss: 0.5319 - val_accuracy: 0.8204 - val_loss: 0.5750\n",
      "Epoch 44/300\n",
      "\u001b[1m11/11\u001b[0m \u001b[32m━━━━━━━━━━━━━━━━━━━━\u001b[0m\u001b[37m\u001b[0m \u001b[1m0s\u001b[0m 19ms/step - accuracy: 0.8898 - loss: 0.5178 - val_accuracy: 0.8204 - val_loss: 0.5717\n",
      "Epoch 45/300\n",
      "\u001b[1m11/11\u001b[0m \u001b[32m━━━━━━━━━━━━━━━━━━━━\u001b[0m\u001b[37m\u001b[0m \u001b[1m0s\u001b[0m 19ms/step - accuracy: 0.8924 - loss: 0.5213 - val_accuracy: 0.8204 - val_loss: 0.5683\n",
      "Epoch 46/300\n",
      "\u001b[1m11/11\u001b[0m \u001b[32m━━━━━━━━━━━━━━━━━━━━\u001b[0m\u001b[37m\u001b[0m \u001b[1m0s\u001b[0m 20ms/step - accuracy: 0.8731 - loss: 0.5270 - val_accuracy: 0.8204 - val_loss: 0.5651\n",
      "Epoch 47/300\n",
      "\u001b[1m11/11\u001b[0m \u001b[32m━━━━━━━━━━━━━━━━━━━━\u001b[0m\u001b[37m\u001b[0m \u001b[1m0s\u001b[0m 22ms/step - accuracy: 0.8868 - loss: 0.5205 - val_accuracy: 0.8204 - val_loss: 0.5618\n",
      "Epoch 48/300\n",
      "\u001b[1m11/11\u001b[0m \u001b[32m━━━━━━━━━━━━━━━━━━━━\u001b[0m\u001b[37m\u001b[0m \u001b[1m0s\u001b[0m 19ms/step - accuracy: 0.9039 - loss: 0.5027 - val_accuracy: 0.8204 - val_loss: 0.5585\n",
      "Epoch 49/300\n",
      "\u001b[1m11/11\u001b[0m \u001b[32m━━━━━━━━━━━━━━━━━━━━\u001b[0m\u001b[37m\u001b[0m \u001b[1m0s\u001b[0m 19ms/step - accuracy: 0.8948 - loss: 0.5046 - val_accuracy: 0.8204 - val_loss: 0.5554\n",
      "Epoch 50/300\n",
      "\u001b[1m11/11\u001b[0m \u001b[32m━━━━━━━━━━━━━━━━━━━━\u001b[0m\u001b[37m\u001b[0m \u001b[1m0s\u001b[0m 21ms/step - accuracy: 0.8966 - loss: 0.4887 - val_accuracy: 0.8204 - val_loss: 0.5522\n",
      "Epoch 51/300\n",
      "\u001b[1m11/11\u001b[0m \u001b[32m━━━━━━━━━━━━━━━━━━━━\u001b[0m\u001b[37m\u001b[0m \u001b[1m0s\u001b[0m 18ms/step - accuracy: 0.8966 - loss: 0.5062 - val_accuracy: 0.8204 - val_loss: 0.5491\n",
      "Epoch 52/300\n",
      "\u001b[1m11/11\u001b[0m \u001b[32m━━━━━━━━━━━━━━━━━━━━\u001b[0m\u001b[37m\u001b[0m \u001b[1m0s\u001b[0m 19ms/step - accuracy: 0.9081 - loss: 0.4881 - val_accuracy: 0.8263 - val_loss: 0.5459\n",
      "Epoch 53/300\n",
      "\u001b[1m11/11\u001b[0m \u001b[32m━━━━━━━━━━━━━━━━━━━━\u001b[0m\u001b[37m\u001b[0m \u001b[1m0s\u001b[0m 20ms/step - accuracy: 0.9009 - loss: 0.4908 - val_accuracy: 0.8263 - val_loss: 0.5429\n",
      "Epoch 54/300\n",
      "\u001b[1m11/11\u001b[0m \u001b[32m━━━━━━━━━━━━━━━━━━━━\u001b[0m\u001b[37m\u001b[0m \u001b[1m0s\u001b[0m 20ms/step - accuracy: 0.9049 - loss: 0.4846 - val_accuracy: 0.8263 - val_loss: 0.5398\n",
      "Epoch 55/300\n",
      "\u001b[1m11/11\u001b[0m \u001b[32m━━━━━━━━━━━━━━━━━━━━\u001b[0m\u001b[37m\u001b[0m \u001b[1m0s\u001b[0m 21ms/step - accuracy: 0.9216 - loss: 0.4687 - val_accuracy: 0.8263 - val_loss: 0.5367\n",
      "Epoch 56/300\n",
      "\u001b[1m11/11\u001b[0m \u001b[32m━━━━━━━━━━━━━━━━━━━━\u001b[0m\u001b[37m\u001b[0m \u001b[1m0s\u001b[0m 20ms/step - accuracy: 0.9109 - loss: 0.4707 - val_accuracy: 0.8263 - val_loss: 0.5339\n",
      "Epoch 57/300\n",
      "\u001b[1m11/11\u001b[0m \u001b[32m━━━━━━━━━━━━━━━━━━━━\u001b[0m\u001b[37m\u001b[0m \u001b[1m0s\u001b[0m 21ms/step - accuracy: 0.9095 - loss: 0.4799 - val_accuracy: 0.8263 - val_loss: 0.5309\n",
      "Epoch 58/300\n",
      "\u001b[1m11/11\u001b[0m \u001b[32m━━━━━━━━━━━━━━━━━━━━\u001b[0m\u001b[37m\u001b[0m \u001b[1m0s\u001b[0m 25ms/step - accuracy: 0.8932 - loss: 0.4687 - val_accuracy: 0.8263 - val_loss: 0.5279\n",
      "Epoch 59/300\n",
      "\u001b[1m11/11\u001b[0m \u001b[32m━━━━━━━━━━━━━━━━━━━━\u001b[0m\u001b[37m\u001b[0m \u001b[1m0s\u001b[0m 19ms/step - accuracy: 0.9186 - loss: 0.4611 - val_accuracy: 0.8263 - val_loss: 0.5250\n",
      "Epoch 60/300\n",
      "\u001b[1m11/11\u001b[0m \u001b[32m━━━━━━━━━━━━━━━━━━━━\u001b[0m\u001b[37m\u001b[0m \u001b[1m0s\u001b[0m 18ms/step - accuracy: 0.9184 - loss: 0.4534 - val_accuracy: 0.8263 - val_loss: 0.5221\n",
      "Epoch 61/300\n",
      "\u001b[1m11/11\u001b[0m \u001b[32m━━━━━━━━━━━━━━━━━━━━\u001b[0m\u001b[37m\u001b[0m \u001b[1m0s\u001b[0m 22ms/step - accuracy: 0.9283 - loss: 0.4478 - val_accuracy: 0.8263 - val_loss: 0.5194\n",
      "Epoch 62/300\n",
      "\u001b[1m11/11\u001b[0m \u001b[32m━━━━━━━━━━━━━━━━━━━━\u001b[0m\u001b[37m\u001b[0m \u001b[1m0s\u001b[0m 20ms/step - accuracy: 0.9141 - loss: 0.4514 - val_accuracy: 0.8263 - val_loss: 0.5166\n",
      "Epoch 63/300\n",
      "\u001b[1m11/11\u001b[0m \u001b[32m━━━━━━━━━━━━━━━━━━━━\u001b[0m\u001b[37m\u001b[0m \u001b[1m0s\u001b[0m 20ms/step - accuracy: 0.9142 - loss: 0.4570 - val_accuracy: 0.8263 - val_loss: 0.5137\n",
      "Epoch 64/300\n",
      "\u001b[1m11/11\u001b[0m \u001b[32m━━━━━━━━━━━━━━━━━━━━\u001b[0m\u001b[37m\u001b[0m \u001b[1m0s\u001b[0m 20ms/step - accuracy: 0.9173 - loss: 0.4315 - val_accuracy: 0.8323 - val_loss: 0.5111\n",
      "Epoch 65/300\n",
      "\u001b[1m11/11\u001b[0m \u001b[32m━━━━━━━━━━━━━━━━━━━━\u001b[0m\u001b[37m\u001b[0m \u001b[1m0s\u001b[0m 23ms/step - accuracy: 0.9199 - loss: 0.4315 - val_accuracy: 0.8323 - val_loss: 0.5083\n",
      "Epoch 66/300\n",
      "\u001b[1m11/11\u001b[0m \u001b[32m━━━━━━━━━━━━━━━━━━━━\u001b[0m\u001b[37m\u001b[0m \u001b[1m0s\u001b[0m 19ms/step - accuracy: 0.9189 - loss: 0.4386 - val_accuracy: 0.8263 - val_loss: 0.5057\n",
      "Epoch 67/300\n",
      "\u001b[1m11/11\u001b[0m \u001b[32m━━━━━━━━━━━━━━━━━━━━\u001b[0m\u001b[37m\u001b[0m \u001b[1m0s\u001b[0m 21ms/step - accuracy: 0.9237 - loss: 0.4403 - val_accuracy: 0.8383 - val_loss: 0.5030\n",
      "Epoch 68/300\n",
      "\u001b[1m11/11\u001b[0m \u001b[32m━━━━━━━━━━━━━━━━━━━━\u001b[0m\u001b[37m\u001b[0m \u001b[1m0s\u001b[0m 19ms/step - accuracy: 0.9348 - loss: 0.4207 - val_accuracy: 0.8383 - val_loss: 0.5003\n",
      "Epoch 69/300\n",
      "\u001b[1m11/11\u001b[0m \u001b[32m━━━━━━━━━━━━━━━━━━━━\u001b[0m\u001b[37m\u001b[0m \u001b[1m0s\u001b[0m 26ms/step - accuracy: 0.8987 - loss: 0.4416 - val_accuracy: 0.8383 - val_loss: 0.4976\n",
      "Epoch 70/300\n",
      "\u001b[1m11/11\u001b[0m \u001b[32m━━━━━━━━━━━━━━━━━━━━\u001b[0m\u001b[37m\u001b[0m \u001b[1m0s\u001b[0m 21ms/step - accuracy: 0.9406 - loss: 0.4170 - val_accuracy: 0.8383 - val_loss: 0.4950\n",
      "Epoch 71/300\n",
      "\u001b[1m11/11\u001b[0m \u001b[32m━━━━━━━━━━━━━━━━━━━━\u001b[0m\u001b[37m\u001b[0m \u001b[1m0s\u001b[0m 19ms/step - accuracy: 0.9349 - loss: 0.4148 - val_accuracy: 0.8383 - val_loss: 0.4926\n",
      "Epoch 72/300\n",
      "\u001b[1m11/11\u001b[0m \u001b[32m━━━━━━━━━━━━━━━━━━━━\u001b[0m\u001b[37m\u001b[0m \u001b[1m0s\u001b[0m 19ms/step - accuracy: 0.9235 - loss: 0.4191 - val_accuracy: 0.8383 - val_loss: 0.4903\n",
      "Epoch 73/300\n",
      "\u001b[1m11/11\u001b[0m \u001b[32m━━━━━━━━━━━━━━━━━━━━\u001b[0m\u001b[37m\u001b[0m \u001b[1m0s\u001b[0m 26ms/step - accuracy: 0.9362 - loss: 0.3978 - val_accuracy: 0.8383 - val_loss: 0.4877\n",
      "Epoch 74/300\n",
      "\u001b[1m11/11\u001b[0m \u001b[32m━━━━━━━━━━━━━━━━━━━━\u001b[0m\u001b[37m\u001b[0m \u001b[1m0s\u001b[0m 19ms/step - accuracy: 0.9231 - loss: 0.4060 - val_accuracy: 0.8383 - val_loss: 0.4852\n",
      "Epoch 75/300\n",
      "\u001b[1m11/11\u001b[0m \u001b[32m━━━━━━━━━━━━━━━━━━━━\u001b[0m\u001b[37m\u001b[0m \u001b[1m0s\u001b[0m 21ms/step - accuracy: 0.9317 - loss: 0.4018 - val_accuracy: 0.8383 - val_loss: 0.4827\n",
      "Epoch 76/300\n",
      "\u001b[1m11/11\u001b[0m \u001b[32m━━━━━━━━━━━━━━━━━━━━\u001b[0m\u001b[37m\u001b[0m \u001b[1m0s\u001b[0m 20ms/step - accuracy: 0.9206 - loss: 0.3941 - val_accuracy: 0.8383 - val_loss: 0.4804\n",
      "Epoch 77/300\n",
      "\u001b[1m11/11\u001b[0m \u001b[32m━━━━━━━━━━━━━━━━━━━━\u001b[0m\u001b[37m\u001b[0m \u001b[1m0s\u001b[0m 18ms/step - accuracy: 0.9281 - loss: 0.3826 - val_accuracy: 0.8383 - val_loss: 0.4780\n",
      "Epoch 78/300\n",
      "\u001b[1m11/11\u001b[0m \u001b[32m━━━━━━━━━━━━━━━━━━━━\u001b[0m\u001b[37m\u001b[0m \u001b[1m0s\u001b[0m 21ms/step - accuracy: 0.9096 - loss: 0.3970 - val_accuracy: 0.8443 - val_loss: 0.4758\n",
      "Epoch 79/300\n",
      "\u001b[1m11/11\u001b[0m \u001b[32m━━━━━━━━━━━━━━━━━━━━\u001b[0m\u001b[37m\u001b[0m \u001b[1m0s\u001b[0m 27ms/step - accuracy: 0.9336 - loss: 0.3741 - val_accuracy: 0.8443 - val_loss: 0.4735\n",
      "Epoch 80/300\n",
      "\u001b[1m11/11\u001b[0m \u001b[32m━━━━━━━━━━━━━━━━━━━━\u001b[0m\u001b[37m\u001b[0m \u001b[1m1s\u001b[0m 30ms/step - accuracy: 0.9367 - loss: 0.3794 - val_accuracy: 0.8443 - val_loss: 0.4712\n",
      "Epoch 81/300\n",
      "\u001b[1m11/11\u001b[0m \u001b[32m━━━━━━━━━━━━━━━━━━━━\u001b[0m\u001b[37m\u001b[0m \u001b[1m1s\u001b[0m 32ms/step - accuracy: 0.9581 - loss: 0.3678 - val_accuracy: 0.8443 - val_loss: 0.4689\n",
      "Epoch 82/300\n",
      "\u001b[1m11/11\u001b[0m \u001b[32m━━━━━━━━━━━━━━━━━━━━\u001b[0m\u001b[37m\u001b[0m \u001b[1m0s\u001b[0m 32ms/step - accuracy: 0.9359 - loss: 0.3810 - val_accuracy: 0.8383 - val_loss: 0.4669\n",
      "Epoch 83/300\n",
      "\u001b[1m11/11\u001b[0m \u001b[32m━━━━━━━━━━━━━━━━━━━━\u001b[0m\u001b[37m\u001b[0m \u001b[1m1s\u001b[0m 33ms/step - accuracy: 0.9400 - loss: 0.3763 - val_accuracy: 0.8323 - val_loss: 0.4649\n",
      "Epoch 84/300\n",
      "\u001b[1m11/11\u001b[0m \u001b[32m━━━━━━━━━━━━━━━━━━━━\u001b[0m\u001b[37m\u001b[0m \u001b[1m1s\u001b[0m 29ms/step - accuracy: 0.9382 - loss: 0.3768 - val_accuracy: 0.8323 - val_loss: 0.4631\n",
      "Epoch 85/300\n",
      "\u001b[1m11/11\u001b[0m \u001b[32m━━━━━━━━━━━━━━━━━━━━\u001b[0m\u001b[37m\u001b[0m \u001b[1m1s\u001b[0m 20ms/step - accuracy: 0.9420 - loss: 0.3636 - val_accuracy: 0.8383 - val_loss: 0.4610\n",
      "Epoch 86/300\n",
      "\u001b[1m11/11\u001b[0m \u001b[32m━━━━━━━━━━━━━━━━━━━━\u001b[0m\u001b[37m\u001b[0m \u001b[1m0s\u001b[0m 20ms/step - accuracy: 0.9440 - loss: 0.3755 - val_accuracy: 0.8323 - val_loss: 0.4592\n",
      "Epoch 87/300\n",
      "\u001b[1m11/11\u001b[0m \u001b[32m━━━━━━━━━━━━━━━━━━━━\u001b[0m\u001b[37m\u001b[0m \u001b[1m0s\u001b[0m 19ms/step - accuracy: 0.9265 - loss: 0.3493 - val_accuracy: 0.8323 - val_loss: 0.4571\n",
      "Epoch 88/300\n",
      "\u001b[1m11/11\u001b[0m \u001b[32m━━━━━━━━━━━━━━━━━━━━\u001b[0m\u001b[37m\u001b[0m \u001b[1m0s\u001b[0m 20ms/step - accuracy: 0.9425 - loss: 0.3517 - val_accuracy: 0.8323 - val_loss: 0.4552\n",
      "Epoch 89/300\n",
      "\u001b[1m11/11\u001b[0m \u001b[32m━━━━━━━━━━━━━━━━━━━━\u001b[0m\u001b[37m\u001b[0m \u001b[1m0s\u001b[0m 20ms/step - accuracy: 0.9530 - loss: 0.3589 - val_accuracy: 0.8383 - val_loss: 0.4533\n",
      "Epoch 90/300\n",
      "\u001b[1m11/11\u001b[0m \u001b[32m━━━━━━━━━━━━━━━━━━━━\u001b[0m\u001b[37m\u001b[0m \u001b[1m0s\u001b[0m 19ms/step - accuracy: 0.9548 - loss: 0.3664 - val_accuracy: 0.8383 - val_loss: 0.4513\n",
      "Epoch 91/300\n",
      "\u001b[1m11/11\u001b[0m \u001b[32m━━━━━━━━━━━━━━━━━━━━\u001b[0m\u001b[37m\u001b[0m \u001b[1m0s\u001b[0m 19ms/step - accuracy: 0.9399 - loss: 0.3435 - val_accuracy: 0.8383 - val_loss: 0.4494\n",
      "Epoch 92/300\n",
      "\u001b[1m11/11\u001b[0m \u001b[32m━━━━━━━━━━━━━━━━━━━━\u001b[0m\u001b[37m\u001b[0m \u001b[1m0s\u001b[0m 20ms/step - accuracy: 0.9463 - loss: 0.3486 - val_accuracy: 0.8383 - val_loss: 0.4474\n",
      "Epoch 93/300\n",
      "\u001b[1m11/11\u001b[0m \u001b[32m━━━━━━━━━━━━━━━━━━━━\u001b[0m\u001b[37m\u001b[0m \u001b[1m0s\u001b[0m 20ms/step - accuracy: 0.9502 - loss: 0.3398 - val_accuracy: 0.8383 - val_loss: 0.4455\n",
      "Epoch 94/300\n",
      "\u001b[1m11/11\u001b[0m \u001b[32m━━━━━━━━━━━━━━━━━━━━\u001b[0m\u001b[37m\u001b[0m \u001b[1m0s\u001b[0m 21ms/step - accuracy: 0.9454 - loss: 0.3535 - val_accuracy: 0.8383 - val_loss: 0.4437\n",
      "Epoch 95/300\n",
      "\u001b[1m11/11\u001b[0m \u001b[32m━━━━━━━━━━━━━━━━━━━━\u001b[0m\u001b[37m\u001b[0m \u001b[1m0s\u001b[0m 23ms/step - accuracy: 0.9657 - loss: 0.3338 - val_accuracy: 0.8383 - val_loss: 0.4419\n",
      "Epoch 96/300\n",
      "\u001b[1m11/11\u001b[0m \u001b[32m━━━━━━━━━━━━━━━━━━━━\u001b[0m\u001b[37m\u001b[0m \u001b[1m0s\u001b[0m 22ms/step - accuracy: 0.9514 - loss: 0.3333 - val_accuracy: 0.8383 - val_loss: 0.4403\n",
      "Epoch 97/300\n",
      "\u001b[1m11/11\u001b[0m \u001b[32m━━━━━━━━━━━━━━━━━━━━\u001b[0m\u001b[37m\u001b[0m \u001b[1m0s\u001b[0m 18ms/step - accuracy: 0.9512 - loss: 0.3298 - val_accuracy: 0.8443 - val_loss: 0.4386\n",
      "Epoch 98/300\n",
      "\u001b[1m11/11\u001b[0m \u001b[32m━━━━━━━━━━━━━━━━━━━━\u001b[0m\u001b[37m\u001b[0m \u001b[1m0s\u001b[0m 18ms/step - accuracy: 0.9492 - loss: 0.3317 - val_accuracy: 0.8443 - val_loss: 0.4369\n",
      "Epoch 99/300\n",
      "\u001b[1m11/11\u001b[0m \u001b[32m━━━━━━━━━━━━━━━━━━━━\u001b[0m\u001b[37m\u001b[0m \u001b[1m0s\u001b[0m 20ms/step - accuracy: 0.9593 - loss: 0.3227 - val_accuracy: 0.8443 - val_loss: 0.4354\n",
      "Epoch 100/300\n",
      "\u001b[1m11/11\u001b[0m \u001b[32m━━━━━━━━━━━━━━━━━━━━\u001b[0m\u001b[37m\u001b[0m \u001b[1m0s\u001b[0m 20ms/step - accuracy: 0.9400 - loss: 0.3131 - val_accuracy: 0.8443 - val_loss: 0.4338\n",
      "Epoch 101/300\n",
      "\u001b[1m11/11\u001b[0m \u001b[32m━━━━━━━━━━━━━━━━━━━━\u001b[0m\u001b[37m\u001b[0m \u001b[1m0s\u001b[0m 21ms/step - accuracy: 0.9537 - loss: 0.3213 - val_accuracy: 0.8443 - val_loss: 0.4323\n",
      "Epoch 102/300\n",
      "\u001b[1m11/11\u001b[0m \u001b[32m━━━━━━━━━━━━━━━━━━━━\u001b[0m\u001b[37m\u001b[0m \u001b[1m0s\u001b[0m 19ms/step - accuracy: 0.9582 - loss: 0.3242 - val_accuracy: 0.8443 - val_loss: 0.4308\n",
      "Epoch 103/300\n",
      "\u001b[1m11/11\u001b[0m \u001b[32m━━━━━━━━━━━━━━━━━━━━\u001b[0m\u001b[37m\u001b[0m \u001b[1m0s\u001b[0m 20ms/step - accuracy: 0.9627 - loss: 0.3080 - val_accuracy: 0.8443 - val_loss: 0.4292\n",
      "Epoch 104/300\n",
      "\u001b[1m11/11\u001b[0m \u001b[32m━━━━━━━━━━━━━━━━━━━━\u001b[0m\u001b[37m\u001b[0m \u001b[1m0s\u001b[0m 19ms/step - accuracy: 0.9558 - loss: 0.3162 - val_accuracy: 0.8443 - val_loss: 0.4276\n",
      "Epoch 105/300\n",
      "\u001b[1m11/11\u001b[0m \u001b[32m━━━━━━━━━━━━━━━━━━━━\u001b[0m\u001b[37m\u001b[0m \u001b[1m0s\u001b[0m 21ms/step - accuracy: 0.9616 - loss: 0.3036 - val_accuracy: 0.8443 - val_loss: 0.4262\n",
      "Epoch 106/300\n",
      "\u001b[1m11/11\u001b[0m \u001b[32m━━━━━━━━━━━━━━━━━━━━\u001b[0m\u001b[37m\u001b[0m \u001b[1m0s\u001b[0m 22ms/step - accuracy: 0.9703 - loss: 0.2992 - val_accuracy: 0.8443 - val_loss: 0.4247\n",
      "Epoch 107/300\n",
      "\u001b[1m11/11\u001b[0m \u001b[32m━━━━━━━━━━━━━━━━━━━━\u001b[0m\u001b[37m\u001b[0m \u001b[1m0s\u001b[0m 21ms/step - accuracy: 0.9565 - loss: 0.3138 - val_accuracy: 0.8443 - val_loss: 0.4234\n",
      "Epoch 108/300\n",
      "\u001b[1m11/11\u001b[0m \u001b[32m━━━━━━━━━━━━━━━━━━━━\u001b[0m\u001b[37m\u001b[0m \u001b[1m0s\u001b[0m 19ms/step - accuracy: 0.9549 - loss: 0.3082 - val_accuracy: 0.8443 - val_loss: 0.4220\n",
      "Epoch 109/300\n",
      "\u001b[1m11/11\u001b[0m \u001b[32m━━━━━━━━━━━━━━━━━━━━\u001b[0m\u001b[37m\u001b[0m \u001b[1m0s\u001b[0m 20ms/step - accuracy: 0.9623 - loss: 0.3118 - val_accuracy: 0.8443 - val_loss: 0.4207\n",
      "Epoch 110/300\n",
      "\u001b[1m11/11\u001b[0m \u001b[32m━━━━━━━━━━━━━━━━━━━━\u001b[0m\u001b[37m\u001b[0m \u001b[1m0s\u001b[0m 19ms/step - accuracy: 0.9613 - loss: 0.2956 - val_accuracy: 0.8443 - val_loss: 0.4192\n",
      "Epoch 111/300\n",
      "\u001b[1m11/11\u001b[0m \u001b[32m━━━━━━━━━━━━━━━━━━━━\u001b[0m\u001b[37m\u001b[0m \u001b[1m0s\u001b[0m 21ms/step - accuracy: 0.9581 - loss: 0.2952 - val_accuracy: 0.8443 - val_loss: 0.4179\n",
      "Epoch 112/300\n",
      "\u001b[1m11/11\u001b[0m \u001b[32m━━━━━━━━━━━━━━━━━━━━\u001b[0m\u001b[37m\u001b[0m \u001b[1m0s\u001b[0m 18ms/step - accuracy: 0.9535 - loss: 0.3113 - val_accuracy: 0.8443 - val_loss: 0.4166\n",
      "Epoch 113/300\n",
      "\u001b[1m11/11\u001b[0m \u001b[32m━━━━━━━━━━━━━━━━━━━━\u001b[0m\u001b[37m\u001b[0m \u001b[1m0s\u001b[0m 24ms/step - accuracy: 0.9658 - loss: 0.2976 - val_accuracy: 0.8443 - val_loss: 0.4154\n",
      "Epoch 114/300\n",
      "\u001b[1m11/11\u001b[0m \u001b[32m━━━━━━━━━━━━━━━━━━━━\u001b[0m\u001b[37m\u001b[0m \u001b[1m0s\u001b[0m 21ms/step - accuracy: 0.9478 - loss: 0.3062 - val_accuracy: 0.8443 - val_loss: 0.4141\n",
      "Epoch 115/300\n",
      "\u001b[1m11/11\u001b[0m \u001b[32m━━━━━━━━━━━━━━━━━━━━\u001b[0m\u001b[37m\u001b[0m \u001b[1m0s\u001b[0m 22ms/step - accuracy: 0.9626 - loss: 0.2700 - val_accuracy: 0.8443 - val_loss: 0.4127\n",
      "Epoch 116/300\n",
      "\u001b[1m11/11\u001b[0m \u001b[32m━━━━━━━━━━━━━━━━━━━━\u001b[0m\u001b[37m\u001b[0m \u001b[1m0s\u001b[0m 19ms/step - accuracy: 0.9599 - loss: 0.2717 - val_accuracy: 0.8443 - val_loss: 0.4114\n",
      "Epoch 117/300\n",
      "\u001b[1m11/11\u001b[0m \u001b[32m━━━━━━━━━━━━━━━━━━━━\u001b[0m\u001b[37m\u001b[0m \u001b[1m0s\u001b[0m 22ms/step - accuracy: 0.9682 - loss: 0.2914 - val_accuracy: 0.8443 - val_loss: 0.4102\n",
      "Epoch 118/300\n",
      "\u001b[1m11/11\u001b[0m \u001b[32m━━━━━━━━━━━━━━━━━━━━\u001b[0m\u001b[37m\u001b[0m \u001b[1m0s\u001b[0m 19ms/step - accuracy: 0.9581 - loss: 0.2735 - val_accuracy: 0.8443 - val_loss: 0.4090\n",
      "Epoch 119/300\n",
      "\u001b[1m11/11\u001b[0m \u001b[32m━━━━━━━━━━━━━━━━━━━━\u001b[0m\u001b[37m\u001b[0m \u001b[1m0s\u001b[0m 18ms/step - accuracy: 0.9681 - loss: 0.2856 - val_accuracy: 0.8443 - val_loss: 0.4080\n",
      "Epoch 120/300\n",
      "\u001b[1m11/11\u001b[0m \u001b[32m━━━━━━━━━━━━━━━━━━━━\u001b[0m\u001b[37m\u001b[0m \u001b[1m0s\u001b[0m 29ms/step - accuracy: 0.9653 - loss: 0.2784 - val_accuracy: 0.8443 - val_loss: 0.4068\n",
      "Epoch 121/300\n",
      "\u001b[1m11/11\u001b[0m \u001b[32m━━━━━━━━━━━━━━━━━━━━\u001b[0m\u001b[37m\u001b[0m \u001b[1m0s\u001b[0m 29ms/step - accuracy: 0.9598 - loss: 0.2843 - val_accuracy: 0.8443 - val_loss: 0.4056\n",
      "Epoch 122/300\n",
      "\u001b[1m11/11\u001b[0m \u001b[32m━━━━━━━━━━━━━━━━━━━━\u001b[0m\u001b[37m\u001b[0m \u001b[1m1s\u001b[0m 28ms/step - accuracy: 0.9718 - loss: 0.2353 - val_accuracy: 0.8443 - val_loss: 0.4046\n",
      "Epoch 123/300\n",
      "\u001b[1m11/11\u001b[0m \u001b[32m━━━━━━━━━━━━━━━━━━━━\u001b[0m\u001b[37m\u001b[0m \u001b[1m1s\u001b[0m 34ms/step - accuracy: 0.9711 - loss: 0.2671 - val_accuracy: 0.8443 - val_loss: 0.4035\n",
      "Epoch 124/300\n",
      "\u001b[1m11/11\u001b[0m \u001b[32m━━━━━━━━━━━━━━━━━━━━\u001b[0m\u001b[37m\u001b[0m \u001b[1m1s\u001b[0m 30ms/step - accuracy: 0.9509 - loss: 0.2599 - val_accuracy: 0.8443 - val_loss: 0.4024\n",
      "Epoch 125/300\n",
      "\u001b[1m11/11\u001b[0m \u001b[32m━━━━━━━━━━━━━━━━━━━━\u001b[0m\u001b[37m\u001b[0m \u001b[1m0s\u001b[0m 34ms/step - accuracy: 0.9686 - loss: 0.2478 - val_accuracy: 0.8443 - val_loss: 0.4013\n",
      "Epoch 126/300\n",
      "\u001b[1m11/11\u001b[0m \u001b[32m━━━━━━━━━━━━━━━━━━━━\u001b[0m\u001b[37m\u001b[0m \u001b[1m0s\u001b[0m 35ms/step - accuracy: 0.9569 - loss: 0.2798 - val_accuracy: 0.8443 - val_loss: 0.4004\n",
      "Epoch 127/300\n",
      "\u001b[1m11/11\u001b[0m \u001b[32m━━━━━━━━━━━━━━━━━━━━\u001b[0m\u001b[37m\u001b[0m \u001b[1m1s\u001b[0m 26ms/step - accuracy: 0.9733 - loss: 0.2691 - val_accuracy: 0.8443 - val_loss: 0.3995\n",
      "Epoch 128/300\n",
      "\u001b[1m11/11\u001b[0m \u001b[32m━━━━━━━━━━━━━━━━━━━━\u001b[0m\u001b[37m\u001b[0m \u001b[1m0s\u001b[0m 23ms/step - accuracy: 0.9708 - loss: 0.2501 - val_accuracy: 0.8443 - val_loss: 0.3985\n",
      "Epoch 129/300\n",
      "\u001b[1m11/11\u001b[0m \u001b[32m━━━━━━━━━━━━━━━━━━━━\u001b[0m\u001b[37m\u001b[0m \u001b[1m0s\u001b[0m 18ms/step - accuracy: 0.9555 - loss: 0.2664 - val_accuracy: 0.8443 - val_loss: 0.3976\n",
      "Epoch 130/300\n",
      "\u001b[1m11/11\u001b[0m \u001b[32m━━━━━━━━━━━━━━━━━━━━\u001b[0m\u001b[37m\u001b[0m \u001b[1m0s\u001b[0m 21ms/step - accuracy: 0.9717 - loss: 0.2588 - val_accuracy: 0.8443 - val_loss: 0.3966\n",
      "Epoch 131/300\n",
      "\u001b[1m11/11\u001b[0m \u001b[32m━━━━━━━━━━━━━━━━━━━━\u001b[0m\u001b[37m\u001b[0m \u001b[1m0s\u001b[0m 22ms/step - accuracy: 0.9764 - loss: 0.2672 - val_accuracy: 0.8443 - val_loss: 0.3958\n",
      "Epoch 132/300\n",
      "\u001b[1m11/11\u001b[0m \u001b[32m━━━━━━━━━━━━━━━━━━━━\u001b[0m\u001b[37m\u001b[0m \u001b[1m0s\u001b[0m 24ms/step - accuracy: 0.9668 - loss: 0.2467 - val_accuracy: 0.8443 - val_loss: 0.3948\n",
      "Epoch 133/300\n",
      "\u001b[1m11/11\u001b[0m \u001b[32m━━━━━━━━━━━━━━━━━━━━\u001b[0m\u001b[37m\u001b[0m \u001b[1m0s\u001b[0m 23ms/step - accuracy: 0.9681 - loss: 0.2598 - val_accuracy: 0.8443 - val_loss: 0.3940\n",
      "Epoch 134/300\n",
      "\u001b[1m11/11\u001b[0m \u001b[32m━━━━━━━━━━━━━━━━━━━━\u001b[0m\u001b[37m\u001b[0m \u001b[1m0s\u001b[0m 19ms/step - accuracy: 0.9612 - loss: 0.2611 - val_accuracy: 0.8443 - val_loss: 0.3932\n",
      "Epoch 135/300\n",
      "\u001b[1m11/11\u001b[0m \u001b[32m━━━━━━━━━━━━━━━━━━━━\u001b[0m\u001b[37m\u001b[0m \u001b[1m0s\u001b[0m 20ms/step - accuracy: 0.9759 - loss: 0.2442 - val_accuracy: 0.8443 - val_loss: 0.3924\n",
      "Epoch 136/300\n",
      "\u001b[1m11/11\u001b[0m \u001b[32m━━━━━━━━━━━━━━━━━━━━\u001b[0m\u001b[37m\u001b[0m \u001b[1m0s\u001b[0m 19ms/step - accuracy: 0.9630 - loss: 0.2522 - val_accuracy: 0.8443 - val_loss: 0.3917\n",
      "Epoch 137/300\n",
      "\u001b[1m11/11\u001b[0m \u001b[32m━━━━━━━━━━━━━━━━━━━━\u001b[0m\u001b[37m\u001b[0m \u001b[1m0s\u001b[0m 20ms/step - accuracy: 0.9767 - loss: 0.2446 - val_accuracy: 0.8443 - val_loss: 0.3908\n",
      "Epoch 138/300\n",
      "\u001b[1m11/11\u001b[0m \u001b[32m━━━━━━━━━━━━━━━━━━━━\u001b[0m\u001b[37m\u001b[0m \u001b[1m0s\u001b[0m 18ms/step - accuracy: 0.9807 - loss: 0.2494 - val_accuracy: 0.8443 - val_loss: 0.3900\n",
      "Epoch 139/300\n",
      "\u001b[1m11/11\u001b[0m \u001b[32m━━━━━━━━━━━━━━━━━━━━\u001b[0m\u001b[37m\u001b[0m \u001b[1m0s\u001b[0m 23ms/step - accuracy: 0.9750 - loss: 0.2231 - val_accuracy: 0.8443 - val_loss: 0.3891\n",
      "Epoch 140/300\n",
      "\u001b[1m11/11\u001b[0m \u001b[32m━━━━━━━━━━━━━━━━━━━━\u001b[0m\u001b[37m\u001b[0m \u001b[1m0s\u001b[0m 19ms/step - accuracy: 0.9677 - loss: 0.2524 - val_accuracy: 0.8443 - val_loss: 0.3882\n",
      "Epoch 141/300\n",
      "\u001b[1m11/11\u001b[0m \u001b[32m━━━━━━━━━━━━━━━━━━━━\u001b[0m\u001b[37m\u001b[0m \u001b[1m0s\u001b[0m 24ms/step - accuracy: 0.9706 - loss: 0.2437 - val_accuracy: 0.8443 - val_loss: 0.3875\n",
      "Epoch 142/300\n",
      "\u001b[1m11/11\u001b[0m \u001b[32m━━━━━━━━━━━━━━━━━━━━\u001b[0m\u001b[37m\u001b[0m \u001b[1m0s\u001b[0m 21ms/step - accuracy: 0.9802 - loss: 0.2397 - val_accuracy: 0.8443 - val_loss: 0.3870\n",
      "Epoch 143/300\n",
      "\u001b[1m11/11\u001b[0m \u001b[32m━━━━━━━━━━━━━━━━━━━━\u001b[0m\u001b[37m\u001b[0m \u001b[1m0s\u001b[0m 22ms/step - accuracy: 0.9683 - loss: 0.2435 - val_accuracy: 0.8443 - val_loss: 0.3863\n",
      "Epoch 144/300\n",
      "\u001b[1m11/11\u001b[0m \u001b[32m━━━━━━━━━━━━━━━━━━━━\u001b[0m\u001b[37m\u001b[0m \u001b[1m0s\u001b[0m 21ms/step - accuracy: 0.9635 - loss: 0.2354 - val_accuracy: 0.8443 - val_loss: 0.3856\n",
      "Epoch 145/300\n",
      "\u001b[1m11/11\u001b[0m \u001b[32m━━━━━━━━━━━━━━━━━━━━\u001b[0m\u001b[37m\u001b[0m \u001b[1m0s\u001b[0m 21ms/step - accuracy: 0.9806 - loss: 0.2247 - val_accuracy: 0.8443 - val_loss: 0.3848\n",
      "Epoch 146/300\n",
      "\u001b[1m11/11\u001b[0m \u001b[32m━━━━━━━━━━━━━━━━━━━━\u001b[0m\u001b[37m\u001b[0m \u001b[1m0s\u001b[0m 23ms/step - accuracy: 0.9831 - loss: 0.2221 - val_accuracy: 0.8443 - val_loss: 0.3841\n",
      "Epoch 147/300\n",
      "\u001b[1m11/11\u001b[0m \u001b[32m━━━━━━━━━━━━━━━━━━━━\u001b[0m\u001b[37m\u001b[0m \u001b[1m0s\u001b[0m 21ms/step - accuracy: 0.9766 - loss: 0.2146 - val_accuracy: 0.8443 - val_loss: 0.3835\n",
      "Epoch 148/300\n",
      "\u001b[1m11/11\u001b[0m \u001b[32m━━━━━━━━━━━━━━━━━━━━\u001b[0m\u001b[37m\u001b[0m \u001b[1m0s\u001b[0m 19ms/step - accuracy: 0.9825 - loss: 0.2197 - val_accuracy: 0.8443 - val_loss: 0.3830\n",
      "Epoch 149/300\n",
      "\u001b[1m11/11\u001b[0m \u001b[32m━━━━━━━━━━━━━━━━━━━━\u001b[0m\u001b[37m\u001b[0m \u001b[1m0s\u001b[0m 21ms/step - accuracy: 0.9743 - loss: 0.2310 - val_accuracy: 0.8443 - val_loss: 0.3824\n",
      "Epoch 150/300\n",
      "\u001b[1m11/11\u001b[0m \u001b[32m━━━━━━━━━━━━━━━━━━━━\u001b[0m\u001b[37m\u001b[0m \u001b[1m0s\u001b[0m 23ms/step - accuracy: 0.9786 - loss: 0.2162 - val_accuracy: 0.8443 - val_loss: 0.3820\n",
      "Epoch 151/300\n",
      "\u001b[1m11/11\u001b[0m \u001b[32m━━━━━━━━━━━━━━━━━━━━\u001b[0m\u001b[37m\u001b[0m \u001b[1m0s\u001b[0m 21ms/step - accuracy: 0.9820 - loss: 0.2309 - val_accuracy: 0.8443 - val_loss: 0.3815\n",
      "Epoch 152/300\n",
      "\u001b[1m11/11\u001b[0m \u001b[32m━━━━━━━━━━━━━━━━━━━━\u001b[0m\u001b[37m\u001b[0m \u001b[1m0s\u001b[0m 20ms/step - accuracy: 0.9762 - loss: 0.2321 - val_accuracy: 0.8443 - val_loss: 0.3810\n",
      "Epoch 153/300\n",
      "\u001b[1m11/11\u001b[0m \u001b[32m━━━━━━━━━━━━━━━━━━━━\u001b[0m\u001b[37m\u001b[0m \u001b[1m0s\u001b[0m 23ms/step - accuracy: 0.9821 - loss: 0.2279 - val_accuracy: 0.8443 - val_loss: 0.3806\n",
      "Epoch 154/300\n",
      "\u001b[1m11/11\u001b[0m \u001b[32m━━━━━━━━━━━━━━━━━━━━\u001b[0m\u001b[37m\u001b[0m \u001b[1m0s\u001b[0m 21ms/step - accuracy: 0.9829 - loss: 0.2248 - val_accuracy: 0.8443 - val_loss: 0.3801\n",
      "Epoch 155/300\n",
      "\u001b[1m11/11\u001b[0m \u001b[32m━━━━━━━━━━━━━━━━━━━━\u001b[0m\u001b[37m\u001b[0m \u001b[1m0s\u001b[0m 19ms/step - accuracy: 0.9794 - loss: 0.2245 - val_accuracy: 0.8443 - val_loss: 0.3796\n",
      "Epoch 156/300\n",
      "\u001b[1m11/11\u001b[0m \u001b[32m━━━━━━━━━━━━━━━━━━━━\u001b[0m\u001b[37m\u001b[0m \u001b[1m0s\u001b[0m 23ms/step - accuracy: 0.9824 - loss: 0.2192 - val_accuracy: 0.8443 - val_loss: 0.3790\n",
      "Epoch 157/300\n",
      "\u001b[1m11/11\u001b[0m \u001b[32m━━━━━━━━━━━━━━━━━━━━\u001b[0m\u001b[37m\u001b[0m \u001b[1m0s\u001b[0m 21ms/step - accuracy: 0.9772 - loss: 0.2181 - val_accuracy: 0.8443 - val_loss: 0.3782\n",
      "Epoch 158/300\n",
      "\u001b[1m11/11\u001b[0m \u001b[32m━━━━━━━━━━━━━━━━━━━━\u001b[0m\u001b[37m\u001b[0m \u001b[1m0s\u001b[0m 22ms/step - accuracy: 0.9875 - loss: 0.2096 - val_accuracy: 0.8443 - val_loss: 0.3777\n",
      "Epoch 159/300\n",
      "\u001b[1m11/11\u001b[0m \u001b[32m━━━━━━━━━━━━━━━━━━━━\u001b[0m\u001b[37m\u001b[0m \u001b[1m0s\u001b[0m 23ms/step - accuracy: 0.9811 - loss: 0.2029 - val_accuracy: 0.8443 - val_loss: 0.3773\n",
      "Epoch 160/300\n",
      "\u001b[1m11/11\u001b[0m \u001b[32m━━━━━━━━━━━━━━━━━━━━\u001b[0m\u001b[37m\u001b[0m \u001b[1m0s\u001b[0m 26ms/step - accuracy: 0.9744 - loss: 0.1975 - val_accuracy: 0.8443 - val_loss: 0.3767\n",
      "Epoch 161/300\n",
      "\u001b[1m11/11\u001b[0m \u001b[32m━━━━━━━━━━━━━━━━━━━━\u001b[0m\u001b[37m\u001b[0m \u001b[1m0s\u001b[0m 21ms/step - accuracy: 0.9761 - loss: 0.2113 - val_accuracy: 0.8443 - val_loss: 0.3764\n",
      "Epoch 162/300\n",
      "\u001b[1m11/11\u001b[0m \u001b[32m━━━━━━━━━━━━━━━━━━━━\u001b[0m\u001b[37m\u001b[0m \u001b[1m0s\u001b[0m 31ms/step - accuracy: 0.9817 - loss: 0.2024 - val_accuracy: 0.8383 - val_loss: 0.3762\n",
      "Epoch 163/300\n",
      "\u001b[1m11/11\u001b[0m \u001b[32m━━━━━━━━━━━━━━━━━━━━\u001b[0m\u001b[37m\u001b[0m \u001b[1m0s\u001b[0m 32ms/step - accuracy: 0.9860 - loss: 0.2147 - val_accuracy: 0.8383 - val_loss: 0.3760\n",
      "Epoch 164/300\n",
      "\u001b[1m11/11\u001b[0m \u001b[32m━━━━━━━━━━━━━━━━━━━━\u001b[0m\u001b[37m\u001b[0m \u001b[1m1s\u001b[0m 34ms/step - accuracy: 0.9924 - loss: 0.2052 - val_accuracy: 0.8383 - val_loss: 0.3756\n",
      "Epoch 165/300\n",
      "\u001b[1m11/11\u001b[0m \u001b[32m━━━━━━━━━━━━━━━━━━━━\u001b[0m\u001b[37m\u001b[0m \u001b[1m1s\u001b[0m 32ms/step - accuracy: 0.9753 - loss: 0.2157 - val_accuracy: 0.8383 - val_loss: 0.3752\n",
      "Epoch 166/300\n",
      "\u001b[1m11/11\u001b[0m \u001b[32m━━━━━━━━━━━━━━━━━━━━\u001b[0m\u001b[37m\u001b[0m \u001b[1m0s\u001b[0m 31ms/step - accuracy: 0.9779 - loss: 0.2007 - val_accuracy: 0.8383 - val_loss: 0.3749\n",
      "Epoch 167/300\n",
      "\u001b[1m11/11\u001b[0m \u001b[32m━━━━━━━━━━━━━━━━━━━━\u001b[0m\u001b[37m\u001b[0m \u001b[1m1s\u001b[0m 32ms/step - accuracy: 0.9833 - loss: 0.2051 - val_accuracy: 0.8383 - val_loss: 0.3745\n",
      "Epoch 168/300\n",
      "\u001b[1m11/11\u001b[0m \u001b[32m━━━━━━━━━━━━━━━━━━━━\u001b[0m\u001b[37m\u001b[0m \u001b[1m1s\u001b[0m 32ms/step - accuracy: 0.9792 - loss: 0.1987 - val_accuracy: 0.8383 - val_loss: 0.3741\n",
      "Epoch 169/300\n",
      "\u001b[1m11/11\u001b[0m \u001b[32m━━━━━━━━━━━━━━━━━━━━\u001b[0m\u001b[37m\u001b[0m \u001b[1m0s\u001b[0m 18ms/step - accuracy: 0.9857 - loss: 0.1874 - val_accuracy: 0.8383 - val_loss: 0.3739\n",
      "Epoch 170/300\n",
      "\u001b[1m11/11\u001b[0m \u001b[32m━━━━━━━━━━━━━━━━━━━━\u001b[0m\u001b[37m\u001b[0m \u001b[1m0s\u001b[0m 19ms/step - accuracy: 0.9750 - loss: 0.2073 - val_accuracy: 0.8383 - val_loss: 0.3737\n",
      "Epoch 171/300\n",
      "\u001b[1m11/11\u001b[0m \u001b[32m━━━━━━━━━━━━━━━━━━━━\u001b[0m\u001b[37m\u001b[0m \u001b[1m0s\u001b[0m 23ms/step - accuracy: 0.9802 - loss: 0.1875 - val_accuracy: 0.8383 - val_loss: 0.3735\n",
      "Epoch 172/300\n",
      "\u001b[1m11/11\u001b[0m \u001b[32m━━━━━━━━━━━━━━━━━━━━\u001b[0m\u001b[37m\u001b[0m \u001b[1m0s\u001b[0m 21ms/step - accuracy: 0.9871 - loss: 0.1912 - val_accuracy: 0.8383 - val_loss: 0.3732\n",
      "Epoch 173/300\n",
      "\u001b[1m11/11\u001b[0m \u001b[32m━━━━━━━━━━━━━━━━━━━━\u001b[0m\u001b[37m\u001b[0m \u001b[1m0s\u001b[0m 19ms/step - accuracy: 0.9889 - loss: 0.2096 - val_accuracy: 0.8383 - val_loss: 0.3729\n",
      "Epoch 174/300\n",
      "\u001b[1m11/11\u001b[0m \u001b[32m━━━━━━━━━━━━━━━━━━━━\u001b[0m\u001b[37m\u001b[0m \u001b[1m0s\u001b[0m 19ms/step - accuracy: 0.9821 - loss: 0.1912 - val_accuracy: 0.8383 - val_loss: 0.3725\n",
      "Epoch 175/300\n",
      "\u001b[1m11/11\u001b[0m \u001b[32m━━━━━━━━━━━━━━━━━━━━\u001b[0m\u001b[37m\u001b[0m \u001b[1m0s\u001b[0m 20ms/step - accuracy: 0.9849 - loss: 0.2046 - val_accuracy: 0.8383 - val_loss: 0.3721\n",
      "Epoch 176/300\n",
      "\u001b[1m11/11\u001b[0m \u001b[32m━━━━━━━━━━━━━━━━━━━━\u001b[0m\u001b[37m\u001b[0m \u001b[1m0s\u001b[0m 20ms/step - accuracy: 0.9739 - loss: 0.1974 - val_accuracy: 0.8383 - val_loss: 0.3718\n",
      "Epoch 177/300\n",
      "\u001b[1m11/11\u001b[0m \u001b[32m━━━━━━━━━━━━━━━━━━━━\u001b[0m\u001b[37m\u001b[0m \u001b[1m0s\u001b[0m 21ms/step - accuracy: 0.9801 - loss: 0.2136 - val_accuracy: 0.8383 - val_loss: 0.3715\n",
      "Epoch 178/300\n",
      "\u001b[1m11/11\u001b[0m \u001b[32m━━━━━━━━━━━━━━━━━━━━\u001b[0m\u001b[37m\u001b[0m \u001b[1m0s\u001b[0m 20ms/step - accuracy: 0.9850 - loss: 0.1957 - val_accuracy: 0.8383 - val_loss: 0.3713\n",
      "Epoch 179/300\n",
      "\u001b[1m11/11\u001b[0m \u001b[32m━━━━━━━━━━━━━━━━━━━━\u001b[0m\u001b[37m\u001b[0m \u001b[1m0s\u001b[0m 22ms/step - accuracy: 0.9859 - loss: 0.1896 - val_accuracy: 0.8383 - val_loss: 0.3712\n",
      "Epoch 180/300\n",
      "\u001b[1m11/11\u001b[0m \u001b[32m━━━━━━━━━━━━━━━━━━━━\u001b[0m\u001b[37m\u001b[0m \u001b[1m0s\u001b[0m 18ms/step - accuracy: 0.9802 - loss: 0.1772 - val_accuracy: 0.8383 - val_loss: 0.3711\n",
      "Epoch 181/300\n",
      "\u001b[1m11/11\u001b[0m \u001b[32m━━━━━━━━━━━━━━━━━━━━\u001b[0m\u001b[37m\u001b[0m \u001b[1m0s\u001b[0m 20ms/step - accuracy: 0.9917 - loss: 0.1860 - val_accuracy: 0.8383 - val_loss: 0.3707\n",
      "Epoch 182/300\n",
      "\u001b[1m11/11\u001b[0m \u001b[32m━━━━━━━━━━━━━━━━━━━━\u001b[0m\u001b[37m\u001b[0m \u001b[1m0s\u001b[0m 22ms/step - accuracy: 0.9919 - loss: 0.1766 - val_accuracy: 0.8383 - val_loss: 0.3705\n",
      "Epoch 183/300\n",
      "\u001b[1m11/11\u001b[0m \u001b[32m━━━━━━━━━━━━━━━━━━━━\u001b[0m\u001b[37m\u001b[0m \u001b[1m0s\u001b[0m 21ms/step - accuracy: 0.9810 - loss: 0.1955 - val_accuracy: 0.8383 - val_loss: 0.3703\n",
      "Epoch 184/300\n",
      "\u001b[1m11/11\u001b[0m \u001b[32m━━━━━━━━━━━━━━━━━━━━\u001b[0m\u001b[37m\u001b[0m \u001b[1m0s\u001b[0m 22ms/step - accuracy: 0.9781 - loss: 0.2041 - val_accuracy: 0.8383 - val_loss: 0.3700\n",
      "Epoch 185/300\n",
      "\u001b[1m11/11\u001b[0m \u001b[32m━━━━━━━━━━━━━━━━━━━━\u001b[0m\u001b[37m\u001b[0m \u001b[1m0s\u001b[0m 24ms/step - accuracy: 0.9906 - loss: 0.1863 - val_accuracy: 0.8383 - val_loss: 0.3700\n",
      "Epoch 186/300\n",
      "\u001b[1m11/11\u001b[0m \u001b[32m━━━━━━━━━━━━━━━━━━━━\u001b[0m\u001b[37m\u001b[0m \u001b[1m0s\u001b[0m 20ms/step - accuracy: 0.9805 - loss: 0.1888 - val_accuracy: 0.8383 - val_loss: 0.3698\n",
      "Epoch 187/300\n",
      "\u001b[1m11/11\u001b[0m \u001b[32m━━━━━━━━━━━━━━━━━━━━\u001b[0m\u001b[37m\u001b[0m \u001b[1m0s\u001b[0m 21ms/step - accuracy: 0.9916 - loss: 0.1785 - val_accuracy: 0.8383 - val_loss: 0.3695\n",
      "Epoch 188/300\n",
      "\u001b[1m11/11\u001b[0m \u001b[32m━━━━━━━━━━━━━━━━━━━━\u001b[0m\u001b[37m\u001b[0m \u001b[1m0s\u001b[0m 21ms/step - accuracy: 0.9765 - loss: 0.1926 - val_accuracy: 0.8383 - val_loss: 0.3693\n",
      "Epoch 189/300\n",
      "\u001b[1m11/11\u001b[0m \u001b[32m━━━━━━━━━━━━━━━━━━━━\u001b[0m\u001b[37m\u001b[0m \u001b[1m0s\u001b[0m 19ms/step - accuracy: 0.9918 - loss: 0.1646 - val_accuracy: 0.8383 - val_loss: 0.3689\n",
      "Epoch 190/300\n",
      "\u001b[1m11/11\u001b[0m \u001b[32m━━━━━━━━━━━━━━━━━━━━\u001b[0m\u001b[37m\u001b[0m \u001b[1m0s\u001b[0m 22ms/step - accuracy: 0.9933 - loss: 0.1727 - val_accuracy: 0.8383 - val_loss: 0.3688\n",
      "Epoch 191/300\n",
      "\u001b[1m11/11\u001b[0m \u001b[32m━━━━━━━━━━━━━━━━━━━━\u001b[0m\u001b[37m\u001b[0m \u001b[1m0s\u001b[0m 21ms/step - accuracy: 0.9722 - loss: 0.1833 - val_accuracy: 0.8383 - val_loss: 0.3685\n",
      "Epoch 192/300\n",
      "\u001b[1m11/11\u001b[0m \u001b[32m━━━━━━━━━━━━━━━━━━━━\u001b[0m\u001b[37m\u001b[0m \u001b[1m0s\u001b[0m 23ms/step - accuracy: 0.9850 - loss: 0.1895 - val_accuracy: 0.8383 - val_loss: 0.3685\n",
      "Epoch 193/300\n",
      "\u001b[1m11/11\u001b[0m \u001b[32m━━━━━━━━━━━━━━━━━━━━\u001b[0m\u001b[37m\u001b[0m \u001b[1m0s\u001b[0m 20ms/step - accuracy: 0.9765 - loss: 0.1910 - val_accuracy: 0.8383 - val_loss: 0.3685\n",
      "Epoch 194/300\n",
      "\u001b[1m11/11\u001b[0m \u001b[32m━━━━━━━━━━━━━━━━━━━━\u001b[0m\u001b[37m\u001b[0m \u001b[1m0s\u001b[0m 22ms/step - accuracy: 0.9868 - loss: 0.1958 - val_accuracy: 0.8383 - val_loss: 0.3685\n",
      "Epoch 195/300\n",
      "\u001b[1m11/11\u001b[0m \u001b[32m━━━━━━━━━━━━━━━━━━━━\u001b[0m\u001b[37m\u001b[0m \u001b[1m0s\u001b[0m 22ms/step - accuracy: 0.9863 - loss: 0.1675 - val_accuracy: 0.8383 - val_loss: 0.3685\n"
     ]
    }
   ],
   "source": [
    "# compile model\n",
    "model_A.compile(optimizer=Adam(learning_rate=0.0001),\n",
    "              loss='binary_crossentropy',\n",
    "              metrics=['accuracy'])\n",
    "\n",
    "# set up early stopping\n",
    "early_stopping = EarlyStopping(monitor='val_loss', patience=3, restore_best_weights=True)\n",
    "\n",
    "# model training\n",
    "history = model_A.fit(padded_train_sequences, y_train,\n",
    "                      epochs=300,\n",
    "                      validation_data=(padded_test_sequences, y_test),\n",
    "                      batch_size=64,\n",
    "                      callbacks=[early_stopping])"
   ]
  },
  {
   "cell_type": "code",
   "execution_count": 30,
   "metadata": {
    "colab": {
     "base_uri": "https://localhost:8080/",
     "height": 407
    },
    "id": "MGFfVUBwoq9i",
    "outputId": "f91c66a4-15e5-4726-9e20-48292c6742b8"
   },
   "outputs": [
    {
     "data": {
      "image/png": "[encoded data removed]",
      "text/plain": [
       "<Figure size 1200x400 with 2 Axes>"
      ]
     },
     "metadata": {},
     "output_type": "display_data"
    }
   ],
   "source": [
    "# training & validation loss values\n",
    "plt.figure(figsize=(12, 4))\n",
    "\n",
    "plt.subplot(1, 2, 1)\n",
    "plt.plot(history.history['loss'], label='Training Loss')\n",
    "plt.plot(history.history['val_loss'], label='Validation Loss')\n",
    "plt.title('Model Loss')\n",
    "plt.xlabel('Epoch')\n",
    "plt.ylabel('Loss')\n",
    "plt.legend(loc='upper right')\n",
    "\n",
    "# training & validation accuracy values\n",
    "plt.subplot(1, 2, 2)\n",
    "plt.plot(history.history['accuracy'], label='Training Accuracy')\n",
    "plt.plot(history.history['val_accuracy'], label='Validation Accuracy')\n",
    "plt.title('Model Accuracy')\n",
    "plt.xlabel('Epoch')\n",
    "plt.ylabel('Accuracy')\n",
    "plt.legend(loc='lower right')\n",
    "\n",
    "plt.tight_layout()\n",
    "plt.show()"
   ]
  },
  {
   "cell_type": "markdown",
   "metadata": {
    "id": "yJg9sLV5oq9i"
   },
   "source": [
    "### Evaluate and save model"
   ]
  },
  {
   "cell_type": "code",
   "execution_count": 31,
   "metadata": {
    "colab": {
     "base_uri": "https://localhost:8080/",
     "height": 576
    },
    "id": "woUQdNRpoq9i",
    "outputId": "ffe423cd-e7f0-4d88-f150-302cf17994c5"
   },
   "outputs": [
    {
     "name": "stdout",
     "output_type": "stream",
     "text": [
      "\u001b[1m6/6\u001b[0m \u001b[32m━━━━━━━━━━━━━━━━━━━━\u001b[0m\u001b[37m\u001b[0m \u001b[1m0s\u001b[0m 3ms/step - accuracy: 0.8545 - loss: 0.3440 \n",
      "Test Accuracy: 83.83%\n",
      "\u001b[1m6/6\u001b[0m \u001b[32m━━━━━━━━━━━━━━━━━━━━\u001b[0m\u001b[37m\u001b[0m \u001b[1m0s\u001b[0m 12ms/step\n"
     ]
    },
    {
     "data": {
      "image/png": "[encoded data removed]",
      "text/plain": [
       "<Figure size 500x500 with 2 Axes>"
      ]
     },
     "metadata": {},
     "output_type": "display_data"
    },
    {
     "name": "stderr",
     "output_type": "stream",
     "text": [
      "WARNING:absl:You are saving your model as an HDF5 file via `model.save()` or `keras.saving.save_model(model)`. This file format is considered legacy. We recommend using instead the native Keras format, e.g. `model.save('my_model.keras')` or `keras.saving.save_model(model, 'my_model.keras')`. \n"
     ]
    }
   ],
   "source": [
    "import pickle\n",
    "\n",
    "# Evaluate the model\n",
    "loss, accuracy = model_A.evaluate(padded_test_sequences, y_test)\n",
    "print(f'Test Accuracy: {accuracy * 100:.2f}%')\n",
    "\n",
    "y_pred_prob = model_A.predict(padded_test_sequences)\n",
    "y_pred = (y_pred_prob > 0.5).astype(int)\n",
    "\n",
    "# Compute confusion matrix\n",
    "cm = confusion_matrix(y_test, y_pred)\n",
    "\n",
    "# Plot confusion matrix\n",
    "plt.figure(figsize=(5, 5))\n",
    "sns.heatmap(cm, annot=True, fmt='d', cmap='Blues', xticklabels=['conservative','liberalism'], yticklabels=['conservative','liberalism'])\n",
    "plt.title(\"Confusion Matrix\")\n",
    "plt.xlabel('Predicted')\n",
    "plt.ylabel('Actual')\n",
    "plt.show()\n",
    "\n",
    "# Save the model with HDF5 format\n",
    "model_A.save('liberalism_conservative_A.h5')\n",
    "\n",
    "# Save the model with pickle format\n",
    "with open('tokenizer_liberalism_conservative_A.pkl', 'wb') as f:\n",
    "    pickle.dump(tokenizer, f)"
   ]
  },
  {
   "cell_type": "markdown",
   "metadata": {
    "id": "GUB_cTbK3HBH"
   },
   "source": [
    "### Convert to TFLite"
   ]
  },
  {
   "cell_type": "code",
   "execution_count": 32,
   "metadata": {
    "colab": {
     "base_uri": "https://localhost:8080/"
    },
    "id": "iPTMTxUw3KHu",
    "outputId": "dcc1541d-811f-4233-f64f-8c5c2061214a"
   },
   "outputs": [
    {
     "name": "stdout",
     "output_type": "stream",
     "text": [
      "Saved artifact at '/tmp/tmpc452id6w'. The following endpoints are available:\n",
      "\n",
      "* Endpoint 'serve'\n",
      "  args_0 (POSITIONAL_ONLY): TensorSpec(shape=(None, 100), dtype=tf.float32, name='keras_tensor')\n",
      "Output Type:\n",
      "  TensorSpec(shape=(None, 1), dtype=tf.float32, name=None)\n",
      "Captures:\n",
      "  133211668750304: TensorSpec(shape=(), dtype=tf.resource, name=None)\n",
      "  133211668754880: TensorSpec(shape=(), dtype=tf.resource, name=None)\n",
      "  133211669075344: TensorSpec(shape=(), dtype=tf.resource, name=None)\n",
      "  133211668756288: TensorSpec(shape=(), dtype=tf.resource, name=None)\n",
      "  133211669072704: TensorSpec(shape=(), dtype=tf.resource, name=None)\n",
      "Model has been saved as TensorFlow Lite format.\n"
     ]
    }
   ],
   "source": [
    "# Convert the model with Select TF ops\n",
    "converter = tf.lite.TFLiteConverter.from_keras_model(model_A)\n",
    "converter.target_spec.supported_ops = [tf.lite.OpsSet.TFLITE_BUILTINS, tf.lite.OpsSet.SELECT_TF_OPS]\n",
    "converter._experimental_lower_tensor_list_ops = False\n",
    "tflite_model = converter.convert()\n",
    "\n",
    "# Save the model\n",
    "with open('liberalism_conservative_A.tflite', 'wb') as f:\n",
    "    f.write(tflite_model)\n",
    "\n",
    "print('Model has been saved as TensorFlow Lite format.')"
   ]
  },
  {
   "cell_type": "markdown",
   "metadata": {
    "id": "s4Vb8Uipomxn"
   },
   "source": [
    "## Model B (LSTM)"
   ]
  },
  {
   "cell_type": "code",
   "execution_count": null,
   "metadata": {
    "id": "wqu9VPE7omxt"
   },
   "outputs": [],
   "source": [
    "model_B = Sequential()\n",
    "model_B.add(Embedding(input_dim=vocab_size, output_dim=embedding_dim))\n",
    "model_B.add(Bidirectional(LSTM(64, return_sequences=True)))\n",
    "model_B.add(Dropout(0.3))\n",
    "model_B.add(GlobalMaxPool1D())\n",
    "model_B.add(Dense(16, activation='relu', kernel_regularizer=l2(l2=0.001)))\n",
    "model_B.add(BatchNormalization())\n",
    "model_B.add(Dense(6, activation='relu'))\n",
    "model_B.add(Dense(1, activation='sigmoid'))"
   ]
  },
  {
   "cell_type": "code",
   "execution_count": 45,
   "metadata": {
    "colab": {
     "base_uri": "https://localhost:8080/"
    },
    "id": "MCIe9B37omxu",
    "outputId": "f79f071d-63e6-4adb-d52f-c0f37ea4c85c"
   },
   "outputs": [
    {
     "name": "stdout",
     "output_type": "stream",
     "text": [
      "Epoch 1/300\n",
      "\u001b[1m21/21\u001b[0m \u001b[32m━━━━━━━━━━━━━━━━━━━━\u001b[0m\u001b[37m\u001b[0m \u001b[1m12s\u001b[0m 274ms/step - accuracy: 0.5937 - loss: 0.7041 - val_accuracy: 0.5509 - val_loss: 0.7087\n",
      "Epoch 2/300\n",
      "\u001b[1m21/21\u001b[0m \u001b[32m━━━━━━━━━━━━━━━━━━━━\u001b[0m\u001b[37m\u001b[0m \u001b[1m7s\u001b[0m 141ms/step - accuracy: 0.8874 - loss: 0.4677 - val_accuracy: 0.7725 - val_loss: 0.6748\n",
      "Epoch 3/300\n",
      "\u001b[1m21/21\u001b[0m \u001b[32m━━━━━━━━━━━━━━━━━━━━\u001b[0m\u001b[37m\u001b[0m \u001b[1m4s\u001b[0m 181ms/step - accuracy: 0.9457 - loss: 0.2715 - val_accuracy: 0.8503 - val_loss: 0.6331\n",
      "Epoch 4/300\n",
      "\u001b[1m21/21\u001b[0m \u001b[32m━━━━━━━━━━━━━━━━━━━━\u001b[0m\u001b[37m\u001b[0m \u001b[1m7s\u001b[0m 246ms/step - accuracy: 0.9891 - loss: 0.1474 - val_accuracy: 0.8024 - val_loss: 0.6070\n",
      "Epoch 5/300\n",
      "\u001b[1m21/21\u001b[0m \u001b[32m━━━━━━━━━━━━━━━━━━━━\u001b[0m\u001b[37m\u001b[0m \u001b[1m11s\u001b[0m 266ms/step - accuracy: 0.9951 - loss: 0.0901 - val_accuracy: 0.8204 - val_loss: 0.5446\n",
      "Epoch 6/300\n",
      "\u001b[1m21/21\u001b[0m \u001b[32m━━━━━━━━━━━━━━━━━━━━\u001b[0m\u001b[37m\u001b[0m \u001b[1m8s\u001b[0m 141ms/step - accuracy: 0.9969 - loss: 0.0625 - val_accuracy: 0.8323 - val_loss: 0.5211\n",
      "Epoch 7/300\n",
      "\u001b[1m21/21\u001b[0m \u001b[32m━━━━━━━━━━━━━━━━━━━━\u001b[0m\u001b[37m\u001b[0m \u001b[1m7s\u001b[0m 234ms/step - accuracy: 0.9988 - loss: 0.0448 - val_accuracy: 0.7904 - val_loss: 0.5386\n",
      "Epoch 8/300\n",
      "\u001b[1m21/21\u001b[0m \u001b[32m━━━━━━━━━━━━━━━━━━━━\u001b[0m\u001b[37m\u001b[0m \u001b[1m3s\u001b[0m 142ms/step - accuracy: 0.9995 - loss: 0.0372 - val_accuracy: 0.8204 - val_loss: 0.5092\n",
      "Epoch 9/300\n",
      "\u001b[1m21/21\u001b[0m \u001b[32m━━━━━━━━━━━━━━━━━━━━\u001b[0m\u001b[37m\u001b[0m \u001b[1m3s\u001b[0m 143ms/step - accuracy: 1.0000 - loss: 0.0350 - val_accuracy: 0.8383 - val_loss: 0.4715\n",
      "Epoch 10/300\n",
      "\u001b[1m21/21\u001b[0m \u001b[32m━━━━━━━━━━━━━━━━━━━━\u001b[0m\u001b[37m\u001b[0m \u001b[1m6s\u001b[0m 199ms/step - accuracy: 1.0000 - loss: 0.0300 - val_accuracy: 0.8383 - val_loss: 0.4570\n",
      "Epoch 11/300\n",
      "\u001b[1m21/21\u001b[0m \u001b[32m━━━━━━━━━━━━━━━━━━━━\u001b[0m\u001b[37m\u001b[0m \u001b[1m4s\u001b[0m 143ms/step - accuracy: 1.0000 - loss: 0.0260 - val_accuracy: 0.8443 - val_loss: 0.4262\n",
      "Epoch 12/300\n",
      "\u001b[1m21/21\u001b[0m \u001b[32m━━━━━━━━━━━━━━━━━━━━\u001b[0m\u001b[37m\u001b[0m \u001b[1m5s\u001b[0m 144ms/step - accuracy: 1.0000 - loss: 0.0284 - val_accuracy: 0.8323 - val_loss: 0.4229\n",
      "Epoch 13/300\n",
      "\u001b[1m21/21\u001b[0m \u001b[32m━━━━━━━━━━━━━━━━━━━━\u001b[0m\u001b[37m\u001b[0m \u001b[1m7s\u001b[0m 231ms/step - accuracy: 1.0000 - loss: 0.0230 - val_accuracy: 0.8263 - val_loss: 0.4183\n",
      "Epoch 14/300\n",
      "\u001b[1m21/21\u001b[0m \u001b[32m━━━━━━━━━━━━━━━━━━━━\u001b[0m\u001b[37m\u001b[0m \u001b[1m3s\u001b[0m 141ms/step - accuracy: 1.0000 - loss: 0.0208 - val_accuracy: 0.8263 - val_loss: 0.4217\n",
      "Epoch 15/300\n",
      "\u001b[1m21/21\u001b[0m \u001b[32m━━━━━━━━━━━━━━━━━━━━\u001b[0m\u001b[37m\u001b[0m \u001b[1m5s\u001b[0m 144ms/step - accuracy: 1.0000 - loss: 0.0205 - val_accuracy: 0.8323 - val_loss: 0.4303\n",
      "Epoch 16/300\n",
      "\u001b[1m21/21\u001b[0m \u001b[32m━━━━━━━━━━━━━━━━━━━━\u001b[0m\u001b[37m\u001b[0m \u001b[1m7s\u001b[0m 219ms/step - accuracy: 1.0000 - loss: 0.0198 - val_accuracy: 0.8263 - val_loss: 0.4555\n"
     ]
    }
   ],
   "source": [
    "# compile model\n",
    "model_B.compile(optimizer=Adam(learning_rate=0.001),\n",
    "              loss='binary_crossentropy',\n",
    "              metrics=['accuracy'])\n",
    "\n",
    "# set up early stopping\n",
    "early_stopping = EarlyStopping(monitor='val_loss', patience=3, restore_best_weights=True)\n",
    "\n",
    "# model training\n",
    "history = model_B.fit(padded_train_sequences, y_train,\n",
    "                      epochs=300,\n",
    "                      validation_data=(padded_test_sequences, y_test),\n",
    "                      batch_size=32,\n",
    "                      callbacks=[early_stopping])"
   ]
  },
  {
   "cell_type": "code",
   "execution_count": 46,
   "metadata": {
    "colab": {
     "base_uri": "https://localhost:8080/",
     "height": 407
    },
    "id": "PoElmox3omxu",
    "outputId": "8edbe042-5cde-4a6f-cf4f-ec3b94ec1ada"
   },
   "outputs": [
    {
     "data": {
      "image/png": "[encoded data removed]",
      "text/plain": [
       "<Figure size 1200x400 with 2 Axes>"
      ]
     },
     "metadata": {},
     "output_type": "display_data"
    }
   ],
   "source": [
    "# training & validation loss values\n",
    "plt.figure(figsize=(12, 4))\n",
    "\n",
    "plt.subplot(1, 2, 1)\n",
    "plt.plot(history.history['loss'], label='Training Loss')\n",
    "plt.plot(history.history['val_loss'], label='Validation Loss')\n",
    "plt.title('Model Loss')\n",
    "plt.xlabel('Epoch')\n",
    "plt.ylabel('Loss')\n",
    "plt.legend(loc='upper right')\n",
    "\n",
    "# training & validation accuracy values\n",
    "plt.subplot(1, 2, 2)\n",
    "plt.plot(history.history['accuracy'], label='Training Accuracy')\n",
    "plt.plot(history.history['val_accuracy'], label='Validation Accuracy')\n",
    "plt.title('Model Accuracy')\n",
    "plt.xlabel('Epoch')\n",
    "plt.ylabel('Accuracy')\n",
    "plt.legend(loc='lower right')\n",
    "\n",
    "plt.tight_layout()\n",
    "plt.show()"
   ]
  },
  {
   "cell_type": "markdown",
   "metadata": {
    "id": "YPlz96N_omxu"
   },
   "source": [
    "### Evaluate and save model"
   ]
  },
  {
   "cell_type": "code",
   "execution_count": 47,
   "metadata": {
    "colab": {
     "base_uri": "https://localhost:8080/",
     "height": 576
    },
    "id": "ILBFhqmmomxu",
    "outputId": "8bedb1a1-36e7-4e04-b7d3-a49865940308"
   },
   "outputs": [
    {
     "name": "stdout",
     "output_type": "stream",
     "text": [
      "\u001b[1m6/6\u001b[0m \u001b[32m━━━━━━━━━━━━━━━━━━━━\u001b[0m\u001b[37m\u001b[0m \u001b[1m0s\u001b[0m 28ms/step - accuracy: 0.8268 - loss: 0.4070\n",
      "Test Accuracy: 82.63%\n",
      "\u001b[1m6/6\u001b[0m \u001b[32m━━━━━━━━━━━━━━━━━━━━\u001b[0m\u001b[37m\u001b[0m \u001b[1m1s\u001b[0m 95ms/step\n"
     ]
    },
    {
     "data": {
      "image/png": "[encoded data removed]",
      "text/plain": [
       "<Figure size 500x500 with 2 Axes>"
      ]
     },
     "metadata": {},
     "output_type": "display_data"
    },
    {
     "name": "stderr",
     "output_type": "stream",
     "text": [
      "WARNING:absl:You are saving your model as an HDF5 file via `model.save()` or `keras.saving.save_model(model)`. This file format is considered legacy. We recommend using instead the native Keras format, e.g. `model.save('my_model.keras')` or `keras.saving.save_model(model, 'my_model.keras')`. \n"
     ]
    }
   ],
   "source": [
    "import pickle\n",
    "\n",
    "# Evaluate the model\n",
    "loss, accuracy = model_B.evaluate(padded_test_sequences, y_test)\n",
    "print(f'Test Accuracy: {accuracy * 100:.2f}%')\n",
    "\n",
    "y_pred_prob = model_B.predict(padded_test_sequences)\n",
    "y_pred = (y_pred_prob > 0.5).astype(int)\n",
    "\n",
    "# Compute confusion matrix\n",
    "cm = confusion_matrix(y_test, y_pred)\n",
    "\n",
    "# Plot confusion matrix\n",
    "plt.figure(figsize=(5, 5))\n",
    "sns.heatmap(cm, annot=True, fmt='d', cmap='Blues', xticklabels=['conservative','liberalism'], yticklabels=['conservative','liberalism'])\n",
    "plt.title(\"Confusion Matrix\")\n",
    "plt.xlabel('Predicted')\n",
    "plt.ylabel('Actual')\n",
    "plt.show()\n",
    "\n",
    "# Save the model with HDF5 format\n",
    "model_B.save('liberalism_conservative_B.h5')\n",
    "\n",
    "# Save the model with pickle format\n",
    "with open('tokenizer_liberalism_conservative_B.pkl', 'wb') as f:\n",
    "    pickle.dump(tokenizer, f)"
   ]
  },
  {
   "cell_type": "markdown",
   "metadata": {
    "id": "z4qVOh_homxu"
   },
   "source": [
    "### Convert to TFLite"
   ]
  },
  {
   "cell_type": "code",
   "execution_count": 48,
   "metadata": {
    "colab": {
     "base_uri": "https://localhost:8080/"
    },
    "id": "wTfWu2Yqomxv",
    "outputId": "2aea1182-e708-4816-939e-f4c61ec52b9c"
   },
   "outputs": [
    {
     "name": "stdout",
     "output_type": "stream",
     "text": [
      "Saved artifact at '/tmp/tmp5hqe0t5y'. The following endpoints are available:\n",
      "\n",
      "* Endpoint 'serve'\n",
      "  args_0 (POSITIONAL_ONLY): TensorSpec(shape=(None, 100), dtype=tf.float32, name='keras_tensor_63')\n",
      "Output Type:\n",
      "  TensorSpec(shape=(None, 1), dtype=tf.float32, name=None)\n",
      "Captures:\n",
      "  133211541293712: TensorSpec(shape=(), dtype=tf.resource, name=None)\n",
      "  133211541291952: TensorSpec(shape=(), dtype=tf.resource, name=None)\n",
      "  133211541305504: TensorSpec(shape=(), dtype=tf.resource, name=None)\n",
      "  133211541306912: TensorSpec(shape=(), dtype=tf.resource, name=None)\n",
      "  133211541442752: TensorSpec(shape=(), dtype=tf.resource, name=None)\n",
      "  133211541451728: TensorSpec(shape=(), dtype=tf.resource, name=None)\n",
      "  133211541447152: TensorSpec(shape=(), dtype=tf.resource, name=None)\n",
      "  133211541454544: TensorSpec(shape=(), dtype=tf.resource, name=None)\n",
      "  133211540750576: TensorSpec(shape=(), dtype=tf.resource, name=None)\n",
      "  133211404432688: TensorSpec(shape=(), dtype=tf.resource, name=None)\n",
      "  133211404636352: TensorSpec(shape=(), dtype=tf.resource, name=None)\n",
      "  133211404424064: TensorSpec(shape=(), dtype=tf.resource, name=None)\n",
      "  133211404431456: TensorSpec(shape=(), dtype=tf.resource, name=None)\n",
      "  133211404429344: TensorSpec(shape=(), dtype=tf.resource, name=None)\n",
      "  133211404640576: TensorSpec(shape=(), dtype=tf.resource, name=None)\n",
      "  133211404641280: TensorSpec(shape=(), dtype=tf.resource, name=None)\n",
      "  133211540979056: TensorSpec(shape=(), dtype=tf.resource, name=None)\n",
      "Model has been saved as TensorFlow Lite format.\n"
     ]
    }
   ],
   "source": [
    "# Convert the model with Select TF ops\n",
    "converter = tf.lite.TFLiteConverter.from_keras_model(model_B)\n",
    "converter.target_spec.supported_ops = [tf.lite.OpsSet.TFLITE_BUILTINS, tf.lite.OpsSet.SELECT_TF_OPS]\n",
    "converter._experimental_lower_tensor_list_ops = False\n",
    "tflite_model = converter.convert()\n",
    "\n",
    "# Save the model\n",
    "with open('liberalism_conservative_B.tflite', 'wb') as f:\n",
    "    f.write(tflite_model)\n",
    "\n",
    "print('Model has been saved as TensorFlow Lite format.')"
   ]
  },
  {
   "cell_type": "markdown",
   "metadata": {
    "id": "Ln-hHq_7M7wA"
   },
   "source": [
    "## Model C"
   ]
  },
  {
   "cell_type": "code",
   "execution_count": 55,
   "metadata": {
    "colab": {
     "base_uri": "https://localhost:8080/",
     "height": 721
    },
    "id": "NYG4DG7LM7wM",
    "outputId": "368d1b25-9099-4f82-c36f-6845f875e78d"
   },
   "outputs": [
    {
     "data": {
      "text/html": [
       "<pre style=\"white-space:pre;overflow-x:auto;line-height:normal;font-family:Menlo,'DejaVu Sans Mono',consolas,'Courier New',monospace\"><span style=\"font-weight: bold\">Model: \"functional_16\"</span>\n",
       "</pre>\n"
      ],
      "text/plain": [
       "\u001b[1mModel: \"functional_16\"\u001b[0m\n"
      ]
     },
     "metadata": {},
     "output_type": "display_data"
    },
    {
     "data": {
      "text/html": [
       "<pre style=\"white-space:pre;overflow-x:auto;line-height:normal;font-family:Menlo,'DejaVu Sans Mono',consolas,'Courier New',monospace\">┏━━━━━━━━━━━━━━━━━━━━━━━━━━━┳━━━━━━━━━━━━━━━━━━━━━━━━┳━━━━━━━━━━━━━━━━┳━━━━━━━━━━━━━━━━━━━━━━━━┓\n",
       "┃<span style=\"font-weight: bold\"> Layer (type)              </span>┃<span style=\"font-weight: bold\"> Output Shape           </span>┃<span style=\"font-weight: bold\">        Param # </span>┃<span style=\"font-weight: bold\"> Connected to           </span>┃\n",
       "┡━━━━━━━━━━━━━━━━━━━━━━━━━━━╇━━━━━━━━━━━━━━━━━━━━━━━━╇━━━━━━━━━━━━━━━━╇━━━━━━━━━━━━━━━━━━━━━━━━┩\n",
       "│ input_layer_10            │ (<span style=\"color: #00d7ff; text-decoration-color: #00d7ff\">None</span>, <span style=\"color: #00af00; text-decoration-color: #00af00\">200</span>)            │              <span style=\"color: #00af00; text-decoration-color: #00af00\">0</span> │ -                      │\n",
       "│ (<span style=\"color: #0087ff; text-decoration-color: #0087ff\">InputLayer</span>)              │                        │                │                        │\n",
       "├───────────────────────────┼────────────────────────┼────────────────┼────────────────────────┤\n",
       "│ embedding_10 (<span style=\"color: #0087ff; text-decoration-color: #0087ff\">Embedding</span>)  │ (<span style=\"color: #00d7ff; text-decoration-color: #00d7ff\">None</span>, <span style=\"color: #00af00; text-decoration-color: #00af00\">200</span>, <span style=\"color: #00af00; text-decoration-color: #00af00\">50</span>)        │          <span style=\"color: #00af00; text-decoration-color: #00af00\">2,500</span> │ input_layer_10[<span style=\"color: #00af00; text-decoration-color: #00af00\">0</span>][<span style=\"color: #00af00; text-decoration-color: #00af00\">0</span>]   │\n",
       "├───────────────────────────┼────────────────────────┼────────────────┼────────────────────────┤\n",
       "│ conv1d_3 (<span style=\"color: #0087ff; text-decoration-color: #0087ff\">Conv1D</span>)         │ (<span style=\"color: #00d7ff; text-decoration-color: #00d7ff\">None</span>, <span style=\"color: #00af00; text-decoration-color: #00af00\">200</span>, <span style=\"color: #00af00; text-decoration-color: #00af00\">100</span>)       │         <span style=\"color: #00af00; text-decoration-color: #00af00\">15,100</span> │ embedding_10[<span style=\"color: #00af00; text-decoration-color: #00af00\">0</span>][<span style=\"color: #00af00; text-decoration-color: #00af00\">0</span>]     │\n",
       "├───────────────────────────┼────────────────────────┼────────────────┼────────────────────────┤\n",
       "│ global_max_pooling1d_5    │ (<span style=\"color: #00d7ff; text-decoration-color: #00d7ff\">None</span>, <span style=\"color: #00af00; text-decoration-color: #00af00\">100</span>)            │              <span style=\"color: #00af00; text-decoration-color: #00af00\">0</span> │ conv1d_3[<span style=\"color: #00af00; text-decoration-color: #00af00\">0</span>][<span style=\"color: #00af00; text-decoration-color: #00af00\">0</span>]         │\n",
       "│ (<span style=\"color: #0087ff; text-decoration-color: #0087ff\">GlobalMaxPooling1D</span>)      │                        │                │                        │\n",
       "├───────────────────────────┼────────────────────────┼────────────────┼────────────────────────┤\n",
       "│ input_layer_9             │ (<span style=\"color: #00d7ff; text-decoration-color: #00d7ff\">None</span>, <span style=\"color: #00af00; text-decoration-color: #00af00\">100</span>)            │              <span style=\"color: #00af00; text-decoration-color: #00af00\">0</span> │ -                      │\n",
       "│ (<span style=\"color: #0087ff; text-decoration-color: #0087ff\">InputLayer</span>)              │                        │                │                        │\n",
       "├───────────────────────────┼────────────────────────┼────────────────┼────────────────────────┤\n",
       "│ reshape_3 (<span style=\"color: #0087ff; text-decoration-color: #0087ff\">Reshape</span>)       │ (<span style=\"color: #00d7ff; text-decoration-color: #00d7ff\">None</span>, <span style=\"color: #00af00; text-decoration-color: #00af00\">1</span>, <span style=\"color: #00af00; text-decoration-color: #00af00\">100</span>)         │              <span style=\"color: #00af00; text-decoration-color: #00af00\">0</span> │ global_max_pooling1d_… │\n",
       "├───────────────────────────┼────────────────────────┼────────────────┼────────────────────────┤\n",
       "│ embedding_9 (<span style=\"color: #0087ff; text-decoration-color: #0087ff\">Embedding</span>)   │ (<span style=\"color: #00d7ff; text-decoration-color: #00d7ff\">None</span>, <span style=\"color: #00af00; text-decoration-color: #00af00\">100</span>, <span style=\"color: #00af00; text-decoration-color: #00af00\">128</span>)       │      <span style=\"color: #00af00; text-decoration-color: #00af00\">1,280,000</span> │ input_layer_9[<span style=\"color: #00af00; text-decoration-color: #00af00\">0</span>][<span style=\"color: #00af00; text-decoration-color: #00af00\">0</span>]    │\n",
       "├───────────────────────────┼────────────────────────┼────────────────┼────────────────────────┤\n",
       "│ tile_layer_3 (<span style=\"color: #0087ff; text-decoration-color: #0087ff\">TileLayer</span>)  │ (<span style=\"color: #00d7ff; text-decoration-color: #00d7ff\">None</span>, <span style=\"color: #00af00; text-decoration-color: #00af00\">100</span>, <span style=\"color: #00af00; text-decoration-color: #00af00\">100</span>)       │              <span style=\"color: #00af00; text-decoration-color: #00af00\">0</span> │ reshape_3[<span style=\"color: #00af00; text-decoration-color: #00af00\">0</span>][<span style=\"color: #00af00; text-decoration-color: #00af00\">0</span>]        │\n",
       "├───────────────────────────┼────────────────────────┼────────────────┼────────────────────────┤\n",
       "│ concatenate_3             │ (<span style=\"color: #00d7ff; text-decoration-color: #00d7ff\">None</span>, <span style=\"color: #00af00; text-decoration-color: #00af00\">100</span>, <span style=\"color: #00af00; text-decoration-color: #00af00\">228</span>)       │              <span style=\"color: #00af00; text-decoration-color: #00af00\">0</span> │ embedding_9[<span style=\"color: #00af00; text-decoration-color: #00af00\">0</span>][<span style=\"color: #00af00; text-decoration-color: #00af00\">0</span>],     │\n",
       "│ (<span style=\"color: #0087ff; text-decoration-color: #0087ff\">Concatenate</span>)             │                        │                │ tile_layer_3[<span style=\"color: #00af00; text-decoration-color: #00af00\">0</span>][<span style=\"color: #00af00; text-decoration-color: #00af00\">0</span>]     │\n",
       "├───────────────────────────┼────────────────────────┼────────────────┼────────────────────────┤\n",
       "│ bidirectional_5           │ (<span style=\"color: #00d7ff; text-decoration-color: #00d7ff\">None</span>, <span style=\"color: #00af00; text-decoration-color: #00af00\">100</span>, <span style=\"color: #00af00; text-decoration-color: #00af00\">48</span>)        │         <span style=\"color: #00af00; text-decoration-color: #00af00\">48,576</span> │ concatenate_3[<span style=\"color: #00af00; text-decoration-color: #00af00\">0</span>][<span style=\"color: #00af00; text-decoration-color: #00af00\">0</span>]    │\n",
       "│ (<span style=\"color: #0087ff; text-decoration-color: #0087ff\">Bidirectional</span>)           │                        │                │                        │\n",
       "├───────────────────────────┼────────────────────────┼────────────────┼────────────────────────┤\n",
       "│ attention_3 (<span style=\"color: #0087ff; text-decoration-color: #0087ff\">Attention</span>)   │ (<span style=\"color: #00d7ff; text-decoration-color: #00d7ff\">None</span>, <span style=\"color: #00af00; text-decoration-color: #00af00\">100</span>, <span style=\"color: #00af00; text-decoration-color: #00af00\">48</span>)        │              <span style=\"color: #00af00; text-decoration-color: #00af00\">0</span> │ bidirectional_5[<span style=\"color: #00af00; text-decoration-color: #00af00\">0</span>][<span style=\"color: #00af00; text-decoration-color: #00af00\">0</span>], │\n",
       "│                           │                        │                │ bidirectional_5[<span style=\"color: #00af00; text-decoration-color: #00af00\">0</span>][<span style=\"color: #00af00; text-decoration-color: #00af00\">0</span>]  │\n",
       "├───────────────────────────┼────────────────────────┼────────────────┼────────────────────────┤\n",
       "│ global_average_pooling1d… │ (<span style=\"color: #00d7ff; text-decoration-color: #00d7ff\">None</span>, <span style=\"color: #00af00; text-decoration-color: #00af00\">48</span>)             │              <span style=\"color: #00af00; text-decoration-color: #00af00\">0</span> │ attention_3[<span style=\"color: #00af00; text-decoration-color: #00af00\">0</span>][<span style=\"color: #00af00; text-decoration-color: #00af00\">0</span>]      │\n",
       "│ (<span style=\"color: #0087ff; text-decoration-color: #0087ff\">GlobalAveragePooling1D</span>)  │                        │                │                        │\n",
       "├───────────────────────────┼────────────────────────┼────────────────┼────────────────────────┤\n",
       "│ dense_16 (<span style=\"color: #0087ff; text-decoration-color: #0087ff\">Dense</span>)          │ (<span style=\"color: #00d7ff; text-decoration-color: #00d7ff\">None</span>, <span style=\"color: #00af00; text-decoration-color: #00af00\">8</span>)              │            <span style=\"color: #00af00; text-decoration-color: #00af00\">392</span> │ global_average_poolin… │\n",
       "├───────────────────────────┼────────────────────────┼────────────────┼────────────────────────┤\n",
       "│ dropout_8 (<span style=\"color: #0087ff; text-decoration-color: #0087ff\">Dropout</span>)       │ (<span style=\"color: #00d7ff; text-decoration-color: #00d7ff\">None</span>, <span style=\"color: #00af00; text-decoration-color: #00af00\">8</span>)              │              <span style=\"color: #00af00; text-decoration-color: #00af00\">0</span> │ dense_16[<span style=\"color: #00af00; text-decoration-color: #00af00\">0</span>][<span style=\"color: #00af00; text-decoration-color: #00af00\">0</span>]         │\n",
       "├───────────────────────────┼────────────────────────┼────────────────┼────────────────────────┤\n",
       "│ dense_17 (<span style=\"color: #0087ff; text-decoration-color: #0087ff\">Dense</span>)          │ (<span style=\"color: #00d7ff; text-decoration-color: #00d7ff\">None</span>, <span style=\"color: #00af00; text-decoration-color: #00af00\">1</span>)              │              <span style=\"color: #00af00; text-decoration-color: #00af00\">9</span> │ dropout_8[<span style=\"color: #00af00; text-decoration-color: #00af00\">0</span>][<span style=\"color: #00af00; text-decoration-color: #00af00\">0</span>]        │\n",
       "└───────────────────────────┴────────────────────────┴────────────────┴────────────────────────┘\n",
       "</pre>\n"
      ],
      "text/plain": [
       "┏━━━━━━━━━━━━━━━━━━━━━━━━━━━┳━━━━━━━━━━━━━━━━━━━━━━━━┳━━━━━━━━━━━━━━━━┳━━━━━━━━━━━━━━━━━━━━━━━━┓\n",
       "┃\u001b[1m \u001b[0m\u001b[1mLayer (type)             \u001b[0m\u001b[1m \u001b[0m┃\u001b[1m \u001b[0m\u001b[1mOutput Shape          \u001b[0m\u001b[1m \u001b[0m┃\u001b[1m \u001b[0m\u001b[1m       Param #\u001b[0m\u001b[1m \u001b[0m┃\u001b[1m \u001b[0m\u001b[1mConnected to          \u001b[0m\u001b[1m \u001b[0m┃\n",
       "┡━━━━━━━━━━━━━━━━━━━━━━━━━━━╇━━━━━━━━━━━━━━━━━━━━━━━━╇━━━━━━━━━━━━━━━━╇━━━━━━━━━━━━━━━━━━━━━━━━┩\n",
       "│ input_layer_10            │ (\u001b[38;5;45mNone\u001b[0m, \u001b[38;5;34m200\u001b[0m)            │              \u001b[38;5;34m0\u001b[0m │ -                      │\n",
       "│ (\u001b[38;5;33mInputLayer\u001b[0m)              │                        │                │                        │\n",
       "├───────────────────────────┼────────────────────────┼────────────────┼────────────────────────┤\n",
       "│ embedding_10 (\u001b[38;5;33mEmbedding\u001b[0m)  │ (\u001b[38;5;45mNone\u001b[0m, \u001b[38;5;34m200\u001b[0m, \u001b[38;5;34m50\u001b[0m)        │          \u001b[38;5;34m2,500\u001b[0m │ input_layer_10[\u001b[38;5;34m0\u001b[0m][\u001b[38;5;34m0\u001b[0m]   │\n",
       "├───────────────────────────┼────────────────────────┼────────────────┼────────────────────────┤\n",
       "│ conv1d_3 (\u001b[38;5;33mConv1D\u001b[0m)         │ (\u001b[38;5;45mNone\u001b[0m, \u001b[38;5;34m200\u001b[0m, \u001b[38;5;34m100\u001b[0m)       │         \u001b[38;5;34m15,100\u001b[0m │ embedding_10[\u001b[38;5;34m0\u001b[0m][\u001b[38;5;34m0\u001b[0m]     │\n",
       "├───────────────────────────┼────────────────────────┼────────────────┼────────────────────────┤\n",
       "│ global_max_pooling1d_5    │ (\u001b[38;5;45mNone\u001b[0m, \u001b[38;5;34m100\u001b[0m)            │              \u001b[38;5;34m0\u001b[0m │ conv1d_3[\u001b[38;5;34m0\u001b[0m][\u001b[38;5;34m0\u001b[0m]         │\n",
       "│ (\u001b[38;5;33mGlobalMaxPooling1D\u001b[0m)      │                        │                │                        │\n",
       "├───────────────────────────┼────────────────────────┼────────────────┼────────────────────────┤\n",
       "│ input_layer_9             │ (\u001b[38;5;45mNone\u001b[0m, \u001b[38;5;34m100\u001b[0m)            │              \u001b[38;5;34m0\u001b[0m │ -                      │\n",
       "│ (\u001b[38;5;33mInputLayer\u001b[0m)              │                        │                │                        │\n",
       "├───────────────────────────┼────────────────────────┼────────────────┼────────────────────────┤\n",
       "│ reshape_3 (\u001b[38;5;33mReshape\u001b[0m)       │ (\u001b[38;5;45mNone\u001b[0m, \u001b[38;5;34m1\u001b[0m, \u001b[38;5;34m100\u001b[0m)         │              \u001b[38;5;34m0\u001b[0m │ global_max_pooling1d_… │\n",
       "├───────────────────────────┼────────────────────────┼────────────────┼────────────────────────┤\n",
       "│ embedding_9 (\u001b[38;5;33mEmbedding\u001b[0m)   │ (\u001b[38;5;45mNone\u001b[0m, \u001b[38;5;34m100\u001b[0m, \u001b[38;5;34m128\u001b[0m)       │      \u001b[38;5;34m1,280,000\u001b[0m │ input_layer_9[\u001b[38;5;34m0\u001b[0m][\u001b[38;5;34m0\u001b[0m]    │\n",
       "├───────────────────────────┼────────────────────────┼────────────────┼────────────────────────┤\n",
       "│ tile_layer_3 (\u001b[38;5;33mTileLayer\u001b[0m)  │ (\u001b[38;5;45mNone\u001b[0m, \u001b[38;5;34m100\u001b[0m, \u001b[38;5;34m100\u001b[0m)       │              \u001b[38;5;34m0\u001b[0m │ reshape_3[\u001b[38;5;34m0\u001b[0m][\u001b[38;5;34m0\u001b[0m]        │\n",
       "├───────────────────────────┼────────────────────────┼────────────────┼────────────────────────┤\n",
       "│ concatenate_3             │ (\u001b[38;5;45mNone\u001b[0m, \u001b[38;5;34m100\u001b[0m, \u001b[38;5;34m228\u001b[0m)       │              \u001b[38;5;34m0\u001b[0m │ embedding_9[\u001b[38;5;34m0\u001b[0m][\u001b[38;5;34m0\u001b[0m],     │\n",
       "│ (\u001b[38;5;33mConcatenate\u001b[0m)             │                        │                │ tile_layer_3[\u001b[38;5;34m0\u001b[0m][\u001b[38;5;34m0\u001b[0m]     │\n",
       "├───────────────────────────┼────────────────────────┼────────────────┼────────────────────────┤\n",
       "│ bidirectional_5           │ (\u001b[38;5;45mNone\u001b[0m, \u001b[38;5;34m100\u001b[0m, \u001b[38;5;34m48\u001b[0m)        │         \u001b[38;5;34m48,576\u001b[0m │ concatenate_3[\u001b[38;5;34m0\u001b[0m][\u001b[38;5;34m0\u001b[0m]    │\n",
       "│ (\u001b[38;5;33mBidirectional\u001b[0m)           │                        │                │                        │\n",
       "├───────────────────────────┼────────────────────────┼────────────────┼────────────────────────┤\n",
       "│ attention_3 (\u001b[38;5;33mAttention\u001b[0m)   │ (\u001b[38;5;45mNone\u001b[0m, \u001b[38;5;34m100\u001b[0m, \u001b[38;5;34m48\u001b[0m)        │              \u001b[38;5;34m0\u001b[0m │ bidirectional_5[\u001b[38;5;34m0\u001b[0m][\u001b[38;5;34m0\u001b[0m], │\n",
       "│                           │                        │                │ bidirectional_5[\u001b[38;5;34m0\u001b[0m][\u001b[38;5;34m0\u001b[0m]  │\n",
       "├───────────────────────────┼────────────────────────┼────────────────┼────────────────────────┤\n",
       "│ global_average_pooling1d… │ (\u001b[38;5;45mNone\u001b[0m, \u001b[38;5;34m48\u001b[0m)             │              \u001b[38;5;34m0\u001b[0m │ attention_3[\u001b[38;5;34m0\u001b[0m][\u001b[38;5;34m0\u001b[0m]      │\n",
       "│ (\u001b[38;5;33mGlobalAveragePooling1D\u001b[0m)  │                        │                │                        │\n",
       "├───────────────────────────┼────────────────────────┼────────────────┼────────────────────────┤\n",
       "│ dense_16 (\u001b[38;5;33mDense\u001b[0m)          │ (\u001b[38;5;45mNone\u001b[0m, \u001b[38;5;34m8\u001b[0m)              │            \u001b[38;5;34m392\u001b[0m │ global_average_poolin… │\n",
       "├───────────────────────────┼────────────────────────┼────────────────┼────────────────────────┤\n",
       "│ dropout_8 (\u001b[38;5;33mDropout\u001b[0m)       │ (\u001b[38;5;45mNone\u001b[0m, \u001b[38;5;34m8\u001b[0m)              │              \u001b[38;5;34m0\u001b[0m │ dense_16[\u001b[38;5;34m0\u001b[0m][\u001b[38;5;34m0\u001b[0m]         │\n",
       "├───────────────────────────┼────────────────────────┼────────────────┼────────────────────────┤\n",
       "│ dense_17 (\u001b[38;5;33mDense\u001b[0m)          │ (\u001b[38;5;45mNone\u001b[0m, \u001b[38;5;34m1\u001b[0m)              │              \u001b[38;5;34m9\u001b[0m │ dropout_8[\u001b[38;5;34m0\u001b[0m][\u001b[38;5;34m0\u001b[0m]        │\n",
       "└───────────────────────────┴────────────────────────┴────────────────┴────────────────────────┘\n"
      ]
     },
     "metadata": {},
     "output_type": "display_data"
    },
    {
     "data": {
      "text/html": [
       "<pre style=\"white-space:pre;overflow-x:auto;line-height:normal;font-family:Menlo,'DejaVu Sans Mono',consolas,'Courier New',monospace\"><span style=\"font-weight: bold\"> Total params: </span><span style=\"color: #00af00; text-decoration-color: #00af00\">1,346,577</span> (5.14 MB)\n",
       "</pre>\n"
      ],
      "text/plain": [
       "\u001b[1m Total params: \u001b[0m\u001b[38;5;34m1,346,577\u001b[0m (5.14 MB)\n"
      ]
     },
     "metadata": {},
     "output_type": "display_data"
    },
    {
     "data": {
      "text/html": [
       "<pre style=\"white-space:pre;overflow-x:auto;line-height:normal;font-family:Menlo,'DejaVu Sans Mono',consolas,'Courier New',monospace\"><span style=\"font-weight: bold\"> Trainable params: </span><span style=\"color: #00af00; text-decoration-color: #00af00\">1,346,577</span> (5.14 MB)\n",
       "</pre>\n"
      ],
      "text/plain": [
       "\u001b[1m Trainable params: \u001b[0m\u001b[38;5;34m1,346,577\u001b[0m (5.14 MB)\n"
      ]
     },
     "metadata": {},
     "output_type": "display_data"
    },
    {
     "data": {
      "text/html": [
       "<pre style=\"white-space:pre;overflow-x:auto;line-height:normal;font-family:Menlo,'DejaVu Sans Mono',consolas,'Courier New',monospace\"><span style=\"font-weight: bold\"> Non-trainable params: </span><span style=\"color: #00af00; text-decoration-color: #00af00\">0</span> (0.00 B)\n",
       "</pre>\n"
      ],
      "text/plain": [
       "\u001b[1m Non-trainable params: \u001b[0m\u001b[38;5;34m0\u001b[0m (0.00 B)\n"
      ]
     },
     "metadata": {},
     "output_type": "display_data"
    }
   ],
   "source": [
    "# create model C\n",
    "\n",
    "# Custom Layer for Tiling\n",
    "class TileLayer(Layer):\n",
    "    def __init__(self, **kwargs):\n",
    "        super(TileLayer, self).__init__(**kwargs)\n",
    "\n",
    "    def call(self, inputs):\n",
    "        return tf.tile(inputs, [1, max_length, 1])\n",
    "\n",
    "# Word Embedding Layer\n",
    "word_input = Input(shape=(max_length,))\n",
    "word_embedding = Embedding(input_dim=vocab_size, output_dim=embedding_dim)(word_input)\n",
    "\n",
    "# Character Embedding Layer\n",
    "char_input = Input(shape=(max_char_length,))\n",
    "char_embedding = Embedding(input_dim=char_vocab_size, output_dim=char_embedding_dim)(char_input)\n",
    "char_cnn = Conv1D(filters=100, kernel_size=3, padding='same', activation='relu')(char_embedding)\n",
    "char_pooling = GlobalMaxPool1D()(char_cnn)\n",
    "\n",
    "# Reshape char_pooling to match word_embedding\n",
    "char_pooling_reshaped = Reshape((1, -1))(char_pooling)\n",
    "char_pooling_repeated = TileLayer()(char_pooling_reshaped)\n",
    "\n",
    "# Combine Word and Character Embeddings\n",
    "merged_embedding = Concatenate()([word_embedding, char_pooling_repeated])\n",
    "\n",
    "# BiLSTM Layer\n",
    "bilstm = Bidirectional(LSTM(24, return_sequences=True))(merged_embedding)\n",
    "\n",
    "# Attention Layer\n",
    "attention = Attention()([bilstm, bilstm])\n",
    "attention_pooling = GlobalAveragePooling1D()(attention)\n",
    "\n",
    "# Fully Connected Layers\n",
    "fc1 = Dense(8, activation='relu', kernel_regularizer=l1_l2(l1=0.001, l2=0.001))(attention_pooling)\n",
    "dropout = Dropout(0.35)(fc1)\n",
    "output = Dense(1, activation='sigmoid')(dropout)\n",
    "\n",
    "# Create and Compile Model\n",
    "model_C = Model(inputs=[word_input, char_input], outputs=output)\n",
    "model_C.compile(optimizer=Adam(learning_rate=0.001), loss='binary_crossentropy', metrics=['accuracy'])\n",
    "\n",
    "# Print Model Summary\n",
    "model_C.summary()"
   ]
  },
  {
   "cell_type": "code",
   "execution_count": 56,
   "metadata": {
    "colab": {
     "base_uri": "https://localhost:8080/"
    },
    "id": "IQQbzeL1M7wN",
    "outputId": "1414b6e2-c3b7-438f-8ece-9138374b740c"
   },
   "outputs": [
    {
     "name": "stdout",
     "output_type": "stream",
     "text": [
      "Epoch 1/300\n",
      "\u001b[1m21/21\u001b[0m \u001b[32m━━━━━━━━━━━━━━━━━━━━\u001b[0m\u001b[37m\u001b[0m \u001b[1m9s\u001b[0m 168ms/step - accuracy: 0.5012 - loss: 0.7653 - val_accuracy: 0.5509 - val_loss: 0.7471\n",
      "Epoch 2/300\n",
      "\u001b[1m21/21\u001b[0m \u001b[32m━━━━━━━━━━━━━━━━━━━━\u001b[0m\u001b[37m\u001b[0m \u001b[1m5s\u001b[0m 251ms/step - accuracy: 0.5717 - loss: 0.7293 - val_accuracy: 0.7305 - val_loss: 0.6613\n",
      "Epoch 3/300\n",
      "\u001b[1m21/21\u001b[0m \u001b[32m━━━━━━━━━━━━━━━━━━━━\u001b[0m\u001b[37m\u001b[0m \u001b[1m8s\u001b[0m 140ms/step - accuracy: 0.8246 - loss: 0.6036 - val_accuracy: 0.7605 - val_loss: 0.5336\n",
      "Epoch 4/300\n",
      "\u001b[1m21/21\u001b[0m \u001b[32m━━━━━━━━━━━━━━━━━━━━\u001b[0m\u001b[37m\u001b[0m \u001b[1m4s\u001b[0m 178ms/step - accuracy: 0.8676 - loss: 0.4151 - val_accuracy: 0.8144 - val_loss: 0.4753\n",
      "Epoch 5/300\n",
      "\u001b[1m21/21\u001b[0m \u001b[32m━━━━━━━━━━━━━━━━━━━━\u001b[0m\u001b[37m\u001b[0m \u001b[1m5s\u001b[0m 215ms/step - accuracy: 0.9541 - loss: 0.3130 - val_accuracy: 0.8144 - val_loss: 0.4725\n",
      "Epoch 6/300\n",
      "\u001b[1m21/21\u001b[0m \u001b[32m━━━━━━━━━━━━━━━━━━━━\u001b[0m\u001b[37m\u001b[0m \u001b[1m3s\u001b[0m 141ms/step - accuracy: 0.9685 - loss: 0.2818 - val_accuracy: 0.8084 - val_loss: 0.4606\n",
      "Epoch 7/300\n",
      "\u001b[1m21/21\u001b[0m \u001b[32m━━━━━━━━━━━━━━━━━━━━\u001b[0m\u001b[37m\u001b[0m \u001b[1m5s\u001b[0m 139ms/step - accuracy: 0.9747 - loss: 0.2350 - val_accuracy: 0.8024 - val_loss: 0.4822\n",
      "Epoch 8/300\n",
      "\u001b[1m21/21\u001b[0m \u001b[32m━━━━━━━━━━━━━━━━━━━━\u001b[0m\u001b[37m\u001b[0m \u001b[1m4s\u001b[0m 217ms/step - accuracy: 0.9861 - loss: 0.1771 - val_accuracy: 0.8323 - val_loss: 0.5706\n",
      "Epoch 9/300\n",
      "\u001b[1m21/21\u001b[0m \u001b[32m━━━━━━━━━━━━━━━━━━━━\u001b[0m\u001b[37m\u001b[0m \u001b[1m4s\u001b[0m 142ms/step - accuracy: 0.9862 - loss: 0.1764 - val_accuracy: 0.8263 - val_loss: 0.5780\n"
     ]
    }
   ],
   "source": [
    "# compile model\n",
    "model_C.compile(optimizer=Adam(learning_rate=0.001),\n",
    "              loss='binary_crossentropy',\n",
    "              metrics=['accuracy'])\n",
    "\n",
    "# set up early stopping\n",
    "early_stopping = EarlyStopping(monitor='val_loss', patience=3, restore_best_weights=True)\n",
    "\n",
    "# model training\n",
    "history = model_C.fit([padded_train_sequences, padded_train_char_sequences], y_train,\n",
    "                      epochs=300,\n",
    "                      validation_data=([padded_test_sequences, padded_test_char_sequences], y_test),\n",
    "                      batch_size=32,\n",
    "                      callbacks=[early_stopping])"
   ]
  },
  {
   "cell_type": "code",
   "execution_count": 57,
   "metadata": {
    "colab": {
     "base_uri": "https://localhost:8080/",
     "height": 407
    },
    "id": "sv2oFNY1M7wN",
    "outputId": "f4ec5efe-720e-485a-ca33-942a672511f9"
   },
   "outputs": [
    {
     "data": {
      "image/png": "[encoded data removed]",
      "text/plain": [
       "<Figure size 1200x400 with 2 Axes>"
      ]
     },
     "metadata": {},
     "output_type": "display_data"
    }
   ],
   "source": [
    "# training & validation loss values\n",
    "plt.figure(figsize=(12, 4))\n",
    "\n",
    "plt.subplot(1, 2, 1)\n",
    "plt.plot(history.history['loss'], label='Training Loss')\n",
    "plt.plot(history.history['val_loss'], label='Validation Loss')\n",
    "plt.title('Model Loss')\n",
    "plt.xlabel('Epoch')\n",
    "plt.ylabel('Loss')\n",
    "plt.legend(loc='upper right')\n",
    "\n",
    "# training & validation accuracy values\n",
    "plt.subplot(1, 2, 2)\n",
    "plt.plot(history.history['accuracy'], label='Training Accuracy')\n",
    "plt.plot(history.history['val_accuracy'], label='Validation Accuracy')\n",
    "plt.title('Model Accuracy')\n",
    "plt.xlabel('Epoch')\n",
    "plt.ylabel('Accuracy')\n",
    "plt.legend(loc='lower right')\n",
    "\n",
    "plt.tight_layout()\n",
    "plt.show()"
   ]
  },
  {
   "cell_type": "markdown",
   "metadata": {
    "id": "mDN06OWoM7wN"
   },
   "source": [
    "### Evaluate and save model"
   ]
  },
  {
   "cell_type": "code",
   "execution_count": 59,
   "metadata": {
    "colab": {
     "base_uri": "https://localhost:8080/",
     "height": 576
    },
    "id": "vs9QkhSCM7wO",
    "outputId": "c13abc76-0605-4e23-a466-35b29d077ebf"
   },
   "outputs": [
    {
     "name": "stdout",
     "output_type": "stream",
     "text": [
      "\u001b[1m6/6\u001b[0m \u001b[32m━━━━━━━━━━━━━━━━━━━━\u001b[0m\u001b[37m\u001b[0m \u001b[1m0s\u001b[0m 58ms/step - accuracy: 0.7868 - loss: 0.4610\n",
      "Test Accuracy: 80.84%\n",
      "\u001b[1m6/6\u001b[0m \u001b[32m━━━━━━━━━━━━━━━━━━━━\u001b[0m\u001b[37m\u001b[0m \u001b[1m0s\u001b[0m 29ms/step\n"
     ]
    },
    {
     "data": {
      "image/png": "[encoded data removed]",
      "text/plain": [
       "<Figure size 500x500 with 2 Axes>"
      ]
     },
     "metadata": {},
     "output_type": "display_data"
    },
    {
     "name": "stderr",
     "output_type": "stream",
     "text": [
      "WARNING:absl:You are saving your model as an HDF5 file via `model.save()` or `keras.saving.save_model(model)`. This file format is considered legacy. We recommend using instead the native Keras format, e.g. `model.save('my_model.keras')` or `keras.saving.save_model(model, 'my_model.keras')`. \n"
     ]
    }
   ],
   "source": [
    "import pickle\n",
    "\n",
    "# Evaluate the model\n",
    "loss, accuracy = model_C.evaluate([padded_test_sequences, padded_test_char_sequences], y_test)\n",
    "print(f'Test Accuracy: {accuracy * 100:.2f}%')\n",
    "\n",
    "y_pred_prob = model_C.predict([padded_test_sequences, padded_test_char_sequences])\n",
    "y_pred = (y_pred_prob > 0.5).astype(int)\n",
    "\n",
    "# Compute confusion matrix\n",
    "cm = confusion_matrix(y_test, y_pred)\n",
    "\n",
    "# Plot confusion matrix\n",
    "plt.figure(figsize=(5, 5))\n",
    "sns.heatmap(cm, annot=True, fmt='d', cmap='Blues', xticklabels=['conservative','liberalism'], yticklabels=['conservative','liberalism'])\n",
    "plt.title(\"Confusion Matrix\")\n",
    "plt.xlabel('Predicted')\n",
    "plt.ylabel('Actual')\n",
    "plt.show()\n",
    "\n",
    "# Save the model with HDF5 format\n",
    "model_C.save('liberalism_conservative_C.h5')\n",
    "\n",
    "# Save the model with pickle format\n",
    "with open('tokenizer_liberalism_conservative_C.pkl', 'wb') as f:\n",
    "    pickle.dump(tokenizer, f)"
   ]
  },
  {
   "cell_type": "markdown",
   "metadata": {
    "id": "jxjXQtqsM7wO"
   },
   "source": [
    "### Convert to TFLite"
   ]
  },
  {
   "cell_type": "code",
   "execution_count": 60,
   "metadata": {
    "colab": {
     "base_uri": "https://localhost:8080/"
    },
    "id": "ltMWbGMTM7wO",
    "outputId": "fd7f3f09-fffa-407c-a1d9-b29d04134abf"
   },
   "outputs": [
    {
     "name": "stdout",
     "output_type": "stream",
     "text": [
      "Saved artifact at '/tmp/tmp5ht19zck'. The following endpoints are available:\n",
      "\n",
      "* Endpoint 'serve'\n",
      "  args_0 (POSITIONAL_ONLY): TensorSpec(shape=(None, 100), dtype=tf.float32, name='keras_tensor')\n",
      "Output Type:\n",
      "  TensorSpec(shape=(None, 1), dtype=tf.float32, name=None)\n",
      "Captures:\n",
      "  133211668750304: TensorSpec(shape=(), dtype=tf.resource, name=None)\n",
      "  133211668754880: TensorSpec(shape=(), dtype=tf.resource, name=None)\n",
      "  133211669075344: TensorSpec(shape=(), dtype=tf.resource, name=None)\n",
      "  133211668756288: TensorSpec(shape=(), dtype=tf.resource, name=None)\n",
      "  133211669072704: TensorSpec(shape=(), dtype=tf.resource, name=None)\n",
      "Model has been saved as TensorFlow Lite format.\n"
     ]
    }
   ],
   "source": [
    "# Convert the model with Select TF ops\n",
    "converter = tf.lite.TFLiteConverter.from_keras_model(model_A)\n",
    "converter.target_spec.supported_ops = [tf.lite.OpsSet.TFLITE_BUILTINS, tf.lite.OpsSet.SELECT_TF_OPS]\n",
    "converter._experimental_lower_tensor_list_ops = False\n",
    "tflite_model = converter.convert()\n",
    "\n",
    "# Save the model\n",
    "with open('liberalism_conservative_C.tflite', 'wb') as f:\n",
    "    f.write(tflite_model)\n",
    "\n",
    "print('Model has been saved as TensorFlow Lite format.')"
   ]
  },
  {
   "cell_type": "markdown",
   "metadata": {
    "id": "ueLYnPJS1vI_"
   },
   "source": [
    "# Download model"
   ]
  },
  {
   "cell_type": "code",
   "execution_count": 61,
   "metadata": {
    "colab": {
     "base_uri": "https://localhost:8080/",
     "height": 17
    },
    "id": "RpDCEVHQ1x4Q",
    "outputId": "e6c4141c-989d-4187-a719-af09df3d402b"
   },
   "outputs": [
    {
     "data": {
      "application/javascript": "\n    async function download(id, filename, size) {\n      if (!google.colab.kernel.accessAllowed) {\n        return;\n      }\n      const div = document.createElement('div');\n      const label = document.createElement('label');\n      label.textContent = `Downloading \"${filename}\": `;\n      div.appendChild(label);\n      const progress = document.createElement('progress');\n      progress.max = size;\n      div.appendChild(progress);\n      document.body.appendChild(div);\n\n      const buffers = [];\n      let downloaded = 0;\n\n      const channel = await google.colab.kernel.comms.open(id);\n      // Send a message to notify the kernel that we're ready.\n      channel.send({})\n\n      for await (const message of channel.messages) {\n        // Send a message to notify the kernel that we're ready.\n        channel.send({})\n        if (message.buffers) {\n          for (const buffer of message.buffers) {\n            buffers.push(buffer);\n            downloaded += buffer.byteLength;\n            progress.value = downloaded;\n          }\n        }\n      }\n      const blob = new Blob(buffers, {type: 'application/binary'});\n      const a = document.createElement('a');\n      a.href = window.URL.createObjectURL(blob);\n      a.download = filename;\n      div.appendChild(a);\n      a.click();\n      div.remove();\n    }\n  ",
      "text/plain": [
       "<IPython.core.display.Javascript object>"
      ]
     },
     "metadata": {},
     "output_type": "display_data"
    },
    {
     "data": {
      "application/javascript": "download(\"download_ec3738c3-096e-43de-ab51-5b7016430465\", \"liberalism_conservative_A.tflite\", 5127220)",
      "text/plain": [
       "<IPython.core.display.Javascript object>"
      ]
     },
     "metadata": {},
     "output_type": "display_data"
    },
    {
     "data": {
      "application/javascript": "\n    async function download(id, filename, size) {\n      if (!google.colab.kernel.accessAllowed) {\n        return;\n      }\n      const div = document.createElement('div');\n      const label = document.createElement('label');\n      label.textContent = `Downloading \"${filename}\": `;\n      div.appendChild(label);\n      const progress = document.createElement('progress');\n      progress.max = size;\n      div.appendChild(progress);\n      document.body.appendChild(div);\n\n      const buffers = [];\n      let downloaded = 0;\n\n      const channel = await google.colab.kernel.comms.open(id);\n      // Send a message to notify the kernel that we're ready.\n      channel.send({})\n\n      for await (const message of channel.messages) {\n        // Send a message to notify the kernel that we're ready.\n        channel.send({})\n        if (message.buffers) {\n          for (const buffer of message.buffers) {\n            buffers.push(buffer);\n            downloaded += buffer.byteLength;\n            progress.value = downloaded;\n          }\n        }\n      }\n      const blob = new Blob(buffers, {type: 'application/binary'});\n      const a = document.createElement('a');\n      a.href = window.URL.createObjectURL(blob);\n      a.download = filename;\n      div.appendChild(a);\n      a.click();\n      div.remove();\n    }\n  ",
      "text/plain": [
       "<IPython.core.display.Javascript object>"
      ]
     },
     "metadata": {},
     "output_type": "display_data"
    },
    {
     "data": {
      "application/javascript": "download(\"download_ced81162-5c49-420d-9410-fbbed6c5ce99\", \"liberalism_conservative_A.h5\", 15406880)",
      "text/plain": [
       "<IPython.core.display.Javascript object>"
      ]
     },
     "metadata": {},
     "output_type": "display_data"
    },
    {
     "data": {
      "application/javascript": "\n    async function download(id, filename, size) {\n      if (!google.colab.kernel.accessAllowed) {\n        return;\n      }\n      const div = document.createElement('div');\n      const label = document.createElement('label');\n      label.textContent = `Downloading \"${filename}\": `;\n      div.appendChild(label);\n      const progress = document.createElement('progress');\n      progress.max = size;\n      div.appendChild(progress);\n      document.body.appendChild(div);\n\n      const buffers = [];\n      let downloaded = 0;\n\n      const channel = await google.colab.kernel.comms.open(id);\n      // Send a message to notify the kernel that we're ready.\n      channel.send({})\n\n      for await (const message of channel.messages) {\n        // Send a message to notify the kernel that we're ready.\n        channel.send({})\n        if (message.buffers) {\n          for (const buffer of message.buffers) {\n            buffers.push(buffer);\n            downloaded += buffer.byteLength;\n            progress.value = downloaded;\n          }\n        }\n      }\n      const blob = new Blob(buffers, {type: 'application/binary'});\n      const a = document.createElement('a');\n      a.href = window.URL.createObjectURL(blob);\n      a.download = filename;\n      div.appendChild(a);\n      a.click();\n      div.remove();\n    }\n  ",
      "text/plain": [
       "<IPython.core.display.Javascript object>"
      ]
     },
     "metadata": {},
     "output_type": "display_data"
    },
    {
     "data": {
      "application/javascript": "download(\"download_5e29b826-6231-4ac1-9e45-c0ccee9d508d\", \"liberalism_conservative_B.tflite\", 5545828)",
      "text/plain": [
       "<IPython.core.display.Javascript object>"
      ]
     },
     "metadata": {},
     "output_type": "display_data"
    },
    {
     "data": {
      "application/javascript": "\n    async function download(id, filename, size) {\n      if (!google.colab.kernel.accessAllowed) {\n        return;\n      }\n      const div = document.createElement('div');\n      const label = document.createElement('label');\n      label.textContent = `Downloading \"${filename}\": `;\n      div.appendChild(label);\n      const progress = document.createElement('progress');\n      progress.max = size;\n      div.appendChild(progress);\n      document.body.appendChild(div);\n\n      const buffers = [];\n      let downloaded = 0;\n\n      const channel = await google.colab.kernel.comms.open(id);\n      // Send a message to notify the kernel that we're ready.\n      channel.send({})\n\n      for await (const message of channel.messages) {\n        // Send a message to notify the kernel that we're ready.\n        channel.send({})\n        if (message.buffers) {\n          for (const buffer of message.buffers) {\n            buffers.push(buffer);\n            downloaded += buffer.byteLength;\n            progress.value = downloaded;\n          }\n        }\n      }\n      const blob = new Blob(buffers, {type: 'application/binary'});\n      const a = document.createElement('a');\n      a.href = window.URL.createObjectURL(blob);\n      a.download = filename;\n      div.appendChild(a);\n      a.click();\n      div.remove();\n    }\n  ",
      "text/plain": [
       "<IPython.core.display.Javascript object>"
      ]
     },
     "metadata": {},
     "output_type": "display_data"
    },
    {
     "data": {
      "application/javascript": "download(\"download_268faa69-c162-48b2-9fbb-8a4457cf81be\", \"liberalism_conservative_B.h5\", 16636840)",
      "text/plain": [
       "<IPython.core.display.Javascript object>"
      ]
     },
     "metadata": {},
     "output_type": "display_data"
    },
    {
     "data": {
      "application/javascript": "\n    async function download(id, filename, size) {\n      if (!google.colab.kernel.accessAllowed) {\n        return;\n      }\n      const div = document.createElement('div');\n      const label = document.createElement('label');\n      label.textContent = `Downloading \"${filename}\": `;\n      div.appendChild(label);\n      const progress = document.createElement('progress');\n      progress.max = size;\n      div.appendChild(progress);\n      document.body.appendChild(div);\n\n      const buffers = [];\n      let downloaded = 0;\n\n      const channel = await google.colab.kernel.comms.open(id);\n      // Send a message to notify the kernel that we're ready.\n      channel.send({})\n\n      for await (const message of channel.messages) {\n        // Send a message to notify the kernel that we're ready.\n        channel.send({})\n        if (message.buffers) {\n          for (const buffer of message.buffers) {\n            buffers.push(buffer);\n            downloaded += buffer.byteLength;\n            progress.value = downloaded;\n          }\n        }\n      }\n      const blob = new Blob(buffers, {type: 'application/binary'});\n      const a = document.createElement('a');\n      a.href = window.URL.createObjectURL(blob);\n      a.download = filename;\n      div.appendChild(a);\n      a.click();\n      div.remove();\n    }\n  ",
      "text/plain": [
       "<IPython.core.display.Javascript object>"
      ]
     },
     "metadata": {},
     "output_type": "display_data"
    },
    {
     "data": {
      "application/javascript": "download(\"download_0901096c-b94a-4f02-ad8e-bf4c238f69b4\", \"liberalism_conservative_C.tflite\", 5127220)",
      "text/plain": [
       "<IPython.core.display.Javascript object>"
      ]
     },
     "metadata": {},
     "output_type": "display_data"
    },
    {
     "data": {
      "application/javascript": "\n    async function download(id, filename, size) {\n      if (!google.colab.kernel.accessAllowed) {\n        return;\n      }\n      const div = document.createElement('div');\n      const label = document.createElement('label');\n      label.textContent = `Downloading \"${filename}\": `;\n      div.appendChild(label);\n      const progress = document.createElement('progress');\n      progress.max = size;\n      div.appendChild(progress);\n      document.body.appendChild(div);\n\n      const buffers = [];\n      let downloaded = 0;\n\n      const channel = await google.colab.kernel.comms.open(id);\n      // Send a message to notify the kernel that we're ready.\n      channel.send({})\n\n      for await (const message of channel.messages) {\n        // Send a message to notify the kernel that we're ready.\n        channel.send({})\n        if (message.buffers) {\n          for (const buffer of message.buffers) {\n            buffers.push(buffer);\n            downloaded += buffer.byteLength;\n            progress.value = downloaded;\n          }\n        }\n      }\n      const blob = new Blob(buffers, {type: 'application/binary'});\n      const a = document.createElement('a');\n      a.href = window.URL.createObjectURL(blob);\n      a.download = filename;\n      div.appendChild(a);\n      a.click();\n      div.remove();\n    }\n  ",
      "text/plain": [
       "<IPython.core.display.Javascript object>"
      ]
     },
     "metadata": {},
     "output_type": "display_data"
    },
    {
     "data": {
      "application/javascript": "download(\"download_d522e719-b992-4ee2-b167-8ec9401e059a\", \"liberalism_conservative_C.h5\", 16230152)",
      "text/plain": [
       "<IPython.core.display.Javascript object>"
      ]
     },
     "metadata": {},
     "output_type": "display_data"
    },
    {
     "data": {
      "application/javascript": "\n    async function download(id, filename, size) {\n      if (!google.colab.kernel.accessAllowed) {\n        return;\n      }\n      const div = document.createElement('div');\n      const label = document.createElement('label');\n      label.textContent = `Downloading \"${filename}\": `;\n      div.appendChild(label);\n      const progress = document.createElement('progress');\n      progress.max = size;\n      div.appendChild(progress);\n      document.body.appendChild(div);\n\n      const buffers = [];\n      let downloaded = 0;\n\n      const channel = await google.colab.kernel.comms.open(id);\n      // Send a message to notify the kernel that we're ready.\n      channel.send({})\n\n      for await (const message of channel.messages) {\n        // Send a message to notify the kernel that we're ready.\n        channel.send({})\n        if (message.buffers) {\n          for (const buffer of message.buffers) {\n            buffers.push(buffer);\n            downloaded += buffer.byteLength;\n            progress.value = downloaded;\n          }\n        }\n      }\n      const blob = new Blob(buffers, {type: 'application/binary'});\n      const a = document.createElement('a');\n      a.href = window.URL.createObjectURL(blob);\n      a.download = filename;\n      div.appendChild(a);\n      a.click();\n      div.remove();\n    }\n  ",
      "text/plain": [
       "<IPython.core.display.Javascript object>"
      ]
     },
     "metadata": {},
     "output_type": "display_data"
    },
    {
     "data": {
      "application/javascript": "download(\"download_09928d00-9140-453b-b013-2116e242cfcf\", \"tokenizer_liberalism_conservative_A.pkl\", 453313)",
      "text/plain": [
       "<IPython.core.display.Javascript object>"
      ]
     },
     "metadata": {},
     "output_type": "display_data"
    },
    {
     "data": {
      "application/javascript": "\n    async function download(id, filename, size) {\n      if (!google.colab.kernel.accessAllowed) {\n        return;\n      }\n      const div = document.createElement('div');\n      const label = document.createElement('label');\n      label.textContent = `Downloading \"${filename}\": `;\n      div.appendChild(label);\n      const progress = document.createElement('progress');\n      progress.max = size;\n      div.appendChild(progress);\n      document.body.appendChild(div);\n\n      const buffers = [];\n      let downloaded = 0;\n\n      const channel = await google.colab.kernel.comms.open(id);\n      // Send a message to notify the kernel that we're ready.\n      channel.send({})\n\n      for await (const message of channel.messages) {\n        // Send a message to notify the kernel that we're ready.\n        channel.send({})\n        if (message.buffers) {\n          for (const buffer of message.buffers) {\n            buffers.push(buffer);\n            downloaded += buffer.byteLength;\n            progress.value = downloaded;\n          }\n        }\n      }\n      const blob = new Blob(buffers, {type: 'application/binary'});\n      const a = document.createElement('a');\n      a.href = window.URL.createObjectURL(blob);\n      a.download = filename;\n      div.appendChild(a);\n      a.click();\n      div.remove();\n    }\n  ",
      "text/plain": [
       "<IPython.core.display.Javascript object>"
      ]
     },
     "metadata": {},
     "output_type": "display_data"
    },
    {
     "data": {
      "application/javascript": "download(\"download_c313177c-159e-43e6-8a52-589a81691c51\", \"tokenizer_liberalism_conservative_B.pkl\", 453313)",
      "text/plain": [
       "<IPython.core.display.Javascript object>"
      ]
     },
     "metadata": {},
     "output_type": "display_data"
    },
    {
     "data": {
      "application/javascript": "\n    async function download(id, filename, size) {\n      if (!google.colab.kernel.accessAllowed) {\n        return;\n      }\n      const div = document.createElement('div');\n      const label = document.createElement('label');\n      label.textContent = `Downloading \"${filename}\": `;\n      div.appendChild(label);\n      const progress = document.createElement('progress');\n      progress.max = size;\n      div.appendChild(progress);\n      document.body.appendChild(div);\n\n      const buffers = [];\n      let downloaded = 0;\n\n      const channel = await google.colab.kernel.comms.open(id);\n      // Send a message to notify the kernel that we're ready.\n      channel.send({})\n\n      for await (const message of channel.messages) {\n        // Send a message to notify the kernel that we're ready.\n        channel.send({})\n        if (message.buffers) {\n          for (const buffer of message.buffers) {\n            buffers.push(buffer);\n            downloaded += buffer.byteLength;\n            progress.value = downloaded;\n          }\n        }\n      }\n      const blob = new Blob(buffers, {type: 'application/binary'});\n      const a = document.createElement('a');\n      a.href = window.URL.createObjectURL(blob);\n      a.download = filename;\n      div.appendChild(a);\n      a.click();\n      div.remove();\n    }\n  ",
      "text/plain": [
       "<IPython.core.display.Javascript object>"
      ]
     },
     "metadata": {},
     "output_type": "display_data"
    },
    {
     "data": {
      "application/javascript": "download(\"download_6bcae0df-dea0-4721-bebe-7d2bd2203fd4\", \"tokenizer_liberalism_conservative_C.pkl\", 453313)",
      "text/plain": [
       "<IPython.core.display.Javascript object>"
      ]
     },
     "metadata": {},
     "output_type": "display_data"
    }
   ],
   "source": [
    "files.download(\"liberalism_conservative_A.tflite\")\n",
    "files.download(\"liberalism_conservative_A.h5\")\n",
    "files.download(\"liberalism_conservative_B.tflite\")\n",
    "files.download(\"liberalism_conservative_B.h5\")\n",
    "files.download(\"liberalism_conservative_C.tflite\")\n",
    "files.download(\"liberalism_conservative_C.h5\")\n",
    "files.download(\"tokenizer_liberalism_conservative_A.pkl\")\n",
    "files.download(\"tokenizer_liberalism_conservative_B.pkl\")\n",
    "files.download(\"tokenizer_liberalism_conservative_C.pkl\")"
   ]
  },
  {
   "cell_type": "markdown",
   "metadata": {
    "id": "7v9WmbZT3ZpG"
   },
   "source": [
    "# Testing"
   ]
  },
  {
   "cell_type": "code",
   "execution_count": null,
   "metadata": {
    "colab": {
     "base_uri": "https://localhost:8080/"
    },
    "id": "MFgiuB-V3bFP",
    "outputId": "43afc950-10ff-4d84-e7f1-76e9e18cb6db"
   },
   "outputs": [
    {
     "name": "stdout",
     "output_type": "stream",
     "text": [
      "Text: Dishub bekerja sama dengan Polri akan menggelar razia kendaraan yang mati pajak, bagi kendaraan yang telat membayar pajak selama 3 tahun atau lebih, kendaraan akan langsung ditahan. Pada pesan tersebut juga menyertakan jadwal razia yang akan dilakukan. Bagi kendaraan yang telat bayar pajak. Berdasarkan data, ada ratusan ribu motor dan mobil yang belum bayar pajak yang masih menggunakan pelat lama. Bagi kendaraan yang telat bayar pajak 3 tahun atau lebih akan langsung dikandangin.\n",
      "Prediction: 0.8528\n",
      "Predicted Label: Hoax\n"
     ]
    }
   ],
   "source": [
    "import pickle\n",
    "import tensorflow as tf\n",
    "from keras.preprocessing.sequence import pad_sequences\n",
    "\n",
    "# Load tokenizer from pickle file\n",
    "with open('tokenizer_liberalism_conservative_A.pkl', 'rb') as f:\n",
    "    tokenizer = pickle.load(f)\n",
    "\n",
    "# Load TFLite model\n",
    "interpreter = tf.lite.Interpreter(model_path='liberalism_conservative_A.tflite')\n",
    "interpreter.allocate_tensors()\n",
    "\n",
    "# Get input and output tensor information\n",
    "input_details = interpreter.get_input_details()\n",
    "output_details = interpreter.get_output_details()\n",
    "\n",
    "# news you want to predict\n",
    "#news_text = [\"Ketua Umum Partai Gerindra Prabowo Subianto mempromosikan produk sprei. Dalam video tersebut, Prabowo mengatakan akan membagikan ribuan sprei karena berhasil menang satu putaran dalam Pemilihan Presiden (Pilpres) 2024.\"]\n",
    "#news_text = [\"Dewan Kehormatan Penyelenggara Pemilu (DKPP) belum menjadwalkan sidang terhadap aduan soal dugaan perbuatan asusila oleh Ketua KPU RI Hasyim Asy'ari terhadap anggota Panitia Pemilihan Luar Negeri (PPLN) yang bertugas di Eropa.\"]\n",
    "#news_text = [\"Serangan Israel ini menewaskan puluhan warga, termasuk anak-anak. Meskipun sudah berkali-kali saya sampaikan, tapi saya ingin mengulang lagi bahwa Indonesia mengecam keras serangan Israel ke Rafah\"]\n",
    "#news_text = [\"Penggalian Jalan Tol di daerah Jawa Timur mengeluarkan Minyak Mentah dengan potensi yang cukup besar\"]\n",
    "#news_text = [\"Bendungan Sepaku Semoi di Kabupaten Penajam Paser Utara akan memasok air baku untuk IKN sebesar 2.000 liter per detik.\"]\n",
    "#news_text = [\"Presiden Joko Widodo atau Jokowi mengecam keras serangan Israel ke Kota Rafah, Gaza Selatan, Palestina. Serangan Israel ini menewaskan puluhan warga, termasuk anak-anak. Meskipun sudah berkali-kali saya sampaikan, tapi saya ingin mengulang lagi bahwa Indonesia mengecam keras serangan Israel ke Rafah kata Jokowi di Kota Dumai, Riau, Sabtu (1/6/2024). Dia meminta Israel untuk menataati perintah dari Mahkamah Internasional. Termasuk, menghentikan serangan ke Kota Rafah, Gaza, Palestina. Dan Israel mestinya memiliki kewajiban untuk mentaati mahkamah internasional, termasuk penghentian serangan ke Palestina jelasnya. \"]\n",
    "news_text = [\"Dishub bekerja sama dengan Polri akan menggelar razia kendaraan yang mati pajak, bagi kendaraan yang telat membayar pajak selama 3 tahun atau lebih, kendaraan akan langsung ditahan. Pada pesan tersebut juga menyertakan jadwal razia yang akan dilakukan. Bagi kendaraan yang telat bayar pajak. Berdasarkan data, ada ratusan ribu motor dan mobil yang belum bayar pajak yang masih menggunakan pelat lama. Bagi kendaraan yang telat bayar pajak 3 tahun atau lebih akan langsung dikandangin.\"]\n",
    "\n",
    "# Tokenization and padding of news\n",
    "new_sequences = tokenizer.texts_to_sequences(news_text)\n",
    "max_len = 100  # Make sure the maximum length matches the one used when training the model\n",
    "new_padded = pad_sequences(new_sequences, maxlen=max_len)\n",
    "\n",
    "# Convert input data to float32 type\n",
    "new_padded = new_padded.astype('float32')\n",
    "\n",
    "# Set the input tensor with compacted data\n",
    "interpreter.set_tensor(input_details[0]['index'], new_padded)\n",
    "\n",
    "# Run the interpreter to make predictions\n",
    "interpreter.invoke()\n",
    "\n",
    "# Get the prediction result from the output tensor\n",
    "predictions_tflite = interpreter.get_tensor(output_details[0]['index'])\n",
    "\n",
    "# Interpreting prediction results\n",
    "predicted_labels_tflite = [1 if pred > 0.5 else 0 for pred in predictions_tflite]\n",
    "\n",
    "# Show the prediction result\n",
    "for text, pred, label in zip(news_text, predictions_tflite, predicted_labels_tflite):\n",
    "    print(f'Text: {text}')\n",
    "    print(f'Prediction: {pred[0]:.4f}')\n",
    "    print(f'Predicted Label: {\"Liberal\" if label == 1 else \"Konservatif\"}')"
   ]
  }
 ],
 "metadata": {
  "colab": {
   "provenance": [],
   "toc_visible": true
  },
  "kernelspec": {
   "display_name": "Python 3",
   "name": "python3"
  },
  "language_info": {
   "name": "python"
  },
  "widgets": {
   "application/vnd.jupyter.widget-state+json": {
    "0cdd2e616ce040eca2247810c0f69fb7": {
     "model_module": "@jupyter-widgets/base",
     "model_module_version": "1.2.0",
     "model_name": "LayoutModel",
     "state": {
      "_model_module": "@jupyter-widgets/base",
      "_model_module_version": "1.2.0",
      "_model_name": "LayoutModel",
      "_view_count": null,
      "_view_module": "@jupyter-widgets/base",
      "_view_module_version": "1.2.0",
      "_view_name": "LayoutView",
      "align_content": null,
      "align_items": null,
      "align_self": null,
      "border": null,
      "bottom": null,
      "display": null,
      "flex": null,
      "flex_flow": null,
      "grid_area": null,
      "grid_auto_columns": null,
      "grid_auto_flow": null,
      "grid_auto_rows": null,
      "grid_column": null,
      "grid_gap": null,
      "grid_row": null,
      "grid_template_areas": null,
      "grid_template_columns": null,
      "grid_template_rows": null,
      "height": null,
      "justify_content": null,
      "justify_items": null,
      "left": null,
      "margin": null,
      "max_height": null,
      "max_width": null,
      "min_height": null,
      "min_width": null,
      "object_fit": null,
      "object_position": null,
      "order": null,
      "overflow": null,
      "overflow_x": null,
      "overflow_y": null,
      "padding": null,
      "right": null,
      "top": null,
      "visibility": null,
      "width": null
     }
    },
    "16e69d6994c94bb3b84a8874efbacbdc": {
     "model_module": "@jupyter-widgets/controls",
     "model_module_version": "1.5.0",
     "model_name": "DescriptionStyleModel",
     "state": {
      "_model_module": "@jupyter-widgets/controls",
      "_model_module_version": "1.5.0",
      "_model_name": "DescriptionStyleModel",
      "_view_count": null,
      "_view_module": "@jupyter-widgets/base",
      "_view_module_version": "1.2.0",
      "_view_name": "StyleView",
      "description_width": ""
     }
    },
    "467a86232eb346688d4ee81eedf74f74": {
     "model_module": "@jupyter-widgets/base",
     "model_module_version": "1.2.0",
     "model_name": "LayoutModel",
     "state": {
      "_model_module": "@jupyter-widgets/base",
      "_model_module_version": "1.2.0",
      "_model_name": "LayoutModel",
      "_view_count": null,
      "_view_module": "@jupyter-widgets/base",
      "_view_module_version": "1.2.0",
      "_view_name": "LayoutView",
      "align_content": null,
      "align_items": null,
      "align_self": null,
      "border": null,
      "bottom": null,
      "display": null,
      "flex": null,
      "flex_flow": null,
      "grid_area": null,
      "grid_auto_columns": null,
      "grid_auto_flow": null,
      "grid_auto_rows": null,
      "grid_column": null,
      "grid_gap": null,
      "grid_row": null,
      "grid_template_areas": null,
      "grid_template_columns": null,
      "grid_template_rows": null,
      "height": null,
      "justify_content": null,
      "justify_items": null,
      "left": null,
      "margin": null,
      "max_height": null,
      "max_width": null,
      "min_height": null,
      "min_width": null,
      "object_fit": null,
      "object_position": null,
      "order": null,
      "overflow": null,
      "overflow_x": null,
      "overflow_y": null,
      "padding": null,
      "right": null,
      "top": null,
      "visibility": null,
      "width": null
     }
    },
    "58e302499d504d328fa6452800604255": {
     "model_module": "@jupyter-widgets/controls",
     "model_module_version": "1.5.0",
     "model_name": "ProgressStyleModel",
     "state": {
      "_model_module": "@jupyter-widgets/controls",
      "_model_module_version": "1.5.0",
      "_model_name": "ProgressStyleModel",
      "_view_count": null,
      "_view_module": "@jupyter-widgets/base",
      "_view_module_version": "1.2.0",
      "_view_name": "StyleView",
      "bar_color": null,
      "description_width": ""
     }
    },
    "5d706f33a2f34718a13f6d59a603ef91": {
     "model_module": "@jupyter-widgets/controls",
     "model_module_version": "1.5.0",
     "model_name": "HTMLModel",
     "state": {
      "_dom_classes": [],
      "_model_module": "@jupyter-widgets/controls",
      "_model_module_version": "1.5.0",
      "_model_name": "HTMLModel",
      "_view_count": null,
      "_view_module": "@jupyter-widgets/controls",
      "_view_module_version": "1.5.0",
      "_view_name": "HTMLView",
      "description": "",
      "description_tooltip": null,
      "layout": "IPY_MODEL_85ee7263b76740c28a2f87ea46b19c51",
      "placeholder": "​",
      "style": "IPY_MODEL_16e69d6994c94bb3b84a8874efbacbdc",
      "value": "Pandas Apply: 100%"
     }
    },
    "5fb3001377f846c59bbab9a5d1991a7b": {
     "model_module": "@jupyter-widgets/base",
     "model_module_version": "1.2.0",
     "model_name": "LayoutModel",
     "state": {
      "_model_module": "@jupyter-widgets/base",
      "_model_module_version": "1.2.0",
      "_model_name": "LayoutModel",
      "_view_count": null,
      "_view_module": "@jupyter-widgets/base",
      "_view_module_version": "1.2.0",
      "_view_name": "LayoutView",
      "align_content": null,
      "align_items": null,
      "align_self": null,
      "border": null,
      "bottom": null,
      "display": null,
      "flex": null,
      "flex_flow": null,
      "grid_area": null,
      "grid_auto_columns": null,
      "grid_auto_flow": null,
      "grid_auto_rows": null,
      "grid_column": null,
      "grid_gap": null,
      "grid_row": null,
      "grid_template_areas": null,
      "grid_template_columns": null,
      "grid_template_rows": null,
      "height": null,
      "justify_content": null,
      "justify_items": null,
      "left": null,
      "margin": null,
      "max_height": null,
      "max_width": null,
      "min_height": null,
      "min_width": null,
      "object_fit": null,
      "object_position": null,
      "order": null,
      "overflow": null,
      "overflow_x": null,
      "overflow_y": null,
      "padding": null,
      "right": null,
      "top": null,
      "visibility": null,
      "width": null
     }
    },
    "85ee7263b76740c28a2f87ea46b19c51": {
     "model_module": "@jupyter-widgets/base",
     "model_module_version": "1.2.0",
     "model_name": "LayoutModel",
     "state": {
      "_model_module": "@jupyter-widgets/base",
      "_model_module_version": "1.2.0",
      "_model_name": "LayoutModel",
      "_view_count": null,
      "_view_module": "@jupyter-widgets/base",
      "_view_module_version": "1.2.0",
      "_view_name": "LayoutView",
      "align_content": null,
      "align_items": null,
      "align_self": null,
      "border": null,
      "bottom": null,
      "display": null,
      "flex": null,
      "flex_flow": null,
      "grid_area": null,
      "grid_auto_columns": null,
      "grid_auto_flow": null,
      "grid_auto_rows": null,
      "grid_column": null,
      "grid_gap": null,
      "grid_row": null,
      "grid_template_areas": null,
      "grid_template_columns": null,
      "grid_template_rows": null,
      "height": null,
      "justify_content": null,
      "justify_items": null,
      "left": null,
      "margin": null,
      "max_height": null,
      "max_width": null,
      "min_height": null,
      "min_width": null,
      "object_fit": null,
      "object_position": null,
      "order": null,
      "overflow": null,
      "overflow_x": null,
      "overflow_y": null,
      "padding": null,
      "right": null,
      "top": null,
      "visibility": null,
      "width": null
     }
    },
    "a37e96279593497b8c72abe6d2d97da2": {
     "model_module": "@jupyter-widgets/controls",
     "model_module_version": "1.5.0",
     "model_name": "HBoxModel",
     "state": {
      "_dom_classes": [],
      "_model_module": "@jupyter-widgets/controls",
      "_model_module_version": "1.5.0",
      "_model_name": "HBoxModel",
      "_view_count": null,
      "_view_module": "@jupyter-widgets/controls",
      "_view_module_version": "1.5.0",
      "_view_name": "HBoxView",
      "box_style": "",
      "children": [
       "IPY_MODEL_5d706f33a2f34718a13f6d59a603ef91",
       "IPY_MODEL_dc35a65e233144b88d9b8e07b08fade4",
       "IPY_MODEL_bb3c65296c6948abac55189d5fc871ca"
      ],
      "layout": "IPY_MODEL_5fb3001377f846c59bbab9a5d1991a7b"
     }
    },
    "bb3c65296c6948abac55189d5fc871ca": {
     "model_module": "@jupyter-widgets/controls",
     "model_module_version": "1.5.0",
     "model_name": "HTMLModel",
     "state": {
      "_dom_classes": [],
      "_model_module": "@jupyter-widgets/controls",
      "_model_module_version": "1.5.0",
      "_model_name": "HTMLModel",
      "_view_count": null,
      "_view_module": "@jupyter-widgets/controls",
      "_view_module_version": "1.5.0",
      "_view_name": "HTMLView",
      "description": "",
      "description_tooltip": null,
      "layout": "IPY_MODEL_467a86232eb346688d4ee81eedf74f74",
      "placeholder": "​",
      "style": "IPY_MODEL_f1e047b5922748bf8395e13617077cd5",
      "value": " 833/833 [24:02&lt;00:00,  2.28s/it]"
     }
    },
    "dc35a65e233144b88d9b8e07b08fade4": {
     "model_module": "@jupyter-widgets/controls",
     "model_module_version": "1.5.0",
     "model_name": "FloatProgressModel",
     "state": {
      "_dom_classes": [],
      "_model_module": "@jupyter-widgets/controls",
      "_model_module_version": "1.5.0",
      "_model_name": "FloatProgressModel",
      "_view_count": null,
      "_view_module": "@jupyter-widgets/controls",
      "_view_module_version": "1.5.0",
      "_view_name": "ProgressView",
      "bar_style": "success",
      "description": "",
      "description_tooltip": null,
      "layout": "IPY_MODEL_0cdd2e616ce040eca2247810c0f69fb7",
      "max": 833,
      "min": 0,
      "orientation": "horizontal",
      "style": "IPY_MODEL_58e302499d504d328fa6452800604255",
      "value": 833
     }
    },
    "f1e047b5922748bf8395e13617077cd5": {
     "model_module": "@jupyter-widgets/controls",
     "model_module_version": "1.5.0",
     "model_name": "DescriptionStyleModel",
     "state": {
      "_model_module": "@jupyter-widgets/controls",
      "_model_module_version": "1.5.0",
      "_model_name": "DescriptionStyleModel",
      "_view_count": null,
      "_view_module": "@jupyter-widgets/base",
      "_view_module_version": "1.2.0",
      "_view_name": "StyleView",
      "description_width": ""
     }
    }
   }
  }
 },
 "nbformat": 4,
 "nbformat_minor": 0
}
