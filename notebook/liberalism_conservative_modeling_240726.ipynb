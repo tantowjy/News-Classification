{
  "nbformat": 4,
  "nbformat_minor": 0,
  "metadata": {
    "colab": {
      "provenance": [],
      "collapsed_sections": [
        "fxV5_Hf5YPME",
        "Nr-Wh3nncsWl",
        "4GuWddVgcvB3",
        "BPLwSQvkYW3F",
        "sMWmEeVhc2Z0",
        "Iw9Db-22lqTF",
        "Or1o33Bhmcdi",
        "nQ0XqbvymxuH",
        "rnHK1XSonkr7",
        "bd7Aoxt9YfNf",
        "CgicrdTPvAOM",
        "Ruxm5fW_vsRH",
        "WEnIoLzkNNp-",
        "52UgY6arg2ua",
        "FXcHRAN0YZUX",
        "ZUUkANcBPB-d",
        "DF9cosaMknif"
      ]
    },
    "kernelspec": {
      "name": "python3",
      "display_name": "Python 3"
    },
    "language_info": {
      "name": "python"
    },
    "widgets": {
      "application/vnd.jupyter.widget-state+json": {
        "be33623531264b10a52cbd4e1d7968a9": {
          "model_module": "@jupyter-widgets/controls",
          "model_name": "HBoxModel",
          "model_module_version": "1.5.0",
          "state": {
            "_dom_classes": [],
            "_model_module": "@jupyter-widgets/controls",
            "_model_module_version": "1.5.0",
            "_model_name": "HBoxModel",
            "_view_count": null,
            "_view_module": "@jupyter-widgets/controls",
            "_view_module_version": "1.5.0",
            "_view_name": "HBoxView",
            "box_style": "",
            "children": [
              "IPY_MODEL_1942a228f4e749f2b9258b5b0f2b9817",
              "IPY_MODEL_39b3e743f00f4439b54f06ac3463f876",
              "IPY_MODEL_465fb7a787df4fd69a7f0bfc7267e15f"
            ],
            "layout": "IPY_MODEL_acf3ca63d824488f92bcd5c6b5cd8747"
          }
        },
        "1942a228f4e749f2b9258b5b0f2b9817": {
          "model_module": "@jupyter-widgets/controls",
          "model_name": "HTMLModel",
          "model_module_version": "1.5.0",
          "state": {
            "_dom_classes": [],
            "_model_module": "@jupyter-widgets/controls",
            "_model_module_version": "1.5.0",
            "_model_name": "HTMLModel",
            "_view_count": null,
            "_view_module": "@jupyter-widgets/controls",
            "_view_module_version": "1.5.0",
            "_view_name": "HTMLView",
            "description": "",
            "description_tooltip": null,
            "layout": "IPY_MODEL_8be6ed80875d470384bd6510c1b14593",
            "placeholder": "​",
            "style": "IPY_MODEL_4d78034aa91540fd88a8eb09d76cbcf6",
            "value": "Pandas Apply: 100%"
          }
        },
        "39b3e743f00f4439b54f06ac3463f876": {
          "model_module": "@jupyter-widgets/controls",
          "model_name": "FloatProgressModel",
          "model_module_version": "1.5.0",
          "state": {
            "_dom_classes": [],
            "_model_module": "@jupyter-widgets/controls",
            "_model_module_version": "1.5.0",
            "_model_name": "FloatProgressModel",
            "_view_count": null,
            "_view_module": "@jupyter-widgets/controls",
            "_view_module_version": "1.5.0",
            "_view_name": "ProgressView",
            "bar_style": "success",
            "description": "",
            "description_tooltip": null,
            "layout": "IPY_MODEL_62dcb23863ff45ee866f4a231c971ef7",
            "max": 384,
            "min": 0,
            "orientation": "horizontal",
            "style": "IPY_MODEL_d992f50b6cca48f78f161adf4fda726c",
            "value": 384
          }
        },
        "465fb7a787df4fd69a7f0bfc7267e15f": {
          "model_module": "@jupyter-widgets/controls",
          "model_name": "HTMLModel",
          "model_module_version": "1.5.0",
          "state": {
            "_dom_classes": [],
            "_model_module": "@jupyter-widgets/controls",
            "_model_module_version": "1.5.0",
            "_model_name": "HTMLModel",
            "_view_count": null,
            "_view_module": "@jupyter-widgets/controls",
            "_view_module_version": "1.5.0",
            "_view_name": "HTMLView",
            "description": "",
            "description_tooltip": null,
            "layout": "IPY_MODEL_4daf4a3fbd8d49dba64915e7bf2a169f",
            "placeholder": "​",
            "style": "IPY_MODEL_4f6c72fdf7f64909996aa451cfa9de49",
            "value": " 384/384 [10:11&lt;00:00,  2.31s/it]"
          }
        },
        "acf3ca63d824488f92bcd5c6b5cd8747": {
          "model_module": "@jupyter-widgets/base",
          "model_name": "LayoutModel",
          "model_module_version": "1.2.0",
          "state": {
            "_model_module": "@jupyter-widgets/base",
            "_model_module_version": "1.2.0",
            "_model_name": "LayoutModel",
            "_view_count": null,
            "_view_module": "@jupyter-widgets/base",
            "_view_module_version": "1.2.0",
            "_view_name": "LayoutView",
            "align_content": null,
            "align_items": null,
            "align_self": null,
            "border": null,
            "bottom": null,
            "display": null,
            "flex": null,
            "flex_flow": null,
            "grid_area": null,
            "grid_auto_columns": null,
            "grid_auto_flow": null,
            "grid_auto_rows": null,
            "grid_column": null,
            "grid_gap": null,
            "grid_row": null,
            "grid_template_areas": null,
            "grid_template_columns": null,
            "grid_template_rows": null,
            "height": null,
            "justify_content": null,
            "justify_items": null,
            "left": null,
            "margin": null,
            "max_height": null,
            "max_width": null,
            "min_height": null,
            "min_width": null,
            "object_fit": null,
            "object_position": null,
            "order": null,
            "overflow": null,
            "overflow_x": null,
            "overflow_y": null,
            "padding": null,
            "right": null,
            "top": null,
            "visibility": null,
            "width": null
          }
        },
        "8be6ed80875d470384bd6510c1b14593": {
          "model_module": "@jupyter-widgets/base",
          "model_name": "LayoutModel",
          "model_module_version": "1.2.0",
          "state": {
            "_model_module": "@jupyter-widgets/base",
            "_model_module_version": "1.2.0",
            "_model_name": "LayoutModel",
            "_view_count": null,
            "_view_module": "@jupyter-widgets/base",
            "_view_module_version": "1.2.0",
            "_view_name": "LayoutView",
            "align_content": null,
            "align_items": null,
            "align_self": null,
            "border": null,
            "bottom": null,
            "display": null,
            "flex": null,
            "flex_flow": null,
            "grid_area": null,
            "grid_auto_columns": null,
            "grid_auto_flow": null,
            "grid_auto_rows": null,
            "grid_column": null,
            "grid_gap": null,
            "grid_row": null,
            "grid_template_areas": null,
            "grid_template_columns": null,
            "grid_template_rows": null,
            "height": null,
            "justify_content": null,
            "justify_items": null,
            "left": null,
            "margin": null,
            "max_height": null,
            "max_width": null,
            "min_height": null,
            "min_width": null,
            "object_fit": null,
            "object_position": null,
            "order": null,
            "overflow": null,
            "overflow_x": null,
            "overflow_y": null,
            "padding": null,
            "right": null,
            "top": null,
            "visibility": null,
            "width": null
          }
        },
        "4d78034aa91540fd88a8eb09d76cbcf6": {
          "model_module": "@jupyter-widgets/controls",
          "model_name": "DescriptionStyleModel",
          "model_module_version": "1.5.0",
          "state": {
            "_model_module": "@jupyter-widgets/controls",
            "_model_module_version": "1.5.0",
            "_model_name": "DescriptionStyleModel",
            "_view_count": null,
            "_view_module": "@jupyter-widgets/base",
            "_view_module_version": "1.2.0",
            "_view_name": "StyleView",
            "description_width": ""
          }
        },
        "62dcb23863ff45ee866f4a231c971ef7": {
          "model_module": "@jupyter-widgets/base",
          "model_name": "LayoutModel",
          "model_module_version": "1.2.0",
          "state": {
            "_model_module": "@jupyter-widgets/base",
            "_model_module_version": "1.2.0",
            "_model_name": "LayoutModel",
            "_view_count": null,
            "_view_module": "@jupyter-widgets/base",
            "_view_module_version": "1.2.0",
            "_view_name": "LayoutView",
            "align_content": null,
            "align_items": null,
            "align_self": null,
            "border": null,
            "bottom": null,
            "display": null,
            "flex": null,
            "flex_flow": null,
            "grid_area": null,
            "grid_auto_columns": null,
            "grid_auto_flow": null,
            "grid_auto_rows": null,
            "grid_column": null,
            "grid_gap": null,
            "grid_row": null,
            "grid_template_areas": null,
            "grid_template_columns": null,
            "grid_template_rows": null,
            "height": null,
            "justify_content": null,
            "justify_items": null,
            "left": null,
            "margin": null,
            "max_height": null,
            "max_width": null,
            "min_height": null,
            "min_width": null,
            "object_fit": null,
            "object_position": null,
            "order": null,
            "overflow": null,
            "overflow_x": null,
            "overflow_y": null,
            "padding": null,
            "right": null,
            "top": null,
            "visibility": null,
            "width": null
          }
        },
        "d992f50b6cca48f78f161adf4fda726c": {
          "model_module": "@jupyter-widgets/controls",
          "model_name": "ProgressStyleModel",
          "model_module_version": "1.5.0",
          "state": {
            "_model_module": "@jupyter-widgets/controls",
            "_model_module_version": "1.5.0",
            "_model_name": "ProgressStyleModel",
            "_view_count": null,
            "_view_module": "@jupyter-widgets/base",
            "_view_module_version": "1.2.0",
            "_view_name": "StyleView",
            "bar_color": null,
            "description_width": ""
          }
        },
        "4daf4a3fbd8d49dba64915e7bf2a169f": {
          "model_module": "@jupyter-widgets/base",
          "model_name": "LayoutModel",
          "model_module_version": "1.2.0",
          "state": {
            "_model_module": "@jupyter-widgets/base",
            "_model_module_version": "1.2.0",
            "_model_name": "LayoutModel",
            "_view_count": null,
            "_view_module": "@jupyter-widgets/base",
            "_view_module_version": "1.2.0",
            "_view_name": "LayoutView",
            "align_content": null,
            "align_items": null,
            "align_self": null,
            "border": null,
            "bottom": null,
            "display": null,
            "flex": null,
            "flex_flow": null,
            "grid_area": null,
            "grid_auto_columns": null,
            "grid_auto_flow": null,
            "grid_auto_rows": null,
            "grid_column": null,
            "grid_gap": null,
            "grid_row": null,
            "grid_template_areas": null,
            "grid_template_columns": null,
            "grid_template_rows": null,
            "height": null,
            "justify_content": null,
            "justify_items": null,
            "left": null,
            "margin": null,
            "max_height": null,
            "max_width": null,
            "min_height": null,
            "min_width": null,
            "object_fit": null,
            "object_position": null,
            "order": null,
            "overflow": null,
            "overflow_x": null,
            "overflow_y": null,
            "padding": null,
            "right": null,
            "top": null,
            "visibility": null,
            "width": null
          }
        },
        "4f6c72fdf7f64909996aa451cfa9de49": {
          "model_module": "@jupyter-widgets/controls",
          "model_name": "DescriptionStyleModel",
          "model_module_version": "1.5.0",
          "state": {
            "_model_module": "@jupyter-widgets/controls",
            "_model_module_version": "1.5.0",
            "_model_name": "DescriptionStyleModel",
            "_view_count": null,
            "_view_module": "@jupyter-widgets/base",
            "_view_module_version": "1.2.0",
            "_view_name": "StyleView",
            "description_width": ""
          }
        }
      }
    }
  },
  "cells": [
    {
      "cell_type": "markdown",
      "source": [
        "# Setup"
      ],
      "metadata": {
        "id": "fxV5_Hf5YPME"
      }
    },
    {
      "cell_type": "markdown",
      "source": [
        "## Install library"
      ],
      "metadata": {
        "id": "Nr-Wh3nncsWl"
      }
    },
    {
      "cell_type": "code",
      "source": [
        "!pip install sastrawi\n",
        "!pip install swifter"
      ],
      "metadata": {
        "colab": {
          "base_uri": "https://localhost:8080/"
        },
        "id": "rGtt5fojb7Ia",
        "outputId": "4fed4ee7-18c3-4de4-870a-2dcd5d884c17"
      },
      "execution_count": 1,
      "outputs": [
        {
          "output_type": "stream",
          "name": "stdout",
          "text": [
            "Collecting sastrawi\n",
            "  Downloading Sastrawi-1.0.1-py2.py3-none-any.whl.metadata (909 bytes)\n",
            "Downloading Sastrawi-1.0.1-py2.py3-none-any.whl (209 kB)\n",
            "\u001b[?25l   \u001b[90m━━━━━━━━━━━━━━━━━━━━━━━━━━━━━━━━━━━━━━━━\u001b[0m \u001b[32m0.0/209.7 kB\u001b[0m \u001b[31m?\u001b[0m eta \u001b[36m-:--:--\u001b[0m\r\u001b[2K   \u001b[91m━━━━━━━━━━━━━━━━━━━━━━━━━━━━━━━━━━━\u001b[0m\u001b[90m╺\u001b[0m\u001b[90m━━━━\u001b[0m \u001b[32m184.3/209.7 kB\u001b[0m \u001b[31m5.4 MB/s\u001b[0m eta \u001b[36m0:00:01\u001b[0m\r\u001b[2K   \u001b[90m━━━━━━━━━━━━━━━━━━━━━━━━━━━━━━━━━━━━━━━━\u001b[0m \u001b[32m209.7/209.7 kB\u001b[0m \u001b[31m3.9 MB/s\u001b[0m eta \u001b[36m0:00:00\u001b[0m\n",
            "\u001b[?25hInstalling collected packages: sastrawi\n",
            "Successfully installed sastrawi-1.0.1\n",
            "Collecting swifter\n",
            "  Downloading swifter-1.4.0.tar.gz (1.2 MB)\n",
            "\u001b[2K     \u001b[90m━━━━━━━━━━━━━━━━━━━━━━━━━━━━━━━━━━━━━━━━\u001b[0m \u001b[32m1.2/1.2 MB\u001b[0m \u001b[31m13.2 MB/s\u001b[0m eta \u001b[36m0:00:00\u001b[0m\n",
            "\u001b[?25h  Preparing metadata (setup.py) ... \u001b[?25l\u001b[?25hdone\n",
            "Requirement already satisfied: pandas>=1.0.0 in /usr/local/lib/python3.10/dist-packages (from swifter) (2.0.3)\n",
            "Requirement already satisfied: psutil>=5.6.6 in /usr/local/lib/python3.10/dist-packages (from swifter) (5.9.5)\n",
            "Requirement already satisfied: dask>=2.10.0 in /usr/local/lib/python3.10/dist-packages (from dask[dataframe]>=2.10.0->swifter) (2023.8.1)\n",
            "Requirement already satisfied: tqdm>=4.33.0 in /usr/local/lib/python3.10/dist-packages (from swifter) (4.66.4)\n",
            "Requirement already satisfied: click>=8.0 in /usr/local/lib/python3.10/dist-packages (from dask>=2.10.0->dask[dataframe]>=2.10.0->swifter) (8.1.7)\n",
            "Requirement already satisfied: cloudpickle>=1.5.0 in /usr/local/lib/python3.10/dist-packages (from dask>=2.10.0->dask[dataframe]>=2.10.0->swifter) (2.2.1)\n",
            "Requirement already satisfied: fsspec>=2021.09.0 in /usr/local/lib/python3.10/dist-packages (from dask>=2.10.0->dask[dataframe]>=2.10.0->swifter) (2023.6.0)\n",
            "Requirement already satisfied: packaging>=20.0 in /usr/local/lib/python3.10/dist-packages (from dask>=2.10.0->dask[dataframe]>=2.10.0->swifter) (24.1)\n",
            "Requirement already satisfied: partd>=1.2.0 in /usr/local/lib/python3.10/dist-packages (from dask>=2.10.0->dask[dataframe]>=2.10.0->swifter) (1.4.2)\n",
            "Requirement already satisfied: pyyaml>=5.3.1 in /usr/local/lib/python3.10/dist-packages (from dask>=2.10.0->dask[dataframe]>=2.10.0->swifter) (6.0.1)\n",
            "Requirement already satisfied: toolz>=0.10.0 in /usr/local/lib/python3.10/dist-packages (from dask>=2.10.0->dask[dataframe]>=2.10.0->swifter) (0.12.1)\n",
            "Requirement already satisfied: importlib-metadata>=4.13.0 in /usr/local/lib/python3.10/dist-packages (from dask>=2.10.0->dask[dataframe]>=2.10.0->swifter) (8.0.0)\n",
            "Requirement already satisfied: python-dateutil>=2.8.2 in /usr/local/lib/python3.10/dist-packages (from pandas>=1.0.0->swifter) (2.8.2)\n",
            "Requirement already satisfied: pytz>=2020.1 in /usr/local/lib/python3.10/dist-packages (from pandas>=1.0.0->swifter) (2023.4)\n",
            "Requirement already satisfied: tzdata>=2022.1 in /usr/local/lib/python3.10/dist-packages (from pandas>=1.0.0->swifter) (2024.1)\n",
            "Requirement already satisfied: numpy>=1.21.0 in /usr/local/lib/python3.10/dist-packages (from pandas>=1.0.0->swifter) (1.25.2)\n",
            "Requirement already satisfied: zipp>=0.5 in /usr/local/lib/python3.10/dist-packages (from importlib-metadata>=4.13.0->dask>=2.10.0->dask[dataframe]>=2.10.0->swifter) (3.19.2)\n",
            "Requirement already satisfied: locket in /usr/local/lib/python3.10/dist-packages (from partd>=1.2.0->dask>=2.10.0->dask[dataframe]>=2.10.0->swifter) (1.0.0)\n",
            "Requirement already satisfied: six>=1.5 in /usr/local/lib/python3.10/dist-packages (from python-dateutil>=2.8.2->pandas>=1.0.0->swifter) (1.16.0)\n",
            "Building wheels for collected packages: swifter\n",
            "  Building wheel for swifter (setup.py) ... \u001b[?25l\u001b[?25hdone\n",
            "  Created wheel for swifter: filename=swifter-1.4.0-py3-none-any.whl size=16505 sha256=670987d8e22f81bc580d12180a5a9cf01355997543862c502407f6a46d6dd6a4\n",
            "  Stored in directory: /root/.cache/pip/wheels/e4/cf/51/0904952972ee2c7aa3709437065278dc534ec1b8d2ad41b443\n",
            "Successfully built swifter\n",
            "Installing collected packages: swifter\n",
            "Successfully installed swifter-1.4.0\n"
          ]
        }
      ]
    },
    {
      "cell_type": "markdown",
      "source": [
        "## Import library"
      ],
      "metadata": {
        "id": "4GuWddVgcvB3"
      }
    },
    {
      "cell_type": "code",
      "execution_count": 2,
      "metadata": {
        "id": "7pN2F1jAYKAz"
      },
      "outputs": [],
      "source": [
        "import matplotlib.pyplot as plt\n",
        "import numpy as np\n",
        "import pandas as pd\n",
        "import re\n",
        "import seaborn as sns\n",
        "import swifter\n",
        "import tensorflow as tf\n",
        "from sklearn.model_selection import train_test_split\n",
        "from sklearn.datasets import load_breast_cancer\n",
        "from sklearn.linear_model import LogisticRegression\n",
        "from sklearn.svm import SVC\n",
        "from sklearn.neighbors import KNeighborsClassifier\n",
        "from sklearn.tree import DecisionTreeClassifier\n",
        "from sklearn.ensemble import RandomForestClassifier, GradientBoostingClassifier\n",
        "from sklearn.naive_bayes import GaussianNB\n",
        "from sklearn.neural_network import MLPClassifier\n",
        "from sklearn.metrics import accuracy_score, confusion_matrix\n",
        "\n",
        "from Sastrawi.Stemmer.StemmerFactory import StemmerFactory\n",
        "from Sastrawi.StopWordRemover.StopWordRemoverFactory import StopWordRemoverFactory, StopWordRemover, ArrayDictionary\n",
        "from sklearn.model_selection import train_test_split\n",
        "from tensorflow.keras.preprocessing.text import Tokenizer\n",
        "from tensorflow.keras.preprocessing.sequence import pad_sequences\n",
        "\n",
        "import shutil\n",
        "from google.colab import drive, files"
      ]
    },
    {
      "cell_type": "markdown",
      "source": [
        "# Load Dataset & Exploratory Data Analysis"
      ],
      "metadata": {
        "id": "BPLwSQvkYW3F"
      }
    },
    {
      "cell_type": "markdown",
      "source": [
        "## Import dataset from GitHub"
      ],
      "metadata": {
        "id": "sMWmEeVhc2Z0"
      }
    },
    {
      "cell_type": "code",
      "source": [
        "df = pd.read_csv(\"https://raw.githubusercontent.com/tantowjy/news-classification/main/dataset/talas/dataset-training-talas-400.csv\")\n",
        "df.info()\n",
        "df"
      ],
      "metadata": {
        "colab": {
          "base_uri": "https://localhost:8080/",
          "height": 1000
        },
        "id": "wl1P9rtrc-Al",
        "outputId": "b30ff836-7e30-4200-f2de-6e6213f51a70"
      },
      "execution_count": 3,
      "outputs": [
        {
          "output_type": "stream",
          "name": "stdout",
          "text": [
            "<class 'pandas.core.frame.DataFrame'>\n",
            "RangeIndex: 1639 entries, 0 to 1638\n",
            "Data columns (total 6 columns):\n",
            " #   Column                   Non-Null Count  Dtype  \n",
            "---  ------                   --------------  -----  \n",
            " 0   title                    1639 non-null   object \n",
            " 1   link                     1639 non-null   object \n",
            " 2   date                     1639 non-null   object \n",
            " 3   content                  1639 non-null   object \n",
            " 4   liberalism_conservative  384 non-null    float64\n",
            " 5   coalition_opposition     384 non-null    float64\n",
            "dtypes: float64(2), object(4)\n",
            "memory usage: 77.0+ KB\n"
          ]
        },
        {
          "output_type": "execute_result",
          "data": {
            "text/plain": [
              "                                                  title  \\\n",
              "0     Wapres Harap Bendungan Cipanas Berkembang Jadi...   \n",
              "1     Mahasiswa Dikhawatirkan Terlilit Utang Jika Ba...   \n",
              "2     Airlangga Nilai KPU Masih Layak Selenggarakan ...   \n",
              "3     Pakar Ragu Rencana Datangkan Dokter Asing Bisa...   \n",
              "4     Usul Muhadjir Pakai Pinjol Buat Bayar Uang Kul...   \n",
              "...                                                 ...   \n",
              "1634                    Industri Tekstil Makin Terpuruk   \n",
              "1635         Mobil dan Motor Akan Wajib Miliki Asuransi   \n",
              "1636  Subsidi Pupuk akan Dialihkan Bantuan Langsung ...   \n",
              "1637  Pemda Yogyakarta Tutup 4 Tambang Ilegal dan St...   \n",
              "1638  Gibran Belum Pastikan Bakal Tempati Rumah Dina...   \n",
              "\n",
              "                                                   link  \\\n",
              "0     https://nasional.kompas.com/read/2024/07/09/20...   \n",
              "1     https://nasional.kompas.com/read/2024/07/09/20...   \n",
              "2     https://nasional.kompas.com/read/2024/07/09/20...   \n",
              "3     https://nasional.kompas.com/read/2024/07/09/19...   \n",
              "4     https://nasional.kompas.com/read/2024/07/09/19...   \n",
              "...                                                 ...   \n",
              "1634  https://bisnis.tempo.co/read/1892732/dampak-ba...   \n",
              "1635  https://bisnis.tempo.co/read/1892718/terpopule...   \n",
              "1636  https://bisnis.tempo.co/read/1892730/subsidi-p...   \n",
              "1637  https://bisnis.tempo.co/read/1892722/pemda-yog...   \n",
              "1638  https://bisnis.tempo.co/read/1892727/gibran-be...   \n",
              "\n",
              "                               date  \\\n",
              "0               2024-07-09 00:00:00   \n",
              "1               2024-07-09 00:00:00   \n",
              "2               2024-07-09 00:00:00   \n",
              "3               2024-07-09 00:00:00   \n",
              "4               2024-07-09 00:00:00   \n",
              "...                             ...   \n",
              "1634  Kamis, 18 Juli 2024 07:00 WIB   \n",
              "1635  Kamis, 18 Juli 2024 06:00 WIB   \n",
              "1636  Kamis, 18 Juli 2024 06:00 WIB   \n",
              "1637  Kamis, 18 Juli 2024 05:00 WIB   \n",
              "1638  Kamis, 18 Juli 2024 04:00 WIB   \n",
              "\n",
              "                                                content  \\\n",
              "0     Wakil Presiden (Wapres) RI Ma'ruf Amin berhara...   \n",
              "1     Gagasan Menteri Koordinator Pembangunan Manusi...   \n",
              "2     Ketua Umum Partai Golkar Airlangga Hartarto me...   \n",
              "3     Rencana pemerintah mendatangkan dokter asing u...   \n",
              "4     Usul Menteri Koordinator Pembangunan Manusia d...   \n",
              "...                                                 ...   \n",
              "1634  Ketua Ikatan Pengusaha Konveksi Bandung (IPKB)...   \n",
              "1635  Berita terpopuler ekonomi dan bisnis sepanjang...   \n",
              "1636  Pemerintah berencana mengubah pola penyaluran ...   \n",
              "1637  TEMPO.CO, Yogyakarta - Pemerintah Daerah Istim...   \n",
              "1638  TEMPO.CO, Solo - Wakil presiden terpilih, Gibr...   \n",
              "\n",
              "      liberalism_conservative  coalition_opposition  \n",
              "0                         0.0                   1.0  \n",
              "1                         1.0                   0.0  \n",
              "2                         0.0                   1.0  \n",
              "3                         1.0                   0.0  \n",
              "4                         1.0                   0.0  \n",
              "...                       ...                   ...  \n",
              "1634                      NaN                   NaN  \n",
              "1635                      NaN                   NaN  \n",
              "1636                      NaN                   NaN  \n",
              "1637                      NaN                   NaN  \n",
              "1638                      NaN                   NaN  \n",
              "\n",
              "[1639 rows x 6 columns]"
            ],
            "text/html": [
              "\n",
              "  <div id=\"df-a15e67d1-e06b-4f31-aa2e-2a8516723ea5\" class=\"colab-df-container\">\n",
              "    <div>\n",
              "<style scoped>\n",
              "    .dataframe tbody tr th:only-of-type {\n",
              "        vertical-align: middle;\n",
              "    }\n",
              "\n",
              "    .dataframe tbody tr th {\n",
              "        vertical-align: top;\n",
              "    }\n",
              "\n",
              "    .dataframe thead th {\n",
              "        text-align: right;\n",
              "    }\n",
              "</style>\n",
              "<table border=\"1\" class=\"dataframe\">\n",
              "  <thead>\n",
              "    <tr style=\"text-align: right;\">\n",
              "      <th></th>\n",
              "      <th>title</th>\n",
              "      <th>link</th>\n",
              "      <th>date</th>\n",
              "      <th>content</th>\n",
              "      <th>liberalism_conservative</th>\n",
              "      <th>coalition_opposition</th>\n",
              "    </tr>\n",
              "  </thead>\n",
              "  <tbody>\n",
              "    <tr>\n",
              "      <th>0</th>\n",
              "      <td>Wapres Harap Bendungan Cipanas Berkembang Jadi...</td>\n",
              "      <td>https://nasional.kompas.com/read/2024/07/09/20...</td>\n",
              "      <td>2024-07-09 00:00:00</td>\n",
              "      <td>Wakil Presiden (Wapres) RI Ma'ruf Amin berhara...</td>\n",
              "      <td>0.0</td>\n",
              "      <td>1.0</td>\n",
              "    </tr>\n",
              "    <tr>\n",
              "      <th>1</th>\n",
              "      <td>Mahasiswa Dikhawatirkan Terlilit Utang Jika Ba...</td>\n",
              "      <td>https://nasional.kompas.com/read/2024/07/09/20...</td>\n",
              "      <td>2024-07-09 00:00:00</td>\n",
              "      <td>Gagasan Menteri Koordinator Pembangunan Manusi...</td>\n",
              "      <td>1.0</td>\n",
              "      <td>0.0</td>\n",
              "    </tr>\n",
              "    <tr>\n",
              "      <th>2</th>\n",
              "      <td>Airlangga Nilai KPU Masih Layak Selenggarakan ...</td>\n",
              "      <td>https://nasional.kompas.com/read/2024/07/09/20...</td>\n",
              "      <td>2024-07-09 00:00:00</td>\n",
              "      <td>Ketua Umum Partai Golkar Airlangga Hartarto me...</td>\n",
              "      <td>0.0</td>\n",
              "      <td>1.0</td>\n",
              "    </tr>\n",
              "    <tr>\n",
              "      <th>3</th>\n",
              "      <td>Pakar Ragu Rencana Datangkan Dokter Asing Bisa...</td>\n",
              "      <td>https://nasional.kompas.com/read/2024/07/09/19...</td>\n",
              "      <td>2024-07-09 00:00:00</td>\n",
              "      <td>Rencana pemerintah mendatangkan dokter asing u...</td>\n",
              "      <td>1.0</td>\n",
              "      <td>0.0</td>\n",
              "    </tr>\n",
              "    <tr>\n",
              "      <th>4</th>\n",
              "      <td>Usul Muhadjir Pakai Pinjol Buat Bayar Uang Kul...</td>\n",
              "      <td>https://nasional.kompas.com/read/2024/07/09/19...</td>\n",
              "      <td>2024-07-09 00:00:00</td>\n",
              "      <td>Usul Menteri Koordinator Pembangunan Manusia d...</td>\n",
              "      <td>1.0</td>\n",
              "      <td>0.0</td>\n",
              "    </tr>\n",
              "    <tr>\n",
              "      <th>...</th>\n",
              "      <td>...</td>\n",
              "      <td>...</td>\n",
              "      <td>...</td>\n",
              "      <td>...</td>\n",
              "      <td>...</td>\n",
              "      <td>...</td>\n",
              "    </tr>\n",
              "    <tr>\n",
              "      <th>1634</th>\n",
              "      <td>Industri Tekstil Makin Terpuruk</td>\n",
              "      <td>https://bisnis.tempo.co/read/1892732/dampak-ba...</td>\n",
              "      <td>Kamis, 18 Juli 2024 07:00 WIB</td>\n",
              "      <td>Ketua Ikatan Pengusaha Konveksi Bandung (IPKB)...</td>\n",
              "      <td>NaN</td>\n",
              "      <td>NaN</td>\n",
              "    </tr>\n",
              "    <tr>\n",
              "      <th>1635</th>\n",
              "      <td>Mobil dan Motor Akan Wajib Miliki Asuransi</td>\n",
              "      <td>https://bisnis.tempo.co/read/1892718/terpopule...</td>\n",
              "      <td>Kamis, 18 Juli 2024 06:00 WIB</td>\n",
              "      <td>Berita terpopuler ekonomi dan bisnis sepanjang...</td>\n",
              "      <td>NaN</td>\n",
              "      <td>NaN</td>\n",
              "    </tr>\n",
              "    <tr>\n",
              "      <th>1636</th>\n",
              "      <td>Subsidi Pupuk akan Dialihkan Bantuan Langsung ...</td>\n",
              "      <td>https://bisnis.tempo.co/read/1892730/subsidi-p...</td>\n",
              "      <td>Kamis, 18 Juli 2024 06:00 WIB</td>\n",
              "      <td>Pemerintah berencana mengubah pola penyaluran ...</td>\n",
              "      <td>NaN</td>\n",
              "      <td>NaN</td>\n",
              "    </tr>\n",
              "    <tr>\n",
              "      <th>1637</th>\n",
              "      <td>Pemda Yogyakarta Tutup 4 Tambang Ilegal dan St...</td>\n",
              "      <td>https://bisnis.tempo.co/read/1892722/pemda-yog...</td>\n",
              "      <td>Kamis, 18 Juli 2024 05:00 WIB</td>\n",
              "      <td>TEMPO.CO, Yogyakarta - Pemerintah Daerah Istim...</td>\n",
              "      <td>NaN</td>\n",
              "      <td>NaN</td>\n",
              "    </tr>\n",
              "    <tr>\n",
              "      <th>1638</th>\n",
              "      <td>Gibran Belum Pastikan Bakal Tempati Rumah Dina...</td>\n",
              "      <td>https://bisnis.tempo.co/read/1892727/gibran-be...</td>\n",
              "      <td>Kamis, 18 Juli 2024 04:00 WIB</td>\n",
              "      <td>TEMPO.CO, Solo - Wakil presiden terpilih, Gibr...</td>\n",
              "      <td>NaN</td>\n",
              "      <td>NaN</td>\n",
              "    </tr>\n",
              "  </tbody>\n",
              "</table>\n",
              "<p>1639 rows × 6 columns</p>\n",
              "</div>\n",
              "    <div class=\"colab-df-buttons\">\n",
              "\n",
              "  <div class=\"colab-df-container\">\n",
              "    <button class=\"colab-df-convert\" onclick=\"convertToInteractive('df-a15e67d1-e06b-4f31-aa2e-2a8516723ea5')\"\n",
              "            title=\"Convert this dataframe to an interactive table.\"\n",
              "            style=\"display:none;\">\n",
              "\n",
              "  <svg xmlns=\"http://www.w3.org/2000/svg\" height=\"24px\" viewBox=\"0 -960 960 960\">\n",
              "    <path d=\"M120-120v-720h720v720H120Zm60-500h600v-160H180v160Zm220 220h160v-160H400v160Zm0 220h160v-160H400v160ZM180-400h160v-160H180v160Zm440 0h160v-160H620v160ZM180-180h160v-160H180v160Zm440 0h160v-160H620v160Z\"/>\n",
              "  </svg>\n",
              "    </button>\n",
              "\n",
              "  <style>\n",
              "    .colab-df-container {\n",
              "      display:flex;\n",
              "      gap: 12px;\n",
              "    }\n",
              "\n",
              "    .colab-df-convert {\n",
              "      background-color: #E8F0FE;\n",
              "      border: none;\n",
              "      border-radius: 50%;\n",
              "      cursor: pointer;\n",
              "      display: none;\n",
              "      fill: #1967D2;\n",
              "      height: 32px;\n",
              "      padding: 0 0 0 0;\n",
              "      width: 32px;\n",
              "    }\n",
              "\n",
              "    .colab-df-convert:hover {\n",
              "      background-color: #E2EBFA;\n",
              "      box-shadow: 0px 1px 2px rgba(60, 64, 67, 0.3), 0px 1px 3px 1px rgba(60, 64, 67, 0.15);\n",
              "      fill: #174EA6;\n",
              "    }\n",
              "\n",
              "    .colab-df-buttons div {\n",
              "      margin-bottom: 4px;\n",
              "    }\n",
              "\n",
              "    [theme=dark] .colab-df-convert {\n",
              "      background-color: #3B4455;\n",
              "      fill: #D2E3FC;\n",
              "    }\n",
              "\n",
              "    [theme=dark] .colab-df-convert:hover {\n",
              "      background-color: #434B5C;\n",
              "      box-shadow: 0px 1px 3px 1px rgba(0, 0, 0, 0.15);\n",
              "      filter: drop-shadow(0px 1px 2px rgba(0, 0, 0, 0.3));\n",
              "      fill: #FFFFFF;\n",
              "    }\n",
              "  </style>\n",
              "\n",
              "    <script>\n",
              "      const buttonEl =\n",
              "        document.querySelector('#df-a15e67d1-e06b-4f31-aa2e-2a8516723ea5 button.colab-df-convert');\n",
              "      buttonEl.style.display =\n",
              "        google.colab.kernel.accessAllowed ? 'block' : 'none';\n",
              "\n",
              "      async function convertToInteractive(key) {\n",
              "        const element = document.querySelector('#df-a15e67d1-e06b-4f31-aa2e-2a8516723ea5');\n",
              "        const dataTable =\n",
              "          await google.colab.kernel.invokeFunction('convertToInteractive',\n",
              "                                                    [key], {});\n",
              "        if (!dataTable) return;\n",
              "\n",
              "        const docLinkHtml = 'Like what you see? Visit the ' +\n",
              "          '<a target=\"_blank\" href=https://colab.research.google.com/notebooks/data_table.ipynb>data table notebook</a>'\n",
              "          + ' to learn more about interactive tables.';\n",
              "        element.innerHTML = '';\n",
              "        dataTable['output_type'] = 'display_data';\n",
              "        await google.colab.output.renderOutput(dataTable, element);\n",
              "        const docLink = document.createElement('div');\n",
              "        docLink.innerHTML = docLinkHtml;\n",
              "        element.appendChild(docLink);\n",
              "      }\n",
              "    </script>\n",
              "  </div>\n",
              "\n",
              "\n",
              "<div id=\"df-7fd729c4-f17f-4a46-b9c2-94c993f2ac88\">\n",
              "  <button class=\"colab-df-quickchart\" onclick=\"quickchart('df-7fd729c4-f17f-4a46-b9c2-94c993f2ac88')\"\n",
              "            title=\"Suggest charts\"\n",
              "            style=\"display:none;\">\n",
              "\n",
              "<svg xmlns=\"http://www.w3.org/2000/svg\" height=\"24px\"viewBox=\"0 0 24 24\"\n",
              "     width=\"24px\">\n",
              "    <g>\n",
              "        <path d=\"M19 3H5c-1.1 0-2 .9-2 2v14c0 1.1.9 2 2 2h14c1.1 0 2-.9 2-2V5c0-1.1-.9-2-2-2zM9 17H7v-7h2v7zm4 0h-2V7h2v10zm4 0h-2v-4h2v4z\"/>\n",
              "    </g>\n",
              "</svg>\n",
              "  </button>\n",
              "\n",
              "<style>\n",
              "  .colab-df-quickchart {\n",
              "      --bg-color: #E8F0FE;\n",
              "      --fill-color: #1967D2;\n",
              "      --hover-bg-color: #E2EBFA;\n",
              "      --hover-fill-color: #174EA6;\n",
              "      --disabled-fill-color: #AAA;\n",
              "      --disabled-bg-color: #DDD;\n",
              "  }\n",
              "\n",
              "  [theme=dark] .colab-df-quickchart {\n",
              "      --bg-color: #3B4455;\n",
              "      --fill-color: #D2E3FC;\n",
              "      --hover-bg-color: #434B5C;\n",
              "      --hover-fill-color: #FFFFFF;\n",
              "      --disabled-bg-color: #3B4455;\n",
              "      --disabled-fill-color: #666;\n",
              "  }\n",
              "\n",
              "  .colab-df-quickchart {\n",
              "    background-color: var(--bg-color);\n",
              "    border: none;\n",
              "    border-radius: 50%;\n",
              "    cursor: pointer;\n",
              "    display: none;\n",
              "    fill: var(--fill-color);\n",
              "    height: 32px;\n",
              "    padding: 0;\n",
              "    width: 32px;\n",
              "  }\n",
              "\n",
              "  .colab-df-quickchart:hover {\n",
              "    background-color: var(--hover-bg-color);\n",
              "    box-shadow: 0 1px 2px rgba(60, 64, 67, 0.3), 0 1px 3px 1px rgba(60, 64, 67, 0.15);\n",
              "    fill: var(--button-hover-fill-color);\n",
              "  }\n",
              "\n",
              "  .colab-df-quickchart-complete:disabled,\n",
              "  .colab-df-quickchart-complete:disabled:hover {\n",
              "    background-color: var(--disabled-bg-color);\n",
              "    fill: var(--disabled-fill-color);\n",
              "    box-shadow: none;\n",
              "  }\n",
              "\n",
              "  .colab-df-spinner {\n",
              "    border: 2px solid var(--fill-color);\n",
              "    border-color: transparent;\n",
              "    border-bottom-color: var(--fill-color);\n",
              "    animation:\n",
              "      spin 1s steps(1) infinite;\n",
              "  }\n",
              "\n",
              "  @keyframes spin {\n",
              "    0% {\n",
              "      border-color: transparent;\n",
              "      border-bottom-color: var(--fill-color);\n",
              "      border-left-color: var(--fill-color);\n",
              "    }\n",
              "    20% {\n",
              "      border-color: transparent;\n",
              "      border-left-color: var(--fill-color);\n",
              "      border-top-color: var(--fill-color);\n",
              "    }\n",
              "    30% {\n",
              "      border-color: transparent;\n",
              "      border-left-color: var(--fill-color);\n",
              "      border-top-color: var(--fill-color);\n",
              "      border-right-color: var(--fill-color);\n",
              "    }\n",
              "    40% {\n",
              "      border-color: transparent;\n",
              "      border-right-color: var(--fill-color);\n",
              "      border-top-color: var(--fill-color);\n",
              "    }\n",
              "    60% {\n",
              "      border-color: transparent;\n",
              "      border-right-color: var(--fill-color);\n",
              "    }\n",
              "    80% {\n",
              "      border-color: transparent;\n",
              "      border-right-color: var(--fill-color);\n",
              "      border-bottom-color: var(--fill-color);\n",
              "    }\n",
              "    90% {\n",
              "      border-color: transparent;\n",
              "      border-bottom-color: var(--fill-color);\n",
              "    }\n",
              "  }\n",
              "</style>\n",
              "\n",
              "  <script>\n",
              "    async function quickchart(key) {\n",
              "      const quickchartButtonEl =\n",
              "        document.querySelector('#' + key + ' button');\n",
              "      quickchartButtonEl.disabled = true;  // To prevent multiple clicks.\n",
              "      quickchartButtonEl.classList.add('colab-df-spinner');\n",
              "      try {\n",
              "        const charts = await google.colab.kernel.invokeFunction(\n",
              "            'suggestCharts', [key], {});\n",
              "      } catch (error) {\n",
              "        console.error('Error during call to suggestCharts:', error);\n",
              "      }\n",
              "      quickchartButtonEl.classList.remove('colab-df-spinner');\n",
              "      quickchartButtonEl.classList.add('colab-df-quickchart-complete');\n",
              "    }\n",
              "    (() => {\n",
              "      let quickchartButtonEl =\n",
              "        document.querySelector('#df-7fd729c4-f17f-4a46-b9c2-94c993f2ac88 button');\n",
              "      quickchartButtonEl.style.display =\n",
              "        google.colab.kernel.accessAllowed ? 'block' : 'none';\n",
              "    })();\n",
              "  </script>\n",
              "</div>\n",
              "\n",
              "  <div id=\"id_bf4438f9-769f-473b-afdc-cc3b5f8447e1\">\n",
              "    <style>\n",
              "      .colab-df-generate {\n",
              "        background-color: #E8F0FE;\n",
              "        border: none;\n",
              "        border-radius: 50%;\n",
              "        cursor: pointer;\n",
              "        display: none;\n",
              "        fill: #1967D2;\n",
              "        height: 32px;\n",
              "        padding: 0 0 0 0;\n",
              "        width: 32px;\n",
              "      }\n",
              "\n",
              "      .colab-df-generate:hover {\n",
              "        background-color: #E2EBFA;\n",
              "        box-shadow: 0px 1px 2px rgba(60, 64, 67, 0.3), 0px 1px 3px 1px rgba(60, 64, 67, 0.15);\n",
              "        fill: #174EA6;\n",
              "      }\n",
              "\n",
              "      [theme=dark] .colab-df-generate {\n",
              "        background-color: #3B4455;\n",
              "        fill: #D2E3FC;\n",
              "      }\n",
              "\n",
              "      [theme=dark] .colab-df-generate:hover {\n",
              "        background-color: #434B5C;\n",
              "        box-shadow: 0px 1px 3px 1px rgba(0, 0, 0, 0.15);\n",
              "        filter: drop-shadow(0px 1px 2px rgba(0, 0, 0, 0.3));\n",
              "        fill: #FFFFFF;\n",
              "      }\n",
              "    </style>\n",
              "    <button class=\"colab-df-generate\" onclick=\"generateWithVariable('df')\"\n",
              "            title=\"Generate code using this dataframe.\"\n",
              "            style=\"display:none;\">\n",
              "\n",
              "  <svg xmlns=\"http://www.w3.org/2000/svg\" height=\"24px\"viewBox=\"0 0 24 24\"\n",
              "       width=\"24px\">\n",
              "    <path d=\"M7,19H8.4L18.45,9,17,7.55,7,17.6ZM5,21V16.75L18.45,3.32a2,2,0,0,1,2.83,0l1.4,1.43a1.91,1.91,0,0,1,.58,1.4,1.91,1.91,0,0,1-.58,1.4L9.25,21ZM18.45,9,17,7.55Zm-12,3A5.31,5.31,0,0,0,4.9,8.1,5.31,5.31,0,0,0,1,6.5,5.31,5.31,0,0,0,4.9,4.9,5.31,5.31,0,0,0,6.5,1,5.31,5.31,0,0,0,8.1,4.9,5.31,5.31,0,0,0,12,6.5,5.46,5.46,0,0,0,6.5,12Z\"/>\n",
              "  </svg>\n",
              "    </button>\n",
              "    <script>\n",
              "      (() => {\n",
              "      const buttonEl =\n",
              "        document.querySelector('#id_bf4438f9-769f-473b-afdc-cc3b5f8447e1 button.colab-df-generate');\n",
              "      buttonEl.style.display =\n",
              "        google.colab.kernel.accessAllowed ? 'block' : 'none';\n",
              "\n",
              "      buttonEl.onclick = () => {\n",
              "        google.colab.notebook.generateWithVariable('df');\n",
              "      }\n",
              "      })();\n",
              "    </script>\n",
              "  </div>\n",
              "\n",
              "    </div>\n",
              "  </div>\n"
            ],
            "application/vnd.google.colaboratory.intrinsic+json": {
              "type": "dataframe",
              "variable_name": "df",
              "summary": "{\n  \"name\": \"df\",\n  \"rows\": 1639,\n  \"fields\": [\n    {\n      \"column\": \"title\",\n      \"properties\": {\n        \"dtype\": \"string\",\n        \"num_unique_values\": 1639,\n        \"samples\": [\n          \"Amnesty International Indonesia Desak Pemerintah Akhiri Pelanggaran HAM di Papua\",\n          \"Yakin Pertumbuhan Ekonomi Tembus 8 Persen\",\n          \"Jokowi-Iriana Kunjungi Pantai Tanjung Bira sebelum Blusukan ke Pasar Cekkeng Pagi Ini\"\n        ],\n        \"semantic_type\": \"\",\n        \"description\": \"\"\n      }\n    },\n    {\n      \"column\": \"link\",\n      \"properties\": {\n        \"dtype\": \"string\",\n        \"num_unique_values\": 1639,\n        \"samples\": [\n          \"https://nasional.tempo.co/read/1885933/amnesty-international-indonesia-desak-pemerintah-akhiri-pelanggaran-ham-di-papua\",\n          \"https://bisnis.tempo.co/read/1893163/cerita-prabowo-taruhan-dengan-menteri-negara-tetangga-yakin-pertumbuhan-ekonomi-tembus-8-persen\",\n          \"https://nasional.tempo.co/read/1887720/jokowi-iriana-kunjungi-pantai-tanjung-bira-sebelum-blusukan-ke-pasar-cekkeng-pagi-ini\"\n        ],\n        \"semantic_type\": \"\",\n        \"description\": \"\"\n      }\n    },\n    {\n      \"column\": \"date\",\n      \"properties\": {\n        \"dtype\": \"string\",\n        \"num_unique_values\": 995,\n        \"samples\": [\n          \"Rabu, 17 Juli 2024 13:13 WIB\",\n          \"Selasa, 9 Juli 2024 20:19 WIB\",\n          \"Selasa, 9 Juli 2024 13:39 WIB\"\n        ],\n        \"semantic_type\": \"\",\n        \"description\": \"\"\n      }\n    },\n    {\n      \"column\": \"content\",\n      \"properties\": {\n        \"dtype\": \"string\",\n        \"num_unique_values\": 1639,\n        \"samples\": [\n          \"Direktur Eksekutif Amnesty Internasional Indonesia, Usman Hamid menilai, pemerintah Indonesia terus-menerus gagal mengakhiri konflik di Papua yang menyebabkan kematian pada warga sipil. Pernyataan itu merespons hasil peradilan Mahkamah Rakyat Permanen di London yang membahas pelanggaran HAM dan kerusakan lingkungan di Tanah Papua.\\\"Sudah saatnya komunitas internasional untuk kian mendesak pihak berwenang Indonesia agar mengakhiri kekerasan yang telah berlangsung lama di sana (Papua),\\\" kata Usman dalam keterangannya, dikutip Senin, 1 Juli 2024.Baca Juga:DPR dan TNI Sepakat Naikkan Uang Operasional Prajurit di PapuaUsman mengatakan pernyataan Mahkamah Rakyat Permanen itu telah mencerminkan perkembangan situasi buruk di Papua. Dia menyebut, semestinya pemerintah mengevaluasi operasi militer dan kegiatan bisnis yang dilakukan aktor korporat, demi memastikan pemulihan dan perlindungan hak asasi manusia atau HAM di Papua.Usman mengapresiasi adanya pengadilan Mahkamah Rakyat Permanen atas kekerasan dan kerusakan lingkungan di Papua. Ia mengungkapkan, Mahkamah ini menjadi awalan yang baik untuk membuka jalan menuju keadilan di Papua.\\u00a0\\\"Kami berharap ini menjadi kesempatan bagi komunitas internasional untuk berdiri dalam solidaritas dengan rakyat Papua, mengakui penderitaan, dan mendukung perjuangan mereka (masyarakat Papua) untuk hak asasi manusia,\\\" ucap Usman.Baca Juga:Zulhas Sebut Swasembada Beras dan Gula di Jawa Mustahil: Cuma Bisa di Kalimantan dan PapuaMenurut dia, adanya inisiatif untuk mengumpulkan dan mencatat informasi dari pelbagai sumber tentang pelanggaran HAM di Papua, serta menempatkan itu ke catatan publik dapat meningkatkan kesadaran publik ihwal dugaan pelanggaran HAM tersebut. Namun, ia menilai inisiatif tersebut sebenarnya tidak bisa menggantikan proses investigasi yang benar, dan proses akuntabilitas yang layak.\\\"Amnesty Internasional Indonesia tetap menyerukan agar Indonesia mematuhi kewajibannya untuk memastikan adanya investigasi yang independen, imparsial, menyeluruh, dan efektif,\\\" ujarnya. Ia mengatakan, bahwa investigasi itu diperlukan supaya para pelaku yang ditengarai melakukan pelanggaran HAM di Papua bisa dibawa ke pengadilan.Sebelumnya, Mahkamah Rakyat Permanen menggelar pengadilan atas kekerasan negara dan lingkungan Papua pada 27 sampai 29 Juni 2024 di Queen Mary University of London, Inggris. Adapun panel ahli mahkamah rakyat ini berasal dari berbagai negara, di antaranya Almeida Cravo dari Portugal, Donna Andrews dari Afrika Selatan, Daniel Feirestein dari Argentina, Larry Lohmann asal Inggris, serta tiga orang lain.Dalam sidang tersebut, para panel ahli telah mendengar dan melihat pernyataan maupun bukti dari sejumlah pihak seperti lembaga swadaya masyarakat internasional, organisasi masyarakat sipil lokal, hingga kesaksian dari individu yang melihat terjadinya pelanggaran HAM dan kerusakan lingkungan di Papua.Mahkamah Rakyat Permanen menyatakan, bahwa Indonesia telah secara paksa mengambil tanah adat Papua. Perampasan itu dilakukan lewat diskriminasi rasial, yang mengarah kepada penghilangan budaya dan penindasan keras. Termasuk pembunuhan di luar hukum, penahanan sewenang-wenang, pengusiran, dan degradasi kualitas lingkungan.\\u00a0Lewat peradilan ini, Mahkamah Rakyat mendesak supaya Persatuan Bangsa-bangsa atau PBB dan komunitas internasional lainnya segera bertindak menanggapi situasi di Papua.Adapun berdasarkan catatan Amnesty Internasional Indonesia, masyarakat adat Papua telah menderita akibat operasi militer yang mengakibatkan pembunuhan di luar hukum, penyiksaan, dan pelanggaran HAM lain, yang dilakukan kelompok bersenjata. Baik dari pihak negara maupun non-negara.Sejak Januari 2018 hingga Juni 2024, tercatat ada 128 kasus pembunuhan di luar hukum dengan jumlah korban sipil yang meninggal sebanyak 236 orang. Pembunuhan dilakukan oleh pasukan keamanan, sebanyak 81 kasus yang merenggut 131 nyawa sipil. Sementara dari kelompok bersenjata pro-kemerdekaan, tercatat ada 47 kasus pembunuhan terhadap 105 warga sipil.Pilihan Editor:\\u00a0Survei LSI Sebut Efek Jokowi Masih Kuat di Jawa Tengah, Begini Kata Hasto PDIP\",\n          \"Presiden terpilih periode 2024-2029, Prabowo Subianto optimistis pertumbuhan ekonomi Indonesia bisa mencapai 8 persen. Ia juga yakin meskipun soal capaian pertumbuhan ekonomi itu dipertanyakan oleh sejumlah menteri di negara tetangga.Namun dia tidak menyebut menteri dari negara mana saja yang seperti tak mempercayai keyakinan Prabowo soal pertumbuhan ekonomi bakal tembus 8 persen itu.Baca juga:Makan Bergizi Gratis: Menko Muhadjir Sebut Rp7.500 Cukup, Gibran Nilai Rp15 Ribu Ideal\\\"Banyak wartawan, semua direkam. Tapi ada beberapa menteri dari sebuah negara yang taruhan sama saya,\\\" katanya saat menyampaikan sambutan Presiden Joko Widodo alias Jokowi di acara peluncuran kebijakan satu peta, yang dipantau dari YouTube Perekonomian RI, Kamis, 18 Juli 2024.Ia menyebut, apabila berhasil membawa Indonesia mencapai pertumbuhan ekonomi hingga 8 persen selama kepemimpinannya, menteri-menteri itu bakal mentraktirnya makan malam. \\\"Saya bilang, 'Your own, kalau kita mencapai 8 persen, you harus beli saya makan malam',\\\" kata Prabowo saat menerima tantangan itu.Menurut dia, Indonesia memiliki potensi besar untuk mencapai pertumbuhan ekonomi 8 persen itu. Namun, ujarnya, untuk mencapai tujuan itu perlu adanya efisiensi dan pengelolaan yang lebih baik.Baca juga:Prabowo Sebut Sedang Dilatih Jokowi, dari Baca Sambutan hingga Duduk di Sebelah Presiden Saat Rapat Kabinet\\\"Ambil kebijakan yang masuk akal,\\\" ujarnya. Ia mengungkapkan, pemerintah harus memiliki tekad untuk memitigasi kebocoran, penyelewengan, hingga kebijakan-kebijakan yang tidak menguntungkan kepentingan nasional serta kepentingan rakyat.Prabowo pun mengapresiasi program kebijakan satu peta yang baru saja diluncurkan oleh Kementerian Perekonomian. Ia menilai kebijakan tersebut mampu mengurangi inefisiensi.\\\"Saya yakin dan percaya, kebijakan seperti ini akan membuahkan hasil dengan tadi kawasan-kawasan ekonomi khusus,\\\" ucapnya. Prabowo juga menyebut, kebijakan satu peta ini mampu mempercepat pembangunan sejumlah program proyek strategis nasional.Pilihan Editor:\\u00a0Sudaryono dan Thomas Djiwandono Dilantik jadi Wamen, Ini Sumber Kekayaannya\",\n          \"Presiden Joko Widodo atau Jokowi melanjutkan kunjungan kerja di Provinsi Sulawesi Selatan, pada Jumat, 5 Juli 2024. Kepala negara akan memulai lawatan hari ini dengan berkunjung ke Pasar Cekkeng, di Kabupaten Bulukumba.Sekretariat Presiden, melalui keterangan tertulis, menyebut, sesaat sebelum menuju Pasar Cekkeng, Jokowi didampingi Ibu Negara Iriana Joko Widodo menikmati suasana pagi di pinggir Pantai Tanjung Bira. \\\"Berlokasi tidak jauh dari tempatnya bermalam,\\\" tulis keterangan tersebut.Baca Juga:Klarifikasi Menteri PUPR soal Jokowi Batal Ngantor di IKN: Juli Masih Tanggal 10Dalam sejumlah foto yang dibagikan tim Media Istana, terlihat Jokowi dan Iriana juga tampak menyapa warga. Sejumlah foto lainnya menunjukkan Jokowi melayani permintaan berswafoto, hingga Iriana yang membagikan bingkisan kepada warga sekitar.Jokowi bertolak ke Sulawesi Selatan pada Kamis, 5 Juli 2024. Eks Gubernur Jakarta ini kemarin mengunjungi sejumlah titik di Kabupaten Bone.\\u00a0Setibanya di Kabupaten Bone kemarin, Jokowi meninjau langsung pelaksanaan pemberian bantuan 300 unit pompa untuk pengairan sawah dan pertanian (pompanisasi) di Desa Jaling, Kabupaten Bone, Provinsi Sulawesi Selatan, pada Kamis, 4 Juli 2024.\\u00a0Baca Juga:Presiden Jokowi Lepas Kontingen Indonesia untuk Olimpiade Paris 2024, Berharap Atlet Bawa Pulang Medali Kemudian Jokowi melakukan kunjungan ke Pasar Sentral Palakka, Kabupaten Bone, Provinsi Sulawesi Selatan, pada Kamis, 4 Juli 2024. Eks Gubernur Jakarta mengecek harga di pasar hingga berinteraksi dengan warga.Mengakhiri kunjungan kerjanya hari pertama di Sulawesi Selatan, Jokowi blusukan ke Rumah Sakit Umum Daerah (RSUD) Kabupaten Sinjai. Usai peninjauan, Jokowi mengapresiasi penataan dan kesiapan sumber daya manusia (SDM) di RSUD tersebut.\\\"Ini rumah sakit daerah yang saya lihat bersih, penataannya baik, dokternya juga lebih dari cukup,\\\" ujar Presiden dalam keterangannya kepada awak media.\\\"Biasanya kalau saya datang ke daerah saya tanya spesialis jantungnya ada enggak? 'Enggak ada, Pak.' Di sini saya tadi menanyakan ke Pak Dirut ada 2, bagus, yang lain 23 spesialis ada, ini yang bagus,\\\" kata Jokowi, dikutip dari keterangan video.Pilihan editor:\\u00a0Tanggapi Pemecatan Hasyim Asy'ari, Ma'ruf Amin: Ini Peringatan\"\n        ],\n        \"semantic_type\": \"\",\n        \"description\": \"\"\n      }\n    },\n    {\n      \"column\": \"liberalism_conservative\",\n      \"properties\": {\n        \"dtype\": \"number\",\n        \"std\": 0.42251391076125655,\n        \"min\": 0.0,\n        \"max\": 1.0,\n        \"num_unique_values\": 2,\n        \"samples\": [\n          1.0,\n          0.0\n        ],\n        \"semantic_type\": \"\",\n        \"description\": \"\"\n      }\n    },\n    {\n      \"column\": \"coalition_opposition\",\n      \"properties\": {\n        \"dtype\": \"number\",\n        \"std\": 0.4902151243548225,\n        \"min\": 0.0,\n        \"max\": 1.0,\n        \"num_unique_values\": 2,\n        \"samples\": [\n          0.0,\n          1.0\n        ],\n        \"semantic_type\": \"\",\n        \"description\": \"\"\n      }\n    }\n  ]\n}"
            }
          },
          "metadata": {},
          "execution_count": 3
        }
      ]
    },
    {
      "cell_type": "code",
      "source": [
        "# change label number from float to int\n",
        "df['liberalism_conservative'] = df['liberalism_conservative'].astype('int64')\n",
        "df['coalition_opposition'] = df['coalition_opposition'].astype('int64')\n",
        "df.info()"
      ],
      "metadata": {
        "id": "YYDZMvRIBwRu"
      },
      "execution_count": null,
      "outputs": []
    },
    {
      "cell_type": "markdown",
      "source": [
        "## Exploratory Data Analysis"
      ],
      "metadata": {
        "id": "Iw9Db-22lqTF"
      }
    },
    {
      "cell_type": "markdown",
      "source": [
        "### Missing values"
      ],
      "metadata": {
        "id": "nQ0XqbvymxuH"
      }
    },
    {
      "cell_type": "code",
      "source": [
        "df.isna().sum()"
      ],
      "metadata": {
        "colab": {
          "base_uri": "https://localhost:8080/"
        },
        "id": "hDYtjPham6mj",
        "outputId": "c5728984-0fea-490b-cdd0-a2ee33035442"
      },
      "execution_count": 4,
      "outputs": [
        {
          "output_type": "execute_result",
          "data": {
            "text/plain": [
              "title                         0\n",
              "link                          0\n",
              "date                          0\n",
              "content                       0\n",
              "liberalism_conservative    1255\n",
              "coalition_opposition       1255\n",
              "dtype: int64"
            ]
          },
          "metadata": {},
          "execution_count": 4
        }
      ]
    },
    {
      "cell_type": "code",
      "source": [
        "df = df.dropna(subset=['liberalism_conservative'])"
      ],
      "metadata": {
        "id": "mQOCN2Y1h9pP"
      },
      "execution_count": 5,
      "outputs": []
    },
    {
      "cell_type": "markdown",
      "source": [
        "### Class distribution"
      ],
      "metadata": {
        "id": "Or1o33Bhmcdi"
      }
    },
    {
      "cell_type": "code",
      "source": [
        "liberalism = (df['liberalism_conservative'] == 1).sum()\n",
        "conservative = (df['liberalism_conservative'] == 0).sum()\n",
        "\n",
        "print(liberalism)\n",
        "print(conservative)"
      ],
      "metadata": {
        "colab": {
          "base_uri": "https://localhost:8080/"
        },
        "id": "scGbX099iIZA",
        "outputId": "4a908124-b393-4084-9094-aba5e01b9cc4"
      },
      "execution_count": 6,
      "outputs": [
        {
          "output_type": "stream",
          "name": "stdout",
          "text": [
            "89\n",
            "295\n"
          ]
        }
      ]
    },
    {
      "cell_type": "code",
      "source": [
        "# count the occurrences of each class in 'is_fake'\n",
        "count_classes = df['liberalism_conservative'].value_counts()\n",
        "\n",
        "# plot the distribution as a bar chart\n",
        "plt.figure(figsize=(8, 6))\n",
        "count_classes.plot(kind='bar', color=['skyblue', 'salmon'])\n",
        "plt.title('Distribution of Liberalism vs Conservative News')\n",
        "plt.xlabel('liberalism_conservative')\n",
        "plt.ylabel('count')\n",
        "plt.xticks(ticks=[0, 1], labels=['Conservative (0)', 'Liberalism (1)'])\n",
        "plt.show()"
      ],
      "metadata": {
        "colab": {
          "base_uri": "https://localhost:8080/",
          "height": 666
        },
        "id": "I3NL-AYll6p1",
        "outputId": "49056373-d6bf-4d2e-f5e8-ffe6d32011b9"
      },
      "execution_count": 7,
      "outputs": [
        {
          "output_type": "display_data",
          "data": {
            "text/plain": [
              "<Figure size 800x600 with 1 Axes>"
            ],
            "image/png": "[encoded data removed]"
          },
          "metadata": {}
        }
      ]
    },
    {
      "cell_type": "markdown",
      "source": [
        "### Median and mean word count\n"
      ],
      "metadata": {
        "id": "rnHK1XSonkr7"
      }
    },
    {
      "cell_type": "code",
      "source": [
        "# add a column for the word count\n",
        "df['text'] = df['title'] + ' ' + df['content']\n",
        "df['word_count'] = df['text'].apply(lambda x: len(str(x).split()))\n",
        "\n",
        "# calculate the median word count for each label\n",
        "median_word_count_label_0 = df[df['liberalism_conservative'] == 0]['word_count'].median()\n",
        "median_word_count_label_1 = df[df['liberalism_conservative'] == 1]['word_count'].median()\n",
        "\n",
        "median_word_count_label_0, median_word_count_label_1"
      ],
      "metadata": {
        "colab": {
          "base_uri": "https://localhost:8080/"
        },
        "id": "y6jUw7bTnpdt",
        "outputId": "ca6defb9-414b-4b92-c38c-b33999eec2cf"
      },
      "execution_count": 8,
      "outputs": [
        {
          "output_type": "stream",
          "name": "stderr",
          "text": [
            "<ipython-input-8-4d31d701e29f>:2: SettingWithCopyWarning: \n",
            "A value is trying to be set on a copy of a slice from a DataFrame.\n",
            "Try using .loc[row_indexer,col_indexer] = value instead\n",
            "\n",
            "See the caveats in the documentation: https://pandas.pydata.org/pandas-docs/stable/user_guide/indexing.html#returning-a-view-versus-a-copy\n",
            "  df['text'] = df['title'] + ' ' + df['content']\n",
            "<ipython-input-8-4d31d701e29f>:3: SettingWithCopyWarning: \n",
            "A value is trying to be set on a copy of a slice from a DataFrame.\n",
            "Try using .loc[row_indexer,col_indexer] = value instead\n",
            "\n",
            "See the caveats in the documentation: https://pandas.pydata.org/pandas-docs/stable/user_guide/indexing.html#returning-a-view-versus-a-copy\n",
            "  df['word_count'] = df['text'].apply(lambda x: len(str(x).split()))\n"
          ]
        },
        {
          "output_type": "execute_result",
          "data": {
            "text/plain": [
              "(336.0, 369.0)"
            ]
          },
          "metadata": {},
          "execution_count": 8
        }
      ]
    },
    {
      "cell_type": "code",
      "source": [
        "# calculate the median word count for each label\n",
        "mean_word_count_label_0 = df[df['liberalism_conservative'] == 0]['word_count'].mean()\n",
        "mean_word_count_label_1 = df[df['liberalism_conservative'] == 1]['word_count'].mean()\n",
        "\n",
        "mean_word_count_label_0, mean_word_count_label_1"
      ],
      "metadata": {
        "colab": {
          "base_uri": "https://localhost:8080/"
        },
        "id": "dzVNmixioEz-",
        "outputId": "389fc291-4380-44ab-bad4-6ff6eff32ced"
      },
      "execution_count": 9,
      "outputs": [
        {
          "output_type": "execute_result",
          "data": {
            "text/plain": [
              "(351.00338983050847, 371.92134831460675)"
            ]
          },
          "metadata": {},
          "execution_count": 9
        }
      ]
    },
    {
      "cell_type": "code",
      "source": [
        "# plot word count\n",
        "fig, (fact, fake) = plt.subplots(1, 2, figsize=(10, 4))\n",
        "\n",
        "fact_words = df[df['liberalism_conservative'] == 1]['word_count']\n",
        "fake_words = df[df['liberalism_conservative'] == 0]['word_count']\n",
        "\n",
        "fact.hist(fact_words, color='skyblue')\n",
        "fake.hist(fake_words, color='salmon')\n",
        "\n",
        "fact.set_title('Conservative')\n",
        "fake.set_title('Liberalism')\n",
        "\n",
        "fig.suptitle('Words per news articles')\n",
        "plt.show()"
      ],
      "metadata": {
        "colab": {
          "base_uri": "https://localhost:8080/",
          "height": 408
        },
        "id": "HlfOz8pbN28z",
        "outputId": "cb8de402-e7f1-4e2a-e5e6-760617d13c6f"
      },
      "execution_count": 10,
      "outputs": [
        {
          "output_type": "display_data",
          "data": {
            "text/plain": [
              "<Figure size 1000x400 with 2 Axes>"
            ],
            "image/png": "[encoded data removed]"
          },
          "metadata": {}
        }
      ]
    },
    {
      "cell_type": "markdown",
      "source": [
        "# Data Preprocessing"
      ],
      "metadata": {
        "id": "bd7Aoxt9YfNf"
      }
    },
    {
      "cell_type": "markdown",
      "source": [
        "## Stopword removal and lemmatization"
      ],
      "metadata": {
        "id": "CgicrdTPvAOM"
      }
    },
    {
      "cell_type": "code",
      "source": [
        "# create sastrawi stopword\n",
        "stopword_factory = StopWordRemoverFactory()\n",
        "stopword = stopword_factory.create_stop_word_remover()\n",
        "\n",
        "# create sastrawi stemmer\n",
        "stemmer_factory = StemmerFactory()\n",
        "stemmer = stemmer_factory.create_stemmer()"
      ],
      "metadata": {
        "id": "PAxihefovENa"
      },
      "execution_count": 11,
      "outputs": []
    },
    {
      "cell_type": "code",
      "source": [
        "# functions for cleaning, removing stopwords\n",
        "def preprocess_text(text):\n",
        "    text = str(text)\n",
        "\n",
        "    # change text to lowercase\n",
        "    text = text.lower()\n",
        "\n",
        "    # change link with http/https patterns\n",
        "    text = re.sub(r'http\\S+', '', text)\n",
        "\n",
        "    # remove hashtag and username\n",
        "    text = re.sub(r'(@\\w+|#\\w+)', '', text)\n",
        "\n",
        "    # remove character other than a-z and A-Z\n",
        "    text = re.sub(r'[^a-zA-Z\\s]', ' ', text)\n",
        "\n",
        "    # replace new line '\\n' with space\n",
        "    text = re.sub(r'\\n', ' ', text)\n",
        "\n",
        "    # remove stopword with sastrawi library\n",
        "    text = stopword.remove(text)\n",
        "\n",
        "    # do stemming with sastrawi library\n",
        "    text = stemmer.stem(text)\n",
        "\n",
        "    # removing more than one space\n",
        "    text = re.sub(r'\\s{2,}', ' ', text)\n",
        "\n",
        "    return text"
      ],
      "metadata": {
        "id": "GbeK0O8RvT3K"
      },
      "execution_count": 12,
      "outputs": []
    },
    {
      "cell_type": "code",
      "source": [
        "# text preprocessing\n",
        "df['text'] = df['text'].swifter.apply(preprocess_text)"
      ],
      "metadata": {
        "colab": {
          "base_uri": "https://localhost:8080/",
          "height": 173,
          "referenced_widgets": [
            "be33623531264b10a52cbd4e1d7968a9",
            "1942a228f4e749f2b9258b5b0f2b9817",
            "39b3e743f00f4439b54f06ac3463f876",
            "465fb7a787df4fd69a7f0bfc7267e15f",
            "acf3ca63d824488f92bcd5c6b5cd8747",
            "8be6ed80875d470384bd6510c1b14593",
            "4d78034aa91540fd88a8eb09d76cbcf6",
            "62dcb23863ff45ee866f4a231c971ef7",
            "d992f50b6cca48f78f161adf4fda726c",
            "4daf4a3fbd8d49dba64915e7bf2a169f",
            "4f6c72fdf7f64909996aa451cfa9de49"
          ]
        },
        "id": "TQAIjkWNvihw",
        "outputId": "d5d8572b-a2b0-42e5-f72b-43890e4ebbd5"
      },
      "execution_count": 14,
      "outputs": [
        {
          "output_type": "display_data",
          "data": {
            "text/plain": [
              "Pandas Apply:   0%|          | 0/384 [00:00<?, ?it/s]"
            ],
            "application/vnd.jupyter.widget-view+json": {
              "version_major": 2,
              "version_minor": 0,
              "model_id": "be33623531264b10a52cbd4e1d7968a9"
            }
          },
          "metadata": {}
        },
        {
          "output_type": "stream",
          "name": "stderr",
          "text": [
            "<ipython-input-14-2f482817d35a>:2: SettingWithCopyWarning: \n",
            "A value is trying to be set on a copy of a slice from a DataFrame.\n",
            "Try using .loc[row_indexer,col_indexer] = value instead\n",
            "\n",
            "See the caveats in the documentation: https://pandas.pydata.org/pandas-docs/stable/user_guide/indexing.html#returning-a-view-versus-a-copy\n",
            "  df['text'] = df['text'].swifter.apply(preprocess_text)\n"
          ]
        }
      ]
    },
    {
      "cell_type": "markdown",
      "source": [
        "## Save text preprocessing result"
      ],
      "metadata": {
        "id": "Ruxm5fW_vsRH"
      }
    },
    {
      "cell_type": "code",
      "source": [
        "# save data preprocessing result\n",
        "df.to_csv(\"dataset-talas-preprocess.csv\", index=False)\n",
        "df.to_json(\"dataset-talas-preprocess.json\")"
      ],
      "metadata": {
        "id": "ZsKt94rbvtHA"
      },
      "execution_count": null,
      "outputs": []
    },
    {
      "cell_type": "code",
      "source": [
        "files.download(\"dataset-talas-preprocess.csv\")\n",
        "files.download(\"dataset-talas-preprocess.json\")"
      ],
      "metadata": {
        "id": "NRbmmzzUL_Tf"
      },
      "execution_count": null,
      "outputs": []
    },
    {
      "cell_type": "markdown",
      "source": [
        "## Check median and mean word count after preprocessing"
      ],
      "metadata": {
        "id": "WEnIoLzkNNp-"
      }
    },
    {
      "cell_type": "code",
      "source": [
        "# add a column for the word count\n",
        "df['text'] = df['title'] + ' ' + df['content']\n",
        "df['word_count'] = df['text'].apply(lambda x: len(str(x).split()))\n",
        "\n",
        "# calculate the median word count for each label\n",
        "median_word_count_label_0 = df[df['liberalism_conservative'] == 0]['word_count'].median()\n",
        "median_word_count_label_1 = df[df['liberalism_conservative'] == 1]['word_count'].median()\n",
        "\n",
        "median_word_count_label_0, median_word_count_label_1"
      ],
      "metadata": {
        "colab": {
          "base_uri": "https://localhost:8080/"
        },
        "id": "W236k3J3NkQm",
        "outputId": "d09aed4a-f7a3-4013-e729-60e5b804ab27"
      },
      "execution_count": null,
      "outputs": [
        {
          "output_type": "stream",
          "name": "stderr",
          "text": [
            "<ipython-input-67-4d31d701e29f>:2: SettingWithCopyWarning: \n",
            "A value is trying to be set on a copy of a slice from a DataFrame.\n",
            "Try using .loc[row_indexer,col_indexer] = value instead\n",
            "\n",
            "See the caveats in the documentation: https://pandas.pydata.org/pandas-docs/stable/user_guide/indexing.html#returning-a-view-versus-a-copy\n",
            "  df['text'] = df['title'] + ' ' + df['content']\n",
            "<ipython-input-67-4d31d701e29f>:3: SettingWithCopyWarning: \n",
            "A value is trying to be set on a copy of a slice from a DataFrame.\n",
            "Try using .loc[row_indexer,col_indexer] = value instead\n",
            "\n",
            "See the caveats in the documentation: https://pandas.pydata.org/pandas-docs/stable/user_guide/indexing.html#returning-a-view-versus-a-copy\n",
            "  df['word_count'] = df['text'].apply(lambda x: len(str(x).split()))\n"
          ]
        },
        {
          "output_type": "execute_result",
          "data": {
            "text/plain": [
              "(321.0, 358.0)"
            ]
          },
          "metadata": {},
          "execution_count": 67
        }
      ]
    },
    {
      "cell_type": "code",
      "source": [
        "# calculate the median word count for each label\n",
        "mean_word_count_label_0 = df[df['liberalism_conservative'] == 0]['word_count'].mean()\n",
        "mean_word_count_label_1 = df[df['liberalism_conservative'] == 1]['word_count'].mean()\n",
        "\n",
        "mean_word_count_label_0, mean_word_count_label_1"
      ],
      "metadata": {
        "colab": {
          "base_uri": "https://localhost:8080/"
        },
        "id": "9aLXjn3oiD7d",
        "outputId": "02dd3dae-750f-424a-b663-86254a342e16"
      },
      "execution_count": null,
      "outputs": [
        {
          "output_type": "execute_result",
          "data": {
            "text/plain": [
              "(320.55864197530866, 349.0736842105263)"
            ]
          },
          "metadata": {},
          "execution_count": 68
        }
      ]
    },
    {
      "cell_type": "markdown",
      "source": [
        "# Create Model Liberalism vs Conservative"
      ],
      "metadata": {
        "id": "jhRoThcNigoy"
      }
    },
    {
      "cell_type": "markdown",
      "source": [
        "## Split the datasets"
      ],
      "metadata": {
        "id": "52UgY6arg2ua"
      }
    },
    {
      "cell_type": "code",
      "source": [
        "# separating features and labels\n",
        "X = df['text'].values\n",
        "y = df['liberalism_conservative'].values"
      ],
      "metadata": {
        "id": "iphuPD93PEPb"
      },
      "execution_count": null,
      "outputs": []
    },
    {
      "cell_type": "code",
      "source": [
        "# Split the dataset into training and testing data\n",
        "X_train, X_test, y_train, y_test = train_test_split(X, y, test_size=0.2, random_state=42)"
      ],
      "metadata": {
        "id": "KpbX_0P8g1ef"
      },
      "execution_count": null,
      "outputs": []
    },
    {
      "cell_type": "markdown",
      "source": [
        "## Create Tokenizer"
      ],
      "metadata": {
        "id": "ZUUkANcBPB-d"
      }
    },
    {
      "cell_type": "code",
      "source": [
        "vocab_size = 10000\n",
        "embedding_dim = 16\n",
        "max_length = 100\n",
        "trunc_type = 'post'\n",
        "padding_type = 'post'\n",
        "oov_tok = \"<OOV>\""
      ],
      "metadata": {
        "id": "aVqMreI3gaq5"
      },
      "execution_count": null,
      "outputs": []
    },
    {
      "cell_type": "code",
      "source": [
        "# Create tokenizer\n",
        "tokenizer = Tokenizer(num_words=vocab_size, oov_token=oov_tok)\n",
        "tokenizer.fit_on_texts(X_train)\n",
        "\n",
        "# Converting text to numeric squences\n",
        "train_sequences = tokenizer.texts_to_sequences(X_train)\n",
        "test_sequences = tokenizer.texts_to_sequences(X_test)\n",
        "\n",
        "# Padding the squences\n",
        "padded_train_sequences = pad_sequences(train_sequences, maxlen=max_length, padding=padding_type, truncating=trunc_type)\n",
        "padded_test_sequences = pad_sequences(test_sequences, maxlen=max_length, padding=padding_type, truncating=trunc_type)"
      ],
      "metadata": {
        "id": "JZVab1sugfJy"
      },
      "execution_count": null,
      "outputs": []
    },
    {
      "cell_type": "markdown",
      "source": [
        "## Import library"
      ],
      "metadata": {
        "id": "DF9cosaMknif"
      }
    },
    {
      "cell_type": "code",
      "source": [
        "from tensorflow.keras.models import Sequential\n",
        "from tensorflow.keras.layers import Embedding, LSTM, Dense, Dropout, Bidirectional\n",
        "from tensorflow.keras.layers import GlobalAveragePooling1D, BatchNormalization, MaxPooling1D\n",
        "from tensorflow.keras.layers import Flatten, GlobalMaxPool1D, SpatialDropout1D, Conv1D\n",
        "from tensorflow.keras.callbacks import EarlyStopping, ModelCheckpoint, ReduceLROnPlateau\n",
        "from keras.optimizers import Adam, RMSprop\n",
        "from tensorflow.keras.regularizers import l2, l1_l2"
      ],
      "metadata": {
        "id": "ObvAIUY4kq5U"
      },
      "execution_count": null,
      "outputs": []
    },
    {
      "cell_type": "markdown",
      "source": [
        "## Model A"
      ],
      "metadata": {
        "id": "Vih9xxXcoq9h"
      }
    },
    {
      "cell_type": "code",
      "source": [
        "# create model A\n",
        "model_A = Sequential()\n",
        "model_A.add(Embedding(input_dim=vocab_size, output_dim=embedding_dim, input_length=max_length))\n",
        "model_A.add(GlobalAveragePooling1D())\n",
        "model_A.add(Dense(24, activation='relu', kernel_regularizer=l1_l2(l1=0.01, l2=0.01)))\n",
        "model_A.add(BatchNormalization())\n",
        "model_A.add(Dropout(0.35))\n",
        "model_A.add(Dense(8, activation='relu'))\n",
        "model_A.add(BatchNormalization())\n",
        "model_A.add(Dropout(0.35))\n",
        "model_A.add(Dense(1, activation='sigmoid'))\n",
        "\n",
        "model_A.summary()"
      ],
      "metadata": {
        "colab": {
          "base_uri": "https://localhost:8080/"
        },
        "outputId": "8657ff5e-d100-45f9-8325-afc5b452c13a",
        "id": "qmV2WChsoq9h"
      },
      "execution_count": null,
      "outputs": [
        {
          "output_type": "stream",
          "name": "stdout",
          "text": [
            "Model: \"sequential_37\"\n",
            "_________________________________________________________________\n",
            " Layer (type)                Output Shape              Param #   \n",
            "=================================================================\n",
            " embedding_37 (Embedding)    (None, 100, 16)           160000    \n",
            "                                                                 \n",
            " global_average_pooling1d_2  (None, 16)                0         \n",
            " 9 (GlobalAveragePooling1D)                                      \n",
            "                                                                 \n",
            " dense_71 (Dense)            (None, 24)                408       \n",
            "                                                                 \n",
            " batch_normalization_7 (Bat  (None, 24)                96        \n",
            " chNormalization)                                                \n",
            "                                                                 \n",
            " dropout_25 (Dropout)        (None, 24)                0         \n",
            "                                                                 \n",
            " dense_72 (Dense)            (None, 8)                 200       \n",
            "                                                                 \n",
            " batch_normalization_8 (Bat  (None, 8)                 32        \n",
            " chNormalization)                                                \n",
            "                                                                 \n",
            " dropout_26 (Dropout)        (None, 8)                 0         \n",
            "                                                                 \n",
            " dense_73 (Dense)            (None, 1)                 9         \n",
            "                                                                 \n",
            "=================================================================\n",
            "Total params: 160745 (627.91 KB)\n",
            "Trainable params: 160681 (627.66 KB)\n",
            "Non-trainable params: 64 (256.00 Byte)\n",
            "_________________________________________________________________\n"
          ]
        }
      ]
    },
    {
      "cell_type": "code",
      "source": [
        "# compile model\n",
        "model_A.compile(optimizer=Adam(learning_rate=1e-3, clipnorm=1.0),\n",
        "              loss='binary_crossentropy',\n",
        "              metrics=['accuracy'])\n",
        "\n",
        "# set up early stopping\n",
        "early_stopping = EarlyStopping(monitor='val_loss', patience=5, restore_best_weights=True)\n",
        "\n",
        "# model training\n",
        "history = model_A.fit(padded_train_sequences, y_train,\n",
        "                      epochs=500,\n",
        "                      validation_data=(padded_test_sequences, y_test),\n",
        "                      batch_size=64,\n",
        "                      callbacks=[early_stopping])"
      ],
      "metadata": {
        "colab": {
          "base_uri": "https://localhost:8080/"
        },
        "outputId": "1790964a-7fab-4b0f-9405-f3be7752fc74",
        "id": "ZiW8fFMsoq9i"
      },
      "execution_count": null,
      "outputs": [
        {
          "output_type": "stream",
          "name": "stdout",
          "text": [
            "Epoch 1/500\n",
            "6/6 [==============================] - 3s 59ms/step - loss: 1.7992 - accuracy: 0.4925 - val_loss: 1.6222 - val_accuracy: 0.7738\n",
            "Epoch 2/500\n",
            "6/6 [==============================] - 0s 13ms/step - loss: 1.6305 - accuracy: 0.6149 - val_loss: 1.5971 - val_accuracy: 0.7738\n",
            "Epoch 3/500\n",
            "6/6 [==============================] - 0s 17ms/step - loss: 1.6053 - accuracy: 0.6000 - val_loss: 1.5728 - val_accuracy: 0.7738\n",
            "Epoch 4/500\n",
            "6/6 [==============================] - 0s 16ms/step - loss: 1.4640 - accuracy: 0.6746 - val_loss: 1.5495 - val_accuracy: 0.7738\n",
            "Epoch 5/500\n",
            "6/6 [==============================] - 0s 15ms/step - loss: 1.4244 - accuracy: 0.7194 - val_loss: 1.5250 - val_accuracy: 0.7738\n",
            "Epoch 6/500\n",
            "6/6 [==============================] - 0s 16ms/step - loss: 1.4285 - accuracy: 0.7313 - val_loss: 1.5005 - val_accuracy: 0.7738\n",
            "Epoch 7/500\n",
            "6/6 [==============================] - 0s 16ms/step - loss: 1.4066 - accuracy: 0.6925 - val_loss: 1.4758 - val_accuracy: 0.7738\n",
            "Epoch 8/500\n",
            "6/6 [==============================] - 0s 14ms/step - loss: 1.3317 - accuracy: 0.7612 - val_loss: 1.4512 - val_accuracy: 0.7738\n",
            "Epoch 9/500\n",
            "6/6 [==============================] - 0s 15ms/step - loss: 1.2855 - accuracy: 0.7910 - val_loss: 1.4245 - val_accuracy: 0.7738\n",
            "Epoch 10/500\n",
            "6/6 [==============================] - 0s 13ms/step - loss: 1.2545 - accuracy: 0.7701 - val_loss: 1.3986 - val_accuracy: 0.7738\n",
            "Epoch 11/500\n",
            "6/6 [==============================] - 0s 16ms/step - loss: 1.1708 - accuracy: 0.8627 - val_loss: 1.3731 - val_accuracy: 0.7738\n",
            "Epoch 12/500\n",
            "6/6 [==============================] - 0s 16ms/step - loss: 1.1441 - accuracy: 0.8746 - val_loss: 1.3479 - val_accuracy: 0.7738\n",
            "Epoch 13/500\n",
            "6/6 [==============================] - 0s 21ms/step - loss: 1.1121 - accuracy: 0.8687 - val_loss: 1.3232 - val_accuracy: 0.7738\n",
            "Epoch 14/500\n",
            "6/6 [==============================] - 0s 16ms/step - loss: 1.0656 - accuracy: 0.8985 - val_loss: 1.2993 - val_accuracy: 0.7738\n",
            "Epoch 15/500\n",
            "6/6 [==============================] - 0s 15ms/step - loss: 1.0223 - accuracy: 0.9164 - val_loss: 1.2757 - val_accuracy: 0.7738\n",
            "Epoch 16/500\n",
            "6/6 [==============================] - 0s 16ms/step - loss: 0.9850 - accuracy: 0.9463 - val_loss: 1.2530 - val_accuracy: 0.7738\n",
            "Epoch 17/500\n",
            "6/6 [==============================] - 0s 18ms/step - loss: 0.9770 - accuracy: 0.9284 - val_loss: 1.2303 - val_accuracy: 0.7738\n",
            "Epoch 18/500\n",
            "6/6 [==============================] - 0s 13ms/step - loss: 0.9396 - accuracy: 0.9373 - val_loss: 1.2088 - val_accuracy: 0.7738\n",
            "Epoch 19/500\n",
            "6/6 [==============================] - 0s 13ms/step - loss: 0.9208 - accuracy: 0.9134 - val_loss: 1.1886 - val_accuracy: 0.7738\n",
            "Epoch 20/500\n",
            "6/6 [==============================] - 0s 16ms/step - loss: 0.9136 - accuracy: 0.9164 - val_loss: 1.1689 - val_accuracy: 0.7738\n",
            "Epoch 21/500\n",
            "6/6 [==============================] - 0s 13ms/step - loss: 0.8408 - accuracy: 0.9672 - val_loss: 1.1500 - val_accuracy: 0.7738\n",
            "Epoch 22/500\n",
            "6/6 [==============================] - 0s 17ms/step - loss: 0.8380 - accuracy: 0.9373 - val_loss: 1.1312 - val_accuracy: 0.7738\n",
            "Epoch 23/500\n",
            "6/6 [==============================] - 0s 17ms/step - loss: 0.8316 - accuracy: 0.9403 - val_loss: 1.1132 - val_accuracy: 0.7738\n",
            "Epoch 24/500\n",
            "6/6 [==============================] - 0s 18ms/step - loss: 0.8079 - accuracy: 0.9522 - val_loss: 1.0953 - val_accuracy: 0.7738\n",
            "Epoch 25/500\n",
            "6/6 [==============================] - 0s 12ms/step - loss: 0.7654 - accuracy: 0.9672 - val_loss: 1.0778 - val_accuracy: 0.7738\n",
            "Epoch 26/500\n",
            "6/6 [==============================] - 0s 15ms/step - loss: 0.7327 - accuracy: 0.9642 - val_loss: 1.0606 - val_accuracy: 0.7738\n",
            "Epoch 27/500\n",
            "6/6 [==============================] - 0s 13ms/step - loss: 0.7126 - accuracy: 0.9791 - val_loss: 1.0437 - val_accuracy: 0.7738\n",
            "Epoch 28/500\n",
            "6/6 [==============================] - 0s 13ms/step - loss: 0.7038 - accuracy: 0.9701 - val_loss: 1.0274 - val_accuracy: 0.7738\n",
            "Epoch 29/500\n",
            "6/6 [==============================] - 0s 18ms/step - loss: 0.6749 - accuracy: 0.9612 - val_loss: 1.0115 - val_accuracy: 0.7738\n",
            "Epoch 30/500\n",
            "6/6 [==============================] - 0s 16ms/step - loss: 0.6483 - accuracy: 0.9791 - val_loss: 0.9955 - val_accuracy: 0.7738\n",
            "Epoch 31/500\n",
            "6/6 [==============================] - 0s 16ms/step - loss: 0.6354 - accuracy: 0.9851 - val_loss: 0.9800 - val_accuracy: 0.7738\n",
            "Epoch 32/500\n",
            "6/6 [==============================] - 0s 14ms/step - loss: 0.6126 - accuracy: 0.9821 - val_loss: 0.9652 - val_accuracy: 0.7738\n",
            "Epoch 33/500\n",
            "6/6 [==============================] - 0s 20ms/step - loss: 0.5867 - accuracy: 0.9881 - val_loss: 0.9508 - val_accuracy: 0.7738\n",
            "Epoch 34/500\n",
            "6/6 [==============================] - 0s 18ms/step - loss: 0.5732 - accuracy: 0.9821 - val_loss: 0.9374 - val_accuracy: 0.7738\n",
            "Epoch 35/500\n",
            "6/6 [==============================] - 0s 18ms/step - loss: 0.5592 - accuracy: 0.9821 - val_loss: 0.9241 - val_accuracy: 0.7738\n",
            "Epoch 36/500\n",
            "6/6 [==============================] - 0s 18ms/step - loss: 0.5597 - accuracy: 0.9672 - val_loss: 0.9101 - val_accuracy: 0.7738\n",
            "Epoch 37/500\n",
            "6/6 [==============================] - 0s 13ms/step - loss: 0.5638 - accuracy: 0.9701 - val_loss: 0.8957 - val_accuracy: 0.7738\n",
            "Epoch 38/500\n",
            "6/6 [==============================] - 0s 14ms/step - loss: 0.5121 - accuracy: 0.9821 - val_loss: 0.8835 - val_accuracy: 0.7738\n",
            "Epoch 39/500\n",
            "6/6 [==============================] - 0s 16ms/step - loss: 0.4870 - accuracy: 0.9881 - val_loss: 0.8734 - val_accuracy: 0.7738\n",
            "Epoch 40/500\n",
            "6/6 [==============================] - 0s 12ms/step - loss: 0.5027 - accuracy: 0.9851 - val_loss: 0.8599 - val_accuracy: 0.7738\n",
            "Epoch 41/500\n",
            "6/6 [==============================] - 0s 16ms/step - loss: 0.4724 - accuracy: 0.9851 - val_loss: 0.8476 - val_accuracy: 0.7738\n",
            "Epoch 42/500\n",
            "6/6 [==============================] - 0s 13ms/step - loss: 0.4538 - accuracy: 0.9881 - val_loss: 0.8360 - val_accuracy: 0.7738\n",
            "Epoch 43/500\n",
            "6/6 [==============================] - 0s 15ms/step - loss: 0.4326 - accuracy: 0.9851 - val_loss: 0.8231 - val_accuracy: 0.7738\n",
            "Epoch 44/500\n",
            "6/6 [==============================] - 0s 16ms/step - loss: 0.4149 - accuracy: 0.9910 - val_loss: 0.8095 - val_accuracy: 0.7738\n",
            "Epoch 45/500\n",
            "6/6 [==============================] - 0s 16ms/step - loss: 0.4032 - accuracy: 0.9881 - val_loss: 0.7989 - val_accuracy: 0.7738\n",
            "Epoch 46/500\n",
            "6/6 [==============================] - 0s 12ms/step - loss: 0.3962 - accuracy: 0.9881 - val_loss: 0.7875 - val_accuracy: 0.7738\n",
            "Epoch 47/500\n",
            "6/6 [==============================] - 0s 13ms/step - loss: 0.3717 - accuracy: 0.9940 - val_loss: 0.7729 - val_accuracy: 0.7738\n",
            "Epoch 48/500\n",
            "6/6 [==============================] - 0s 16ms/step - loss: 0.3852 - accuracy: 0.9881 - val_loss: 0.7648 - val_accuracy: 0.7738\n",
            "Epoch 49/500\n",
            "6/6 [==============================] - 0s 16ms/step - loss: 0.3526 - accuracy: 0.9970 - val_loss: 0.7556 - val_accuracy: 0.7738\n",
            "Epoch 50/500\n",
            "6/6 [==============================] - 0s 17ms/step - loss: 0.3465 - accuracy: 0.9881 - val_loss: 0.7407 - val_accuracy: 0.7738\n",
            "Epoch 51/500\n",
            "6/6 [==============================] - 0s 16ms/step - loss: 0.3189 - accuracy: 1.0000 - val_loss: 0.7260 - val_accuracy: 0.7738\n",
            "Epoch 52/500\n",
            "6/6 [==============================] - 0s 14ms/step - loss: 0.3226 - accuracy: 0.9851 - val_loss: 0.7200 - val_accuracy: 0.7738\n",
            "Epoch 53/500\n",
            "6/6 [==============================] - 0s 13ms/step - loss: 0.3072 - accuracy: 0.9940 - val_loss: 0.7122 - val_accuracy: 0.7738\n",
            "Epoch 54/500\n",
            "6/6 [==============================] - 0s 17ms/step - loss: 0.3055 - accuracy: 0.9881 - val_loss: 0.6968 - val_accuracy: 0.7738\n",
            "Epoch 55/500\n",
            "6/6 [==============================] - 0s 18ms/step - loss: 0.3011 - accuracy: 0.9851 - val_loss: 0.6885 - val_accuracy: 0.7738\n",
            "Epoch 56/500\n",
            "6/6 [==============================] - 0s 16ms/step - loss: 0.2737 - accuracy: 0.9881 - val_loss: 0.6810 - val_accuracy: 0.7738\n",
            "Epoch 57/500\n",
            "6/6 [==============================] - 0s 12ms/step - loss: 0.2776 - accuracy: 0.9910 - val_loss: 0.6673 - val_accuracy: 0.7738\n",
            "Epoch 58/500\n",
            "6/6 [==============================] - 0s 15ms/step - loss: 0.2692 - accuracy: 0.9881 - val_loss: 0.6560 - val_accuracy: 0.7738\n",
            "Epoch 59/500\n",
            "6/6 [==============================] - 0s 16ms/step - loss: 0.2554 - accuracy: 0.9881 - val_loss: 0.6485 - val_accuracy: 0.7738\n",
            "Epoch 60/500\n",
            "6/6 [==============================] - 0s 13ms/step - loss: 0.2344 - accuracy: 1.0000 - val_loss: 0.6375 - val_accuracy: 0.7738\n",
            "Epoch 61/500\n",
            "6/6 [==============================] - 0s 14ms/step - loss: 0.2394 - accuracy: 0.9851 - val_loss: 0.6284 - val_accuracy: 0.7738\n",
            "Epoch 62/500\n",
            "6/6 [==============================] - 0s 14ms/step - loss: 0.2219 - accuracy: 0.9910 - val_loss: 0.6219 - val_accuracy: 0.7738\n",
            "Epoch 63/500\n",
            "6/6 [==============================] - 0s 17ms/step - loss: 0.2120 - accuracy: 1.0000 - val_loss: 0.6151 - val_accuracy: 0.7738\n",
            "Epoch 64/500\n",
            "6/6 [==============================] - 0s 16ms/step - loss: 0.2025 - accuracy: 1.0000 - val_loss: 0.6065 - val_accuracy: 0.7738\n",
            "Epoch 65/500\n",
            "6/6 [==============================] - 0s 17ms/step - loss: 0.2080 - accuracy: 0.9940 - val_loss: 0.6006 - val_accuracy: 0.7738\n",
            "Epoch 66/500\n",
            "6/6 [==============================] - 0s 16ms/step - loss: 0.1913 - accuracy: 0.9940 - val_loss: 0.5950 - val_accuracy: 0.7738\n",
            "Epoch 67/500\n",
            "6/6 [==============================] - 0s 17ms/step - loss: 0.1912 - accuracy: 0.9970 - val_loss: 0.5854 - val_accuracy: 0.7738\n",
            "Epoch 68/500\n",
            "6/6 [==============================] - 0s 13ms/step - loss: 0.1735 - accuracy: 0.9970 - val_loss: 0.5780 - val_accuracy: 0.7738\n",
            "Epoch 69/500\n",
            "6/6 [==============================] - 0s 16ms/step - loss: 0.1665 - accuracy: 0.9970 - val_loss: 0.5700 - val_accuracy: 0.7857\n",
            "Epoch 70/500\n",
            "6/6 [==============================] - 0s 14ms/step - loss: 0.1787 - accuracy: 0.9851 - val_loss: 0.5638 - val_accuracy: 0.7738\n",
            "Epoch 71/500\n",
            "6/6 [==============================] - 0s 14ms/step - loss: 0.1565 - accuracy: 0.9970 - val_loss: 0.5601 - val_accuracy: 0.7738\n",
            "Epoch 72/500\n",
            "6/6 [==============================] - 0s 17ms/step - loss: 0.1561 - accuracy: 0.9940 - val_loss: 0.5566 - val_accuracy: 0.7738\n",
            "Epoch 73/500\n",
            "6/6 [==============================] - 0s 13ms/step - loss: 0.1551 - accuracy: 0.9970 - val_loss: 0.5637 - val_accuracy: 0.7738\n",
            "Epoch 74/500\n",
            "6/6 [==============================] - 0s 15ms/step - loss: 0.1472 - accuracy: 0.9970 - val_loss: 0.5627 - val_accuracy: 0.7738\n",
            "Epoch 75/500\n",
            "6/6 [==============================] - 0s 16ms/step - loss: 0.1397 - accuracy: 0.9970 - val_loss: 0.5440 - val_accuracy: 0.7857\n",
            "Epoch 76/500\n",
            "6/6 [==============================] - 0s 20ms/step - loss: 0.1353 - accuracy: 0.9970 - val_loss: 0.5281 - val_accuracy: 0.7976\n",
            "Epoch 77/500\n",
            "6/6 [==============================] - 0s 17ms/step - loss: 0.1335 - accuracy: 0.9940 - val_loss: 0.5215 - val_accuracy: 0.7976\n",
            "Epoch 78/500\n",
            "6/6 [==============================] - 0s 13ms/step - loss: 0.1265 - accuracy: 0.9910 - val_loss: 0.5217 - val_accuracy: 0.7976\n",
            "Epoch 79/500\n",
            "6/6 [==============================] - 0s 15ms/step - loss: 0.1223 - accuracy: 0.9940 - val_loss: 0.5328 - val_accuracy: 0.7976\n",
            "Epoch 80/500\n",
            "6/6 [==============================] - 0s 16ms/step - loss: 0.1121 - accuracy: 1.0000 - val_loss: 0.5183 - val_accuracy: 0.7857\n",
            "Epoch 81/500\n",
            "6/6 [==============================] - 0s 13ms/step - loss: 0.1220 - accuracy: 0.9970 - val_loss: 0.5077 - val_accuracy: 0.8095\n",
            "Epoch 82/500\n",
            "6/6 [==============================] - 0s 12ms/step - loss: 0.1136 - accuracy: 0.9970 - val_loss: 0.4960 - val_accuracy: 0.8095\n",
            "Epoch 83/500\n",
            "6/6 [==============================] - 0s 14ms/step - loss: 0.1036 - accuracy: 1.0000 - val_loss: 0.4935 - val_accuracy: 0.8095\n",
            "Epoch 84/500\n",
            "6/6 [==============================] - 0s 13ms/step - loss: 0.1117 - accuracy: 0.9940 - val_loss: 0.4876 - val_accuracy: 0.7857\n",
            "Epoch 85/500\n",
            "6/6 [==============================] - 0s 12ms/step - loss: 0.0968 - accuracy: 0.9970 - val_loss: 0.4817 - val_accuracy: 0.7976\n",
            "Epoch 86/500\n",
            "6/6 [==============================] - 0s 16ms/step - loss: 0.1083 - accuracy: 0.9940 - val_loss: 0.4800 - val_accuracy: 0.8095\n",
            "Epoch 87/500\n",
            "6/6 [==============================] - 0s 21ms/step - loss: 0.0903 - accuracy: 0.9970 - val_loss: 0.4782 - val_accuracy: 0.7976\n",
            "Epoch 88/500\n",
            "6/6 [==============================] - 0s 21ms/step - loss: 0.0877 - accuracy: 1.0000 - val_loss: 0.4756 - val_accuracy: 0.7976\n",
            "Epoch 89/500\n",
            "6/6 [==============================] - 0s 20ms/step - loss: 0.1003 - accuracy: 0.9940 - val_loss: 0.4733 - val_accuracy: 0.7976\n",
            "Epoch 90/500\n",
            "6/6 [==============================] - 0s 17ms/step - loss: 0.0880 - accuracy: 0.9970 - val_loss: 0.4727 - val_accuracy: 0.7976\n",
            "Epoch 91/500\n",
            "6/6 [==============================] - 0s 19ms/step - loss: 0.0953 - accuracy: 0.9970 - val_loss: 0.4787 - val_accuracy: 0.7976\n",
            "Epoch 92/500\n",
            "6/6 [==============================] - 0s 19ms/step - loss: 0.0901 - accuracy: 0.9970 - val_loss: 0.4796 - val_accuracy: 0.7976\n",
            "Epoch 93/500\n",
            "6/6 [==============================] - 0s 24ms/step - loss: 0.0831 - accuracy: 0.9970 - val_loss: 0.4803 - val_accuracy: 0.7976\n",
            "Epoch 94/500\n",
            "6/6 [==============================] - 0s 22ms/step - loss: 0.0782 - accuracy: 0.9970 - val_loss: 0.4763 - val_accuracy: 0.8095\n",
            "Epoch 95/500\n",
            "6/6 [==============================] - 0s 25ms/step - loss: 0.0839 - accuracy: 0.9970 - val_loss: 0.4739 - val_accuracy: 0.8095\n"
          ]
        }
      ]
    },
    {
      "cell_type": "code",
      "source": [
        "# training & validation loss values\n",
        "plt.figure(figsize=(12, 4))\n",
        "\n",
        "plt.subplot(1, 2, 1)\n",
        "plt.plot(history.history['loss'], label='Training Loss')\n",
        "plt.plot(history.history['val_loss'], label='Validation Loss')\n",
        "plt.title('Model Loss')\n",
        "plt.xlabel('Epoch')\n",
        "plt.ylabel('Loss')\n",
        "plt.legend(loc='upper right')\n",
        "\n",
        "# training & validation accuracy values\n",
        "plt.subplot(1, 2, 2)\n",
        "plt.plot(history.history['accuracy'], label='Training Accuracy')\n",
        "plt.plot(history.history['val_accuracy'], label='Validation Accuracy')\n",
        "plt.title('Model Accuracy')\n",
        "plt.xlabel('Epoch')\n",
        "plt.ylabel('Accuracy')\n",
        "plt.legend(loc='lower right')\n",
        "\n",
        "plt.tight_layout()\n",
        "plt.show()"
      ],
      "metadata": {
        "colab": {
          "base_uri": "https://localhost:8080/",
          "height": 407
        },
        "outputId": "2a0ff79b-bb95-477b-c9a8-7fc463d176e4",
        "id": "MGFfVUBwoq9i"
      },
      "execution_count": null,
      "outputs": [
        {
          "output_type": "display_data",
          "data": {
            "text/plain": [
              "<Figure size 1200x400 with 2 Axes>"
            ],
            "image/png": "[encoded data removed]"
          },
          "metadata": {}
        }
      ]
    },
    {
      "cell_type": "markdown",
      "source": [
        "### Evaluate and save model"
      ],
      "metadata": {
        "id": "yJg9sLV5oq9i"
      }
    },
    {
      "cell_type": "code",
      "source": [
        "import pickle\n",
        "\n",
        "# Evaluate the model\n",
        "loss, accuracy = model_A.evaluate(padded_test_sequences, y_test)\n",
        "print(f'Test Accuracy: {accuracy * 100:.2f}%')\n",
        "\n",
        "y_pred_prob = model_A.predict(padded_test_sequences)\n",
        "y_pred = (y_pred_prob > 0.5).astype(int)\n",
        "\n",
        "# Compute confusion matrix\n",
        "cm = confusion_matrix(y_test, y_pred)\n",
        "\n",
        "# Plot confusion matrix\n",
        "plt.figure(figsize=(5, 5))\n",
        "sns.heatmap(cm, annot=True, fmt='d', cmap='Blues', xticklabels=['conservative','liberalism'], yticklabels=['conservative','liberalism'])\n",
        "plt.title(\"Confusion Matrix\")\n",
        "plt.xlabel('Predicted')\n",
        "plt.ylabel('Actual')\n",
        "plt.show()\n",
        "\n",
        "# Save the model with HDF5 format\n",
        "model_A.save('liberalism_conservative_A.h5')\n",
        "\n",
        "# Save the model with pickle format\n",
        "with open('tokenizer_liberalism_conservative_A.pkl', 'wb') as f:\n",
        "    pickle.dump(tokenizer, f)"
      ],
      "metadata": {
        "colab": {
          "base_uri": "https://localhost:8080/",
          "height": 594
        },
        "outputId": "78d19bf0-c004-47cc-9967-77205ed066e5",
        "id": "woUQdNRpoq9i"
      },
      "execution_count": null,
      "outputs": [
        {
          "output_type": "stream",
          "name": "stdout",
          "text": [
            "3/3 [==============================] - 0s 5ms/step - loss: 0.4727 - accuracy: 0.7976\n",
            "Test Accuracy: 79.76%\n",
            "3/3 [==============================] - 0s 4ms/step\n"
          ]
        },
        {
          "output_type": "display_data",
          "data": {
            "text/plain": [
              "<Figure size 500x500 with 2 Axes>"
            ],
            "image/png": "[encoded data removed]"
          },
          "metadata": {}
        },
        {
          "output_type": "stream",
          "name": "stderr",
          "text": [
            "/usr/local/lib/python3.10/dist-packages/keras/src/engine/training.py:3103: UserWarning: You are saving your model as an HDF5 file via `model.save()`. This file format is considered legacy. We recommend using instead the native Keras format, e.g. `model.save('my_model.keras')`.\n",
            "  saving_api.save_model(\n"
          ]
        }
      ]
    },
    {
      "cell_type": "markdown",
      "source": [
        "### Convert to TFLite"
      ],
      "metadata": {
        "id": "GUB_cTbK3HBH"
      }
    },
    {
      "cell_type": "code",
      "source": [
        "# Convert the model with Select TF ops\n",
        "converter = tf.lite.TFLiteConverter.from_keras_model(model_A)\n",
        "converter.target_spec.supported_ops = [tf.lite.OpsSet.TFLITE_BUILTINS, tf.lite.OpsSet.SELECT_TF_OPS]\n",
        "converter._experimental_lower_tensor_list_ops = False\n",
        "tflite_model = converter.convert()\n",
        "\n",
        "# Save the model\n",
        "with open('liberalism_conservative_A.tflite', 'wb') as f:\n",
        "    f.write(tflite_model)\n",
        "\n",
        "print('Model has been saved as TensorFlow Lite format.')"
      ],
      "metadata": {
        "colab": {
          "base_uri": "https://localhost:8080/"
        },
        "id": "iPTMTxUw3KHu",
        "outputId": "8934a394-3df0-4314-a2a6-715fc9f30ce1"
      },
      "execution_count": null,
      "outputs": [
        {
          "output_type": "stream",
          "name": "stdout",
          "text": [
            "Model has been saved as TensorFlow Lite format.\n"
          ]
        }
      ]
    },
    {
      "cell_type": "markdown",
      "source": [
        "## Model B (LSTM)"
      ],
      "metadata": {
        "id": "s4Vb8Uipomxn"
      }
    },
    {
      "cell_type": "code",
      "source": [
        "# create model B\n",
        "model_B = Sequential()\n",
        "model_B.add(Embedding(input_dim=vocab_size, output_dim=embedding_dim, input_length=max_length))\n",
        "# model_B.add(LSTM(32, return_sequences=True))\n",
        "# model_B.add(Dropout(0.3))\n",
        "model_B.add(Bidirectional(LSTM(8)))\n",
        "# model_B.add(Dropout(0.5))\n",
        "# model_B.add(Dense(24, activation='relu'))\n",
        "# model_B.add(BatchNormalization())\n",
        "# model_B.add(Dropout(0.3))\n",
        "# model_B.add(Dense(6, activation='relu'))\n",
        "# model_B.add(Dropout(0.5))\n",
        "model_B.add(Dense(1, activation='sigmoid'))\n",
        "\n",
        "model_B.summary()"
      ],
      "metadata": {
        "colab": {
          "base_uri": "https://localhost:8080/"
        },
        "outputId": "9cdc69ac-2669-4b4f-d485-3a23e1d02ff5",
        "id": "wqu9VPE7omxt"
      },
      "execution_count": null,
      "outputs": [
        {
          "output_type": "stream",
          "name": "stdout",
          "text": [
            "Model: \"sequential_1\"\n",
            "_________________________________________________________________\n",
            " Layer (type)                Output Shape              Param #   \n",
            "=================================================================\n",
            " embedding_1 (Embedding)     (None, 100, 16)           160000    \n",
            "                                                                 \n",
            " bidirectional (Bidirection  (None, 16)                1600      \n",
            " al)                                                             \n",
            "                                                                 \n",
            " dense_2 (Dense)             (None, 1)                 17        \n",
            "                                                                 \n",
            "=================================================================\n",
            "Total params: 161617 (631.32 KB)\n",
            "Trainable params: 161617 (631.32 KB)\n",
            "Non-trainable params: 0 (0.00 Byte)\n",
            "_________________________________________________________________\n"
          ]
        }
      ]
    },
    {
      "cell_type": "code",
      "source": [
        "# compile model\n",
        "model_B.compile(optimizer=Adam(learning_rate=0.001),\n",
        "              loss='binary_crossentropy',\n",
        "              metrics=['accuracy'])\n",
        "\n",
        "# set up early stopping\n",
        "early_stopping = EarlyStopping(monitor='val_loss', patience=3, restore_best_weights=True)\n",
        "\n",
        "# model training\n",
        "history = model_B.fit(padded_train_sequences, y_train,\n",
        "                      epochs=100,\n",
        "                      validation_data=(padded_test_sequences, y_test),\n",
        "                      batch_size=32,\n",
        "                      callbacks=[early_stopping])"
      ],
      "metadata": {
        "colab": {
          "base_uri": "https://localhost:8080/"
        },
        "outputId": "fc6d429c-6dac-41bc-d396-7dd460146281",
        "id": "MCIe9B37omxu"
      },
      "execution_count": null,
      "outputs": [
        {
          "output_type": "stream",
          "name": "stdout",
          "text": [
            "Epoch 1/100\n",
            "4/4 [==============================] - 10s 427ms/step - loss: 0.6931 - accuracy: 0.5189 - val_loss: 0.6873 - val_accuracy: 0.7407\n",
            "Epoch 2/100\n",
            "4/4 [==============================] - 0s 75ms/step - loss: 0.6854 - accuracy: 0.6887 - val_loss: 0.6818 - val_accuracy: 0.7407\n",
            "Epoch 3/100\n",
            "4/4 [==============================] - 0s 71ms/step - loss: 0.6777 - accuracy: 0.6887 - val_loss: 0.6759 - val_accuracy: 0.7407\n",
            "Epoch 4/100\n",
            "4/4 [==============================] - 0s 81ms/step - loss: 0.6704 - accuracy: 0.6887 - val_loss: 0.6692 - val_accuracy: 0.7407\n",
            "Epoch 5/100\n",
            "4/4 [==============================] - 0s 71ms/step - loss: 0.6611 - accuracy: 0.6887 - val_loss: 0.6620 - val_accuracy: 0.7407\n",
            "Epoch 6/100\n",
            "4/4 [==============================] - 0s 78ms/step - loss: 0.6510 - accuracy: 0.6887 - val_loss: 0.6539 - val_accuracy: 0.7407\n",
            "Epoch 7/100\n",
            "4/4 [==============================] - 0s 81ms/step - loss: 0.6394 - accuracy: 0.6887 - val_loss: 0.6448 - val_accuracy: 0.7407\n",
            "Epoch 8/100\n",
            "4/4 [==============================] - 0s 76ms/step - loss: 0.6259 - accuracy: 0.6887 - val_loss: 0.6349 - val_accuracy: 0.7407\n",
            "Epoch 9/100\n",
            "4/4 [==============================] - 0s 74ms/step - loss: 0.6104 - accuracy: 0.6887 - val_loss: 0.6237 - val_accuracy: 0.7407\n",
            "Epoch 10/100\n",
            "4/4 [==============================] - 0s 65ms/step - loss: 0.5912 - accuracy: 0.6887 - val_loss: 0.6112 - val_accuracy: 0.7407\n",
            "Epoch 11/100\n",
            "4/4 [==============================] - 0s 81ms/step - loss: 0.5717 - accuracy: 0.6887 - val_loss: 0.5959 - val_accuracy: 0.7407\n",
            "Epoch 12/100\n",
            "4/4 [==============================] - 0s 77ms/step - loss: 0.5443 - accuracy: 0.6887 - val_loss: 0.5798 - val_accuracy: 0.7407\n",
            "Epoch 13/100\n",
            "4/4 [==============================] - 0s 78ms/step - loss: 0.5172 - accuracy: 0.6887 - val_loss: 0.5633 - val_accuracy: 0.7407\n",
            "Epoch 14/100\n",
            "4/4 [==============================] - 0s 141ms/step - loss: 0.4870 - accuracy: 0.6887 - val_loss: 0.5510 - val_accuracy: 0.7407\n",
            "Epoch 15/100\n",
            "4/4 [==============================] - 1s 226ms/step - loss: 0.4571 - accuracy: 0.6887 - val_loss: 0.5418 - val_accuracy: 0.7407\n",
            "Epoch 16/100\n",
            "4/4 [==============================] - 1s 156ms/step - loss: 0.4249 - accuracy: 0.6887 - val_loss: 0.5325 - val_accuracy: 0.7407\n",
            "Epoch 17/100\n",
            "4/4 [==============================] - 1s 157ms/step - loss: 0.3865 - accuracy: 0.7358 - val_loss: 0.5214 - val_accuracy: 0.7407\n",
            "Epoch 18/100\n",
            "4/4 [==============================] - 1s 242ms/step - loss: 0.3455 - accuracy: 0.8585 - val_loss: 0.5103 - val_accuracy: 0.7407\n",
            "Epoch 19/100\n",
            "4/4 [==============================] - 1s 215ms/step - loss: 0.3079 - accuracy: 0.9245 - val_loss: 0.5014 - val_accuracy: 0.7407\n",
            "Epoch 20/100\n",
            "4/4 [==============================] - 1s 234ms/step - loss: 0.2707 - accuracy: 0.9528 - val_loss: 0.4981 - val_accuracy: 0.7407\n",
            "Epoch 21/100\n",
            "4/4 [==============================] - 1s 307ms/step - loss: 0.2373 - accuracy: 0.9811 - val_loss: 0.5020 - val_accuracy: 0.7407\n",
            "Epoch 22/100\n",
            "4/4 [==============================] - 1s 228ms/step - loss: 0.2108 - accuracy: 0.9906 - val_loss: 0.5047 - val_accuracy: 0.7407\n",
            "Epoch 23/100\n",
            "4/4 [==============================] - 1s 204ms/step - loss: 0.1894 - accuracy: 0.9906 - val_loss: 0.5101 - val_accuracy: 0.7778\n"
          ]
        }
      ]
    },
    {
      "cell_type": "code",
      "source": [
        "# training & validation loss values\n",
        "plt.figure(figsize=(12, 4))\n",
        "\n",
        "plt.subplot(1, 2, 1)\n",
        "plt.plot(history.history['loss'], label='Training Loss')\n",
        "plt.plot(history.history['val_loss'], label='Validation Loss')\n",
        "plt.title('Model Loss')\n",
        "plt.xlabel('Epoch')\n",
        "plt.ylabel('Loss')\n",
        "plt.legend(loc='upper right')\n",
        "\n",
        "# training & validation accuracy values\n",
        "plt.subplot(1, 2, 2)\n",
        "plt.plot(history.history['accuracy'], label='Training Accuracy')\n",
        "plt.plot(history.history['val_accuracy'], label='Validation Accuracy')\n",
        "plt.title('Model Accuracy')\n",
        "plt.xlabel('Epoch')\n",
        "plt.ylabel('Accuracy')\n",
        "plt.legend(loc='lower right')\n",
        "\n",
        "plt.tight_layout()\n",
        "plt.show()"
      ],
      "metadata": {
        "colab": {
          "base_uri": "https://localhost:8080/",
          "height": 407
        },
        "outputId": "874d853c-3e3e-46e4-acc0-0b0761bf9fc8",
        "id": "PoElmox3omxu"
      },
      "execution_count": null,
      "outputs": [
        {
          "output_type": "display_data",
          "data": {
            "text/plain": [
              "<Figure size 1200x400 with 2 Axes>"
            ],
            "image/png": "[encoded data removed]"
          },
          "metadata": {}
        }
      ]
    },
    {
      "cell_type": "markdown",
      "source": [
        "### Evaluate and save model"
      ],
      "metadata": {
        "id": "YPlz96N_omxu"
      }
    },
    {
      "cell_type": "code",
      "source": [
        "import pickle\n",
        "\n",
        "# Evaluate the model\n",
        "loss, accuracy = model_B.evaluate(padded_test_sequences, y_test)\n",
        "print(f'Test Accuracy: {accuracy * 100:.2f}%')\n",
        "\n",
        "y_pred_prob = model_B.predict(padded_test_sequences)\n",
        "y_pred = (y_pred_prob > 0.5).astype(int)\n",
        "\n",
        "# Compute confusion matrix\n",
        "cm = confusion_matrix(y_test, y_pred)\n",
        "\n",
        "# Plot confusion matrix\n",
        "plt.figure(figsize=(5, 5))\n",
        "sns.heatmap(cm, annot=True, fmt='d', cmap='Blues', xticklabels=['conservative','liberalism'], yticklabels=['conservative','liberalism'])\n",
        "plt.title(\"Confusion Matrix\")\n",
        "plt.xlabel('Predicted')\n",
        "plt.ylabel('Actual')\n",
        "plt.show()\n",
        "\n",
        "# Save the model with HDF5 format\n",
        "model_B.save('liberalism_conservative_lstm.h5')\n",
        "\n",
        "# Save the model with pickle format\n",
        "with open('tokenizer_liberalism_conservative_lstm.pkl', 'wb') as f:\n",
        "    pickle.dump(tokenizer, f)"
      ],
      "metadata": {
        "colab": {
          "base_uri": "https://localhost:8080/",
          "height": 594
        },
        "outputId": "c92fa10d-1d92-40aa-97b8-df0833016eea",
        "id": "ILBFhqmmomxu"
      },
      "execution_count": null,
      "outputs": [
        {
          "output_type": "stream",
          "name": "stdout",
          "text": [
            "1/1 [==============================] - 0s 41ms/step - loss: 0.4981 - accuracy: 0.7407\n",
            "Test Accuracy: 74.07%\n",
            "1/1 [==============================] - 1s 876ms/step\n"
          ]
        },
        {
          "output_type": "display_data",
          "data": {
            "text/plain": [
              "<Figure size 500x500 with 2 Axes>"
            ],
            "image/png": "[encoded data removed]"
          },
          "metadata": {}
        },
        {
          "output_type": "stream",
          "name": "stderr",
          "text": [
            "/usr/local/lib/python3.10/dist-packages/keras/src/engine/training.py:3103: UserWarning: You are saving your model as an HDF5 file via `model.save()`. This file format is considered legacy. We recommend using instead the native Keras format, e.g. `model.save('my_model.keras')`.\n",
            "  saving_api.save_model(\n"
          ]
        }
      ]
    },
    {
      "cell_type": "markdown",
      "source": [
        "### Convert to TFLite"
      ],
      "metadata": {
        "id": "z4qVOh_homxu"
      }
    },
    {
      "cell_type": "code",
      "source": [
        "# Convert the model with Select TF ops\n",
        "converter = tf.lite.TFLiteConverter.from_keras_model(model_B)\n",
        "converter.target_spec.supported_ops = [tf.lite.OpsSet.TFLITE_BUILTINS, tf.lite.OpsSet.SELECT_TF_OPS]\n",
        "converter._experimental_lower_tensor_list_ops = False\n",
        "tflite_model = converter.convert()\n",
        "\n",
        "# Save the model\n",
        "with open('liberalism_conservative_lstm.tflite', 'wb') as f:\n",
        "    f.write(tflite_model)\n",
        "\n",
        "print('Model has been saved as TensorFlow Lite format.')"
      ],
      "metadata": {
        "colab": {
          "base_uri": "https://localhost:8080/"
        },
        "outputId": "7685b9bd-b743-443e-9885-d2e19824136c",
        "id": "wTfWu2Yqomxv"
      },
      "execution_count": null,
      "outputs": [
        {
          "output_type": "stream",
          "name": "stdout",
          "text": [
            "Model has been saved as TensorFlow Lite format.\n"
          ]
        }
      ]
    },
    {
      "cell_type": "markdown",
      "source": [
        "# Download model"
      ],
      "metadata": {
        "id": "ueLYnPJS1vI_"
      }
    },
    {
      "cell_type": "code",
      "source": [
        "files.download(\"liberalism_conservative_A.tflite\")\n",
        "files.download(\"liberalism_conservative_A.h5\")\n",
        "files.download(\"liberalism_conservative_lstm.tflite\")\n",
        "files.download(\"liberalism_conservative_lstm.h5\")\n",
        "files.download(\"tokenizer_liberalism_conservative_A.pkl\")\n",
        "files.download(\"tokenizer_liberalism_conservative_lstm.pkl\")"
      ],
      "metadata": {
        "colab": {
          "base_uri": "https://localhost:8080/",
          "height": 17
        },
        "id": "RpDCEVHQ1x4Q",
        "outputId": "328a02b1-62be-4498-bbf3-d660fb5d08e6"
      },
      "execution_count": null,
      "outputs": [
        {
          "output_type": "display_data",
          "data": {
            "text/plain": [
              "<IPython.core.display.Javascript object>"
            ],
            "application/javascript": [
              "\n",
              "    async function download(id, filename, size) {\n",
              "      if (!google.colab.kernel.accessAllowed) {\n",
              "        return;\n",
              "      }\n",
              "      const div = document.createElement('div');\n",
              "      const label = document.createElement('label');\n",
              "      label.textContent = `Downloading \"${filename}\": `;\n",
              "      div.appendChild(label);\n",
              "      const progress = document.createElement('progress');\n",
              "      progress.max = size;\n",
              "      div.appendChild(progress);\n",
              "      document.body.appendChild(div);\n",
              "\n",
              "      const buffers = [];\n",
              "      let downloaded = 0;\n",
              "\n",
              "      const channel = await google.colab.kernel.comms.open(id);\n",
              "      // Send a message to notify the kernel that we're ready.\n",
              "      channel.send({})\n",
              "\n",
              "      for await (const message of channel.messages) {\n",
              "        // Send a message to notify the kernel that we're ready.\n",
              "        channel.send({})\n",
              "        if (message.buffers) {\n",
              "          for (const buffer of message.buffers) {\n",
              "            buffers.push(buffer);\n",
              "            downloaded += buffer.byteLength;\n",
              "            progress.value = downloaded;\n",
              "          }\n",
              "        }\n",
              "      }\n",
              "      const blob = new Blob(buffers, {type: 'application/binary'});\n",
              "      const a = document.createElement('a');\n",
              "      a.href = window.URL.createObjectURL(blob);\n",
              "      a.download = filename;\n",
              "      div.appendChild(a);\n",
              "      a.click();\n",
              "      div.remove();\n",
              "    }\n",
              "  "
            ]
          },
          "metadata": {}
        },
        {
          "output_type": "display_data",
          "data": {
            "text/plain": [
              "<IPython.core.display.Javascript object>"
            ],
            "application/javascript": [
              "download(\"download_f5632bcf-decd-45b8-9fc6-d99eb9b973cd\", \"liberalism_conservative_A.tflite\", 642928)"
            ]
          },
          "metadata": {}
        },
        {
          "output_type": "display_data",
          "data": {
            "text/plain": [
              "<IPython.core.display.Javascript object>"
            ],
            "application/javascript": [
              "\n",
              "    async function download(id, filename, size) {\n",
              "      if (!google.colab.kernel.accessAllowed) {\n",
              "        return;\n",
              "      }\n",
              "      const div = document.createElement('div');\n",
              "      const label = document.createElement('label');\n",
              "      label.textContent = `Downloading \"${filename}\": `;\n",
              "      div.appendChild(label);\n",
              "      const progress = document.createElement('progress');\n",
              "      progress.max = size;\n",
              "      div.appendChild(progress);\n",
              "      document.body.appendChild(div);\n",
              "\n",
              "      const buffers = [];\n",
              "      let downloaded = 0;\n",
              "\n",
              "      const channel = await google.colab.kernel.comms.open(id);\n",
              "      // Send a message to notify the kernel that we're ready.\n",
              "      channel.send({})\n",
              "\n",
              "      for await (const message of channel.messages) {\n",
              "        // Send a message to notify the kernel that we're ready.\n",
              "        channel.send({})\n",
              "        if (message.buffers) {\n",
              "          for (const buffer of message.buffers) {\n",
              "            buffers.push(buffer);\n",
              "            downloaded += buffer.byteLength;\n",
              "            progress.value = downloaded;\n",
              "          }\n",
              "        }\n",
              "      }\n",
              "      const blob = new Blob(buffers, {type: 'application/binary'});\n",
              "      const a = document.createElement('a');\n",
              "      a.href = window.URL.createObjectURL(blob);\n",
              "      a.download = filename;\n",
              "      div.appendChild(a);\n",
              "      a.click();\n",
              "      div.remove();\n",
              "    }\n",
              "  "
            ]
          },
          "metadata": {}
        },
        {
          "output_type": "display_data",
          "data": {
            "text/plain": [
              "<IPython.core.display.Javascript object>"
            ],
            "application/javascript": [
              "download(\"download_6c5451c8-83ba-40cb-9554-c963f951c175\", \"liberalism_conservative_A.h5\", 1952232)"
            ]
          },
          "metadata": {}
        },
        {
          "output_type": "display_data",
          "data": {
            "text/plain": [
              "<IPython.core.display.Javascript object>"
            ],
            "application/javascript": [
              "\n",
              "    async function download(id, filename, size) {\n",
              "      if (!google.colab.kernel.accessAllowed) {\n",
              "        return;\n",
              "      }\n",
              "      const div = document.createElement('div');\n",
              "      const label = document.createElement('label');\n",
              "      label.textContent = `Downloading \"${filename}\": `;\n",
              "      div.appendChild(label);\n",
              "      const progress = document.createElement('progress');\n",
              "      progress.max = size;\n",
              "      div.appendChild(progress);\n",
              "      document.body.appendChild(div);\n",
              "\n",
              "      const buffers = [];\n",
              "      let downloaded = 0;\n",
              "\n",
              "      const channel = await google.colab.kernel.comms.open(id);\n",
              "      // Send a message to notify the kernel that we're ready.\n",
              "      channel.send({})\n",
              "\n",
              "      for await (const message of channel.messages) {\n",
              "        // Send a message to notify the kernel that we're ready.\n",
              "        channel.send({})\n",
              "        if (message.buffers) {\n",
              "          for (const buffer of message.buffers) {\n",
              "            buffers.push(buffer);\n",
              "            downloaded += buffer.byteLength;\n",
              "            progress.value = downloaded;\n",
              "          }\n",
              "        }\n",
              "      }\n",
              "      const blob = new Blob(buffers, {type: 'application/binary'});\n",
              "      const a = document.createElement('a');\n",
              "      a.href = window.URL.createObjectURL(blob);\n",
              "      a.download = filename;\n",
              "      div.appendChild(a);\n",
              "      a.click();\n",
              "      div.remove();\n",
              "    }\n",
              "  "
            ]
          },
          "metadata": {}
        },
        {
          "output_type": "display_data",
          "data": {
            "text/plain": [
              "<IPython.core.display.Javascript object>"
            ],
            "application/javascript": [
              "download(\"download_aa2b6715-3d00-464e-8b42-7fb9deaa9235\", \"liberalism_conservative_lstm.tflite\", 662920)"
            ]
          },
          "metadata": {}
        },
        {
          "output_type": "display_data",
          "data": {
            "text/plain": [
              "<IPython.core.display.Javascript object>"
            ],
            "application/javascript": [
              "\n",
              "    async function download(id, filename, size) {\n",
              "      if (!google.colab.kernel.accessAllowed) {\n",
              "        return;\n",
              "      }\n",
              "      const div = document.createElement('div');\n",
              "      const label = document.createElement('label');\n",
              "      label.textContent = `Downloading \"${filename}\": `;\n",
              "      div.appendChild(label);\n",
              "      const progress = document.createElement('progress');\n",
              "      progress.max = size;\n",
              "      div.appendChild(progress);\n",
              "      document.body.appendChild(div);\n",
              "\n",
              "      const buffers = [];\n",
              "      let downloaded = 0;\n",
              "\n",
              "      const channel = await google.colab.kernel.comms.open(id);\n",
              "      // Send a message to notify the kernel that we're ready.\n",
              "      channel.send({})\n",
              "\n",
              "      for await (const message of channel.messages) {\n",
              "        // Send a message to notify the kernel that we're ready.\n",
              "        channel.send({})\n",
              "        if (message.buffers) {\n",
              "          for (const buffer of message.buffers) {\n",
              "            buffers.push(buffer);\n",
              "            downloaded += buffer.byteLength;\n",
              "            progress.value = downloaded;\n",
              "          }\n",
              "        }\n",
              "      }\n",
              "      const blob = new Blob(buffers, {type: 'application/binary'});\n",
              "      const a = document.createElement('a');\n",
              "      a.href = window.URL.createObjectURL(blob);\n",
              "      a.download = filename;\n",
              "      div.appendChild(a);\n",
              "      a.click();\n",
              "      div.remove();\n",
              "    }\n",
              "  "
            ]
          },
          "metadata": {}
        },
        {
          "output_type": "display_data",
          "data": {
            "text/plain": [
              "<IPython.core.display.Javascript object>"
            ],
            "application/javascript": [
              "download(\"download_1d1d389d-0551-4bbb-a811-46f4793767b2\", \"liberalism_conservative_lstm.h5\", 1989960)"
            ]
          },
          "metadata": {}
        },
        {
          "output_type": "display_data",
          "data": {
            "text/plain": [
              "<IPython.core.display.Javascript object>"
            ],
            "application/javascript": [
              "\n",
              "    async function download(id, filename, size) {\n",
              "      if (!google.colab.kernel.accessAllowed) {\n",
              "        return;\n",
              "      }\n",
              "      const div = document.createElement('div');\n",
              "      const label = document.createElement('label');\n",
              "      label.textContent = `Downloading \"${filename}\": `;\n",
              "      div.appendChild(label);\n",
              "      const progress = document.createElement('progress');\n",
              "      progress.max = size;\n",
              "      div.appendChild(progress);\n",
              "      document.body.appendChild(div);\n",
              "\n",
              "      const buffers = [];\n",
              "      let downloaded = 0;\n",
              "\n",
              "      const channel = await google.colab.kernel.comms.open(id);\n",
              "      // Send a message to notify the kernel that we're ready.\n",
              "      channel.send({})\n",
              "\n",
              "      for await (const message of channel.messages) {\n",
              "        // Send a message to notify the kernel that we're ready.\n",
              "        channel.send({})\n",
              "        if (message.buffers) {\n",
              "          for (const buffer of message.buffers) {\n",
              "            buffers.push(buffer);\n",
              "            downloaded += buffer.byteLength;\n",
              "            progress.value = downloaded;\n",
              "          }\n",
              "        }\n",
              "      }\n",
              "      const blob = new Blob(buffers, {type: 'application/binary'});\n",
              "      const a = document.createElement('a');\n",
              "      a.href = window.URL.createObjectURL(blob);\n",
              "      a.download = filename;\n",
              "      div.appendChild(a);\n",
              "      a.click();\n",
              "      div.remove();\n",
              "    }\n",
              "  "
            ]
          },
          "metadata": {}
        },
        {
          "output_type": "display_data",
          "data": {
            "text/plain": [
              "<IPython.core.display.Javascript object>"
            ],
            "application/javascript": [
              "download(\"download_3922bfd0-70cc-472c-9ad4-08c41970bd04\", \"coalition_opposition_A.tflite\", 643276)"
            ]
          },
          "metadata": {}
        },
        {
          "output_type": "display_data",
          "data": {
            "text/plain": [
              "<IPython.core.display.Javascript object>"
            ],
            "application/javascript": [
              "\n",
              "    async function download(id, filename, size) {\n",
              "      if (!google.colab.kernel.accessAllowed) {\n",
              "        return;\n",
              "      }\n",
              "      const div = document.createElement('div');\n",
              "      const label = document.createElement('label');\n",
              "      label.textContent = `Downloading \"${filename}\": `;\n",
              "      div.appendChild(label);\n",
              "      const progress = document.createElement('progress');\n",
              "      progress.max = size;\n",
              "      div.appendChild(progress);\n",
              "      document.body.appendChild(div);\n",
              "\n",
              "      const buffers = [];\n",
              "      let downloaded = 0;\n",
              "\n",
              "      const channel = await google.colab.kernel.comms.open(id);\n",
              "      // Send a message to notify the kernel that we're ready.\n",
              "      channel.send({})\n",
              "\n",
              "      for await (const message of channel.messages) {\n",
              "        // Send a message to notify the kernel that we're ready.\n",
              "        channel.send({})\n",
              "        if (message.buffers) {\n",
              "          for (const buffer of message.buffers) {\n",
              "            buffers.push(buffer);\n",
              "            downloaded += buffer.byteLength;\n",
              "            progress.value = downloaded;\n",
              "          }\n",
              "        }\n",
              "      }\n",
              "      const blob = new Blob(buffers, {type: 'application/binary'});\n",
              "      const a = document.createElement('a');\n",
              "      a.href = window.URL.createObjectURL(blob);\n",
              "      a.download = filename;\n",
              "      div.appendChild(a);\n",
              "      a.click();\n",
              "      div.remove();\n",
              "    }\n",
              "  "
            ]
          },
          "metadata": {}
        },
        {
          "output_type": "display_data",
          "data": {
            "text/plain": [
              "<IPython.core.display.Javascript object>"
            ],
            "application/javascript": [
              "download(\"download_60d9cc89-6f64-42ff-af84-4ea87211310f\", \"coalition_opposition_A.h5\", 1954280)"
            ]
          },
          "metadata": {}
        },
        {
          "output_type": "display_data",
          "data": {
            "text/plain": [
              "<IPython.core.display.Javascript object>"
            ],
            "application/javascript": [
              "\n",
              "    async function download(id, filename, size) {\n",
              "      if (!google.colab.kernel.accessAllowed) {\n",
              "        return;\n",
              "      }\n",
              "      const div = document.createElement('div');\n",
              "      const label = document.createElement('label');\n",
              "      label.textContent = `Downloading \"${filename}\": `;\n",
              "      div.appendChild(label);\n",
              "      const progress = document.createElement('progress');\n",
              "      progress.max = size;\n",
              "      div.appendChild(progress);\n",
              "      document.body.appendChild(div);\n",
              "\n",
              "      const buffers = [];\n",
              "      let downloaded = 0;\n",
              "\n",
              "      const channel = await google.colab.kernel.comms.open(id);\n",
              "      // Send a message to notify the kernel that we're ready.\n",
              "      channel.send({})\n",
              "\n",
              "      for await (const message of channel.messages) {\n",
              "        // Send a message to notify the kernel that we're ready.\n",
              "        channel.send({})\n",
              "        if (message.buffers) {\n",
              "          for (const buffer of message.buffers) {\n",
              "            buffers.push(buffer);\n",
              "            downloaded += buffer.byteLength;\n",
              "            progress.value = downloaded;\n",
              "          }\n",
              "        }\n",
              "      }\n",
              "      const blob = new Blob(buffers, {type: 'application/binary'});\n",
              "      const a = document.createElement('a');\n",
              "      a.href = window.URL.createObjectURL(blob);\n",
              "      a.download = filename;\n",
              "      div.appendChild(a);\n",
              "      a.click();\n",
              "      div.remove();\n",
              "    }\n",
              "  "
            ]
          },
          "metadata": {}
        },
        {
          "output_type": "display_data",
          "data": {
            "text/plain": [
              "<IPython.core.display.Javascript object>"
            ],
            "application/javascript": [
              "download(\"download_e14812a5-533b-4c17-b079-f78af41a632f\", \"coalition_opposition_lstm.tflite\", 673868)"
            ]
          },
          "metadata": {}
        },
        {
          "output_type": "display_data",
          "data": {
            "text/plain": [
              "<IPython.core.display.Javascript object>"
            ],
            "application/javascript": [
              "\n",
              "    async function download(id, filename, size) {\n",
              "      if (!google.colab.kernel.accessAllowed) {\n",
              "        return;\n",
              "      }\n",
              "      const div = document.createElement('div');\n",
              "      const label = document.createElement('label');\n",
              "      label.textContent = `Downloading \"${filename}\": `;\n",
              "      div.appendChild(label);\n",
              "      const progress = document.createElement('progress');\n",
              "      progress.max = size;\n",
              "      div.appendChild(progress);\n",
              "      document.body.appendChild(div);\n",
              "\n",
              "      const buffers = [];\n",
              "      let downloaded = 0;\n",
              "\n",
              "      const channel = await google.colab.kernel.comms.open(id);\n",
              "      // Send a message to notify the kernel that we're ready.\n",
              "      channel.send({})\n",
              "\n",
              "      for await (const message of channel.messages) {\n",
              "        // Send a message to notify the kernel that we're ready.\n",
              "        channel.send({})\n",
              "        if (message.buffers) {\n",
              "          for (const buffer of message.buffers) {\n",
              "            buffers.push(buffer);\n",
              "            downloaded += buffer.byteLength;\n",
              "            progress.value = downloaded;\n",
              "          }\n",
              "        }\n",
              "      }\n",
              "      const blob = new Blob(buffers, {type: 'application/binary'});\n",
              "      const a = document.createElement('a');\n",
              "      a.href = window.URL.createObjectURL(blob);\n",
              "      a.download = filename;\n",
              "      div.appendChild(a);\n",
              "      a.click();\n",
              "      div.remove();\n",
              "    }\n",
              "  "
            ]
          },
          "metadata": {}
        },
        {
          "output_type": "display_data",
          "data": {
            "text/plain": [
              "<IPython.core.display.Javascript object>"
            ],
            "application/javascript": [
              "download(\"download_6670bc7b-5f37-43a3-8b32-c244b2bdaad0\", \"coalition_opposition_lstm.h5\", 2020680)"
            ]
          },
          "metadata": {}
        },
        {
          "output_type": "display_data",
          "data": {
            "text/plain": [
              "<IPython.core.display.Javascript object>"
            ],
            "application/javascript": [
              "\n",
              "    async function download(id, filename, size) {\n",
              "      if (!google.colab.kernel.accessAllowed) {\n",
              "        return;\n",
              "      }\n",
              "      const div = document.createElement('div');\n",
              "      const label = document.createElement('label');\n",
              "      label.textContent = `Downloading \"${filename}\": `;\n",
              "      div.appendChild(label);\n",
              "      const progress = document.createElement('progress');\n",
              "      progress.max = size;\n",
              "      div.appendChild(progress);\n",
              "      document.body.appendChild(div);\n",
              "\n",
              "      const buffers = [];\n",
              "      let downloaded = 0;\n",
              "\n",
              "      const channel = await google.colab.kernel.comms.open(id);\n",
              "      // Send a message to notify the kernel that we're ready.\n",
              "      channel.send({})\n",
              "\n",
              "      for await (const message of channel.messages) {\n",
              "        // Send a message to notify the kernel that we're ready.\n",
              "        channel.send({})\n",
              "        if (message.buffers) {\n",
              "          for (const buffer of message.buffers) {\n",
              "            buffers.push(buffer);\n",
              "            downloaded += buffer.byteLength;\n",
              "            progress.value = downloaded;\n",
              "          }\n",
              "        }\n",
              "      }\n",
              "      const blob = new Blob(buffers, {type: 'application/binary'});\n",
              "      const a = document.createElement('a');\n",
              "      a.href = window.URL.createObjectURL(blob);\n",
              "      a.download = filename;\n",
              "      div.appendChild(a);\n",
              "      a.click();\n",
              "      div.remove();\n",
              "    }\n",
              "  "
            ]
          },
          "metadata": {}
        },
        {
          "output_type": "display_data",
          "data": {
            "text/plain": [
              "<IPython.core.display.Javascript object>"
            ],
            "application/javascript": [
              "download(\"download_21788a2f-f460-4fbf-a0fd-6c0459e73ddf\", \"tokenizer_liberalism_conservative_A.pkl\", 211640)"
            ]
          },
          "metadata": {}
        },
        {
          "output_type": "display_data",
          "data": {
            "text/plain": [
              "<IPython.core.display.Javascript object>"
            ],
            "application/javascript": [
              "\n",
              "    async function download(id, filename, size) {\n",
              "      if (!google.colab.kernel.accessAllowed) {\n",
              "        return;\n",
              "      }\n",
              "      const div = document.createElement('div');\n",
              "      const label = document.createElement('label');\n",
              "      label.textContent = `Downloading \"${filename}\": `;\n",
              "      div.appendChild(label);\n",
              "      const progress = document.createElement('progress');\n",
              "      progress.max = size;\n",
              "      div.appendChild(progress);\n",
              "      document.body.appendChild(div);\n",
              "\n",
              "      const buffers = [];\n",
              "      let downloaded = 0;\n",
              "\n",
              "      const channel = await google.colab.kernel.comms.open(id);\n",
              "      // Send a message to notify the kernel that we're ready.\n",
              "      channel.send({})\n",
              "\n",
              "      for await (const message of channel.messages) {\n",
              "        // Send a message to notify the kernel that we're ready.\n",
              "        channel.send({})\n",
              "        if (message.buffers) {\n",
              "          for (const buffer of message.buffers) {\n",
              "            buffers.push(buffer);\n",
              "            downloaded += buffer.byteLength;\n",
              "            progress.value = downloaded;\n",
              "          }\n",
              "        }\n",
              "      }\n",
              "      const blob = new Blob(buffers, {type: 'application/binary'});\n",
              "      const a = document.createElement('a');\n",
              "      a.href = window.URL.createObjectURL(blob);\n",
              "      a.download = filename;\n",
              "      div.appendChild(a);\n",
              "      a.click();\n",
              "      div.remove();\n",
              "    }\n",
              "  "
            ]
          },
          "metadata": {}
        },
        {
          "output_type": "display_data",
          "data": {
            "text/plain": [
              "<IPython.core.display.Javascript object>"
            ],
            "application/javascript": [
              "download(\"download_0ce5f2b4-77ce-428d-9c8c-28f22b7fd7e8\", \"tokenizer_liberalism_conservative_lstm.pkl\", 211640)"
            ]
          },
          "metadata": {}
        },
        {
          "output_type": "display_data",
          "data": {
            "text/plain": [
              "<IPython.core.display.Javascript object>"
            ],
            "application/javascript": [
              "\n",
              "    async function download(id, filename, size) {\n",
              "      if (!google.colab.kernel.accessAllowed) {\n",
              "        return;\n",
              "      }\n",
              "      const div = document.createElement('div');\n",
              "      const label = document.createElement('label');\n",
              "      label.textContent = `Downloading \"${filename}\": `;\n",
              "      div.appendChild(label);\n",
              "      const progress = document.createElement('progress');\n",
              "      progress.max = size;\n",
              "      div.appendChild(progress);\n",
              "      document.body.appendChild(div);\n",
              "\n",
              "      const buffers = [];\n",
              "      let downloaded = 0;\n",
              "\n",
              "      const channel = await google.colab.kernel.comms.open(id);\n",
              "      // Send a message to notify the kernel that we're ready.\n",
              "      channel.send({})\n",
              "\n",
              "      for await (const message of channel.messages) {\n",
              "        // Send a message to notify the kernel that we're ready.\n",
              "        channel.send({})\n",
              "        if (message.buffers) {\n",
              "          for (const buffer of message.buffers) {\n",
              "            buffers.push(buffer);\n",
              "            downloaded += buffer.byteLength;\n",
              "            progress.value = downloaded;\n",
              "          }\n",
              "        }\n",
              "      }\n",
              "      const blob = new Blob(buffers, {type: 'application/binary'});\n",
              "      const a = document.createElement('a');\n",
              "      a.href = window.URL.createObjectURL(blob);\n",
              "      a.download = filename;\n",
              "      div.appendChild(a);\n",
              "      a.click();\n",
              "      div.remove();\n",
              "    }\n",
              "  "
            ]
          },
          "metadata": {}
        },
        {
          "output_type": "display_data",
          "data": {
            "text/plain": [
              "<IPython.core.display.Javascript object>"
            ],
            "application/javascript": [
              "download(\"download_03cf1929-a47d-44ba-857a-e0e839550bae\", \"tokenizer_coalition_opposition_A.pkl\", 211640)"
            ]
          },
          "metadata": {}
        },
        {
          "output_type": "display_data",
          "data": {
            "text/plain": [
              "<IPython.core.display.Javascript object>"
            ],
            "application/javascript": [
              "\n",
              "    async function download(id, filename, size) {\n",
              "      if (!google.colab.kernel.accessAllowed) {\n",
              "        return;\n",
              "      }\n",
              "      const div = document.createElement('div');\n",
              "      const label = document.createElement('label');\n",
              "      label.textContent = `Downloading \"${filename}\": `;\n",
              "      div.appendChild(label);\n",
              "      const progress = document.createElement('progress');\n",
              "      progress.max = size;\n",
              "      div.appendChild(progress);\n",
              "      document.body.appendChild(div);\n",
              "\n",
              "      const buffers = [];\n",
              "      let downloaded = 0;\n",
              "\n",
              "      const channel = await google.colab.kernel.comms.open(id);\n",
              "      // Send a message to notify the kernel that we're ready.\n",
              "      channel.send({})\n",
              "\n",
              "      for await (const message of channel.messages) {\n",
              "        // Send a message to notify the kernel that we're ready.\n",
              "        channel.send({})\n",
              "        if (message.buffers) {\n",
              "          for (const buffer of message.buffers) {\n",
              "            buffers.push(buffer);\n",
              "            downloaded += buffer.byteLength;\n",
              "            progress.value = downloaded;\n",
              "          }\n",
              "        }\n",
              "      }\n",
              "      const blob = new Blob(buffers, {type: 'application/binary'});\n",
              "      const a = document.createElement('a');\n",
              "      a.href = window.URL.createObjectURL(blob);\n",
              "      a.download = filename;\n",
              "      div.appendChild(a);\n",
              "      a.click();\n",
              "      div.remove();\n",
              "    }\n",
              "  "
            ]
          },
          "metadata": {}
        },
        {
          "output_type": "display_data",
          "data": {
            "text/plain": [
              "<IPython.core.display.Javascript object>"
            ],
            "application/javascript": [
              "download(\"download_c80038e3-343d-4706-9a51-bac25678a342\", \"tokenizer_coalition_opposition_lstm.pkl\", 211640)"
            ]
          },
          "metadata": {}
        }
      ]
    },
    {
      "cell_type": "markdown",
      "source": [
        "# Testing"
      ],
      "metadata": {
        "id": "7v9WmbZT3ZpG"
      }
    },
    {
      "cell_type": "code",
      "source": [
        "import pickle\n",
        "import tensorflow as tf\n",
        "from keras.preprocessing.sequence import pad_sequences\n",
        "\n",
        "# Load tokenizer from pickle file\n",
        "with open('tokenizer_C2.pkl', 'rb') as f:\n",
        "    tokenizer = pickle.load(f)\n",
        "\n",
        "# Load TFLite model\n",
        "interpreter = tf.lite.Interpreter(model_path='hoax_detection_C2.tflite')\n",
        "interpreter.allocate_tensors()\n",
        "\n",
        "# Get input and output tensor information\n",
        "input_details = interpreter.get_input_details()\n",
        "output_details = interpreter.get_output_details()\n",
        "\n",
        "# news you want to predict\n",
        "#news_text = [\"Ketua Umum Partai Gerindra Prabowo Subianto mempromosikan produk sprei. Dalam video tersebut, Prabowo mengatakan akan membagikan ribuan sprei karena berhasil menang satu putaran dalam Pemilihan Presiden (Pilpres) 2024.\"]\n",
        "#news_text = [\"Dewan Kehormatan Penyelenggara Pemilu (DKPP) belum menjadwalkan sidang terhadap aduan soal dugaan perbuatan asusila oleh Ketua KPU RI Hasyim Asy'ari terhadap anggota Panitia Pemilihan Luar Negeri (PPLN) yang bertugas di Eropa.\"]\n",
        "#news_text = [\"Serangan Israel ini menewaskan puluhan warga, termasuk anak-anak. Meskipun sudah berkali-kali saya sampaikan, tapi saya ingin mengulang lagi bahwa Indonesia mengecam keras serangan Israel ke Rafah\"]\n",
        "#news_text = [\"Penggalian Jalan Tol di daerah Jawa Timur mengeluarkan Minyak Mentah dengan potensi yang cukup besar\"]\n",
        "#news_text = [\"Bendungan Sepaku Semoi di Kabupaten Penajam Paser Utara akan memasok air baku untuk IKN sebesar 2.000 liter per detik.\"]\n",
        "#news_text = [\"Presiden Joko Widodo atau Jokowi mengecam keras serangan Israel ke Kota Rafah, Gaza Selatan, Palestina. Serangan Israel ini menewaskan puluhan warga, termasuk anak-anak. Meskipun sudah berkali-kali saya sampaikan, tapi saya ingin mengulang lagi bahwa Indonesia mengecam keras serangan Israel ke Rafah kata Jokowi di Kota Dumai, Riau, Sabtu (1/6/2024). Dia meminta Israel untuk menataati perintah dari Mahkamah Internasional. Termasuk, menghentikan serangan ke Kota Rafah, Gaza, Palestina. Dan Israel mestinya memiliki kewajiban untuk mentaati mahkamah internasional, termasuk penghentian serangan ke Palestina jelasnya. \"]\n",
        "news_text = [\"Dishub bekerja sama dengan Polri akan menggelar razia kendaraan yang mati pajak, bagi kendaraan yang telat membayar pajak selama 3 tahun atau lebih, kendaraan akan langsung ditahan. Pada pesan tersebut juga menyertakan jadwal razia yang akan dilakukan. Bagi kendaraan yang telat bayar pajak. Berdasarkan data, ada ratusan ribu motor dan mobil yang belum bayar pajak yang masih menggunakan pelat lama. Bagi kendaraan yang telat bayar pajak 3 tahun atau lebih akan langsung dikandangin.\"]\n",
        "\n",
        "# Tokenization and padding of news\n",
        "new_sequences = tokenizer.texts_to_sequences(news_text)\n",
        "max_len = 100  # Make sure the maximum length matches the one used when training the model\n",
        "new_padded = pad_sequences(new_sequences, maxlen=max_len)\n",
        "\n",
        "# Convert input data to float32 type\n",
        "new_padded = new_padded.astype('float32')\n",
        "\n",
        "# Set the input tensor with compacted data\n",
        "interpreter.set_tensor(input_details[0]['index'], new_padded)\n",
        "\n",
        "# Run the interpreter to make predictions\n",
        "interpreter.invoke()\n",
        "\n",
        "# Get the prediction result from the output tensor\n",
        "predictions_tflite = interpreter.get_tensor(output_details[0]['index'])\n",
        "\n",
        "# Interpreting prediction results\n",
        "predicted_labels_tflite = [1 if pred > 0.5 else 0 for pred in predictions_tflite]\n",
        "\n",
        "# Show the prediction result\n",
        "for text, pred, label in zip(news_text, predictions_tflite, predicted_labels_tflite):\n",
        "    print(f'Text: {text}')\n",
        "    print(f'Prediction: {pred[0]:.4f}')\n",
        "    print(f'Predicted Label: {\"Hoax\" if label == 1 else \"Not Hoax\"}')"
      ],
      "metadata": {
        "colab": {
          "base_uri": "https://localhost:8080/"
        },
        "id": "MFgiuB-V3bFP",
        "outputId": "43afc950-10ff-4d84-e7f1-76e9e18cb6db"
      },
      "execution_count": null,
      "outputs": [
        {
          "output_type": "stream",
          "name": "stdout",
          "text": [
            "Text: Dishub bekerja sama dengan Polri akan menggelar razia kendaraan yang mati pajak, bagi kendaraan yang telat membayar pajak selama 3 tahun atau lebih, kendaraan akan langsung ditahan. Pada pesan tersebut juga menyertakan jadwal razia yang akan dilakukan. Bagi kendaraan yang telat bayar pajak. Berdasarkan data, ada ratusan ribu motor dan mobil yang belum bayar pajak yang masih menggunakan pelat lama. Bagi kendaraan yang telat bayar pajak 3 tahun atau lebih akan langsung dikandangin.\n",
            "Prediction: 0.8528\n",
            "Predicted Label: Hoax\n"
          ]
        }
      ]
    }
  ]
}